{
 "cells": [
  {
   "cell_type": "code",
   "execution_count": 1,
   "metadata": {},
   "outputs": [],
   "source": [
    "import pickle\n",
    "import pandas as pd\n",
    "import numpy as np\n",
    "\n",
    "from sklearn.model_selection import train_test_split\n",
    "from sklearn.preprocessing import MinMaxScaler\n",
    "from sklearn.linear_model import LogisticRegression\n",
    "from sklearn.metrics import accuracy_score, confusion_matrix, classification_report\n",
    "\n",
    "dataset = pd.read_csv('C:/web/django/titanic/ml/train.csv', encoding='utf-8')\n",
    "dataset = dataset.rename(columns=lambda x: x.strip().lower())\n",
    "dataset.head()\n",
    "\n",
    "dataset = dataset[['pclass', 'sex', 'age', 'sibsp', 'parch', 'fare', 'embarked', 'survived']]\n",
    "dataset['sex'] = dataset['sex'].map({'male': 0, 'female': 1})\n",
    "dataset['age'] = pd.to_numeric(dataset['age'], errors='coerce')\n",
    "dataset['age'] = dataset['age'].fillna(np.mean(dataset['age']))\n",
    "\n",
    "embarked_dummies = pd.get_dummies(dataset['embarked'])\n",
    "dataset = pd.concat([dataset, embarked_dummies], axis=1)\n",
    "dataset = dataset.drop(['embarked'], axis=1)\n",
    "\n",
    "X = dataset.drop(['survived'], axis=1)\n",
    "Y = dataset['survived']\n",
    "\n",
    "sc = MinMaxScaler(feature_range=(0, 1))\n",
    "X_scaled = sc.fit_transform(X)\n",
    "\n",
    "log_model = LogisticRegression(C=1)\n",
    "log_model.fit(X_scaled, Y)\n",
    "\n",
    "pickle.dump(log_model, open(\"log_model.sav\", \"wb\"))\n",
    "pickle.dump(sc, open(\"scaler.sav\", \"wb\"))"
   ]
  }
 ],
 "metadata": {
  "kernelspec": {
   "display_name": "django_venv",
   "language": "python",
   "name": "python3"
  },
  "language_info": {
   "codemirror_mode": {
    "name": "ipython",
    "version": 3
   },
   "file_extension": ".py",
   "mimetype": "text/x-python",
   "name": "python",
   "nbconvert_exporter": "python",
   "pygments_lexer": "ipython3",
   "version": "3.11.1"
  },
  "orig_nbformat": 4,
  "vscode": {
   "interpreter": {
    "hash": "6766893c71ac31017dfae806fdcb84407d5ca2c10e906b97fc761ff12840e422"
   }
  }
 },
 "nbformat": 4,
 "nbformat_minor": 2
}
