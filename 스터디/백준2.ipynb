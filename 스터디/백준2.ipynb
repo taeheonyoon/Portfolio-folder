{
 "cells": [
  {
   "cell_type": "code",
   "execution_count": 6,
   "metadata": {},
   "outputs": [],
   "source": [
    "import pandas as pd\n",
    "import numpy as np"
   ]
  },
  {
   "cell_type": "code",
   "execution_count": 24,
   "metadata": {},
   "outputs": [
    {
     "name": "stdout",
     "output_type": "stream",
     "text": [
      "12\n"
     ]
    }
   ],
   "source": [
    "#1110번\n",
    "n = int(input())\n",
    "count = 0\n",
    "new_n = n\n",
    "while True:\n",
    "    ten = new_n//10\n",
    "    one = new_n%10\n",
    "    sum = ten+one\n",
    "    new_n = one*10 + sum%10\n",
    "    count += 1\n",
    "    if new_n == n:\n",
    "        break\n",
    "print(count)"
   ]
  },
  {
   "cell_type": "code",
   "execution_count": 33,
   "metadata": {},
   "outputs": [
    {
     "name": "stdout",
     "output_type": "stream",
     "text": [
      "4\n"
     ]
    }
   ],
   "source": [
    "n = int(input())\n",
    "count = 0\n",
    "new_n = n\n",
    "while True:\n",
    "    new_n = ((new_n%10)*10) + (((new_n//10)+(new_n%10))%10)\n",
    "    count += 1\n",
    "    if new_n == n:\n",
    "        break\n",
    "print(count)"
   ]
  },
  {
   "cell_type": "code",
   "execution_count": 25,
   "metadata": {},
   "outputs": [
    {
     "name": "stdout",
     "output_type": "stream",
     "text": [
      "3\n"
     ]
    }
   ],
   "source": [
    "#10807번\n",
    "N = int(input())\n",
    "N_list = list(map(int, input().split(' ')))\n",
    "V = int(input())\n",
    "count = 0\n",
    "for i in N_list:\n",
    "    if i == V:\n",
    "        count += 1\n",
    "print(count)"
   ]
  },
  {
   "cell_type": "code",
   "execution_count": 26,
   "metadata": {},
   "outputs": [
    {
     "ename": "ValueError",
     "evalue": "not enough values to unpack (expected 2, got 1)",
     "output_type": "error",
     "traceback": [
      "\u001b[1;31m---------------------------------------------------------------------------\u001b[0m",
      "\u001b[1;31mValueError\u001b[0m                                Traceback (most recent call last)",
      "\u001b[1;32mc:\\Users\\USER\\Desktop\\k-digital4\\스터디\\백준2.ipynb 셀 4\u001b[0m in \u001b[0;36m<cell line: 2>\u001b[1;34m()\u001b[0m\n\u001b[0;32m      <a href='vscode-notebook-cell:/c%3A/Users/USER/Desktop/k-digital4/%EC%8A%A4%ED%84%B0%EB%94%94/%EB%B0%B1%EC%A4%802.ipynb#W3sZmlsZQ%3D%3D?line=0'>1</a>\u001b[0m \u001b[39m#10818번\u001b[39;00m\n\u001b[1;32m----> <a href='vscode-notebook-cell:/c%3A/Users/USER/Desktop/k-digital4/%EC%8A%A4%ED%84%B0%EB%94%94/%EB%B0%B1%EC%A4%802.ipynb#W3sZmlsZQ%3D%3D?line=1'>2</a>\u001b[0m A, X \u001b[39m=\u001b[39m \u001b[39mmap\u001b[39m(\u001b[39mint\u001b[39m, \u001b[39minput\u001b[39m()\u001b[39m.\u001b[39msplit(\u001b[39m'\u001b[39m\u001b[39m \u001b[39m\u001b[39m'\u001b[39m))\n\u001b[0;32m      <a href='vscode-notebook-cell:/c%3A/Users/USER/Desktop/k-digital4/%EC%8A%A4%ED%84%B0%EB%94%94/%EB%B0%B1%EC%A4%802.ipynb#W3sZmlsZQ%3D%3D?line=2'>3</a>\u001b[0m A_list \u001b[39m=\u001b[39m \u001b[39mlist\u001b[39m(\u001b[39mmap\u001b[39m(\u001b[39mint\u001b[39m, \u001b[39minput\u001b[39m()\u001b[39m.\u001b[39msplit(\u001b[39m'\u001b[39m\u001b[39m \u001b[39m\u001b[39m'\u001b[39m)))\n\u001b[0;32m      <a href='vscode-notebook-cell:/c%3A/Users/USER/Desktop/k-digital4/%EC%8A%A4%ED%84%B0%EB%94%94/%EB%B0%B1%EC%A4%802.ipynb#W3sZmlsZQ%3D%3D?line=4'>5</a>\u001b[0m \u001b[39mfor\u001b[39;00m i \u001b[39min\u001b[39;00m \u001b[39mrange\u001b[39m(A):\n",
      "\u001b[1;31mValueError\u001b[0m: not enough values to unpack (expected 2, got 1)"
     ]
    }
   ],
   "source": [
    "\n",
    "A, X = map(int, input().split(' '))\n",
    "A_list = list(map(int, input().split(' ')))\n",
    "\n",
    "for i in range(A):\n",
    "    if A_list[i] < X:\n",
    "        print(A_list[i], end=' ')"
   ]
  },
  {
   "cell_type": "code",
   "execution_count": null,
   "metadata": {},
   "outputs": [],
   "source": [
    "#15596번\n",
    "num = []\n",
    "x = int(input())\n",
    "for i in range(x):\n",
    "    num.append(int(input()))\n",
    "print(sum(num))"
   ]
  },
  {
   "cell_type": "code",
   "execution_count": 27,
   "metadata": {},
   "outputs": [
    {
     "name": "stdout",
     "output_type": "stream",
     "text": [
      "7 35\n"
     ]
    }
   ],
   "source": [
    "#10818번\n",
    "N = int(input())\n",
    "N_list = list(map(int, input().split(' ')))\n",
    "print(min(N_list), max(N_list))"
   ]
  },
  {
   "cell_type": "code",
   "execution_count": 34,
   "metadata": {},
   "outputs": [
    {
     "name": "stdout",
     "output_type": "stream",
     "text": [
      "29 1\n"
     ]
    }
   ],
   "source": [
    "\n",
    "N = int(input())\n",
    "N_list = list(map(int, input().split(' ')))\n",
    "print(max(N_list), N_list.index(max(N_list))+1) #???"
   ]
  },
  {
   "cell_type": "code",
   "execution_count": 32,
   "metadata": {},
   "outputs": [
    {
     "name": "stdout",
     "output_type": "stream",
     "text": [
      "2\n",
      "8\n"
     ]
    }
   ],
   "source": [
    "#5597번\n",
    "N_list = []\n",
    "for i in range(28):"
   ]
  },
  {
   "cell_type": "code",
   "execution_count": null,
   "metadata": {},
   "outputs": [],
   "source": [
    "student = int(input())\n",
    "student_list = list(map(int, input().split(' ')))\n",
    "\n",
    "for i in range(student):"
   ]
  },
  {
   "cell_type": "code",
   "execution_count": 21,
   "metadata": {},
   "outputs": [
    {
     "name": "stdout",
     "output_type": "stream",
     "text": [
      "10\n"
     ]
    }
   ],
   "source": [
    "#3052번\n",
    "num = []\n",
    "for i in range(10):\n",
    "    num.append(int(input())%42)\n",
    "print(len(set(num)))"
   ]
  },
  {
   "cell_type": "code",
   "execution_count": 1,
   "metadata": {},
   "outputs": [
    {
     "name": "stdout",
     "output_type": "stream",
     "text": [
      "75.0\n"
     ]
    }
   ],
   "source": [
    "#1546번\n",
    "N = int(input())\n",
    "score = list(map(int, input().split(' ')))\n",
    "M = max(score)\n",
    "for i in range(N):\n",
    "    score[i] = score[i]/M*100\n",
    "print(sum(score)/N)"
   ]
  },
  {
   "cell_type": "code",
   "execution_count": null,
   "metadata": {},
   "outputs": [],
   "source": [
    "#8958번\n"
   ]
  },
  {
   "cell_type": "code",
   "execution_count": null,
   "metadata": {},
   "outputs": [],
   "source": [
    "a = int(input())\n",
    "score = []\n",
    "for _ in range(a):\n",
    "    for _ in range(a):##입력한 자릿수만큼의 값을 어찌처리할까\n",
    "        i = int(input())\n",
    "        score.append(i)\n",
    "        mean = sum(score[1:])/score[0]\n",
    "        ans = 0\n",
    "        for Total in score[1:]:\n",
    "            if score > mean:\n",
    "                ans += 1\n",
    "        T_sco = ans/score[0]*100\n",
    "        print(f'{T_sco:.2f}%')"
   ]
  },
  {
   "cell_type": "code",
   "execution_count": 2,
   "metadata": {},
   "outputs": [
    {
     "ename": "ValueError",
     "evalue": "invalid literal for int() with base 10: ''",
     "output_type": "error",
     "traceback": [
      "\u001b[1;31m---------------------------------------------------------------------------\u001b[0m",
      "\u001b[1;31mValueError\u001b[0m                                Traceback (most recent call last)",
      "\u001b[1;32mc:\\Users\\USER\\Desktop\\스터디\\백준2.ipynb Cell 15\u001b[0m in \u001b[0;36m<cell line: 2>\u001b[1;34m()\u001b[0m\n\u001b[0;32m      <a href='vscode-notebook-cell:/c%3A/Users/USER/Desktop/%EC%8A%A4%ED%84%B0%EB%94%94/%EB%B0%B1%EC%A4%802.ipynb#X20sZmlsZQ%3D%3D?line=0'>1</a>\u001b[0m \u001b[39m#4344번\u001b[39;00m\n\u001b[1;32m----> <a href='vscode-notebook-cell:/c%3A/Users/USER/Desktop/%EC%8A%A4%ED%84%B0%EB%94%94/%EB%B0%B1%EC%A4%802.ipynb#X20sZmlsZQ%3D%3D?line=1'>2</a>\u001b[0m n \u001b[39m=\u001b[39m \u001b[39mint\u001b[39;49m(\u001b[39minput\u001b[39;49m())\n\u001b[0;32m      <a href='vscode-notebook-cell:/c%3A/Users/USER/Desktop/%EC%8A%A4%ED%84%B0%EB%94%94/%EB%B0%B1%EC%A4%802.ipynb#X20sZmlsZQ%3D%3D?line=3'>4</a>\u001b[0m \u001b[39mfor\u001b[39;00m _ \u001b[39min\u001b[39;00m \u001b[39mrange\u001b[39m(n):\n\u001b[0;32m      <a href='vscode-notebook-cell:/c%3A/Users/USER/Desktop/%EC%8A%A4%ED%84%B0%EB%94%94/%EB%B0%B1%EC%A4%802.ipynb#X20sZmlsZQ%3D%3D?line=4'>5</a>\u001b[0m     nums \u001b[39m=\u001b[39m \u001b[39mlist\u001b[39m(\u001b[39mmap\u001b[39m(\u001b[39mint\u001b[39m, \u001b[39minput\u001b[39m()\u001b[39m.\u001b[39msplit()))\n",
      "\u001b[1;31mValueError\u001b[0m: invalid literal for int() with base 10: ''"
     ]
    }
   ],
   "source": [
    "#4344번\n",
    "n = int(input())\n",
    "\n",
    "for _ in range(n):\n",
    "    nums = list(map(int, input().split()))\n",
    "    avg = sum(nums[1:])/nums[0]  # 평균을 구함 (nums[0]: 학생수, nums[1:] 점수)\n",
    "    cnt = 0\n",
    "    for score in nums[1:]:\n",
    "        if score > avg:\n",
    "            cnt += 1  # 평균 이상인 학생 수\n",
    "    rate = cnt/nums[0] *100\n",
    "    print(f'{rate:.3f}%')"
   ]
  },
  {
   "cell_type": "code",
   "execution_count": null,
   "metadata": {},
   "outputs": [],
   "source": [
    "n = int(input())\n",
    "\n",
    "for _ in range(n):\n",
    "    nums = list(map(int, input().split()))\n",
    "    avg = sum(nums[1:])/nums[0]  # 평균을 구함 (nums[0]: 학생수, nums[1:] 점수)\n",
    "    cnt = 0\n",
    "    for score in nums[1:]:\n",
    "        if score > avg:\n",
    "            cnt += 1  # 평균 이상인 학생 수\n",
    "    rate = cnt/nums[0] *100\n",
    "    print(f'{rate:.3f}%')"
   ]
  },
  {
   "cell_type": "code",
   "execution_count": 24,
   "metadata": {},
   "outputs": [
    {
     "name": "stdout",
     "output_type": "stream",
     "text": [
      "15\n"
     ]
    }
   ],
   "source": [
    "#15596번\n",
    "\n",
    "num = []\n",
    "x = int(input())\n",
    "for i in range(x):\n",
    "    num.append(int(input()))\n",
    "print(sum(num))"
   ]
  },
  {
   "cell_type": "code",
   "execution_count": null,
   "metadata": {},
   "outputs": [],
   "source": [
    "#4673번\n",
    "def num(n):\n",
    "    k == n//10 + n%10\n",
    "    return k + num(n)\n"
   ]
  },
  {
   "cell_type": "code",
   "execution_count": null,
   "metadata": {},
   "outputs": [],
   "source": [
    "#1065번"
   ]
  },
  {
   "cell_type": "code",
   "execution_count": null,
   "metadata": {},
   "outputs": [],
   "source": [
    "#11654번\n",
    "a = input()\n",
    "print(ord(a))"
   ]
  },
  {
   "cell_type": "code",
   "execution_count": 2,
   "metadata": {},
   "outputs": [
    {
     "name": "stdout",
     "output_type": "stream",
     "text": [
      "15\n"
     ]
    }
   ],
   "source": [
    "#11720번\n",
    "N = int(input())\n",
    "N_list = list(map(int, input()))\n",
    "print(sum(N_list))"
   ]
  },
  {
   "cell_type": "code",
   "execution_count": 1,
   "metadata": {},
   "outputs": [
    {
     "name": "stdout",
     "output_type": "stream",
     "text": [
      "1\n",
      "0\n",
      "-1\n",
      "-1\n",
      "2\n",
      "-1\n",
      "-1\n",
      "-1\n",
      "-1\n",
      "4\n",
      "3\n",
      "-1\n",
      "-1\n",
      "7\n",
      "5\n",
      "-1\n",
      "-1\n",
      "-1\n",
      "-1\n",
      "-1\n",
      "-1\n",
      "-1\n",
      "-1\n",
      "-1\n",
      "-1\n",
      "-1\n"
     ]
    }
   ],
   "source": [
    "#10809번\n",
    "S = input()\n",
    "word = ['a','b','c','d','e','f','g','h','i','j','k','l','m','n','o','p','q','r','s','t','u','v','w','x','y','z']\n",
    "for i in word:\n",
    "    if i in S:\n",
    "        print(S.index(i))\n",
    "    else:\n",
    "        print(-1)"
   ]
  },
  {
   "cell_type": "code",
   "execution_count": 9,
   "metadata": {},
   "outputs": [
    {
     "name": "stdout",
     "output_type": "stream",
     "text": [
      "AAABBBCCC\n",
      "/////HHHHHTTTTTPPPPP\n"
     ]
    }
   ],
   "source": [
    "#2675번\n",
    "T = int(input())\n",
    "for i in range(T):\n",
    "    R, S = input().split(' ')\n",
    "    for j in S:\n",
    "        print(j*int(R), end='')\n",
    "    print()\n",
    "    "
   ]
  },
  {
   "cell_type": "code",
   "execution_count": 31,
   "metadata": {},
   "outputs": [
    {
     "name": "stdout",
     "output_type": "stream",
     "text": [
      "?\n"
     ]
    }
   ],
   "source": [
    "#1157번\n",
    "word = input().upper() #set함수\n",
    "\n",
    "word_set = set(word_list)\n",
    "word_count = []\n",
    "for i in word_set:\n",
    "    word_count.append(word_list.count(i))\n",
    "if word_count.count(max(word_count)) > 1:\n",
    "    print('?') #런타임 에러"
   ]
  },
  {
   "cell_type": "code",
   "execution_count": 14,
   "metadata": {},
   "outputs": [
    {
     "name": "stdout",
     "output_type": "stream",
     "text": [
      "6\n"
     ]
    }
   ],
   "source": [
    "#1152번\n",
    "word = input().split(' ')\n",
    "print(len(word)) #??? 틀림"
   ]
  },
  {
   "cell_type": "code",
   "execution_count": 17,
   "metadata": {},
   "outputs": [
    {
     "name": "stdout",
     "output_type": "stream",
     "text": [
      "437\n"
     ]
    }
   ],
   "source": [
    "#2908번\n",
    "A, B = input().split(' ')  #reversed() #slice [::-1] #for loop\n",
    "A = A[::-1]\n",
    "B = B[::-1]\n",
    "if A > B:\n",
    "    print(A)\n",
    "else:\n",
    "    print(B)\n",
    "\n",
    "\n",
    "\n"
   ]
  },
  {
   "cell_type": "code",
   "execution_count": 21,
   "metadata": {},
   "outputs": [
    {
     "name": "stdout",
     "output_type": "stream",
     "text": [
      "36\n"
     ]
    }
   ],
   "source": [
    "#5622번\n",
    "word = input().upper()\n",
    "time = 0\n",
    "for i in word:\n",
    "    if i in ['A', 'B', 'C']:\n",
    "        time += 3\n",
    "    elif i in ['D', 'E', 'F']:\n",
    "        time += 4\n",
    "    elif i in ['G', 'H', 'I']:\n",
    "        time += 5\n",
    "    elif i in ['J', 'K', 'L']:\n",
    "        time += 6\n",
    "    elif i in ['M', 'N', 'O']:\n",
    "        time += 7\n",
    "    elif i in ['P', 'Q', 'R', 'S']:\n",
    "        time += 8\n",
    "    elif i in ['T', 'U', 'V']:\n",
    "        time += 9\n",
    "    elif i in ['W', 'X', 'Y', 'Z']:\n",
    "        time += 10\n",
    "print(time)"
   ]
  },
  {
   "cell_type": "code",
   "execution_count": 23,
   "metadata": {},
   "outputs": [
    {
     "name": "stdout",
     "output_type": "stream",
     "text": [
      "6\n"
     ]
    }
   ],
   "source": [
    "#2941번\n",
    "word = input()\n",
    "word_list = ['c=', 'c-', 'dz=', 'd-', 'lj', 'nj', 's=', 'z=']\n",
    "for i in word_list:\n",
    "    word = word.replace(i, '1')\n",
    "print(len(word))"
   ]
  },
  {
   "cell_type": "code",
   "execution_count": 13,
   "metadata": {},
   "outputs": [
    {
     "name": "stdout",
     "output_type": "stream",
     "text": [
      "1\n"
     ]
    }
   ],
   "source": [
    "#1316번\n",
    "N = int(input())\n",
    "x = 0\n",
    "for i in range(N):\n",
    "    input_word = input().lower()\n",
    "    for j in range(len(input_word)-1):\n",
    "        if input_word[j] == input_word[j+1]:\n",
    "            x += 1\n",
    "            continue\n",
    "        elif input_word[j] in input_word[j+1:]:\n",
    "            break\n",
    "print(x)\n",
    "    "
   ]
  },
  {
   "cell_type": "code",
   "execution_count": null,
   "metadata": {},
   "outputs": [],
   "source": []
  }
 ],
 "metadata": {
  "kernelspec": {
   "display_name": "Python 3.9.12 ('base')",
   "language": "python",
   "name": "python3"
  },
  "language_info": {
   "codemirror_mode": {
    "name": "ipython",
    "version": 3
   },
   "file_extension": ".py",
   "mimetype": "text/x-python",
   "name": "python",
   "nbconvert_exporter": "python",
   "pygments_lexer": "ipython3",
   "version": "3.9.12 (main, Apr  4 2022, 05:22:27) [MSC v.1916 64 bit (AMD64)]"
  },
  "orig_nbformat": 4,
  "vscode": {
   "interpreter": {
    "hash": "263930470851f494f0ed2879c35b57985588df20f9e529b86e97dd5eb9ddc466"
   }
  }
 },
 "nbformat": 4,
 "nbformat_minor": 2
}
