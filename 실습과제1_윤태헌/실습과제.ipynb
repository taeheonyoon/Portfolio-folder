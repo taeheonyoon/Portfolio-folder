{
 "cells": [
  {
   "cell_type": "markdown",
   "id": "464939f9",
   "metadata": {
    "id": "464939f9"
   },
   "source": [
    "- Invoice ID\t: 자동 생성 식별 번호\n",
    "- Branch : 지사 명\n",
    "- City : 마켓이 위치한 도시 이름 \n",
    "- Customer type : \n",
    "    - Member  : 회원카드 사용\n",
    "    - Normal  : 회원카드 미사용\n",
    "- Gender : 성별\n",
    "- Product line: 품목 분류\n",
    "- Unit price : 단가\n",
    "- Quantity : 수량\n",
    "- Tax 5% : 세금 5%\n",
    "- Total : 전체 금액\n",
    "- Date : 날짜\n",
    "- Time : 시간 \n",
    "- Payment : 결제방법\n",
    "- cogs : 매출원가\n",
    "- gross margin percentage : 이익률\n",
    "- gross income : 이익\n",
    "- Rating : 고객에 평가한 쇼핑경험에 대한 점수(1~10)"
   ]
  },
  {
   "cell_type": "code",
   "execution_count": 232,
   "id": "51e62b66",
   "metadata": {
    "executionInfo": {
     "elapsed": 390,
     "status": "ok",
     "timestamp": 1666061088688,
     "user": {
      "displayName": "최진영",
      "userId": "04611147725648038476"
     },
     "user_tz": -540
    },
    "id": "51e62b66"
   },
   "outputs": [
    {
     "data": {
      "text/html": [
       "<div>\n",
       "<style scoped>\n",
       "    .dataframe tbody tr th:only-of-type {\n",
       "        vertical-align: middle;\n",
       "    }\n",
       "\n",
       "    .dataframe tbody tr th {\n",
       "        vertical-align: top;\n",
       "    }\n",
       "\n",
       "    .dataframe thead th {\n",
       "        text-align: right;\n",
       "    }\n",
       "</style>\n",
       "<table border=\"1\" class=\"dataframe\">\n",
       "  <thead>\n",
       "    <tr style=\"text-align: right;\">\n",
       "      <th></th>\n",
       "      <th>Invoice ID</th>\n",
       "      <th>Branch</th>\n",
       "      <th>City</th>\n",
       "      <th>Customer type</th>\n",
       "      <th>Gender</th>\n",
       "      <th>Product line</th>\n",
       "      <th>Unit price</th>\n",
       "      <th>Quantity</th>\n",
       "      <th>Tax 5%</th>\n",
       "      <th>Total</th>\n",
       "      <th>Date</th>\n",
       "      <th>Time</th>\n",
       "      <th>Payment</th>\n",
       "      <th>cogs</th>\n",
       "      <th>gross margin percentage</th>\n",
       "      <th>gross income</th>\n",
       "      <th>Rating</th>\n",
       "    </tr>\n",
       "  </thead>\n",
       "  <tbody>\n",
       "    <tr>\n",
       "      <th>0</th>\n",
       "      <td>750-67-8428</td>\n",
       "      <td>A</td>\n",
       "      <td>Yangon</td>\n",
       "      <td>Member</td>\n",
       "      <td>Female</td>\n",
       "      <td>Health and beauty</td>\n",
       "      <td>74.69</td>\n",
       "      <td>7</td>\n",
       "      <td>26.1415</td>\n",
       "      <td>548.9715</td>\n",
       "      <td>1/5/2019</td>\n",
       "      <td>13:08</td>\n",
       "      <td>Ewallet</td>\n",
       "      <td>522.83</td>\n",
       "      <td>4.761905</td>\n",
       "      <td>26.1415</td>\n",
       "      <td>9.1</td>\n",
       "    </tr>\n",
       "    <tr>\n",
       "      <th>1</th>\n",
       "      <td>226-31-3081</td>\n",
       "      <td>C</td>\n",
       "      <td>Naypyitaw</td>\n",
       "      <td>Normal</td>\n",
       "      <td>Female</td>\n",
       "      <td>Electronic accessories</td>\n",
       "      <td>15.28</td>\n",
       "      <td>5</td>\n",
       "      <td>3.8200</td>\n",
       "      <td>80.2200</td>\n",
       "      <td>3/8/2019</td>\n",
       "      <td>10:29</td>\n",
       "      <td>Cash</td>\n",
       "      <td>76.40</td>\n",
       "      <td>4.761905</td>\n",
       "      <td>3.8200</td>\n",
       "      <td>9.6</td>\n",
       "    </tr>\n",
       "    <tr>\n",
       "      <th>2</th>\n",
       "      <td>631-41-3108</td>\n",
       "      <td>A</td>\n",
       "      <td>Yangon</td>\n",
       "      <td>Normal</td>\n",
       "      <td>Male</td>\n",
       "      <td>Home and lifestyle</td>\n",
       "      <td>46.33</td>\n",
       "      <td>7</td>\n",
       "      <td>16.2155</td>\n",
       "      <td>340.5255</td>\n",
       "      <td>3/3/2019</td>\n",
       "      <td>13:23</td>\n",
       "      <td>Credit card</td>\n",
       "      <td>324.31</td>\n",
       "      <td>4.761905</td>\n",
       "      <td>16.2155</td>\n",
       "      <td>7.4</td>\n",
       "    </tr>\n",
       "    <tr>\n",
       "      <th>3</th>\n",
       "      <td>123-19-1176</td>\n",
       "      <td>A</td>\n",
       "      <td>Yangon</td>\n",
       "      <td>Member</td>\n",
       "      <td>Male</td>\n",
       "      <td>Health and beauty</td>\n",
       "      <td>58.22</td>\n",
       "      <td>8</td>\n",
       "      <td>23.2880</td>\n",
       "      <td>489.0480</td>\n",
       "      <td>1/27/2019</td>\n",
       "      <td>20:33</td>\n",
       "      <td>Ewallet</td>\n",
       "      <td>465.76</td>\n",
       "      <td>4.761905</td>\n",
       "      <td>23.2880</td>\n",
       "      <td>8.4</td>\n",
       "    </tr>\n",
       "    <tr>\n",
       "      <th>4</th>\n",
       "      <td>373-73-7910</td>\n",
       "      <td>A</td>\n",
       "      <td>Yangon</td>\n",
       "      <td>Normal</td>\n",
       "      <td>Male</td>\n",
       "      <td>Sports and travel</td>\n",
       "      <td>86.31</td>\n",
       "      <td>7</td>\n",
       "      <td>30.2085</td>\n",
       "      <td>634.3785</td>\n",
       "      <td>2/8/2019</td>\n",
       "      <td>10:37</td>\n",
       "      <td>Ewallet</td>\n",
       "      <td>604.17</td>\n",
       "      <td>4.761905</td>\n",
       "      <td>30.2085</td>\n",
       "      <td>5.3</td>\n",
       "    </tr>\n",
       "    <tr>\n",
       "      <th>...</th>\n",
       "      <td>...</td>\n",
       "      <td>...</td>\n",
       "      <td>...</td>\n",
       "      <td>...</td>\n",
       "      <td>...</td>\n",
       "      <td>...</td>\n",
       "      <td>...</td>\n",
       "      <td>...</td>\n",
       "      <td>...</td>\n",
       "      <td>...</td>\n",
       "      <td>...</td>\n",
       "      <td>...</td>\n",
       "      <td>...</td>\n",
       "      <td>...</td>\n",
       "      <td>...</td>\n",
       "      <td>...</td>\n",
       "      <td>...</td>\n",
       "    </tr>\n",
       "    <tr>\n",
       "      <th>995</th>\n",
       "      <td>233-67-5758</td>\n",
       "      <td>C</td>\n",
       "      <td>Naypyitaw</td>\n",
       "      <td>Normal</td>\n",
       "      <td>Male</td>\n",
       "      <td>Health and beauty</td>\n",
       "      <td>40.35</td>\n",
       "      <td>1</td>\n",
       "      <td>2.0175</td>\n",
       "      <td>42.3675</td>\n",
       "      <td>1/29/2019</td>\n",
       "      <td>13:46</td>\n",
       "      <td>Ewallet</td>\n",
       "      <td>40.35</td>\n",
       "      <td>4.761905</td>\n",
       "      <td>2.0175</td>\n",
       "      <td>6.2</td>\n",
       "    </tr>\n",
       "    <tr>\n",
       "      <th>996</th>\n",
       "      <td>303-96-2227</td>\n",
       "      <td>B</td>\n",
       "      <td>Mandalay</td>\n",
       "      <td>Normal</td>\n",
       "      <td>Female</td>\n",
       "      <td>Home and lifestyle</td>\n",
       "      <td>97.38</td>\n",
       "      <td>10</td>\n",
       "      <td>48.6900</td>\n",
       "      <td>1022.4900</td>\n",
       "      <td>3/2/2019</td>\n",
       "      <td>17:16</td>\n",
       "      <td>Ewallet</td>\n",
       "      <td>973.80</td>\n",
       "      <td>4.761905</td>\n",
       "      <td>48.6900</td>\n",
       "      <td>4.4</td>\n",
       "    </tr>\n",
       "    <tr>\n",
       "      <th>997</th>\n",
       "      <td>727-02-1313</td>\n",
       "      <td>A</td>\n",
       "      <td>Yangon</td>\n",
       "      <td>Member</td>\n",
       "      <td>Male</td>\n",
       "      <td>Food and beverages</td>\n",
       "      <td>31.84</td>\n",
       "      <td>1</td>\n",
       "      <td>1.5920</td>\n",
       "      <td>33.4320</td>\n",
       "      <td>2/9/2019</td>\n",
       "      <td>13:22</td>\n",
       "      <td>Cash</td>\n",
       "      <td>31.84</td>\n",
       "      <td>4.761905</td>\n",
       "      <td>1.5920</td>\n",
       "      <td>7.7</td>\n",
       "    </tr>\n",
       "    <tr>\n",
       "      <th>998</th>\n",
       "      <td>347-56-2442</td>\n",
       "      <td>A</td>\n",
       "      <td>Yangon</td>\n",
       "      <td>Normal</td>\n",
       "      <td>Male</td>\n",
       "      <td>Home and lifestyle</td>\n",
       "      <td>65.82</td>\n",
       "      <td>1</td>\n",
       "      <td>3.2910</td>\n",
       "      <td>69.1110</td>\n",
       "      <td>2/22/2019</td>\n",
       "      <td>15:33</td>\n",
       "      <td>Cash</td>\n",
       "      <td>65.82</td>\n",
       "      <td>4.761905</td>\n",
       "      <td>3.2910</td>\n",
       "      <td>4.1</td>\n",
       "    </tr>\n",
       "    <tr>\n",
       "      <th>999</th>\n",
       "      <td>849-09-3807</td>\n",
       "      <td>A</td>\n",
       "      <td>Yangon</td>\n",
       "      <td>Member</td>\n",
       "      <td>Female</td>\n",
       "      <td>Fashion accessories</td>\n",
       "      <td>88.34</td>\n",
       "      <td>7</td>\n",
       "      <td>30.9190</td>\n",
       "      <td>649.2990</td>\n",
       "      <td>2/18/2019</td>\n",
       "      <td>13:28</td>\n",
       "      <td>Cash</td>\n",
       "      <td>618.38</td>\n",
       "      <td>4.761905</td>\n",
       "      <td>30.9190</td>\n",
       "      <td>6.6</td>\n",
       "    </tr>\n",
       "  </tbody>\n",
       "</table>\n",
       "<p>1000 rows × 17 columns</p>\n",
       "</div>"
      ],
      "text/plain": [
       "      Invoice ID Branch       City Customer type  Gender  \\\n",
       "0    750-67-8428      A     Yangon        Member  Female   \n",
       "1    226-31-3081      C  Naypyitaw        Normal  Female   \n",
       "2    631-41-3108      A     Yangon        Normal    Male   \n",
       "3    123-19-1176      A     Yangon        Member    Male   \n",
       "4    373-73-7910      A     Yangon        Normal    Male   \n",
       "..           ...    ...        ...           ...     ...   \n",
       "995  233-67-5758      C  Naypyitaw        Normal    Male   \n",
       "996  303-96-2227      B   Mandalay        Normal  Female   \n",
       "997  727-02-1313      A     Yangon        Member    Male   \n",
       "998  347-56-2442      A     Yangon        Normal    Male   \n",
       "999  849-09-3807      A     Yangon        Member  Female   \n",
       "\n",
       "               Product line  Unit price  Quantity   Tax 5%      Total  \\\n",
       "0         Health and beauty       74.69         7  26.1415   548.9715   \n",
       "1    Electronic accessories       15.28         5   3.8200    80.2200   \n",
       "2        Home and lifestyle       46.33         7  16.2155   340.5255   \n",
       "3         Health and beauty       58.22         8  23.2880   489.0480   \n",
       "4         Sports and travel       86.31         7  30.2085   634.3785   \n",
       "..                      ...         ...       ...      ...        ...   \n",
       "995       Health and beauty       40.35         1   2.0175    42.3675   \n",
       "996      Home and lifestyle       97.38        10  48.6900  1022.4900   \n",
       "997      Food and beverages       31.84         1   1.5920    33.4320   \n",
       "998      Home and lifestyle       65.82         1   3.2910    69.1110   \n",
       "999     Fashion accessories       88.34         7  30.9190   649.2990   \n",
       "\n",
       "          Date   Time      Payment    cogs  gross margin percentage  \\\n",
       "0     1/5/2019  13:08      Ewallet  522.83                 4.761905   \n",
       "1     3/8/2019  10:29         Cash   76.40                 4.761905   \n",
       "2     3/3/2019  13:23  Credit card  324.31                 4.761905   \n",
       "3    1/27/2019  20:33      Ewallet  465.76                 4.761905   \n",
       "4     2/8/2019  10:37      Ewallet  604.17                 4.761905   \n",
       "..         ...    ...          ...     ...                      ...   \n",
       "995  1/29/2019  13:46      Ewallet   40.35                 4.761905   \n",
       "996   3/2/2019  17:16      Ewallet  973.80                 4.761905   \n",
       "997   2/9/2019  13:22         Cash   31.84                 4.761905   \n",
       "998  2/22/2019  15:33         Cash   65.82                 4.761905   \n",
       "999  2/18/2019  13:28         Cash  618.38                 4.761905   \n",
       "\n",
       "     gross income  Rating  \n",
       "0         26.1415     9.1  \n",
       "1          3.8200     9.6  \n",
       "2         16.2155     7.4  \n",
       "3         23.2880     8.4  \n",
       "4         30.2085     5.3  \n",
       "..            ...     ...  \n",
       "995        2.0175     6.2  \n",
       "996       48.6900     4.4  \n",
       "997        1.5920     7.7  \n",
       "998        3.2910     4.1  \n",
       "999       30.9190     6.6  \n",
       "\n",
       "[1000 rows x 17 columns]"
      ]
     },
     "execution_count": 232,
     "metadata": {},
     "output_type": "execute_result"
    }
   ],
   "source": [
    "import pandas as pd\n",
    "data = pd.read_csv('supermarket.csv')\n",
    "df = data\n",
    "df\n",
    "#일단 데이터가 뭐뭐 있는지 봐보자"
   ]
  },
  {
   "cell_type": "code",
   "execution_count": 233,
   "id": "aa3e1299",
   "metadata": {},
   "outputs": [],
   "source": [
    "import datetime\n",
    "import time"
   ]
  },
  {
   "cell_type": "code",
   "execution_count": 234,
   "id": "64e1e1d5",
   "metadata": {},
   "outputs": [
    {
     "data": {
      "text/plain": [
       "Invoice ID                 0\n",
       "Branch                     0\n",
       "City                       0\n",
       "Customer type              0\n",
       "Gender                     0\n",
       "Product line               0\n",
       "Unit price                 0\n",
       "Quantity                   0\n",
       "Tax 5%                     0\n",
       "Total                      0\n",
       "Date                       0\n",
       "Time                       0\n",
       "Payment                    0\n",
       "cogs                       0\n",
       "gross margin percentage    0\n",
       "gross income               0\n",
       "Rating                     0\n",
       "dtype: int64"
      ]
     },
     "execution_count": 234,
     "metadata": {},
     "output_type": "execute_result"
    }
   ],
   "source": [
    "df.isnull().sum() #누락값 없네"
   ]
  },
  {
   "cell_type": "code",
   "execution_count": 235,
   "id": "177a3222",
   "metadata": {},
   "outputs": [
    {
     "data": {
      "text/plain": [
       "Invoice ID                 1000\n",
       "Branch                        3\n",
       "City                          3\n",
       "Customer type                 2\n",
       "Gender                        2\n",
       "Product line                  6\n",
       "Unit price                  943\n",
       "Quantity                     10\n",
       "Tax 5%                      990\n",
       "Total                       990\n",
       "Date                         89\n",
       "Time                        506\n",
       "Payment                       3\n",
       "cogs                        990\n",
       "gross margin percentage       1\n",
       "gross income                990\n",
       "Rating                       61\n",
       "dtype: int64"
      ]
     },
     "execution_count": 235,
     "metadata": {},
     "output_type": "execute_result"
    }
   ],
   "source": [
    "df.nunique()     #다 다른 id, 도시당 지점이라 같은 두 칼럼이 같은속성이니 한개로 취급해도 될듯?"
   ]
  },
  {
   "cell_type": "code",
   "execution_count": 236,
   "id": "daa30540",
   "metadata": {},
   "outputs": [
    {
     "data": {
      "text/plain": [
       "<bound method Series.info of 0      Female\n",
       "1      Female\n",
       "2        Male\n",
       "3        Male\n",
       "4        Male\n",
       "        ...  \n",
       "995      Male\n",
       "996    Female\n",
       "997      Male\n",
       "998      Male\n",
       "999    Female\n",
       "Name: Gender, Length: 1000, dtype: object>"
      ]
     },
     "execution_count": 236,
     "metadata": {},
     "output_type": "execute_result"
    }
   ],
   "source": [
    "df['Gender'].info"
   ]
  },
  {
   "cell_type": "code",
   "execution_count": 237,
   "id": "9c1c90d0",
   "metadata": {},
   "outputs": [
    {
     "data": {
      "text/plain": [
       "Female    501\n",
       "Male      499\n",
       "Name: Gender, dtype: int64"
      ]
     },
     "execution_count": 237,
     "metadata": {},
     "output_type": "execute_result"
    }
   ],
   "source": [
    "df['Gender'].value_counts()"
   ]
  },
  {
   "cell_type": "code",
   "execution_count": 238,
   "id": "1a88f269",
   "metadata": {},
   "outputs": [
    {
     "data": {
      "text/plain": [
       "<bound method Series.info of 0       1/5/2019\n",
       "1       3/8/2019\n",
       "2       3/3/2019\n",
       "3      1/27/2019\n",
       "4       2/8/2019\n",
       "         ...    \n",
       "995    1/29/2019\n",
       "996     3/2/2019\n",
       "997     2/9/2019\n",
       "998    2/22/2019\n",
       "999    2/18/2019\n",
       "Name: Date, Length: 1000, dtype: object>"
      ]
     },
     "execution_count": 238,
     "metadata": {},
     "output_type": "execute_result"
    }
   ],
   "source": [
    "df['Date'].info"
   ]
  },
  {
   "cell_type": "code",
   "execution_count": 239,
   "id": "8b32ff3e",
   "metadata": {},
   "outputs": [
    {
     "data": {
      "text/plain": [
       "<bound method Series.info of 0      13:08\n",
       "1      10:29\n",
       "2      13:23\n",
       "3      20:33\n",
       "4      10:37\n",
       "       ...  \n",
       "995    13:46\n",
       "996    17:16\n",
       "997    13:22\n",
       "998    15:33\n",
       "999    13:28\n",
       "Name: Time, Length: 1000, dtype: object>"
      ]
     },
     "execution_count": 239,
     "metadata": {},
     "output_type": "execute_result"
    }
   ],
   "source": [
    "df['Time'].info"
   ]
  },
  {
   "cell_type": "code",
   "execution_count": 240,
   "id": "80e06281",
   "metadata": {},
   "outputs": [],
   "source": [
    "#대소문자랑 공백없이 잘 되있는듯"
   ]
  },
  {
   "cell_type": "markdown",
   "id": "95cc6634",
   "metadata": {},
   "source": [
    "1데이터 기획\n",
    "2데이터 수집\n",
    "3데이터 관리\n",
    "4데이터 가공 및 분석\n",
    "5데이터 시각화"
   ]
  },
  {
   "cell_type": "code",
   "execution_count": 241,
   "id": "e34dafcc",
   "metadata": {},
   "outputs": [
    {
     "data": {
      "text/plain": [
       "count    1000.000000\n",
       "mean      322.966749\n",
       "std       245.885335\n",
       "min        10.678500\n",
       "25%       124.422375\n",
       "50%       253.848000\n",
       "75%       471.350250\n",
       "max      1042.650000\n",
       "Name: Total, dtype: float64"
      ]
     },
     "execution_count": 241,
     "metadata": {},
     "output_type": "execute_result"
    }
   ],
   "source": [
    "df['Total'].describe() #매출 요약좀 봐볼까 \n",
    "# iqr 520.3918125 최소랑 최대값을 이상값으로 보고 걔네만 그래프로 봐도 될듯? 매출 안나오는 이유나 잘나가는 비결같은거?\n",
    "#Total > 991.7420625 이면 이상값 밑으로 이상값은 없네"
   ]
  },
  {
   "cell_type": "code",
   "execution_count": 242,
   "id": "0b814e6f",
   "metadata": {},
   "outputs": [],
   "source": [
    "import seaborn as sns\n",
    "import matplotlib.pyplot as plt"
   ]
  },
  {
   "cell_type": "code",
   "execution_count": 243,
   "id": "6f26bdf6",
   "metadata": {},
   "outputs": [],
   "source": [
    "#1 성별별,도시별, 회원유무, 품목별, 결제방법, 만족도, 수량정도가 기준점이 될만한 칼럼인것 같다\n",
    "\n",
    "#2 매출 너무안나오는지점이 있네"
   ]
  },
  {
   "cell_type": "code",
   "execution_count": 244,
   "id": "34fcd63c",
   "metadata": {},
   "outputs": [],
   "source": [
    "#무엇을 기준으로 그래프를 봐볼까"
   ]
  },
  {
   "cell_type": "code",
   "execution_count": 245,
   "id": "62fd8c8e",
   "metadata": {},
   "outputs": [],
   "source": [
    "#1.매출 토탈 도시별 (남,녀)  바 o\n",
    "#2.매출토탈 상품별(님,녀) 바\n",
    "#3.남녀별 결제수단 횟수\n",
    "#4.수량 품목별(남녀) 바?\n",
    "#5.이익 품목별 남녀 바?\n",
    "#6.지역에 따른 만족도 남녀 바\n",
    "#7.품목별 만족도 남녀  바\n",
    "#8.매출토탈 시간별 남녀 바이올렛 라인\n",
    "#9.매출토탈 멤버유무 스캐터?\n",
    "#11 데이트별 토탈매출 라인차트\n",
    "#12평균매출 이상지점 품목별 매출 지역 남녀 만족도 \n",
    "#13 12번 특이점을 매출 최소지점과 비교\n",
    "#남녀별 멤버가입유무 등등 만들면 좋을지도"
   ]
  },
  {
   "cell_type": "code",
   "execution_count": 246,
   "id": "295e8538",
   "metadata": {},
   "outputs": [
    {
     "data": {
      "text/plain": [
       "<AxesSubplot:xlabel='City', ylabel='mean_total'>"
      ]
     },
     "execution_count": 246,
     "metadata": {},
     "output_type": "execute_result"
    },
    {
     "data": {
      "image/png": "[encoded data removed]",
      "text/plain": [
       "<Figure size 432x288 with 1 Axes>"
      ]
     },
     "metadata": {
      "needs_background": "light"
     },
     "output_type": "display_data"
    }
   ],
   "source": [
    "#그래프1 도시별 평균매출\n",
    "df_TM = df.groupby('City', as_index = False).agg(mean_total = ('Total', 'mean')).sort_values(by = 'mean_total', ascending = False)\n",
    "sns.barplot(data = df_TM, x = 'City', y = 'mean_total')"
   ]
  },
  {
   "cell_type": "code",
   "execution_count": 247,
   "id": "6b7e210a",
   "metadata": {},
   "outputs": [],
   "source": [
    "#인사이트1: 도시별 평균매출이 차이가 크진 않지만 Naypyitaw 지역은 다른 지역보다 평균적으로 조금 매출이 더 나오는것 같다"
   ]
  },
  {
   "cell_type": "code",
   "execution_count": 248,
   "id": "826b2f21",
   "metadata": {},
   "outputs": [
    {
     "data": {
      "text/plain": [
       "<AxesSubplot:xlabel='Customer type', ylabel='count'>"
      ]
     },
     "execution_count": 248,
     "metadata": {},
     "output_type": "execute_result"
    },
    {
     "data": {
      "image/png": "[encoded data removed]",
      "text/plain": [
       "<Figure size 432x288 with 1 Axes>"
      ]
     },
     "metadata": {
      "needs_background": "light"
     },
     "output_type": "display_data"
    }
   ],
   "source": [
    "#그래프2 성별별 멤버십 가입수\n",
    "sns.countplot(data = df.sort_values(by = 'Customer type'), x='Customer type', hue = 'Gender') "
   ]
  },
  {
   "cell_type": "code",
   "execution_count": 249,
   "id": "e56b714d",
   "metadata": {},
   "outputs": [],
   "source": [
    "#인사이트2: 남자가 여자보다 더 멤버십에 가입했다"
   ]
  },
  {
   "cell_type": "code",
   "execution_count": 250,
   "id": "a50a7ec2",
   "metadata": {},
   "outputs": [
    {
     "data": {
      "text/plain": [
       "<AxesSubplot:xlabel='Product line', ylabel='sum_total'>"
      ]
     },
     "execution_count": 250,
     "metadata": {},
     "output_type": "execute_result"
    },
    {
     "data": {
      "image/png": "[encoded data removed]",
      "text/plain": [
       "<Figure size 1152x360 with 1 Axes>"
      ]
     },
     "metadata": {
      "needs_background": "light"
     },
     "output_type": "display_data"
    }
   ],
   "source": [
    "#그래프3 품목별 매출합\n",
    "plt.figure(figsize=(16,5))\n",
    "df_TS = df.groupby('Product line', as_index = False).agg(sum_total = ('Total', 'sum')).sort_values(by = 'sum_total', ascending = False)\n",
    "sns.barplot(data = df_TS, x = 'Product line', y = 'sum_total')"
   ]
  },
  {
   "cell_type": "code",
   "execution_count": 251,
   "id": "6a5283d9",
   "metadata": {},
   "outputs": [],
   "source": [
    "#인사이트3:매출합 상위 5품목은 차이가 적지만 Food and beverages가 가장 많이 팔리고 Helth and beauty가 가장 매출이 적다"
   ]
  },
  {
   "cell_type": "code",
   "execution_count": 252,
   "id": "a6dbae83",
   "metadata": {},
   "outputs": [
    {
     "data": {
      "text/plain": [
       "<AxesSubplot:xlabel='Payment', ylabel='count'>"
      ]
     },
     "execution_count": 252,
     "metadata": {},
     "output_type": "execute_result"
    },
    {
     "data": {
      "image/png": "[encoded data removed]",
      "text/plain": [
       "<Figure size 432x288 with 1 Axes>"
      ]
     },
     "metadata": {
      "needs_background": "light"
     },
     "output_type": "display_data"
    }
   ],
   "source": [
    "#그래프4\n",
    "sns.countplot(data = df.sort_values(by = 'Payment'), x='Payment') "
   ]
  },
  {
   "cell_type": "code",
   "execution_count": 253,
   "id": "fc87c48b",
   "metadata": {},
   "outputs": [],
   "source": [
    "#인사이트4: 차이는 적지만 신용카드결제횟수가 가장 작고 현금과 전자지갑의 횟수가 비슷하다"
   ]
  },
  {
   "cell_type": "code",
   "execution_count": 254,
   "id": "9a1d54f9",
   "metadata": {},
   "outputs": [
    {
     "data": {
      "text/plain": [
       "<AxesSubplot:xlabel='Payment', ylabel='count'>"
      ]
     },
     "execution_count": 254,
     "metadata": {},
     "output_type": "execute_result"
    },
    {
     "data": {
      "image/png": "[encoded data removed]",
      "text/plain": [
       "<Figure size 432x288 with 1 Axes>"
      ]
     },
     "metadata": {
      "needs_background": "light"
     },
     "output_type": "display_data"
    }
   ],
   "source": [
    "#그래프5\n",
    "sns.countplot(data = df.sort_values(by = 'Payment'), x='Payment', hue = 'Gender')"
   ]
  },
  {
   "cell_type": "code",
   "execution_count": 255,
   "id": "1d19b291",
   "metadata": {},
   "outputs": [],
   "source": [
    "#인사이트5:차이가 크진 않지만 남자는 전자지갑이 사용횟수가 가장 높고 여자는 현금사용이 높다"
   ]
  },
  {
   "cell_type": "code",
   "execution_count": 256,
   "id": "425fbe8b",
   "metadata": {},
   "outputs": [
    {
     "data": {
      "text/plain": [
       "<AxesSubplot:xlabel='Branch', ylabel='mean_rating'>"
      ]
     },
     "execution_count": 256,
     "metadata": {},
     "output_type": "execute_result"
    },
    {
     "data": {
      "image/png": "[encoded data removed]",
      "text/plain": [
       "<Figure size 432x288 with 1 Axes>"
      ]
     },
     "metadata": {
      "needs_background": "light"
     },
     "output_type": "display_data"
    }
   ],
   "source": [
    "#그래프6\n",
    "df_RM = df.groupby('Branch', as_index = False).agg(mean_rating = ('Rating', 'mean')).sort_values(by = 'mean_rating', ascending = False)\n",
    "sns.barplot(data = df_RM, x = 'Branch', y = 'mean_rating')"
   ]
  },
  {
   "cell_type": "code",
   "execution_count": 257,
   "id": "63206d28",
   "metadata": {},
   "outputs": [],
   "source": [
    "#인사이트6: c지점이 a지점보다 근소하게 높으나 차이는 거의 없지만 b지점은 다른 두지점에 비해 사람들의 만족도가 조금 낮다. \n",
    "#          다른지점의 만족도 높은이유를 찾아내어 개선을 하면 좋겠다.\n"
   ]
  },
  {
   "cell_type": "code",
   "execution_count": 258,
   "id": "01ecb52c",
   "metadata": {
    "scrolled": true
   },
   "outputs": [
    {
     "data": {
      "text/plain": [
       "<AxesSubplot:xlabel='Product line', ylabel='mean_rating'>"
      ]
     },
     "execution_count": 258,
     "metadata": {},
     "output_type": "execute_result"
    },
    {
     "data": {
      "image/png": "[encoded data removed]",
      "text/plain": [
       "<Figure size 1152x360 with 1 Axes>"
      ]
     },
     "metadata": {
      "needs_background": "light"
     },
     "output_type": "display_data"
    }
   ],
   "source": [
    "#그래프7\n",
    "plt.figure(figsize=(16,5))\n",
    "df_RBM = df.groupby('Product line', as_index = False).agg(mean_rating = ('Rating', 'mean')).sort_values(by = 'mean_rating', ascending = False)\n",
    "sns.barplot(data = df_RBM, x = 'Product line', y = 'mean_rating')"
   ]
  },
  {
   "cell_type": "code",
   "execution_count": 259,
   "id": "4d721754",
   "metadata": {},
   "outputs": [],
   "source": [
    "#인사이트7: 사람들이 상품에 대해서는 대체적으로 만족하는것 같음"
   ]
  },
  {
   "cell_type": "code",
   "execution_count": 260,
   "id": "05ed2ea3",
   "metadata": {},
   "outputs": [],
   "source": [
    "df['Date'] = pd.to_datetime(df['Date']) #그래프 망가져서 데이트타임변환"
   ]
  },
  {
   "cell_type": "code",
   "execution_count": 261,
   "id": "a350c252",
   "metadata": {},
   "outputs": [
    {
     "data": {
      "text/plain": [
       "<AxesSubplot:xlabel='Date', ylabel='Total'>"
      ]
     },
     "execution_count": 261,
     "metadata": {},
     "output_type": "execute_result"
    },
    {
     "data": {
      "image/png": "[encoded data removed]",
      "text/plain": [
       "<Figure size 1152x360 with 1 Axes>"
      ]
     },
     "metadata": {
      "needs_background": "light"
     },
     "output_type": "display_data"
    }
   ],
   "source": [
    "#그래프8\n",
    "plt.figure(figsize=(16,5))\n",
    "sns.lineplot(data = df, x = 'Date', y = 'Total')"
   ]
  },
  {
   "cell_type": "code",
   "execution_count": 262,
   "id": "fe439c7a",
   "metadata": {},
   "outputs": [],
   "source": [
    "#인사이트 8: 1~4월까지의 매출이 일정하지 않고 오르락 내리락 하고있다. 낙차가 크다. "
   ]
  },
  {
   "cell_type": "code",
   "execution_count": 263,
   "id": "4500bddc",
   "metadata": {},
   "outputs": [],
   "source": [
    "#상품에 대해서는 문제가 없는것 같다. 매출이 일정하지 않고 만족도 또한 높은 것을 보면 마케팅쪽의 문제가 아닐까한다.\n",
    "#멤버쉽 카드 가입 안한사람을 끌어들일수 있는 신규 가입자 혜택증가 같은 마케팅\n",
    "#주로 사용되는 전자지갑이나 가장 적게 사용되는 신용카드 제휴사와의 연계 이벤트\n",
    "#마진이 큰 상품을 사면 작은상품을 주는 이벤트등 마케팅을 더욱 강화하고 가장 만족도 높은 지점을 다른 지점들이 보게해여 매출과 만족도\n",
    "#가 낮은 지점들을 끌어올리는등이 좋을것 같다."
   ]
  },
  {
   "cell_type": "code",
   "execution_count": null,
   "id": "15589065",
   "metadata": {},
   "outputs": [],
   "source": []
  }
 ],
 "metadata": {
  "colab": {
   "collapsed_sections": [],
   "provenance": []
  },
  "kernelspec": {
   "display_name": "Python 3 (ipykernel)",
   "language": "python",
   "name": "python3"
  },
  "language_info": {
   "codemirror_mode": {
    "name": "ipython",
    "version": 3
   },
   "file_extension": ".py",
   "mimetype": "text/x-python",
   "name": "python",
   "nbconvert_exporter": "python",
   "pygments_lexer": "ipython3",
   "version": "3.9.12"
  }
 },
 "nbformat": 4,
 "nbformat_minor": 5
}
