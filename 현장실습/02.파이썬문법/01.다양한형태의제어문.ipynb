{
 "cells": [
  {
   "cell_type": "code",
   "execution_count": 2,
   "metadata": {},
   "outputs": [
    {
     "name": "stdout",
     "output_type": "stream",
     "text": [
      "수익 창출 가능\n"
     ]
    }
   ],
   "source": [
    "#실습문제 24\n",
    "sub = int(input(\"현재 구독자수 :\"))\n",
    "watch_time = int(input(\"시청시간 :\"))\n",
    "\n",
    "if sub >= 1000 and watch_time >=4000:\n",
    "    print(\"수익 창출 가능\")\n",
    "else:\n",
    "    print(\"수익 창출 불가능\")"
   ]
  },
  {
   "cell_type": "code",
   "execution_count": 26,
   "metadata": {},
   "outputs": [
    {
     "name": "stdout",
     "output_type": "stream",
     "text": [
      "다시 입력해 주세요\n",
      "->게임을 종료합니다\n"
     ]
    }
   ],
   "source": [
    "#실습문제 30\n",
    "\n",
    "while True:\n",
    "    num = int(input(\"숫자를 입력하세요 : 1.게임시작 2.랭킹보기 3.게임종료:\"))\n",
    "    \n",
    "    if num == 1:\n",
    "        print(\"->게임을 시작합니다\")\n",
    "    elif num == 2:\n",
    "        print(\"->실시간 랭킹\")\n",
    "    elif num == 3:\n",
    "        print(\"->게임을 종료합니다\")\n",
    "        break\n",
    "    else:\n",
    "        print(\"다시 입력해 주세요\")"
   ]
  }
 ],
 "metadata": {
  "kernelspec": {
   "display_name": "Python 3.9.12 ('base')",
   "language": "python",
   "name": "python3"
  },
  "language_info": {
   "codemirror_mode": {
    "name": "ipython",
    "version": 3
   },
   "file_extension": ".py",
   "mimetype": "text/x-python",
   "name": "python",
   "nbconvert_exporter": "python",
   "pygments_lexer": "ipython3",
   "version": "3.9.12"
  },
  "orig_nbformat": 4,
  "vscode": {
   "interpreter": {
    "hash": "263930470851f494f0ed2879c35b57985588df20f9e529b86e97dd5eb9ddc466"
   }
  }
 },
 "nbformat": 4,
 "nbformat_minor": 2
}
