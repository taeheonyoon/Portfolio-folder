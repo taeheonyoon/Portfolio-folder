{
 "cells": [
  {
   "cell_type": "code",
   "execution_count": 7,
   "metadata": {},
   "outputs": [
    {
     "data": {
      "text/plain": [
       "bs4.element.ResultSet"
      ]
     },
     "execution_count": 7,
     "metadata": {},
     "output_type": "execute_result"
    }
   ],
   "source": [
    "# 1단계\n",
    "# 첫번째 질문의 제목, 링크, 날짜, 내용\n",
    "\n",
    "import requests\n",
    "from bs4 import BeautifulSoup\n",
    "\n",
    "response = requests.get(\"https://kin.naver.com/search/list.naver?query=%EB%B9%BC%EB%B9%BC%EB%A1%9C%EB%8D%B0%EC%9D%B4\")\n",
    "\n",
    "html = response.text\n",
    "soup = BeautifulSoup(html, 'html.parser') # 파싱\n",
    "anchor = soup.select(\"dt > a\") # 제목\n",
    "type(anchor) # list 타입 확인 가능 \n"
   ]
  },
  {
   "cell_type": "code",
   "execution_count": 8,
   "metadata": {},
   "outputs": [],
   "source": [
    "#._searchListTitleAnchor\n",
    "#dl > dd:nth-of-type(2)\n",
    "#.txt_inline+dd\n",
    "#dl>dd:nth-child(3\n",
    "#.txt_inline +dd\n",
    "#.basic1 > li"
   ]
  },
  {
   "cell_type": "code",
   "execution_count": 9,
   "metadata": {},
   "outputs": [
    {
     "name": "stdout",
     "output_type": "stream",
     "text": [
      "내일 빼빼로 데이인데 어떡해할까요?\n",
      "내일 빼빼로 데이인가요?\n",
      "빼빼로데이\n",
      "짝남 빼빼로데이\n",
      "빼빼로데이 고백 할까요?\n",
      "빼빼로 데이는 마케팅으로 생겨났나요?\n",
      "빼빼로데이 여친선물 추천좀 해주세요\n",
      "빼빼로데이\n",
      "급합니다 빼빼로 데이 남사친에게 편지\n",
      "빼빼로데이\n",
      "2022.11.10.\n",
      "2022.11.10.\n",
      "2022.11.08.\n",
      "2022.11.04.\n",
      "2022.11.11.\n",
      "2022.11.06.\n",
      "2022.10.19.\n",
      "2022.11.10.\n",
      "2022.11.10.\n",
      "2022.10.31.\n"
     ]
    }
   ],
   "source": [
    "dates = soup.select(\".txt_inline\") # 날짜\n",
    "anchors = soup.select(\"dt > a\")\n",
    "\n",
    "for anchor in anchors:\n",
    "    print(anchor.text)\n",
    "    \n",
    "for date in dates:\n",
    "    print(date.text)"
   ]
  },
  {
   "cell_type": "code",
   "execution_count": 10,
   "metadata": {},
   "outputs": [
    {
     "name": "stdout",
     "output_type": "stream",
     "text": [
      "내일 빼빼로 데이인데 어떡해할까요?\n",
      "내일 빼빼로 데이인가요?\n",
      "빼빼로데이\n",
      "짝남 빼빼로데이\n",
      "빼빼로데이 고백 할까요?\n",
      "빼빼로 데이는 마케팅으로 생겨났나요?\n",
      "빼빼로데이 여친선물 추천좀 해주세요\n",
      "빼빼로데이\n",
      "급합니다 빼빼로 데이 남사친에게 편지\n",
      "빼빼로데이\n"
     ]
    }
   ],
   "source": [
    "questions = soup.select(\".basic1 > li\") # 질문 10개 덩어리 가져오기\n",
    "for question in questions:\n",
    "    anchor = question.select_one(\"dt > a\")\n",
    "    title = anchor.text\n",
    "    print(title)"
   ]
  },
  {
   "cell_type": "code",
   "execution_count": 11,
   "metadata": {},
   "outputs": [
    {
     "name": "stdout",
     "output_type": "stream",
     "text": [
      "내일 빼빼로 데이인데 어떡해할까요? https://kin.naver.com/qna/detail.naver?d1id=20&dirId=2001&docId=432409634&qb=67m867m866Gc642w7J20&enc=utf8§ion=kin&rank=1&search_sort=0&spq=1 2022.11.10. ... 내일이 빼빼로데이인데 빼빼로를 줘야 되나요? 저는 주고는 싶은데 차였는데... 내일이 빼빼로 데이여서 빼빼로를 줘야 하는지 어떻게 해야하는지 고민이 되는 것 같아요.... \n",
      "내일 빼빼로 데이인가요? https://kin.naver.com/qna/detail.naver?d1id=8&dirId=814&docId=432391571&qb=67m867m866Gc642w7J20&enc=utf8§ion=kin&rank=2&search_sort=0&spq=1 2022.11.10. 내일 빼빼로 데이인가요? 그렇습니다. 빼빼로 데이는 대한민국의 독특한 기념일로 11월 11일에 초콜릿 과자인 빼빼로를 주고받는 기념일입니다. \n",
      "빼빼로데이 https://kin.naver.com/qna/detail.naver?d1id=6&dirId=60218&docId=432103740&qb=67m867m866Gc642w7J20&enc=utf8§ion=kin&rank=3&search_sort=0&spq=1 2022.11.08. 이제 얼마안있으면 빼빼로데이잖아욥..! 그래서 제가 저희학년수학 맡아주시는 분이랑 저희반 담임선생님 빼빼로 드리려고하는데 법적으로 무슨 김영란 법인가? 그것때문에... \n",
      "짝남 빼빼로데이 https://kin.naver.com/qna/detail.naver?d1id=8&dirId=8020208&docId=431934340&qb=67m867m866Gc642w7J20&enc=utf8§ion=kin&rank=4&search_sort=0&spq=1 2022.11.04. 제가 얼마전에 생긴 짝남에게 빼빼로 데이에 빼빼로를 주고... 짝남 빼빼로데이 관련 답변드려용!! 약간 부담은... 않으면 빼빼로데이니까 절대 부담 안될 거 같은데요!! 음... \n",
      "빼빼로데이 고백 할까요? https://kin.naver.com/qna/detail.naver?d1id=8&dirId=80101&docId=432425875&qb=67m867m866Gc642w7J20&enc=utf8§ion=kin&rank=5&search_sort=0&spq=1 2022.11.11. 빼빼로데이에 고백하고 싶은 사람이 있는데 한 두달 전에 자주 장난치는데 약간 어색한... 그런데 빼빼로데이가 당장 오늘이잖아요.. 어제 편지도 써 놓고 오늘 친구랑... \n",
      "빼빼로 데이는 마케팅으로 생겨났나요? https://kin.naver.com/qna/detail.naver?d1id=8&dirId=8020208&docId=431906562&qb=67m867m866Gc642w7J20&enc=utf8§ion=kin&rank=6&search_sort=0&spq=1 2022.11.06. 빼빼로 데이는 마케팅으로 생겨났나요? 1993년 계성여중이라고 하는 부산의 한 중학교에서 학생들끼리 하던 행사에서 시작하여 롯데제과가 발빠르게 조치한... \n",
      "빼빼로데이 여친선물 추천좀 해주세요 https://kin.naver.com/qna/detail.naver?d1id=8&dirId=8020208&docId=430852615&qb=67m867m866Gc642w7J20&enc=utf8§ion=kin&rank=7&search_sort=0&spq=1 2022.10.19. 마침 100일이 빼빼로 데이인데 여자친구 선물을 빼빼로랑 꽃 선물세트 있는데... 질문) 마침 100일이 빼빼로 데이인데 여자친구 선물을 빼빼로랑 꽃 선물세트 있는데... \n",
      "빼빼로데이 https://kin.naver.com/qna/detail.naver?d1id=8&dirId=8020208&docId=432382328&qb=67m867m866Gc642w7J20&enc=utf8§ion=kin&rank=8&search_sort=0&spq=1 2022.11.10. ... 내일 빼빼로데이니까 빼빼로를 드릴까 생각도 해봤는데..일단 선생님 나이가 40살이... 그리구 원래 빼빼로데이가 나라에서 정한날도 아니구 농업인의 날이잖아요??그래서... \n",
      "급합니다 빼빼로 데이 남사친에게 편지 https://kin.naver.com/qna/detail.naver?d1id=8&dirId=8020209&docId=432386594&qb=67m867m866Gc642w7J20&enc=utf8§ion=kin&rank=9&search_sort=0&spq=1 2022.11.10. ... 고백편지 아니구요 친한 남사친이 빼빼로 데이에 편지를 써달라는데 간단하게 쪽지만 써줄려고요 어떻게 써야할까요 제가 이성에게 쓰는 편지는 첨이라 구체적으로... \n",
      "빼빼로데이 https://kin.naver.com/qna/detail.naver?d1id=8&dirId=8020208&docId=431414363&qb=67m867m866Gc642w7J20&enc=utf8§ion=kin&rank=10&search_sort=0&spq=1 2022.10.31. 빼빼로데이에 빼빼로 40개이상 만들어야되는데 빼빼로 만들기키트 추천해주세욥! 빼빼로 막대과자를 40개정도 만들수 있는 키트가 있어서 정보 공유합니다~ 수제 초코... \n"
     ]
    }
   ],
   "source": [
    "for question in questions:\n",
    "    title = question.select_one(\"dt>a\").text\n",
    "    link = question.select_one(\"dt>a\")['href']\n",
    "    date = question.select_one(\".txt_inline\").text\n",
    "    content = question.select_one(\".txt_inline +dd\").text\n",
    "    \n",
    "    print(title, link, date, content)\n",
    "    "
   ]
  },
  {
   "cell_type": "code",
   "execution_count": 12,
   "metadata": {},
   "outputs": [
    {
     "name": "stdout",
     "output_type": "stream",
     "text": [
      "1 내일 빼빼로 데이인데 어떡해할까요? https://kin.naver.com/qna/detail.naver?d1id=20&dirId=2001&docId=432409634&qb=67m867m866Gc642w7J20&enc=utf8§ion=kin&rank=1&search_sort=0&spq=1 2022.11.10. ... 내일이 빼빼로데이인데 빼빼로를 줘야 되나요? 저는 주고는 싶은데 차였는데... 내일이 빼빼로 데이여서 빼빼로를 줘야 하는지 어떻게 해야하는지 고민이 되는 것 같아요.... \n",
      "2 내일 빼빼로 데이인가요? https://kin.naver.com/qna/detail.naver?d1id=8&dirId=814&docId=432391571&qb=67m867m866Gc642w7J20&enc=utf8§ion=kin&rank=2&search_sort=0&spq=1 2022.11.10. 내일 빼빼로 데이인가요? 그렇습니다. 빼빼로 데이는 대한민국의 독특한 기념일로 11월 11일에 초콜릿 과자인 빼빼로를 주고받는 기념일입니다. \n",
      "3 빼빼로데이 https://kin.naver.com/qna/detail.naver?d1id=6&dirId=60218&docId=432103740&qb=67m867m866Gc642w7J20&enc=utf8§ion=kin&rank=3&search_sort=0&spq=1 2022.11.08. 이제 얼마안있으면 빼빼로데이잖아욥..! 그래서 제가 저희학년수학 맡아주시는 분이랑 저희반 담임선생님 빼빼로 드리려고하는데 법적으로 무슨 김영란 법인가? 그것때문에... \n",
      "4 짝남 빼빼로데이 https://kin.naver.com/qna/detail.naver?d1id=8&dirId=8020208&docId=431934340&qb=67m867m866Gc642w7J20&enc=utf8§ion=kin&rank=4&search_sort=0&spq=1 2022.11.04. 제가 얼마전에 생긴 짝남에게 빼빼로 데이에 빼빼로를 주고... 짝남 빼빼로데이 관련 답변드려용!! 약간 부담은... 않으면 빼빼로데이니까 절대 부담 안될 거 같은데요!! 음... \n",
      "5 빼빼로데이 고백 할까요? https://kin.naver.com/qna/detail.naver?d1id=8&dirId=80101&docId=432425875&qb=67m867m866Gc642w7J20&enc=utf8§ion=kin&rank=5&search_sort=0&spq=1 2022.11.11. 빼빼로데이에 고백하고 싶은 사람이 있는데 한 두달 전에 자주 장난치는데 약간 어색한... 그런데 빼빼로데이가 당장 오늘이잖아요.. 어제 편지도 써 놓고 오늘 친구랑... \n",
      "6 빼빼로 데이는 마케팅으로 생겨났나요? https://kin.naver.com/qna/detail.naver?d1id=8&dirId=8020208&docId=431906562&qb=67m867m866Gc642w7J20&enc=utf8§ion=kin&rank=6&search_sort=0&spq=1 2022.11.06. 빼빼로 데이는 마케팅으로 생겨났나요? 1993년 계성여중이라고 하는 부산의 한 중학교에서 학생들끼리 하던 행사에서 시작하여 롯데제과가 발빠르게 조치한... \n",
      "7 빼빼로데이 여친선물 추천좀 해주세요 https://kin.naver.com/qna/detail.naver?d1id=8&dirId=8020208&docId=430852615&qb=67m867m866Gc642w7J20&enc=utf8§ion=kin&rank=7&search_sort=0&spq=1 2022.10.19. 마침 100일이 빼빼로 데이인데 여자친구 선물을 빼빼로랑 꽃 선물세트 있는데... 질문) 마침 100일이 빼빼로 데이인데 여자친구 선물을 빼빼로랑 꽃 선물세트 있는데... \n",
      "8 빼빼로데이 https://kin.naver.com/qna/detail.naver?d1id=8&dirId=8020208&docId=432382328&qb=67m867m866Gc642w7J20&enc=utf8§ion=kin&rank=8&search_sort=0&spq=1 2022.11.10. ... 내일 빼빼로데이니까 빼빼로를 드릴까 생각도 해봤는데..일단 선생님 나이가 40살이... 그리구 원래 빼빼로데이가 나라에서 정한날도 아니구 농업인의 날이잖아요??그래서... \n",
      "9 급합니다 빼빼로 데이 남사친에게 편지 https://kin.naver.com/qna/detail.naver?d1id=8&dirId=8020209&docId=432386594&qb=67m867m866Gc642w7J20&enc=utf8§ion=kin&rank=9&search_sort=0&spq=1 2022.11.10. ... 고백편지 아니구요 친한 남사친이 빼빼로 데이에 편지를 써달라는데 간단하게 쪽지만 써줄려고요 어떻게 써야할까요 제가 이성에게 쓰는 편지는 첨이라 구체적으로... \n",
      "10 빼빼로데이 https://kin.naver.com/qna/detail.naver?d1id=8&dirId=8020208&docId=431414363&qb=67m867m866Gc642w7J20&enc=utf8§ion=kin&rank=10&search_sort=0&spq=1 2022.10.31. 빼빼로데이에 빼빼로 40개이상 만들어야되는데 빼빼로 만들기키트 추천해주세욥! 빼빼로 막대과자를 40개정도 만들수 있는 키트가 있어서 정보 공유합니다~ 수제 초코... \n"
     ]
    }
   ],
   "source": [
    "\n",
    "for i, question in enumerate(questions, 1):\n",
    "    anchor = question.select_one(\"dt > a\")\n",
    "    title = anchor.text\n",
    "    link = anchor['href']\n",
    "    date = question.select_one(\".txt_inline\").text\n",
    "    content = question.select_one(\".txt_inline +dd\").text\n",
    "    \n",
    "    print(i, title, link, date, content, end='\\n')\n"
   ]
  },
  {
   "cell_type": "code",
   "execution_count": 13,
   "metadata": {},
   "outputs": [
    {
     "name": "stdout",
     "output_type": "stream",
     "text": [
      "3 내일 빼빼로 데이인데 어떡해할까요? https://kin.naver.com/qna/detail.naver?d1id=20&dirId=2001&docId=432409634&qb=67m867m866Gc642w7J20&enc=utf8§ion=kin&rank=1&search_sort=0&spq=1 2022.11.10. ... 내일이 빼빼로데이인데 빼빼로를 줘야 되나요? 저는 주고는 싶은데 차였는데... 내일이 빼빼로 데이여서 빼빼로를 줘야 하는지 어떻게 해야하는지 고민이 되는 것 같아요.... \n",
      "4 내일 빼빼로 데이인가요? https://kin.naver.com/qna/detail.naver?d1id=8&dirId=814&docId=432391571&qb=67m867m866Gc642w7J20&enc=utf8§ion=kin&rank=2&search_sort=0&spq=1 2022.11.10. 내일 빼빼로 데이인가요? 그렇습니다. 빼빼로 데이는 대한민국의 독특한 기념일로 11월 11일에 초콜릿 과자인 빼빼로를 주고받는 기념일입니다. \n",
      "5 빼빼로데이 https://kin.naver.com/qna/detail.naver?d1id=6&dirId=60218&docId=432103740&qb=67m867m866Gc642w7J20&enc=utf8§ion=kin&rank=3&search_sort=0&spq=1 2022.11.08. 이제 얼마안있으면 빼빼로데이잖아욥..! 그래서 제가 저희학년수학 맡아주시는 분이랑 저희반 담임선생님 빼빼로 드리려고하는데 법적으로 무슨 김영란 법인가? 그것때문에... \n",
      "6 짝남 빼빼로데이 https://kin.naver.com/qna/detail.naver?d1id=8&dirId=8020208&docId=431934340&qb=67m867m866Gc642w7J20&enc=utf8§ion=kin&rank=4&search_sort=0&spq=1 2022.11.04. 제가 얼마전에 생긴 짝남에게 빼빼로 데이에 빼빼로를 주고... 짝남 빼빼로데이 관련 답변드려용!! 약간 부담은... 않으면 빼빼로데이니까 절대 부담 안될 거 같은데요!! 음... \n",
      "7 빼빼로데이 고백 할까요? https://kin.naver.com/qna/detail.naver?d1id=8&dirId=80101&docId=432425875&qb=67m867m866Gc642w7J20&enc=utf8§ion=kin&rank=5&search_sort=0&spq=1 2022.11.11. 빼빼로데이에 고백하고 싶은 사람이 있는데 한 두달 전에 자주 장난치는데 약간 어색한... 그런데 빼빼로데이가 당장 오늘이잖아요.. 어제 편지도 써 놓고 오늘 친구랑... \n",
      "8 빼빼로 데이는 마케팅으로 생겨났나요? https://kin.naver.com/qna/detail.naver?d1id=8&dirId=8020208&docId=431906562&qb=67m867m866Gc642w7J20&enc=utf8§ion=kin&rank=6&search_sort=0&spq=1 2022.11.06. 빼빼로 데이는 마케팅으로 생겨났나요? 1993년 계성여중이라고 하는 부산의 한 중학교에서 학생들끼리 하던 행사에서 시작하여 롯데제과가 발빠르게 조치한... \n",
      "9 빼빼로데이 여친선물 추천좀 해주세요 https://kin.naver.com/qna/detail.naver?d1id=8&dirId=8020208&docId=430852615&qb=67m867m866Gc642w7J20&enc=utf8§ion=kin&rank=7&search_sort=0&spq=1 2022.10.19. 마침 100일이 빼빼로 데이인데 여자친구 선물을 빼빼로랑 꽃 선물세트 있는데... 질문) 마침 100일이 빼빼로 데이인데 여자친구 선물을 빼빼로랑 꽃 선물세트 있는데... \n",
      "10 빼빼로데이 https://kin.naver.com/qna/detail.naver?d1id=8&dirId=8020208&docId=432382328&qb=67m867m866Gc642w7J20&enc=utf8§ion=kin&rank=8&search_sort=0&spq=1 2022.11.10. ... 내일 빼빼로데이니까 빼빼로를 드릴까 생각도 해봤는데..일단 선생님 나이가 40살이... 그리구 원래 빼빼로데이가 나라에서 정한날도 아니구 농업인의 날이잖아요??그래서... \n",
      "11 급합니다 빼빼로 데이 남사친에게 편지 https://kin.naver.com/qna/detail.naver?d1id=8&dirId=8020209&docId=432386594&qb=67m867m866Gc642w7J20&enc=utf8§ion=kin&rank=9&search_sort=0&spq=1 2022.11.10. ... 고백편지 아니구요 친한 남사친이 빼빼로 데이에 편지를 써달라는데 간단하게 쪽지만 써줄려고요 어떻게 써야할까요 제가 이성에게 쓰는 편지는 첨이라 구체적으로... \n",
      "12 빼빼로데이 https://kin.naver.com/qna/detail.naver?d1id=8&dirId=8020208&docId=431414363&qb=67m867m866Gc642w7J20&enc=utf8§ion=kin&rank=10&search_sort=0&spq=1 2022.10.31. 빼빼로데이에 빼빼로 40개이상 만들어야되는데 빼빼로 만들기키트 추천해주세욥! 빼빼로 막대과자를 40개정도 만들수 있는 키트가 있어서 정보 공유합니다~ 수제 초코... \n"
     ]
    }
   ],
   "source": [
    "\n",
    "for i, question in enumerate(questions, 3):\n",
    "    questions = soup.select(\".basic1 > li\")\n",
    "    response = requests.get(\"https://kin.naver.com/search/list.naver?query=%EB%B9%BC%EB%B9%BC%EB%A1%9C%EB%8D%B0%EC%9D%B4\")\n",
    "    html = response.text\n",
    "    soup = BeautifulSoup(html, 'html.parser') # 파싱\n",
    "    anchor = soup.select(\"dt > a\") # 제목\n",
    "    .s_paging\n",
    "\n",
    "\n",
    "\n",
    "    anchor = question.select_one(\"dt > a\")\n",
    "    title = anchor.text\n",
    "    link = anchor['href']\n",
    "    date = question.select_one(\".txt_inline\").text\n",
    "    content = question.select_one(\".txt_inline +dd\").text\n",
    "    \n",
    "    print(i, title, link, date, content, end='\\n')\n",
    "\n"
   ]
  },
  {
   "cell_type": "code",
   "execution_count": 20,
   "metadata": {},
   "outputs": [
    {
     "name": "stdout",
     "output_type": "stream",
     "text": [
      "1번째 페이지 크롤링중\n",
      "1 내일 빼빼로 데이인데 어떡해할까요? https://kin.naver.com/qna/detail.naver?d1id=20&dirId=2001&docId=432409634&qb=67m867m866Gc642w7J20&enc=utf8§ion=kin&rank=1&search_sort=0&spq=1 2022.11.10. ... 내일이 빼빼로데이인데 빼빼로를 줘야 되나요? 저는 주고는 싶은데 차였는데... 내일이 빼빼로 데이여서 빼빼로를 줘야 하는지 어떻게 해야하는지 고민이 되는 것 같아요.... \n",
      "2 내일 빼빼로 데이인가요? https://kin.naver.com/qna/detail.naver?d1id=8&dirId=814&docId=432391571&qb=67m867m866Gc642w7J20&enc=utf8§ion=kin&rank=2&search_sort=0&spq=1 2022.11.10. 내일 빼빼로 데이인가요? 그렇습니다. 빼빼로 데이는 대한민국의 독특한 기념일로 11월 11일에 초콜릿 과자인 빼빼로를 주고받는 기념일입니다. \n",
      "3 빼빼로데이 https://kin.naver.com/qna/detail.naver?d1id=6&dirId=60218&docId=432103740&qb=67m867m866Gc642w7J20&enc=utf8§ion=kin&rank=3&search_sort=0&spq=1 2022.11.08. 이제 얼마안있으면 빼빼로데이잖아욥..! 그래서 제가 저희학년수학 맡아주시는 분이랑 저희반 담임선생님 빼빼로 드리려고하는데 법적으로 무슨 김영란 법인가? 그것때문에... \n",
      "4 짝남 빼빼로데이 https://kin.naver.com/qna/detail.naver?d1id=8&dirId=8020208&docId=431934340&qb=67m867m866Gc642w7J20&enc=utf8§ion=kin&rank=4&search_sort=0&spq=1 2022.11.04. 제가 얼마전에 생긴 짝남에게 빼빼로 데이에 빼빼로를 주고... 짝남 빼빼로데이 관련 답변드려용!! 약간 부담은... 않으면 빼빼로데이니까 절대 부담 안될 거 같은데요!! 음... \n",
      "5 빼빼로데이 고백 할까요? https://kin.naver.com/qna/detail.naver?d1id=8&dirId=80101&docId=432425875&qb=67m867m866Gc642w7J20&enc=utf8§ion=kin&rank=5&search_sort=0&spq=1 2022.11.11. 빼빼로데이에 고백하고 싶은 사람이 있는데 한 두달 전에 자주 장난치는데 약간 어색한... 그런데 빼빼로데이가 당장 오늘이잖아요.. 어제 편지도 써 놓고 오늘 친구랑... \n",
      "6 빼빼로 데이는 마케팅으로 생겨났나요? https://kin.naver.com/qna/detail.naver?d1id=8&dirId=8020208&docId=431906562&qb=67m867m866Gc642w7J20&enc=utf8§ion=kin&rank=6&search_sort=0&spq=1 2022.11.06. 빼빼로 데이는 마케팅으로 생겨났나요? 1993년 계성여중이라고 하는 부산의 한 중학교에서 학생들끼리 하던 행사에서 시작하여 롯데제과가 발빠르게 조치한... \n",
      "7 빼빼로데이 여친선물 추천좀 해주세요 https://kin.naver.com/qna/detail.naver?d1id=8&dirId=8020208&docId=430852615&qb=67m867m866Gc642w7J20&enc=utf8§ion=kin&rank=7&search_sort=0&spq=1 2022.10.19. 마침 100일이 빼빼로 데이인데 여자친구 선물을 빼빼로랑 꽃 선물세트 있는데... 질문) 마침 100일이 빼빼로 데이인데 여자친구 선물을 빼빼로랑 꽃 선물세트 있는데... \n",
      "8 빼빼로데이 https://kin.naver.com/qna/detail.naver?d1id=8&dirId=8020208&docId=432382328&qb=67m867m866Gc642w7J20&enc=utf8§ion=kin&rank=8&search_sort=0&spq=1 2022.11.10. ... 내일 빼빼로데이니까 빼빼로를 드릴까 생각도 해봤는데..일단 선생님 나이가 40살이... 그리구 원래 빼빼로데이가 나라에서 정한날도 아니구 농업인의 날이잖아요??그래서... \n",
      "9 급합니다 빼빼로 데이 남사친에게 편지 https://kin.naver.com/qna/detail.naver?d1id=8&dirId=8020209&docId=432386594&qb=67m867m866Gc642w7J20&enc=utf8§ion=kin&rank=9&search_sort=0&spq=1 2022.11.10. ... 고백편지 아니구요 친한 남사친이 빼빼로 데이에 편지를 써달라는데 간단하게 쪽지만 써줄려고요 어떻게 써야할까요 제가 이성에게 쓰는 편지는 첨이라 구체적으로... \n",
      "10 빼빼로데이 https://kin.naver.com/qna/detail.naver?d1id=8&dirId=8020208&docId=431414363&qb=67m867m866Gc642w7J20&enc=utf8§ion=kin&rank=10&search_sort=0&spq=1 2022.10.31. 빼빼로데이에 빼빼로 40개이상 만들어야되는데 빼빼로 만들기키트 추천해주세욥! 빼빼로 막대과자를 40개정도 만들수 있는 키트가 있어서 정보 공유합니다~ 수제 초코... \n",
      "2번째 페이지 크롤링중\n",
      "1 빼빼로 데이 김영란법 https://kin.naver.com/qna/detail.naver?d1id=6&dirId=60218&docId=432411813&qb=67m867m866Gc642w7J20&enc=utf8§ion=kin&rank=11&search_sort=0&spq=1 2022.11.10. 내일이 빼빼로 데이여서 선생님께 빼빼로를 드릴려고 하는데 김영란법에 걸리나요? 제가 알기로는 선물은 3만원 이하인 것 같은데.. 빼빼로 할인해서 600원에 샀는데 안 되는... \n",
      "2 빼빼로데이 선물 https://kin.naver.com/qna/detail.naver?d1id=8&dirId=80101&docId=432393596&qb=67m867m866Gc642w7J20&enc=utf8§ion=kin&rank=12&search_sort=0&spq=1 2022.11.10. 22살 동갑내기 군인 남자친구 만나고 있습니다 빼빼로데이 다음날 외출 나오는데 빼빼로나 간식 이런거 말고 작게 선물 하나 해주려고 하는데 어떤게 좋을지 추천좀 해주세요!!... \n",
      "3 빼빼로데이 간식 https://kin.naver.com/qna/detail.naver?d1id=8&dirId=8020208&docId=432216438&qb=67m867m866Gc642w7J20&enc=utf8§ion=kin&rank=13&search_sort=0&spq=1 2022.11.08. 제가 친한 친구에게 빼빼로 데이 선물로 간식을 직접 만들어서 선물을 해주고싶은데, 한명은 단걸 별로 안좋아하는 타입이라서 고민중입니다. 어떤 간식을 만들어줘야 할까요?... \n",
      "4 빼빼로데이선물 추천 부탁드립니다 https://kin.naver.com/qna/detail.naver?d1id=8&dirId=80107&docId=431652567&qb=67m867m866Gc642w7J20&enc=utf8§ion=kin&rank=14&search_sort=0&spq=1 2022.10.31. 빼빼로데이선물 추천 부탁드려요 여자친구 랑 첫 기념일인데 특별한 빼빼로데이 선물 뭐가있을까요... 꽃이나 귀엽고 사랑스런 기억남을 빼빼로데이선물... \n",
      "5 빼빼로데이 친구 선물 https://kin.naver.com/qna/detail.naver?d1id=8&dirId=8020208&docId=431833667&qb=67m867m866Gc642w7J20&enc=utf8§ion=kin&rank=15&search_sort=0&spq=1 2022.11.03. 빼빼로 데이때 친구한테 선물 뭐해줘야 할까요?? 그냥 빼빼로 사주는거 말고요 그러면 핸드폰 케이스는 어떠세요? 가격도 착하고 무엇보다 예쁜 디자인들이... \n",
      "6 곧있으면 다가오는 빼빼로 데이를 맞아 https://kin.naver.com/qna/detail.naver?d1id=8&dirId=8020208&docId=432182660&qb=67m867m866Gc642w7J20&enc=utf8§ion=kin&rank=16&search_sort=0&spq=1 2022.11.07. 곧있으면 다가오는 빼빼로 데이를 맞아 빼빼로를 사려고 했는데 올해는 뭔가 직접... 이번 빼빼로데이때 직접 만들어서 친구들에게 선물해주고 싶었는데 어머니께서 이해해주지... \n",
      "7 썸녀 빼빼로데이 질문 제발 도어ㅏ주세여 https://kin.naver.com/qna/detail.naver?d1id=8&dirId=80101&docId=432389663&qb=67m867m866Gc642w7J20&enc=utf8§ion=kin&rank=17&search_sort=0&spq=1 2022.11.10. 썸녀가 직접 만든 빼빼로를 빼빼로 데이때 주기로 햤는데 저는 무엇을 주는게 좋을까요.. 직접 만들기에는 지금 시간이 부족해서요 진짜 좋은 행동좀 알려주세요 퓨ㅠㅠ  그냥... \n",
      "8 빼빼로데이 https://kin.naver.com/qna/detail.naver?d1id=8&dirId=8020208&docId=431066395&qb=67m867m866Gc642w7J20&enc=utf8§ion=kin&rank=18&search_sort=0&spq=1 2022.10.22. 여러분빼빼로데이에 빼빼로사주는게좋을까요? 만들어주는게좋을까요? (친구랑남친줄꺼에욤!) 가장 좋은건 직접만든 수제 빼빼로가 아닐까요? ㅎㅎ 시중에 파는... \n",
      "9 빼빼로 데이 빼빼로 만드는거에 대해...  https://kin.naver.com/qna/detail.naver?d1id=8&dirId=8020208&docId=431947127&qb=67m867m866Gc642w7J20&enc=utf8§ion=kin&rank=19&search_sort=0&spq=1 2022.11.04. 안녕하세요 제가 빼빼로 데이 3일전에 만들고 냉장보관 해야하나요 ? 아니면 냉동보관... 빼빼로 데이 미리 만드신다면 냉장고에 넣어주셔야 하구요!! 근데 ㅠㅠ 무엇보다 실온에... \n",
      "10 빼빼로데이 선물 추천주세요 https://kin.naver.com/qna/detail.naver?d1id=8&dirId=8020208&docId=431800088&qb=67m867m866Gc642w7J20&enc=utf8§ion=kin&rank=20&search_sort=0&spq=1 2022.11.03. 빼빼로데이 선물 추천해주세요 11월 11일 빼빼로데이 선물 뭐할지 고민중인데요.... 특별하고 기억에 오래남을만한 빼빼로데이 선물 추천좀 해주시면 감사하겠습니다... \n",
      "3번째 페이지 크롤링중\n",
      "1 여자친구 빼빼로데이 선물 https://kin.naver.com/qna/detail.naver?d1id=8&dirId=80101&docId=432430744&qb=67m867m866Gc642w7J20&enc=utf8§ion=kin&rank=21&search_sort=0&spq=1 2022.11.11. ... 해서 빼빼로데이 크게 생각도 안하고 있었는데... 퇴근 후 잠깐 시간내서 준비할 빼빼로데이 선물 추천좀... 빼빼로데이가 그정돈 아닌것같네요 만약에 그걸로 섭해하고... \n",
      "2 빼빼로데이 https://kin.naver.com/qna/detail.naver?d1id=6&dirId=6130202&docId=432431555&qb=67m867m866Gc642w7J20&enc=utf8§ion=kin&rank=22&search_sort=0&spq=1 2022.11.11. 빼빼로데이에 빼빼로를 못 주면 어떻게 하죠? 다음날 줘도 되죠 \n",
      "3 남자친구 빼빼로데이 선물 https://kin.naver.com/qna/detail.naver?d1id=8&dirId=80101&docId=431899696&qb=67m867m866Gc642w7J20&enc=utf8§ion=kin&rank=23&search_sort=0&spq=1 2022.11.03. ... 이번 빼빼로 데이 어떻게 하면 좋을까요? 1) 아껴야된다 2) 에어팟 새로나온 거 사주자... 게다가 한 달 뒤엔 크리스마스가 다가올 테니 빼빼로데이엔 소소하게 가는 거... \n",
      "4 빼빼로데이 협박 https://kin.naver.com/qna/detail.naver?d1id=11&dirId=1130&docId=432331014&qb=67m867m866Gc642w7J20&enc=utf8§ion=kin&rank=24&search_sort=0&spq=1 2022.11.09. 초등 5학년입니다 6학년언니가 빼빼로데이날 빼빼로사오라고 했는데 어떻게... 약간 협박성 인것같기도하고 무섭습니다 언니가 빼빼로데이를 잘못 알고 있었네요. 협박성과... \n",
      "5 빼빼로데이 선물 https://kin.naver.com/qna/detail.naver?d1id=8&dirId=80101&docId=432334427&qb=67m867m866Gc642w7J20&enc=utf8§ion=kin&rank=25&search_sort=0&spq=1 2022.11.10. 저는 중학생임니다.2일뒤에 빼빼로데이인데 여자친구는 선물을 크게 준비한거같은데... 빼빼로데이에 여자친구 선물 찾고계신가봐요~! 아직 선물 준비를 못하셔서 걱정이시죠?... \n",
      "6 일본 빼빼로 데이 https://kin.naver.com/qna/detail.naver?d1id=8&dirId=8020208&docId=431645899&qb=67m867m866Gc642w7J20&enc=utf8§ion=kin&rank=26&search_sort=0&spq=1 2022.10.31. 일본에도 빼빼로데이랑 비슷한 포키의 날 있다고 하는데 포키의 날도 11월11일이에요?... 네 한국의 빼빼로데이 영향으로 생겼답니다 한국처럼 전 국가적으로 유행하는지는... \n",
      "7 빼빼로데이 이벤트 https://kin.naver.com/qna/detail.naver?d1id=8&dirId=8020208&docId=432187120&qb=67m867m866Gc642w7J20&enc=utf8§ion=kin&rank=27&search_sort=0&spq=1 2022.11.07. 빼빼로데이때 이벤트 하려고 하는데 여자친구는 친구들이랑 만들어서 준다고 하더라고요.. 저도 빼빼로데이때... 빼빼로데이때 해줄만한거 없을까요.. 참고로 여자친구는... \n",
      "8 빼빼로데이 선물로 뭐가 좋을까요 https://kin.naver.com/qna/detail.naver?d1id=8&dirId=8020208&docId=432434589&qb=67m867m866Gc642w7J20&enc=utf8§ion=kin&rank=28&search_sort=0&spq=1 2022.11.11. 빼빼로데이 선물로 뭐가 좋을까요  빼빼로를 사주셔도 괜찮지만 글쓴이님이 남자분인지 여자분인지 연령대가 어떻게 되는지 몰라서 딱 이게좋을것이다 라고는 말씀을... \n",
      "9 짝녀한테 말걸고 빼빼로데이때 선물주기 https://kin.naver.com/qna/detail.naver?d1id=8&dirId=80101&docId=432213316&qb=67m867m866Gc642w7J20&enc=utf8§ion=kin&rank=29&search_sort=0&spq=1 2022.11.09. ... 그리고 이번주 금요일에 빼빼로 데이인데 이참에 빼빼로를 만들어서 편지를 줘서... 빼빼로데이라고해서 다들 빼빼로를 선물할텐데 빼빼로가 아닌 다른 선물을 하면 좀 더... \n",
      "10 빼빼로데이 https://kin.naver.com/qna/detail.naver?d1id=8&dirId=80101&docId=432127395&qb=67m867m866Gc642w7J20&enc=utf8§ion=kin&rank=30&search_sort=0&spq=1 2022.11.06. ... 그래서 이번 빼빼로데이때 빼빼로 주려고 하는데 몰래 사물함에 넣을지 친구 통해서... 너무 걱정마시고 자연스레 하시면 될것 같습니다. 예쁜빼빼로데이 되시길.. :)\n",
      "4번째 페이지 크롤링중\n",
      "1 빼빼로데이선물 흔하지 않은걸로 https://kin.naver.com/qna/detail.naver?d1id=8&dirId=80107&docId=432223356&qb=67m867m866Gc642w7J20&enc=utf8§ion=kin&rank=31&search_sort=0&spq=1 2022.11.10. 안녕하세요~ 이제 곧 빼빼로데이가 다가오는데 빼빼로데이선물로 흔하지 않은거 다들 뭐... 스무살 초중반이다 보니까 빼빼로데이선물 눈에 띄는거 해주고싶은데 택배... \n",
      "2 빼빼로데이 여자친구 생일 https://kin.naver.com/qna/detail.naver?d1id=8&dirId=80101&docId=432368097&qb=67m867m866Gc642w7J20&enc=utf8§ion=kin&rank=32&search_sort=0&spq=1 2022.11.10. 여자친구 생일 준비하느라 빼빼로데이를 준비를... 잡아놨는데 빼빼로데이를 생각을 못했네요. 시중에 파는... 그래도 빼빼로데이니까 빼빼로를 준비하시는 게 가장 좋을 거... \n",
      "3 빼빼로 데이 왜 있는 건가요? https://kin.naver.com/qna/detail.naver?d1id=8&dirId=8020208&docId=432412860&qb=67m867m866Gc642w7J20&enc=utf8§ion=kin&rank=33&search_sort=0&spq=1 2022.11.10. 빼빼로 데이 그런거 왜 있나요? 쓸모 없는 거 돈 낭비 아닌가요?  안녕하세요. 답변 드릴께요. 기업에서 마케팅목적을 만든거지요. 막대과자 팔려구요. 근데 그게 먹히니깐 계속... \n",
      "4 빼빼로데이 선물로 뭐가 좋을까 https://kin.naver.com/qna/detail.naver?d1id=8&dirId=8020208&docId=432434819&qb=67m867m866Gc642w7J20&enc=utf8§ion=kin&rank=34&search_sort=0&spq=1 2022.11.11. 빼빼로데이 선물로 뭐가 좋을까  빼빼로랑 바디미스트 같이 주는거 어떨까요 향수보다 저렴하면서 향은 가벼워서 외출할 때 가볍게 뿌리기 좋습니당 올리브영 가셔서... \n",
      "5 빼빼로데이 남친 https://kin.naver.com/qna/detail.naver?d1id=8&dirId=80101&docId=432398122&qb=67m867m866Gc642w7J20&enc=utf8§ion=kin&rank=35&search_sort=0&spq=1 2022.11.10. 빼빼로데이에 남친한테 빼빼로 주는게 나을까요 초콜릿 주는게 나을까요? 사실 둘다 괜찮죠. 빼빼로랑 초콜릿 섞어서 주는 경우도 있구요. 둘다 받으면 기분은 좋겠죠^^ \n",
      "6 빼빼로데이 https://kin.naver.com/qna/detail.naver?d1id=11&dirId=110401&docId=432428051&qb=67m867m866Gc642w7J20&enc=utf8§ion=kin&rank=36&search_sort=0&spq=1 2022.11.11. ... 학교에 가져오지 않습니다. 빼빼로데이에 쌤이 아렇게 보내셨는데 그럼 교환하는것도 안되나요? 점심시간이나 쉬는 시간에 몰래하세요 아니면 하교시간이나용 \n",
      "7 빼빼로데이 질문 https://kin.naver.com/qna/detail.naver?d1id=8&dirId=80101&docId=432438089&qb=67m867m866Gc642w7J20&enc=utf8§ion=kin&rank=37&search_sort=0&spq=1 2022.11.11. 장거리커플인데 빼빼로데이 선물을 직접 줄 상황이 안되네요.. 기프티콘이나 택배로 보내주고 싶은데 택배로 보내면 월요일에는 집에 없어서 참 애매한 상황이 생기네요.. 그냥... \n",
      "8 빼빼로데이 https://kin.naver.com/qna/detail.naver?d1id=8&dirId=80101&docId=432412407&qb=67m867m866Gc642w7J20&enc=utf8§ion=kin&rank=38&search_sort=0&spq=1 2022.11.10. 빼빼로데이 많이받으면 뭐 좋고 못 받거나 적게 1-3개 받으면 찐따인거임?제친구가 그럼ㅋㅋㅋ빼빼로데이도 이젠... 걍 인맥 빼빼로데이로 이름 바꿔주세요 그냥 빼빼로... \n",
      "9 빼빼로 데이 https://kin.naver.com/qna/detail.naver?d1id=11&dirId=110307&docId=432410284&qb=67m867m866Gc642w7J20&enc=utf8§ion=kin&rank=39&search_sort=0&spq=1 2022.11.10. ... 빼빼로 데이 맞아서 빼빼로 깊콘 이라도 선물하려고 하는데 어떤가요? 뭐라고... 빼빼로 데이고 그래서 네 생각이 났어 생각이 나서 그래서 그랬던거지 별 의미 없지 하면서... \n",
      "10 벌써 빼빼로데이인지 몰랐네요ㅎㅎ https://kin.naver.com/qna/detail.naver?d1id=6&dirId=61303&docId=432358960&qb=67m867m866Gc642w7J20&enc=utf8§ion=kin&rank=40&search_sort=0&spq=1 2022.11.10. 벌써 빼빼로데이인지 몰랐네요ㅎㅎ  그러게요~~ 내일이 빼빼로 데이네요~~ ㅣㅣㅣㅣㅣㅣ 여기 빼빼로 놓고 갈게요~\n"
     ]
    }
   ],
   "source": [
    "import requests\n",
    "from bs4 import BeautifulSoup\n",
    "\n",
    "page = int(input(\"페이지 입력하세요: \"))\n",
    "\n",
    "for i in range(1, page + 1):\n",
    "    print(f\"{i}번째 페이지 크롤링중\")\n",
    "    response = requests.get(f\"https://kin.naver.com/search/list.naver?query=%EB%B9%BC%EB%B9%BC%EB%A1%9C%EB%8D%B0%EC%9D%B4&page={i}\")\n",
    "    html = response.text\n",
    "    soup = BeautifulSoup(html, 'html.parser')\n",
    "    questions = soup.select(\".basic1 > li\")\n",
    "    \n",
    "    for i, question in enumerate(questions, 1):\n",
    "        anchor = question.select_one(\"dt > a\")\n",
    "        title = anchor.text\n",
    "        link = anchor['href']\n",
    "        date = question.select_one(\".txt_inline\").text\n",
    "        content = question.select_one(\".txt_inline +dd\").text\n",
    "        \n",
    "        print(i, title, link, date, content, end='\\n')\n",
    "    \n",
    "    "
   ]
  },
  {
   "cell_type": "code",
   "execution_count": null,
   "metadata": {},
   "outputs": [],
   "source": []
  }
 ],
 "metadata": {
  "kernelspec": {
   "display_name": "Python 3.9.12 ('base')",
   "language": "python",
   "name": "python3"
  },
  "language_info": {
   "codemirror_mode": {
    "name": "ipython",
    "version": 3
   },
   "file_extension": ".py",
   "mimetype": "text/x-python",
   "name": "python",
   "nbconvert_exporter": "python",
   "pygments_lexer": "ipython3",
   "version": "3.9.12"
  },
  "orig_nbformat": 4,
  "vscode": {
   "interpreter": {
    "hash": "263930470851f494f0ed2879c35b57985588df20f9e529b86e97dd5eb9ddc466"
   }
  }
 },
 "nbformat": 4,
 "nbformat_minor": 2
}
