{
 "cells": [
  {
   "cell_type": "code",
   "execution_count": 7,
   "metadata": {},
   "outputs": [
    {
     "data": {
      "text/plain": [
       "bs4.element.ResultSet"
      ]
     },
     "execution_count": 7,
     "metadata": {},
     "output_type": "execute_result"
    }
   ],
   "source": [
    "# 1단계\n",
    "# 첫번째 질문의 제목, 링크, 날짜, 내용\n",
    "\n",
    "import requests\n",
    "from bs4 import BeautifulSoup\n",
    "\n",
    "response = requests.get(\"https://kin.naver.com/search/list.naver?query=%EB%B9%BC%EB%B9%BC%EB%A1%9C%EB%8D%B0%EC%9D%B4\")\n",
    "\n",
    "html = response.text\n",
    "soup = BeautifulSoup(html, 'html.parser') # 파싱\n",
    "anchor = soup.select(\"dt > a\") # 제목\n",
    "type(anchor) # list 타입 확인 가능 \n"
   ]
  },
  {
   "cell_type": "code",
   "execution_count": 8,
   "metadata": {},
   "outputs": [],
   "source": [
    "#._searchListTitleAnchor\n",
    "#dl > dd:nth-of-type(2)\n",
    "#.txt_inline+dd\n",
    "#dl>dd:nth-child(3\n",
    "#.txt_inline +dd\n",
    "#.basic1 > li"
   ]
  },
  {
   "cell_type": "code",
   "execution_count": 9,
   "metadata": {},
   "outputs": [
    {
     "name": "stdout",
     "output_type": "stream",
     "text": [
      "내일 빼빼로 데이인데 어떡해할까요?\n",
      "내일 빼빼로 데이인가요?\n",
      "빼빼로데이\n",
      "짝남 빼빼로데이\n",
      "빼빼로데이 고백 할까요?\n",
      "빼빼로 데이는 마케팅으로 생겨났나요?\n",
      "빼빼로데이 여친선물 추천좀 해주세요\n",
      "빼빼로데이\n",
      "급합니다 빼빼로 데이 남사친에게 편지\n",
      "빼빼로데이\n",
      "2022.11.10.\n",
      "2022.11.10.\n",
      "2022.11.08.\n",
      "2022.11.04.\n",
      "2022.11.11.\n",
      "2022.11.06.\n",
      "2022.10.19.\n",
      "2022.11.10.\n",
      "2022.11.10.\n",
      "2022.10.31.\n"
     ]
    }
   ],
   "source": [
    "dates = soup.select(\".txt_inline\") # 날짜\n",
    "anchors = soup.select(\"dt > a\")\n",
    "\n",
    "for anchor in anchors:\n",
    "    print(anchor.text)\n",
    "    \n",
    "for date in dates:\n",
    "    print(date.text)"
   ]
  },
  {
   "cell_type": "code",
   "execution_count": 10,
   "metadata": {},
   "outputs": [
    {
     "name": "stdout",
     "output_type": "stream",
     "text": [
      "내일 빼빼로 데이인데 어떡해할까요?\n",
      "내일 빼빼로 데이인가요?\n",
      "빼빼로데이\n",
      "짝남 빼빼로데이\n",
      "빼빼로데이 고백 할까요?\n",
      "빼빼로 데이는 마케팅으로 생겨났나요?\n",
      "빼빼로데이 여친선물 추천좀 해주세요\n",
      "빼빼로데이\n",
      "급합니다 빼빼로 데이 남사친에게 편지\n",
      "빼빼로데이\n"
     ]
    }
   ],
   "source": [
    "questions = soup.select(\".basic1 > li\") # 질문 10개 덩어리 가져오기\n",
    "for question in questions:\n",
    "    anchor = question.select_one(\"dt > a\")\n",
    "    title = anchor.text\n",
    "    print(title)"
   ]
  },
  {
   "cell_type": "code",
   "execution_count": 11,
   "metadata": {},
   "outputs": [
    {
     "name": "stdout",
     "output_type": "stream",
     "text": [
      "내일 빼빼로 데이인데 어떡해할까요? https://kin.naver.com/qna/detail.naver?d1id=20&dirId=2001&docId=432409634&qb=67m867m866Gc642w7J20&enc=utf8§ion=kin&rank=1&search_sort=0&spq=1 2022.11.10. ... 내일이 빼빼로데이인데 빼빼로를 줘야 되나요? 저는 주고는 싶은데 차였는데... 내일이 빼빼로 데이여서 빼빼로를 줘야 하는지 어떻게 해야하는지 고민이 되는 것 같아요.... \n",
      "내일 빼빼로 데이인가요? https://kin.naver.com/qna/detail.naver?d1id=8&dirId=814&docId=432391571&qb=67m867m866Gc642w7J20&enc=utf8§ion=kin&rank=2&search_sort=0&spq=1 2022.11.10. 내일 빼빼로 데이인가요? 그렇습니다. 빼빼로 데이는 대한민국의 독특한 기념일로 11월 11일에 초콜릿 과자인 빼빼로를 주고받는 기념일입니다. \n",
      "빼빼로데이 https://kin.naver.com/qna/detail.naver?d1id=6&dirId=60218&docId=432103740&qb=67m867m866Gc642w7J20&enc=utf8§ion=kin&rank=3&search_sort=0&spq=1 2022.11.08. 이제 얼마안있으면 빼빼로데이잖아욥..! 그래서 제가 저희학년수학 맡아주시는 분이랑 저희반 담임선생님 빼빼로 드리려고하는데 법적으로 무슨 김영란 법인가? 그것때문에... \n",
      "짝남 빼빼로데이 https://kin.naver.com/qna/detail.naver?d1id=8&dirId=8020208&docId=431934340&qb=67m867m866Gc642w7J20&enc=utf8§ion=kin&rank=4&search_sort=0&spq=1 2022.11.04. 제가 얼마전에 생긴 짝남에게 빼빼로 데이에 빼빼로를 주고... 짝남 빼빼로데이 관련 답변드려용!! 약간 부담은... 않으면 빼빼로데이니까 절대 부담 안될 거 같은데요!! 음... \n",
      "빼빼로데이 고백 할까요? https://kin.naver.com/qna/detail.naver?d1id=8&dirId=80101&docId=432425875&qb=67m867m866Gc642w7J20&enc=utf8§ion=kin&rank=5&search_sort=0&spq=1 2022.11.11. 빼빼로데이에 고백하고 싶은 사람이 있는데 한 두달 전에 자주 장난치는데 약간 어색한... 그런데 빼빼로데이가 당장 오늘이잖아요.. 어제 편지도 써 놓고 오늘 친구랑... \n",
      "빼빼로 데이는 마케팅으로 생겨났나요? https://kin.naver.com/qna/detail.naver?d1id=8&dirId=8020208&docId=431906562&qb=67m867m866Gc642w7J20&enc=utf8§ion=kin&rank=6&search_sort=0&spq=1 2022.11.06. 빼빼로 데이는 마케팅으로 생겨났나요? 1993년 계성여중이라고 하는 부산의 한 중학교에서 학생들끼리 하던 행사에서 시작하여 롯데제과가 발빠르게 조치한... \n",
      "빼빼로데이 여친선물 추천좀 해주세요 https://kin.naver.com/qna/detail.naver?d1id=8&dirId=8020208&docId=430852615&qb=67m867m866Gc642w7J20&enc=utf8§ion=kin&rank=7&search_sort=0&spq=1 2022.10.19. 마침 100일이 빼빼로 데이인데 여자친구 선물을 빼빼로랑 꽃 선물세트 있는데... 질문) 마침 100일이 빼빼로 데이인데 여자친구 선물을 빼빼로랑 꽃 선물세트 있는데... \n",
      "빼빼로데이 https://kin.naver.com/qna/detail.naver?d1id=8&dirId=8020208&docId=432382328&qb=67m867m866Gc642w7J20&enc=utf8§ion=kin&rank=8&search_sort=0&spq=1 2022.11.10. ... 내일 빼빼로데이니까 빼빼로를 드릴까 생각도 해봤는데..일단 선생님 나이가 40살이... 그리구 원래 빼빼로데이가 나라에서 정한날도 아니구 농업인의 날이잖아요??그래서... \n",
      "급합니다 빼빼로 데이 남사친에게 편지 https://kin.naver.com/qna/detail.naver?d1id=8&dirId=8020209&docId=432386594&qb=67m867m866Gc642w7J20&enc=utf8§ion=kin&rank=9&search_sort=0&spq=1 2022.11.10. ... 고백편지 아니구요 친한 남사친이 빼빼로 데이에 편지를 써달라는데 간단하게 쪽지만 써줄려고요 어떻게 써야할까요 제가 이성에게 쓰는 편지는 첨이라 구체적으로... \n",
      "빼빼로데이 https://kin.naver.com/qna/detail.naver?d1id=8&dirId=8020208&docId=431414363&qb=67m867m866Gc642w7J20&enc=utf8§ion=kin&rank=10&search_sort=0&spq=1 2022.10.31. 빼빼로데이에 빼빼로 40개이상 만들어야되는데 빼빼로 만들기키트 추천해주세욥! 빼빼로 막대과자를 40개정도 만들수 있는 키트가 있어서 정보 공유합니다~ 수제 초코... \n"
     ]
    }
   ],
   "source": [
    "for question in questions:\n",
    "    title = question.select_one(\"dt>a\").text\n",
    "    link = question.select_one(\"dt>a\")['href']\n",
    "    date = question.select_one(\".txt_inline\").text\n",
    "    content = question.select_one(\".txt_inline +dd\").text\n",
    "    \n",
    "    print(title, link, date, content)\n",
    "    "
   ]
  },
  {
   "cell_type": "code",
   "execution_count": 12,
   "metadata": {},
   "outputs": [
    {
     "name": "stdout",
     "output_type": "stream",
     "text": [
      "1 내일 빼빼로 데이인데 어떡해할까요? https://kin.naver.com/qna/detail.naver?d1id=20&dirId=2001&docId=432409634&qb=67m867m866Gc642w7J20&enc=utf8§ion=kin&rank=1&search_sort=0&spq=1 2022.11.10. ... 내일이 빼빼로데이인데 빼빼로를 줘야 되나요? 저는 주고는 싶은데 차였는데... 내일이 빼빼로 데이여서 빼빼로를 줘야 하는지 어떻게 해야하는지 고민이 되는 것 같아요.... \n",
      "2 내일 빼빼로 데이인가요? https://kin.naver.com/qna/detail.naver?d1id=8&dirId=814&docId=432391571&qb=67m867m866Gc642w7J20&enc=utf8§ion=kin&rank=2&search_sort=0&spq=1 2022.11.10. 내일 빼빼로 데이인가요? 그렇습니다. 빼빼로 데이는 대한민국의 독특한 기념일로 11월 11일에 초콜릿 과자인 빼빼로를 주고받는 기념일입니다. \n",
      "3 빼빼로데이 https://kin.naver.com/qna/detail.naver?d1id=6&dirId=60218&docId=432103740&qb=67m867m866Gc642w7J20&enc=utf8§ion=kin&rank=3&search_sort=0&spq=1 2022.11.08. 이제 얼마안있으면 빼빼로데이잖아욥..! 그래서 제가 저희학년수학 맡아주시는 분이랑 저희반 담임선생님 빼빼로 드리려고하는데 법적으로 무슨 김영란 법인가? 그것때문에... \n",
      "4 짝남 빼빼로데이 https://kin.naver.com/qna/detail.naver?d1id=8&dirId=8020208&docId=431934340&qb=67m867m866Gc642w7J20&enc=utf8§ion=kin&rank=4&search_sort=0&spq=1 2022.11.04. 제가 얼마전에 생긴 짝남에게 빼빼로 데이에 빼빼로를 주고... 짝남 빼빼로데이 관련 답변드려용!! 약간 부담은... 않으면 빼빼로데이니까 절대 부담 안될 거 같은데요!! 음... \n",
      "5 빼빼로데이 고백 할까요? https://kin.naver.com/qna/detail.naver?d1id=8&dirId=80101&docId=432425875&qb=67m867m866Gc642w7J20&enc=utf8§ion=kin&rank=5&search_sort=0&spq=1 2022.11.11. 빼빼로데이에 고백하고 싶은 사람이 있는데 한 두달 전에 자주 장난치는데 약간 어색한... 그런데 빼빼로데이가 당장 오늘이잖아요.. 어제 편지도 써 놓고 오늘 친구랑... \n",
      "6 빼빼로 데이는 마케팅으로 생겨났나요? https://kin.naver.com/qna/detail.naver?d1id=8&dirId=8020208&docId=431906562&qb=67m867m866Gc642w7J20&enc=utf8§ion=kin&rank=6&search_sort=0&spq=1 2022.11.06. 빼빼로 데이는 마케팅으로 생겨났나요? 1993년 계성여중이라고 하는 부산의 한 중학교에서 학생들끼리 하던 행사에서 시작하여 롯데제과가 발빠르게 조치한... \n",
      "7 빼빼로데이 여친선물 추천좀 해주세요 https://kin.naver.com/qna/detail.naver?d1id=8&dirId=8020208&docId=430852615&qb=67m867m866Gc642w7J20&enc=utf8§ion=kin&rank=7&search_sort=0&spq=1 2022.10.19. 마침 100일이 빼빼로 데이인데 여자친구 선물을 빼빼로랑 꽃 선물세트 있는데... 질문) 마침 100일이 빼빼로 데이인데 여자친구 선물을 빼빼로랑 꽃 선물세트 있는데... \n",
      "8 빼빼로데이 https://kin.naver.com/qna/detail.naver?d1id=8&dirId=8020208&docId=432382328&qb=67m867m866Gc642w7J20&enc=utf8§ion=kin&rank=8&search_sort=0&spq=1 2022.11.10. ... 내일 빼빼로데이니까 빼빼로를 드릴까 생각도 해봤는데..일단 선생님 나이가 40살이... 그리구 원래 빼빼로데이가 나라에서 정한날도 아니구 농업인의 날이잖아요??그래서... \n",
      "9 급합니다 빼빼로 데이 남사친에게 편지 https://kin.naver.com/qna/detail.naver?d1id=8&dirId=8020209&docId=432386594&qb=67m867m866Gc642w7J20&enc=utf8§ion=kin&rank=9&search_sort=0&spq=1 2022.11.10. ... 고백편지 아니구요 친한 남사친이 빼빼로 데이에 편지를 써달라는데 간단하게 쪽지만 써줄려고요 어떻게 써야할까요 제가 이성에게 쓰는 편지는 첨이라 구체적으로... \n",
      "10 빼빼로데이 https://kin.naver.com/qna/detail.naver?d1id=8&dirId=8020208&docId=431414363&qb=67m867m866Gc642w7J20&enc=utf8§ion=kin&rank=10&search_sort=0&spq=1 2022.10.31. 빼빼로데이에 빼빼로 40개이상 만들어야되는데 빼빼로 만들기키트 추천해주세욥! 빼빼로 막대과자를 40개정도 만들수 있는 키트가 있어서 정보 공유합니다~ 수제 초코... \n"
     ]
    }
   ],
   "source": [
    "\n",
    "for i, question in enumerate(questions, 1):\n",
    "    anchor = question.select_one(\"dt > a\")\n",
    "    title = anchor.text\n",
    "    link = anchor['href']\n",
    "    date = question.select_one(\".txt_inline\").text\n",
    "    content = question.select_one(\".txt_inline +dd\").text\n",
    "    \n",
    "    print(i, title, link, date, content, end='\\n')\n"
   ]
  },
  {
   "cell_type": "code",
   "execution_count": 13,
   "metadata": {},
   "outputs": [
    {
     "name": "stdout",
     "output_type": "stream",
     "text": [
      "3 내일 빼빼로 데이인데 어떡해할까요? https://kin.naver.com/qna/detail.naver?d1id=20&dirId=2001&docId=432409634&qb=67m867m866Gc642w7J20&enc=utf8§ion=kin&rank=1&search_sort=0&spq=1 2022.11.10. ... 내일이 빼빼로데이인데 빼빼로를 줘야 되나요? 저는 주고는 싶은데 차였는데... 내일이 빼빼로 데이여서 빼빼로를 줘야 하는지 어떻게 해야하는지 고민이 되는 것 같아요.... \n",
      "4 내일 빼빼로 데이인가요? https://kin.naver.com/qna/detail.naver?d1id=8&dirId=814&docId=432391571&qb=67m867m866Gc642w7J20&enc=utf8§ion=kin&rank=2&search_sort=0&spq=1 2022.11.10. 내일 빼빼로 데이인가요? 그렇습니다. 빼빼로 데이는 대한민국의 독특한 기념일로 11월 11일에 초콜릿 과자인 빼빼로를 주고받는 기념일입니다. \n",
      "5 빼빼로데이 https://kin.naver.com/qna/detail.naver?d1id=6&dirId=60218&docId=432103740&qb=67m867m866Gc642w7J20&enc=utf8§ion=kin&rank=3&search_sort=0&spq=1 2022.11.08. 이제 얼마안있으면 빼빼로데이잖아욥..! 그래서 제가 저희학년수학 맡아주시는 분이랑 저희반 담임선생님 빼빼로 드리려고하는데 법적으로 무슨 김영란 법인가? 그것때문에... \n",
      "6 짝남 빼빼로데이 https://kin.naver.com/qna/detail.naver?d1id=8&dirId=8020208&docId=431934340&qb=67m867m866Gc642w7J20&enc=utf8§ion=kin&rank=4&search_sort=0&spq=1 2022.11.04. 제가 얼마전에 생긴 짝남에게 빼빼로 데이에 빼빼로를 주고... 짝남 빼빼로데이 관련 답변드려용!! 약간 부담은... 않으면 빼빼로데이니까 절대 부담 안될 거 같은데요!! 음... \n",
      "7 빼빼로데이 고백 할까요? https://kin.naver.com/qna/detail.naver?d1id=8&dirId=80101&docId=432425875&qb=67m867m866Gc642w7J20&enc=utf8§ion=kin&rank=5&search_sort=0&spq=1 2022.11.11. 빼빼로데이에 고백하고 싶은 사람이 있는데 한 두달 전에 자주 장난치는데 약간 어색한... 그런데 빼빼로데이가 당장 오늘이잖아요.. 어제 편지도 써 놓고 오늘 친구랑... \n",
      "8 빼빼로 데이는 마케팅으로 생겨났나요? https://kin.naver.com/qna/detail.naver?d1id=8&dirId=8020208&docId=431906562&qb=67m867m866Gc642w7J20&enc=utf8§ion=kin&rank=6&search_sort=0&spq=1 2022.11.06. 빼빼로 데이는 마케팅으로 생겨났나요? 1993년 계성여중이라고 하는 부산의 한 중학교에서 학생들끼리 하던 행사에서 시작하여 롯데제과가 발빠르게 조치한... \n",
      "9 빼빼로데이 여친선물 추천좀 해주세요 https://kin.naver.com/qna/detail.naver?d1id=8&dirId=8020208&docId=430852615&qb=67m867m866Gc642w7J20&enc=utf8§ion=kin&rank=7&search_sort=0&spq=1 2022.10.19. 마침 100일이 빼빼로 데이인데 여자친구 선물을 빼빼로랑 꽃 선물세트 있는데... 질문) 마침 100일이 빼빼로 데이인데 여자친구 선물을 빼빼로랑 꽃 선물세트 있는데... \n",
      "10 빼빼로데이 https://kin.naver.com/qna/detail.naver?d1id=8&dirId=8020208&docId=432382328&qb=67m867m866Gc642w7J20&enc=utf8§ion=kin&rank=8&search_sort=0&spq=1 2022.11.10. ... 내일 빼빼로데이니까 빼빼로를 드릴까 생각도 해봤는데..일단 선생님 나이가 40살이... 그리구 원래 빼빼로데이가 나라에서 정한날도 아니구 농업인의 날이잖아요??그래서... \n",
      "11 급합니다 빼빼로 데이 남사친에게 편지 https://kin.naver.com/qna/detail.naver?d1id=8&dirId=8020209&docId=432386594&qb=67m867m866Gc642w7J20&enc=utf8§ion=kin&rank=9&search_sort=0&spq=1 2022.11.10. ... 고백편지 아니구요 친한 남사친이 빼빼로 데이에 편지를 써달라는데 간단하게 쪽지만 써줄려고요 어떻게 써야할까요 제가 이성에게 쓰는 편지는 첨이라 구체적으로... \n",
      "12 빼빼로데이 https://kin.naver.com/qna/detail.naver?d1id=8&dirId=8020208&docId=431414363&qb=67m867m866Gc642w7J20&enc=utf8§ion=kin&rank=10&search_sort=0&spq=1 2022.10.31. 빼빼로데이에 빼빼로 40개이상 만들어야되는데 빼빼로 만들기키트 추천해주세욥! 빼빼로 막대과자를 40개정도 만들수 있는 키트가 있어서 정보 공유합니다~ 수제 초코... \n"
     ]
    }
   ],
   "source": [
    "\n",
    "for i, question in enumerate(questions, 3):\n",
    "    questions = soup.select(\".basic1 > li\")\n",
    "    response = requests.get(\"https://kin.naver.com/search/list.naver?query=%EB%B9%BC%EB%B9%BC%EB%A1%9C%EB%8D%B0%EC%9D%B4\")\n",
    "    html = response.text\n",
    "    soup = BeautifulSoup(html, 'html.parser') # 파싱\n",
    "    anchor = soup.select(\"dt > a\") # 제목\n",
    "    .s_paging\n",
    "\n",
    "\n",
    "\n",
    "    anchor = question.select_one(\"dt > a\")\n",
    "    title = anchor.text\n",
    "    link = anchor['href']\n",
    "    date = question.select_one(\".txt_inline\").text\n",
    "    content = question.select_one(\".txt_inline +dd\").text\n",
    "    \n",
    "    print(i, title, link, date, content, end='\\n')\n",
    "\n"
   ]
  },
  {
   "cell_type": "code",
   "execution_count": 1,
   "metadata": {},
   "outputs": [
    {
     "name": "stdout",
     "output_type": "stream",
     "text": [
      "1번째 페이지 크롤링중\n",
      "1 쵸비 롤 아이콘 https://kin.naver.com/qna/detail.naver?d1id=2&dirId=20132&docId=428547507&qb=7LW467mE&enc=utf8§ion=kin&rank=1&search_sort=0&spq=0 2022.09.18. 쵸비 롤 아이콘 이거 아이콘 이름은 뭐고 어떻게 해야 얻을 수 있나용….  2019년도에 이벤트 임무 보상이었습니다. 지금은 획득할 수 없습니다.\n",
      "2 쵸비 키보드 알려주세요(내공 50) https://kin.naver.com/qna/detail.naver?d1id=1&dirId=1010402&docId=424860450&qb=7LW467mE&enc=utf8§ion=kin&rank=2&search_sort=0&spq=0 2022.07.29. 어제보니 블랙위도우에서 바뀐거 같은데 이거 사진보고 알려주실붕 ㅠㅠㅠ 안녕하세요. 하단 배열 ALT, FN, CTRL키 모양이 다른 변태 배열에 전체적인 화이트... \n",
      "3 쵸비선수님 안경쓴 사진 있을까요 https://kin.naver.com/qna/detail.naver?d1id=2&dirId=20132&docId=431231406&qb=7LW467mE&enc=utf8§ion=kin&rank=3&search_sort=0&spq=0 2022.10.24. 쵸비선수님 안경쓴 사진 있을까요  .\n",
      "4 페이커vs쵸비 https://kin.naver.com/qna/detail.naver?d1id=2&dirId=20132&docId=382310306&qb=7LW467mE&enc=utf8§ion=kin&rank=4&search_sort=0&spq=0 2022.05.22. 쵸비가 더 잘하지 않나요?  지표보시면 아시다시피 쵸비가 더 잘합니다. 페이커 솔킬 6번따이고 쵸비는 0번 따임.\n",
      "5 쵸비 TMI https://kin.naver.com/qna/detail.naver?d1id=8&dirId=814&docId=427592313&qb=7LW467mE&enc=utf8§ion=kin&rank=5&search_sort=0&spq=0 2022.09.04. 쵸비 좀 중요한 TMI 같은 거 '많이' 알려주세요 내공 150드림 https://youtu.be/5Natb5sWVCE \n",
      "6 길 가다가 젠지 쵸비를 만나고싶어요. https://kin.naver.com/qna/detail.naver?d1id=2&dirId=20132&docId=431021875&qb=7LW467mE&enc=utf8§ion=kin&rank=6&search_sort=0&spq=0 2022.10.22. 제목 그대로 길 가다가 젠지 쵸비를 만나고싶은데 어디로 가아할까요? 발견하면 그대로 앞비전 박고 제 번호 드리고 연락하고싶은데... 쵸비님 진짜 팬이에요... \n",
      "7 쵸비는 LPL이나 다른리그갔으면 좋겠네요. https://kin.naver.com/qna/detail.naver?d1id=2&dirId=20132&docId=403813827&qb=7LW467mE&enc=utf8§ion=kin&rank=7&search_sort=0&spq=0 2021.10.29. 쵸비는 한화에서 혼자만의 캐리력이 너무 높아서 다른... 묻히는 느낌이라 쵸비는 LPL이나 다른해외리그팀가서 했으면 좋겠네요. 쵸비는 잘하는데 항상 팀이 아쉬웠죠.. \n",
      "8 루키랑 비디디,쵸비 중에 누가 더 잘하나요 https://kin.naver.com/qna/detail.naver?d1id=2&dirId=20132&docId=354994604&qb=7LW467mE&enc=utf8§ion=kin&rank=8&search_sort=0&spq=0 2020.05.01. 현폼기준으로 현lck 최상위 미드인 쵸비,비디디랑... 안정적이지요...쵸비도 루키급으로 슈퍼플레이를 많이... 1.쵸비는 모든경기에 뛰어난 영향력을 행사하죠 칼리스타로... \n",
      "9 롤 쵸비,도란 https://kin.naver.com/qna/detail.naver?d1id=2&dirId=20132&docId=367801009&qb=7LW467mE&enc=utf8§ion=kin&rank=9&search_sort=0&spq=0 2020.10.03. 롤 쵸비 도란은 중1,2 3학년때 티어가 어디였나요?  쵸비 중학교 동창인데 ㅋㅋ 중2때 챌린져 찍은적 있어요 학교 난리났었는데 ㅋㅋ\n",
      "10 평소에 쵸비 선수 딞았다는 소리.... https://kin.naver.com/qna/detail.naver?d1id=8&dirId=80101&docId=427575193&qb=7LW467mE&enc=utf8§ion=kin&rank=10&search_sort=0&spq=0 2022.09.04. 제가 LCK를 안보는데요 평소에 쵸비 선수 딞았다는 소리를 자주 듣는데 그래도 좀 잘생겼다는 칭찬인건가요?.. 네 잘생긴거 맞습니다! \n",
      "2번째 페이지 크롤링중\n",
      "1 쵸비 전적 https://kin.naver.com/qna/detail.naver?d1id=2&dirId=20132&docId=429297135&qb=7LW467mE&enc=utf8§ion=kin&rank=11&search_sort=0&spq=0 2022.09.28. 쵸비님 최근 전적보면 미드말고 다른라인이 좀 많던데 왜그런가요? 단순히 라인이 꼬인건가요  라인이 좀 꼬인것 같아요\n",
      "2 쵸비가 우승한 적이 몇 번 있나요? https://kin.naver.com/qna/detail.naver?d1id=2&dirId=20132&docId=427097544&qb=7LW467mE&enc=utf8§ion=kin&rank=12&search_sort=0&spq=0 2022.08.28. 쵸비가 우승한 적이 몇 번 있나요? 없습니다.이번에 우승하면 성불할수도...? \n",
      "3 롤 쵸비 선수가 쓰는 아리 크로마 뭔가요? https://kin.naver.com/qna/detail.naver?d1id=2&dirId=20132&docId=427545439&qb=7LW467mE&enc=utf8§ion=kin&rank=13&search_sort=0&spq=0 2022.09.06. ... 위주였던거같아요ㅠ 유튜브에 크로마 영상 찾아봐도 비슷한 크로마가 없던데 무슨 스킨일까요ㅠㅠ 기억나는건 쵸비,클로저 선수가 썼던 거 같아요 영혼의꽃 아리 스킨... \n",
      "4 쵸비 중요한 일화 https://kin.naver.com/qna/detail.naver?d1id=2&dirId=20129&docId=371163284&qb=7LW467mE&enc=utf8§ion=kin&rank=14&search_sort=0&spq=0 2020.10.29. 쵸비 중요한 일화 없나요 ? 내공 100드림  그거는 말이야..... 그고는 말이징.... 쵸비가 둘리말투에 빠진거란 말이징...... 그게 머냐면 말이야..... 바로 이러게 말하는 거란... \n",
      "5 쵸비 생방송 https://kin.naver.com/qna/detail.naver?d1id=2&dirId=20132&docId=409357757&qb=7LW467mE&enc=utf8§ion=kin&rank=15&search_sort=0&spq=0 2022.01.11. 쵸비 어디서 방송 하고 이름 뭔지 알려주세요 중국 방송플랫폼 도유티비에서 봅니다 https://www.douyu.com/5306305 \n",
      "6 쵸비는 왜 우승을 못하나요? https://kin.naver.com/qna/detail.naver?d1id=2&dirId=20132&docId=361002147&qb=7LW467mE&enc=utf8§ion=kin&rank=16&search_sort=0&spq=0 2020.06.28. 쵸비는 그리핀에서도 DRX에서도 왜 우승을 못할까요? 엄청 잘하는 미드라이너인데 그... 팁합도 중요하고 쵸비 본인만 잘해서 문제가아니라 뭐 다른라인등.. 기타... \n",
      "7 쵸비선수에 관련된 롤 닉네임...  https://kin.naver.com/qna/detail.naver?d1id=2&dirId=20132&docId=395357463&qb=7LW467mE&enc=utf8§ion=kin&rank=17&search_sort=0&spq=0 2021.07.24. 제가 롤 프로게이머 쵸비 선수 팬인데 쵸비선수에 관한거 닉네임 추천해주세요 왠만하면 쵸비가 들어가게 추천 부탁드립니다 쵸비쥬니어3세 \n",
      "8 쵸비선수 감도랑 마우스패드좀 알려주세요 https://kin.naver.com/qna/detail.naver?d1id=2&dirId=20132&docId=393224225&qb=7LW467mE&enc=utf8§ion=kin&rank=18&search_sort=0&spq=0 2021.06.28. 쵸비선수 마우스패드랑 dpi랑 인겜 감도좀 알려주세요  쵸비 마우스 감도 따라한다고 쵸비급 피지컬이 되는게 아닙니다 FPS같은 경우는 마우스 감도 따라해서 아 이렇게... \n",
      "9 쵸비 롤 닉네임 https://kin.naver.com/qna/detail.naver?d1id=2&dirId=20132&docId=408837157&qb=7LW467mE&enc=utf8§ion=kin&rank=19&search_sort=0&spq=0 2022.01.04. 쵸비 선수의 롤 닉네임 cc3cc가 무슨 뜻인가요 쵸비선수 전 닉네임들이 1.... shrimp shark 3.자장면잠봉당수육이었는데 쵸비선수는 그냥 비슷한 단어 겹치는걸 좋아합니다 \n",
      "10 리그오브레전드 쵸비 vs 쇼메이커 누가...  https://kin.naver.com/qna/detail.naver?d1id=2&dirId=20132&docId=393483120&qb=7LW467mE&enc=utf8§ion=kin&rank=20&search_sort=0&spq=0 2021.07.01. 리그오브레전드 쵸비 vs 쇼메이커 누가 젤 잘하나요?  누가 더 잘한다 딱잘라 말 할수없어요 쵸비 지금 폼이 별로 좋지않은데 폼 좋은 쵸비가 작년 롤드컵때 담원에 쇼메대신... \n",
      "3번째 페이지 크롤링중\n",
      "1 롤 쵸비 닉네임 https://kin.naver.com/qna/detail.naver?d1id=2&dirId=20132&docId=416350158&qb=7LW467mE&enc=utf8§ion=kin&rank=21&search_sort=0&spq=0 2022.04.03. 쵸비 닉네임이 지금 enlrh인데 무슨 뜻이죠 아무뜻이 없는겅가여 enlrh 번역해도 아무뜻도 안나오고 한글로 치면 ㄷㅜㅑㄱㅗ 이렇게 나오는거로 보니 아무뜻이... \n",
      "2 쵸비 포켓몬 https://kin.naver.com/qna/detail.naver?d1id=2&dirId=20413&docId=391180378&qb=7LW467mE&enc=utf8§ion=kin&rank=22&search_sort=0&spq=0 2021.06.01. 롤 프로 쵸비를 닮은 포켓몬 이름이 뭐였는지 기억이 나지 않습니다ㅠㅠ... 쵸비는 ^ㅠ^ 이렇게 생겼습니다! 에나비..? \n",
      "3 drx쵸비선수헤드셋 https://kin.naver.com/qna/detail.naver?d1id=1&dirId=10905&docId=350450346&qb=7LW467mE&enc=utf8§ion=kin&rank=23&search_sort=0&spq=0 2020.03.20. drx쵸비선수 유튜브솔랭방송에나온 무선헤드셋정보아시는분계신가요 제가 게이밍헤드셋 랭킹을 15위까지 볼 수 있는 사이트 첨부할테니 참고하시면... \n",
      "4 리그오브레전드 페이커 쇼메이커 쵸비...  https://kin.naver.com/qna/detail.naver?d1id=2&dirId=20132&docId=391174311&qb=7LW467mE&enc=utf8§ion=kin&rank=24&search_sort=0&spq=0 2021.06.01. ... 쇼메이커 쵸비 bdd 트할 중에서 누가 제일 잘하는지 LCK 관련해서 말해주세요~ 이유필수! 1티어 선수 : 쇼메, 쵸비... <쵸비> - 이 선수는 확실히 미치긴 했습니다. 팀이... \n",
      "5 쵸비도 도란검 올리는 이유가 뭐죠 https://kin.naver.com/qna/detail.naver?d1id=2&dirId=20132&docId=384922989&qb=7LW467mE&enc=utf8§ion=kin&rank=25&search_sort=0&spq=0 2021.03.19. ... 1코어도 빨리나옴(롱소드재료) 도대체 도란검 가는 이유가 뭔가요 쵸비도 가길래 궁금하네요 초반에 더 좋으니까 도란검으로 가는겁니다. 도란검: 공격력8/체력80/2.5%피흡... \n",
      "6 페이커 쇼메이커 쵸비 중에서 누가 젤...  https://kin.naver.com/qna/detail.naver?d1id=2&dirId=20132&docId=391026711&qb=7LW467mE&enc=utf8§ion=kin&rank=26&search_sort=0&spq=0 2021.05.30. 페이커 쇼메이커 쵸비 중에서 누가 젤 잘하나요?? 이유 설명 필수 !!!  다 잘하는데 순수 피지컬로는 쵸비 챔프폭과... 이용하는 페이커 솔직히 1대1로 치면 쵸비가 우세할듯?\n",
      "7 님들 페이커 vs 쵸비 vs 도인비...  https://kin.naver.com/qna/detail.naver?d1id=13&dirId=130303&docId=389708370&qb=7LW467mE&enc=utf8§ion=kin&rank=27&search_sort=0&spq=0 2021.05.17. 님들 페이커 vs 쵸비 vs 도인비 여기중에서 누가 젤 잘함??  저는 개인적으로 쵸비라고 생각하는데요.. 도인비나 페이커선수도 잘하시지만 쵸비선수의 피지컬이나 뇌지컬은... \n",
      "8 쇼메vs쵸비.인지도 https://kin.naver.com/qna/detail.naver?d1id=8&dirId=8030204&docId=415272067&qb=7LW467mE&enc=utf8§ion=kin&rank=28&search_sort=0&spq=0 2022.03.23. 실력은 지금은 쵸비가 약우위인거같고 작년이나 재작년엔 동급이나 쇼메 약우위라... 먼저알고 쵸비를 좀 많이 나중에 알아서요..  굳이 따지자면 쇼메이지 않을까 싶습니다.... \n",
      "9 리그오브레전드 쇼메 vs 쪼말 vs 쵸비 vs...  https://kin.naver.com/qna/detail.naver?d1id=2&dirId=20132&docId=398431538&qb=7LW467mE&enc=utf8§ion=kin&rank=29&search_sort=0&spq=0 2021.08.27. 리그오브레전드 쇼메 vs 쪼말 vs 쵸비 vs 페이커 중에서 누가 제일 잘하나요? 1분만  종합 페이커 센스 쇼메이커 피지컬 쵸비 뇌지컬 쪼말\n",
      "10 쵸비vs 해리 케인 누가더 잘하나요? https://kin.naver.com/qna/detail.naver?d1id=10&dirId=100408&docId=404885543&qb=7LW467mE&enc=utf8§ion=kin&rank=30&search_sort=0&spq=0 2021.11.12. 쵸비vs 해리 케인 누가더 잘하나요? 장르 상관없이 허리 케인 이요 \n"
     ]
    }
   ],
   "source": [
    "import requests\n",
    "from bs4 import BeautifulSoup\n",
    "\n",
    "keyword = input(\"검색어를 입력하세요: \")\n",
    "page = int(input(\"페이지 입력하세요: \"))\n",
    "\n",
    "for i in range(1, page + 1):\n",
    "    print(f\"{i}번째 페이지 크롤링중\")\n",
    "    response = requests.get(f\"https://kin.naver.com/search/list.naver?query={keyword}&page={i}\")\n",
    "    html = response.text\n",
    "    soup = BeautifulSoup(html, 'html.parser')\n",
    "    questions = soup.select(\".basic1 > li\")\n",
    "    \n",
    "    for i, question in enumerate(questions, 1):\n",
    "        anchor = question.select_one(\"dt > a\")\n",
    "        title = anchor.text\n",
    "        link = anchor['href']\n",
    "        date = question.select_one(\".txt_inline\").text\n",
    "        content = question.select_one(\".txt_inline +dd\").text\n",
    "        \n",
    "        print(i, title, link, date, content, end='\\n')\n",
    "    \n",
    "    "
   ]
  },
  {
   "cell_type": "code",
   "execution_count": null,
   "metadata": {},
   "outputs": [],
   "source": []
  }
 ],
 "metadata": {
  "kernelspec": {
   "display_name": "Python 3.9.12 ('base')",
   "language": "python",
   "name": "python3"
  },
  "language_info": {
   "codemirror_mode": {
    "name": "ipython",
    "version": 3
   },
   "file_extension": ".py",
   "mimetype": "text/x-python",
   "name": "python",
   "nbconvert_exporter": "python",
   "pygments_lexer": "ipython3",
   "version": "3.9.12"
  },
  "orig_nbformat": 4,
  "vscode": {
   "interpreter": {
    "hash": "263930470851f494f0ed2879c35b57985588df20f9e529b86e97dd5eb9ddc466"
   }
  }
 },
 "nbformat": 4,
 "nbformat_minor": 2
}
