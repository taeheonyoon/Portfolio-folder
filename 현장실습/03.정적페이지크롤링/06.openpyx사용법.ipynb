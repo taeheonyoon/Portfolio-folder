{
 "cells": [
  {
   "cell_type": "code",
   "execution_count": 1,
   "metadata": {},
   "outputs": [
    {
     "data": {
      "text/plain": [
       "<openpyxl.workbook.workbook.Workbook at 0x196a164aa60>"
      ]
     },
     "execution_count": 1,
     "metadata": {},
     "output_type": "execute_result"
    }
   ],
   "source": [
    "import openpyxl\n",
    "\n",
    "#1.엑셀 파일 생성\n",
    "wb = openpyxl.Workbook()\n",
    "wb #엑셀을 다루는 객체"
   ]
  },
  {
   "cell_type": "code",
   "execution_count": 2,
   "metadata": {},
   "outputs": [
    {
     "data": {
      "text/plain": [
       "<Worksheet \"월드컵\">"
      ]
     },
     "execution_count": 2,
     "metadata": {},
     "output_type": "execute_result"
    }
   ],
   "source": [
    "#2.워크 시트 생성\n",
    "ws = wb.create_sheet(\"월드컵\") #빈 워크 시트 생성 #ws 도 객체\n",
    "ws"
   ]
  },
  {
   "cell_type": "code",
   "execution_count": 8,
   "metadata": {},
   "outputs": [],
   "source": [
    "#3. 데이터 추가\n",
    "ws['A1'] = '선수번호'\n",
    "ws['B1'] = '선수이름'\n",
    "\n",
    "ws['A2'] = '7'\n",
    "ws['B2'] = '손흥민'\n",
    "\n"
   ]
  },
  {
   "cell_type": "code",
   "execution_count": 10,
   "metadata": {},
   "outputs": [],
   "source": [
    "#4.한 행 추가\n",
    "ws.append(['11','황희찬'])"
   ]
  },
  {
   "cell_type": "code",
   "execution_count": 11,
   "metadata": {},
   "outputs": [],
   "source": [
    "#엑셀 저장\n",
    "wb.save(\"월드컵.xlsx\")"
   ]
  },
  {
   "cell_type": "code",
   "execution_count": 12,
   "metadata": {},
   "outputs": [
    {
     "name": "stdout",
     "output_type": "stream",
     "text": [
      "1번째 페이지 크롤링중\n",
      "2번째 페이지 크롤링중\n",
      "3번째 페이지 크롤링중\n"
     ]
    }
   ],
   "source": [
    "import openpyxl\n",
    "import requests\n",
    "from bs4 import BeautifulSoup\n",
    "\n",
    "keyword = input(\"검색어를 입력하세요: \")\n",
    "page = int(input(\"페이지 입력하세요: \"))\n",
    "\n",
    "wb = openpyxl.Workbook()\n",
    "\n",
    "for i in range(1, page + 1):\n",
    "    print(f\"{i}번째 페이지 크롤링중\")\n",
    "    response = requests.get(f\"https://kin.naver.com/search/list.naver?query={keyword}&page={i}\")\n",
    "    html = response.text\n",
    "    soup = BeautifulSoup(html, 'html.parser')\n",
    "    questions = soup.select(\".basic1 > li\")\n",
    "    \n",
    "    for i, question in enumerate(questions, 1):\n",
    "        anchor = question.select_one(\"dt > a\")\n",
    "        title = anchor.text\n",
    "        link = anchor['href']\n",
    "        date = question.select_one(\".txt_inline\").text\n",
    "        content = question.select_one(\".txt_inline +dd\").text\n",
    "        \n",
    "        ws = wb.create_sheet(\"롤드컵\")\n",
    "        ws.append([title, link, date, content])\n",
    "        \n",
    "        "
   ]
  },
  {
   "cell_type": "code",
   "execution_count": 13,
   "metadata": {},
   "outputs": [],
   "source": [
    "wb.save(\"롤드컵.xlsx\")"
   ]
  },
  {
   "cell_type": "code",
   "execution_count": null,
   "metadata": {},
   "outputs": [],
   "source": []
  }
 ],
 "metadata": {
  "kernelspec": {
   "display_name": "Python 3.9.12 ('base')",
   "language": "python",
   "name": "python3"
  },
  "language_info": {
   "codemirror_mode": {
    "name": "ipython",
    "version": 3
   },
   "file_extension": ".py",
   "mimetype": "text/x-python",
   "name": "python",
   "nbconvert_exporter": "python",
   "pygments_lexer": "ipython3",
   "version": "3.9.12"
  },
  "orig_nbformat": 4,
  "vscode": {
   "interpreter": {
    "hash": "263930470851f494f0ed2879c35b57985588df20f9e529b86e97dd5eb9ddc466"
   }
  }
 },
 "nbformat": 4,
 "nbformat_minor": 2
}
