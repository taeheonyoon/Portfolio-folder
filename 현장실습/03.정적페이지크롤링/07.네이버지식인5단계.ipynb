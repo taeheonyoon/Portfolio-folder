{
 "cells": [
  {
   "cell_type": "code",
   "execution_count": 7,
   "metadata": {},
   "outputs": [
    {
     "data": {
      "text/plain": [
       "bs4.element.ResultSet"
      ]
     },
     "execution_count": 7,
     "metadata": {},
     "output_type": "execute_result"
    }
   ],
   "source": [
    "# 1단계\n",
    "# 첫번째 질문의 제목, 링크, 날짜, 내용\n",
    "\n",
    "import requests\n",
    "from bs4 import BeautifulSoup\n",
    "\n",
    "response = requests.get(\"https://kin.naver.com/search/list.naver?query=%EB%B9%BC%EB%B9%BC%EB%A1%9C%EB%8D%B0%EC%9D%B4\")\n",
    "\n",
    "html = response.text\n",
    "soup = BeautifulSoup(html, 'html.parser') # 파싱\n",
    "anchor = soup.select(\"dt > a\") # 제목\n",
    "type(anchor) # list 타입 확인 가능 \n"
   ]
  },
  {
   "cell_type": "code",
   "execution_count": 8,
   "metadata": {},
   "outputs": [],
   "source": [
    "#._searchListTitleAnchor\n",
    "#dl > dd:nth-of-type(2)\n",
    "#.txt_inline+dd\n",
    "#dl>dd:nth-child(3\n",
    "#.txt_inline +dd\n",
    "#.basic1 > li"
   ]
  },
  {
   "cell_type": "code",
   "execution_count": 9,
   "metadata": {},
   "outputs": [
    {
     "name": "stdout",
     "output_type": "stream",
     "text": [
      "내일 빼빼로 데이인데 어떡해할까요?\n",
      "내일 빼빼로 데이인가요?\n",
      "빼빼로데이\n",
      "짝남 빼빼로데이\n",
      "빼빼로데이 고백 할까요?\n",
      "빼빼로 데이는 마케팅으로 생겨났나요?\n",
      "빼빼로데이 여친선물 추천좀 해주세요\n",
      "빼빼로데이\n",
      "급합니다 빼빼로 데이 남사친에게 편지\n",
      "빼빼로데이\n",
      "2022.11.10.\n",
      "2022.11.10.\n",
      "2022.11.08.\n",
      "2022.11.04.\n",
      "2022.11.11.\n",
      "2022.11.06.\n",
      "2022.10.19.\n",
      "2022.11.10.\n",
      "2022.11.10.\n",
      "2022.10.31.\n"
     ]
    }
   ],
   "source": [
    "dates = soup.select(\".txt_inline\") # 날짜\n",
    "anchors = soup.select(\"dt > a\")\n",
    "\n",
    "for anchor in anchors:\n",
    "    print(anchor.text)\n",
    "    \n",
    "for date in dates:\n",
    "    print(date.text)"
   ]
  },
  {
   "cell_type": "code",
   "execution_count": 10,
   "metadata": {},
   "outputs": [
    {
     "name": "stdout",
     "output_type": "stream",
     "text": [
      "내일 빼빼로 데이인데 어떡해할까요?\n",
      "내일 빼빼로 데이인가요?\n",
      "빼빼로데이\n",
      "짝남 빼빼로데이\n",
      "빼빼로데이 고백 할까요?\n",
      "빼빼로 데이는 마케팅으로 생겨났나요?\n",
      "빼빼로데이 여친선물 추천좀 해주세요\n",
      "빼빼로데이\n",
      "급합니다 빼빼로 데이 남사친에게 편지\n",
      "빼빼로데이\n"
     ]
    }
   ],
   "source": [
    "questions = soup.select(\".basic1 > li\") # 질문 10개 덩어리 가져오기\n",
    "for question in questions:\n",
    "    anchor = question.select_one(\"dt > a\")\n",
    "    title = anchor.text\n",
    "    print(title)"
   ]
  },
  {
   "cell_type": "code",
   "execution_count": 11,
   "metadata": {},
   "outputs": [
    {
     "name": "stdout",
     "output_type": "stream",
     "text": [
      "내일 빼빼로 데이인데 어떡해할까요? https://kin.naver.com/qna/detail.naver?d1id=20&dirId=2001&docId=432409634&qb=67m867m866Gc642w7J20&enc=utf8§ion=kin&rank=1&search_sort=0&spq=1 2022.11.10. ... 내일이 빼빼로데이인데 빼빼로를 줘야 되나요? 저는 주고는 싶은데 차였는데... 내일이 빼빼로 데이여서 빼빼로를 줘야 하는지 어떻게 해야하는지 고민이 되는 것 같아요.... \n",
      "내일 빼빼로 데이인가요? https://kin.naver.com/qna/detail.naver?d1id=8&dirId=814&docId=432391571&qb=67m867m866Gc642w7J20&enc=utf8§ion=kin&rank=2&search_sort=0&spq=1 2022.11.10. 내일 빼빼로 데이인가요? 그렇습니다. 빼빼로 데이는 대한민국의 독특한 기념일로 11월 11일에 초콜릿 과자인 빼빼로를 주고받는 기념일입니다. \n",
      "빼빼로데이 https://kin.naver.com/qna/detail.naver?d1id=6&dirId=60218&docId=432103740&qb=67m867m866Gc642w7J20&enc=utf8§ion=kin&rank=3&search_sort=0&spq=1 2022.11.08. 이제 얼마안있으면 빼빼로데이잖아욥..! 그래서 제가 저희학년수학 맡아주시는 분이랑 저희반 담임선생님 빼빼로 드리려고하는데 법적으로 무슨 김영란 법인가? 그것때문에... \n",
      "짝남 빼빼로데이 https://kin.naver.com/qna/detail.naver?d1id=8&dirId=8020208&docId=431934340&qb=67m867m866Gc642w7J20&enc=utf8§ion=kin&rank=4&search_sort=0&spq=1 2022.11.04. 제가 얼마전에 생긴 짝남에게 빼빼로 데이에 빼빼로를 주고... 짝남 빼빼로데이 관련 답변드려용!! 약간 부담은... 않으면 빼빼로데이니까 절대 부담 안될 거 같은데요!! 음... \n",
      "빼빼로데이 고백 할까요? https://kin.naver.com/qna/detail.naver?d1id=8&dirId=80101&docId=432425875&qb=67m867m866Gc642w7J20&enc=utf8§ion=kin&rank=5&search_sort=0&spq=1 2022.11.11. 빼빼로데이에 고백하고 싶은 사람이 있는데 한 두달 전에 자주 장난치는데 약간 어색한... 그런데 빼빼로데이가 당장 오늘이잖아요.. 어제 편지도 써 놓고 오늘 친구랑... \n",
      "빼빼로 데이는 마케팅으로 생겨났나요? https://kin.naver.com/qna/detail.naver?d1id=8&dirId=8020208&docId=431906562&qb=67m867m866Gc642w7J20&enc=utf8§ion=kin&rank=6&search_sort=0&spq=1 2022.11.06. 빼빼로 데이는 마케팅으로 생겨났나요? 1993년 계성여중이라고 하는 부산의 한 중학교에서 학생들끼리 하던 행사에서 시작하여 롯데제과가 발빠르게 조치한... \n",
      "빼빼로데이 여친선물 추천좀 해주세요 https://kin.naver.com/qna/detail.naver?d1id=8&dirId=8020208&docId=430852615&qb=67m867m866Gc642w7J20&enc=utf8§ion=kin&rank=7&search_sort=0&spq=1 2022.10.19. 마침 100일이 빼빼로 데이인데 여자친구 선물을 빼빼로랑 꽃 선물세트 있는데... 질문) 마침 100일이 빼빼로 데이인데 여자친구 선물을 빼빼로랑 꽃 선물세트 있는데... \n",
      "빼빼로데이 https://kin.naver.com/qna/detail.naver?d1id=8&dirId=8020208&docId=432382328&qb=67m867m866Gc642w7J20&enc=utf8§ion=kin&rank=8&search_sort=0&spq=1 2022.11.10. ... 내일 빼빼로데이니까 빼빼로를 드릴까 생각도 해봤는데..일단 선생님 나이가 40살이... 그리구 원래 빼빼로데이가 나라에서 정한날도 아니구 농업인의 날이잖아요??그래서... \n",
      "급합니다 빼빼로 데이 남사친에게 편지 https://kin.naver.com/qna/detail.naver?d1id=8&dirId=8020209&docId=432386594&qb=67m867m866Gc642w7J20&enc=utf8§ion=kin&rank=9&search_sort=0&spq=1 2022.11.10. ... 고백편지 아니구요 친한 남사친이 빼빼로 데이에 편지를 써달라는데 간단하게 쪽지만 써줄려고요 어떻게 써야할까요 제가 이성에게 쓰는 편지는 첨이라 구체적으로... \n",
      "빼빼로데이 https://kin.naver.com/qna/detail.naver?d1id=8&dirId=8020208&docId=431414363&qb=67m867m866Gc642w7J20&enc=utf8§ion=kin&rank=10&search_sort=0&spq=1 2022.10.31. 빼빼로데이에 빼빼로 40개이상 만들어야되는데 빼빼로 만들기키트 추천해주세욥! 빼빼로 막대과자를 40개정도 만들수 있는 키트가 있어서 정보 공유합니다~ 수제 초코... \n"
     ]
    }
   ],
   "source": [
    "for question in questions:\n",
    "    title = question.select_one(\"dt>a\").text\n",
    "    link = question.select_one(\"dt>a\")['href']\n",
    "    date = question.select_one(\".txt_inline\").text\n",
    "    content = question.select_one(\".txt_inline +dd\").text\n",
    "    \n",
    "    print(title, link, date, content)\n",
    "    "
   ]
  },
  {
   "cell_type": "code",
   "execution_count": 12,
   "metadata": {},
   "outputs": [
    {
     "name": "stdout",
     "output_type": "stream",
     "text": [
      "1 내일 빼빼로 데이인데 어떡해할까요? https://kin.naver.com/qna/detail.naver?d1id=20&dirId=2001&docId=432409634&qb=67m867m866Gc642w7J20&enc=utf8§ion=kin&rank=1&search_sort=0&spq=1 2022.11.10. ... 내일이 빼빼로데이인데 빼빼로를 줘야 되나요? 저는 주고는 싶은데 차였는데... 내일이 빼빼로 데이여서 빼빼로를 줘야 하는지 어떻게 해야하는지 고민이 되는 것 같아요.... \n",
      "2 내일 빼빼로 데이인가요? https://kin.naver.com/qna/detail.naver?d1id=8&dirId=814&docId=432391571&qb=67m867m866Gc642w7J20&enc=utf8§ion=kin&rank=2&search_sort=0&spq=1 2022.11.10. 내일 빼빼로 데이인가요? 그렇습니다. 빼빼로 데이는 대한민국의 독특한 기념일로 11월 11일에 초콜릿 과자인 빼빼로를 주고받는 기념일입니다. \n",
      "3 빼빼로데이 https://kin.naver.com/qna/detail.naver?d1id=6&dirId=60218&docId=432103740&qb=67m867m866Gc642w7J20&enc=utf8§ion=kin&rank=3&search_sort=0&spq=1 2022.11.08. 이제 얼마안있으면 빼빼로데이잖아욥..! 그래서 제가 저희학년수학 맡아주시는 분이랑 저희반 담임선생님 빼빼로 드리려고하는데 법적으로 무슨 김영란 법인가? 그것때문에... \n",
      "4 짝남 빼빼로데이 https://kin.naver.com/qna/detail.naver?d1id=8&dirId=8020208&docId=431934340&qb=67m867m866Gc642w7J20&enc=utf8§ion=kin&rank=4&search_sort=0&spq=1 2022.11.04. 제가 얼마전에 생긴 짝남에게 빼빼로 데이에 빼빼로를 주고... 짝남 빼빼로데이 관련 답변드려용!! 약간 부담은... 않으면 빼빼로데이니까 절대 부담 안될 거 같은데요!! 음... \n",
      "5 빼빼로데이 고백 할까요? https://kin.naver.com/qna/detail.naver?d1id=8&dirId=80101&docId=432425875&qb=67m867m866Gc642w7J20&enc=utf8§ion=kin&rank=5&search_sort=0&spq=1 2022.11.11. 빼빼로데이에 고백하고 싶은 사람이 있는데 한 두달 전에 자주 장난치는데 약간 어색한... 그런데 빼빼로데이가 당장 오늘이잖아요.. 어제 편지도 써 놓고 오늘 친구랑... \n",
      "6 빼빼로 데이는 마케팅으로 생겨났나요? https://kin.naver.com/qna/detail.naver?d1id=8&dirId=8020208&docId=431906562&qb=67m867m866Gc642w7J20&enc=utf8§ion=kin&rank=6&search_sort=0&spq=1 2022.11.06. 빼빼로 데이는 마케팅으로 생겨났나요? 1993년 계성여중이라고 하는 부산의 한 중학교에서 학생들끼리 하던 행사에서 시작하여 롯데제과가 발빠르게 조치한... \n",
      "7 빼빼로데이 여친선물 추천좀 해주세요 https://kin.naver.com/qna/detail.naver?d1id=8&dirId=8020208&docId=430852615&qb=67m867m866Gc642w7J20&enc=utf8§ion=kin&rank=7&search_sort=0&spq=1 2022.10.19. 마침 100일이 빼빼로 데이인데 여자친구 선물을 빼빼로랑 꽃 선물세트 있는데... 질문) 마침 100일이 빼빼로 데이인데 여자친구 선물을 빼빼로랑 꽃 선물세트 있는데... \n",
      "8 빼빼로데이 https://kin.naver.com/qna/detail.naver?d1id=8&dirId=8020208&docId=432382328&qb=67m867m866Gc642w7J20&enc=utf8§ion=kin&rank=8&search_sort=0&spq=1 2022.11.10. ... 내일 빼빼로데이니까 빼빼로를 드릴까 생각도 해봤는데..일단 선생님 나이가 40살이... 그리구 원래 빼빼로데이가 나라에서 정한날도 아니구 농업인의 날이잖아요??그래서... \n",
      "9 급합니다 빼빼로 데이 남사친에게 편지 https://kin.naver.com/qna/detail.naver?d1id=8&dirId=8020209&docId=432386594&qb=67m867m866Gc642w7J20&enc=utf8§ion=kin&rank=9&search_sort=0&spq=1 2022.11.10. ... 고백편지 아니구요 친한 남사친이 빼빼로 데이에 편지를 써달라는데 간단하게 쪽지만 써줄려고요 어떻게 써야할까요 제가 이성에게 쓰는 편지는 첨이라 구체적으로... \n",
      "10 빼빼로데이 https://kin.naver.com/qna/detail.naver?d1id=8&dirId=8020208&docId=431414363&qb=67m867m866Gc642w7J20&enc=utf8§ion=kin&rank=10&search_sort=0&spq=1 2022.10.31. 빼빼로데이에 빼빼로 40개이상 만들어야되는데 빼빼로 만들기키트 추천해주세욥! 빼빼로 막대과자를 40개정도 만들수 있는 키트가 있어서 정보 공유합니다~ 수제 초코... \n"
     ]
    }
   ],
   "source": [
    "\n",
    "for i, question in enumerate(questions, 1):\n",
    "    anchor = question.select_one(\"dt > a\")\n",
    "    title = anchor.text\n",
    "    link = anchor['href']\n",
    "    date = question.select_one(\".txt_inline\").text\n",
    "    content = question.select_one(\".txt_inline +dd\").text\n",
    "    \n",
    "    print(i, title, link, date, content, end='\\n')\n"
   ]
  },
  {
   "cell_type": "code",
   "execution_count": 13,
   "metadata": {},
   "outputs": [
    {
     "name": "stdout",
     "output_type": "stream",
     "text": [
      "3 내일 빼빼로 데이인데 어떡해할까요? https://kin.naver.com/qna/detail.naver?d1id=20&dirId=2001&docId=432409634&qb=67m867m866Gc642w7J20&enc=utf8§ion=kin&rank=1&search_sort=0&spq=1 2022.11.10. ... 내일이 빼빼로데이인데 빼빼로를 줘야 되나요? 저는 주고는 싶은데 차였는데... 내일이 빼빼로 데이여서 빼빼로를 줘야 하는지 어떻게 해야하는지 고민이 되는 것 같아요.... \n",
      "4 내일 빼빼로 데이인가요? https://kin.naver.com/qna/detail.naver?d1id=8&dirId=814&docId=432391571&qb=67m867m866Gc642w7J20&enc=utf8§ion=kin&rank=2&search_sort=0&spq=1 2022.11.10. 내일 빼빼로 데이인가요? 그렇습니다. 빼빼로 데이는 대한민국의 독특한 기념일로 11월 11일에 초콜릿 과자인 빼빼로를 주고받는 기념일입니다. \n",
      "5 빼빼로데이 https://kin.naver.com/qna/detail.naver?d1id=6&dirId=60218&docId=432103740&qb=67m867m866Gc642w7J20&enc=utf8§ion=kin&rank=3&search_sort=0&spq=1 2022.11.08. 이제 얼마안있으면 빼빼로데이잖아욥..! 그래서 제가 저희학년수학 맡아주시는 분이랑 저희반 담임선생님 빼빼로 드리려고하는데 법적으로 무슨 김영란 법인가? 그것때문에... \n",
      "6 짝남 빼빼로데이 https://kin.naver.com/qna/detail.naver?d1id=8&dirId=8020208&docId=431934340&qb=67m867m866Gc642w7J20&enc=utf8§ion=kin&rank=4&search_sort=0&spq=1 2022.11.04. 제가 얼마전에 생긴 짝남에게 빼빼로 데이에 빼빼로를 주고... 짝남 빼빼로데이 관련 답변드려용!! 약간 부담은... 않으면 빼빼로데이니까 절대 부담 안될 거 같은데요!! 음... \n",
      "7 빼빼로데이 고백 할까요? https://kin.naver.com/qna/detail.naver?d1id=8&dirId=80101&docId=432425875&qb=67m867m866Gc642w7J20&enc=utf8§ion=kin&rank=5&search_sort=0&spq=1 2022.11.11. 빼빼로데이에 고백하고 싶은 사람이 있는데 한 두달 전에 자주 장난치는데 약간 어색한... 그런데 빼빼로데이가 당장 오늘이잖아요.. 어제 편지도 써 놓고 오늘 친구랑... \n",
      "8 빼빼로 데이는 마케팅으로 생겨났나요? https://kin.naver.com/qna/detail.naver?d1id=8&dirId=8020208&docId=431906562&qb=67m867m866Gc642w7J20&enc=utf8§ion=kin&rank=6&search_sort=0&spq=1 2022.11.06. 빼빼로 데이는 마케팅으로 생겨났나요? 1993년 계성여중이라고 하는 부산의 한 중학교에서 학생들끼리 하던 행사에서 시작하여 롯데제과가 발빠르게 조치한... \n",
      "9 빼빼로데이 여친선물 추천좀 해주세요 https://kin.naver.com/qna/detail.naver?d1id=8&dirId=8020208&docId=430852615&qb=67m867m866Gc642w7J20&enc=utf8§ion=kin&rank=7&search_sort=0&spq=1 2022.10.19. 마침 100일이 빼빼로 데이인데 여자친구 선물을 빼빼로랑 꽃 선물세트 있는데... 질문) 마침 100일이 빼빼로 데이인데 여자친구 선물을 빼빼로랑 꽃 선물세트 있는데... \n",
      "10 빼빼로데이 https://kin.naver.com/qna/detail.naver?d1id=8&dirId=8020208&docId=432382328&qb=67m867m866Gc642w7J20&enc=utf8§ion=kin&rank=8&search_sort=0&spq=1 2022.11.10. ... 내일 빼빼로데이니까 빼빼로를 드릴까 생각도 해봤는데..일단 선생님 나이가 40살이... 그리구 원래 빼빼로데이가 나라에서 정한날도 아니구 농업인의 날이잖아요??그래서... \n",
      "11 급합니다 빼빼로 데이 남사친에게 편지 https://kin.naver.com/qna/detail.naver?d1id=8&dirId=8020209&docId=432386594&qb=67m867m866Gc642w7J20&enc=utf8§ion=kin&rank=9&search_sort=0&spq=1 2022.11.10. ... 고백편지 아니구요 친한 남사친이 빼빼로 데이에 편지를 써달라는데 간단하게 쪽지만 써줄려고요 어떻게 써야할까요 제가 이성에게 쓰는 편지는 첨이라 구체적으로... \n",
      "12 빼빼로데이 https://kin.naver.com/qna/detail.naver?d1id=8&dirId=8020208&docId=431414363&qb=67m867m866Gc642w7J20&enc=utf8§ion=kin&rank=10&search_sort=0&spq=1 2022.10.31. 빼빼로데이에 빼빼로 40개이상 만들어야되는데 빼빼로 만들기키트 추천해주세욥! 빼빼로 막대과자를 40개정도 만들수 있는 키트가 있어서 정보 공유합니다~ 수제 초코... \n"
     ]
    }
   ],
   "source": [
    "\n",
    "for i, question in enumerate(questions, 3):\n",
    "    questions = soup.select(\".basic1 > li\")\n",
    "    response = requests.get(\"https://kin.naver.com/search/list.naver?query=%EB%B9%BC%EB%B9%BC%EB%A1%9C%EB%8D%B0%EC%9D%B4\")\n",
    "    html = response.text\n",
    "    soup = BeautifulSoup(html, 'html.parser') # 파싱\n",
    "    anchor = soup.select(\"dt > a\") # 제목\n",
    "    .s_paging\n",
    "\n",
    "\n",
    "\n",
    "    anchor = question.select_one(\"dt > a\")\n",
    "    title = anchor.text\n",
    "    link = anchor['href']\n",
    "    date = question.select_one(\".txt_inline\").text\n",
    "    content = question.select_one(\".txt_inline +dd\").text\n",
    "    \n",
    "    print(i, title, link, date, content, end='\\n')\n",
    "\n"
   ]
  },
  {
   "cell_type": "code",
   "execution_count": 1,
   "metadata": {},
   "outputs": [
    {
     "name": "stdout",
     "output_type": "stream",
     "text": [
      "1번째 페이지 크롤링중\n",
      "1 쵸비 롤 아이콘 https://kin.naver.com/qna/detail.naver?d1id=2&dirId=20132&docId=428547507&qb=7LW467mE&enc=utf8§ion=kin&rank=1&search_sort=0&spq=0 2022.09.18. 쵸비 롤 아이콘 이거 아이콘 이름은 뭐고 어떻게 해야 얻을 수 있나용….  2019년도에 이벤트 임무 보상이었습니다. 지금은 획득할 수 없습니다.\n",
      "2 쵸비 키보드 알려주세요(내공 50) https://kin.naver.com/qna/detail.naver?d1id=1&dirId=1010402&docId=424860450&qb=7LW467mE&enc=utf8§ion=kin&rank=2&search_sort=0&spq=0 2022.07.29. 어제보니 블랙위도우에서 바뀐거 같은데 이거 사진보고 알려주실붕 ㅠㅠㅠ 안녕하세요. 하단 배열 ALT, FN, CTRL키 모양이 다른 변태 배열에 전체적인 화이트... \n",
      "3 쵸비선수님 안경쓴 사진 있을까요 https://kin.naver.com/qna/detail.naver?d1id=2&dirId=20132&docId=431231406&qb=7LW467mE&enc=utf8§ion=kin&rank=3&search_sort=0&spq=0 2022.10.24. 쵸비선수님 안경쓴 사진 있을까요  .\n",
      "4 페이커vs쵸비 https://kin.naver.com/qna/detail.naver?d1id=2&dirId=20132&docId=382310306&qb=7LW467mE&enc=utf8§ion=kin&rank=4&search_sort=0&spq=0 2022.05.22. 쵸비가 더 잘하지 않나요?  지표보시면 아시다시피 쵸비가 더 잘합니다. 페이커 솔킬 6번따이고 쵸비는 0번 따임.\n",
      "5 쵸비 TMI https://kin.naver.com/qna/detail.naver?d1id=8&dirId=814&docId=427592313&qb=7LW467mE&enc=utf8§ion=kin&rank=5&search_sort=0&spq=0 2022.09.04. 쵸비 좀 중요한 TMI 같은 거 '많이' 알려주세요 내공 150드림 https://youtu.be/5Natb5sWVCE \n",
      "6 길 가다가 젠지 쵸비를 만나고싶어요. https://kin.naver.com/qna/detail.naver?d1id=2&dirId=20132&docId=431021875&qb=7LW467mE&enc=utf8§ion=kin&rank=6&search_sort=0&spq=0 2022.10.22. 제목 그대로 길 가다가 젠지 쵸비를 만나고싶은데 어디로 가아할까요? 발견하면 그대로 앞비전 박고 제 번호 드리고 연락하고싶은데... 쵸비님 진짜 팬이에요... \n",
      "7 쵸비는 LPL이나 다른리그갔으면 좋겠네요. https://kin.naver.com/qna/detail.naver?d1id=2&dirId=20132&docId=403813827&qb=7LW467mE&enc=utf8§ion=kin&rank=7&search_sort=0&spq=0 2021.10.29. 쵸비는 한화에서 혼자만의 캐리력이 너무 높아서 다른... 묻히는 느낌이라 쵸비는 LPL이나 다른해외리그팀가서 했으면 좋겠네요. 쵸비는 잘하는데 항상 팀이 아쉬웠죠.. \n",
      "8 루키랑 비디디,쵸비 중에 누가 더 잘하나요 https://kin.naver.com/qna/detail.naver?d1id=2&dirId=20132&docId=354994604&qb=7LW467mE&enc=utf8§ion=kin&rank=8&search_sort=0&spq=0 2020.05.01. 현폼기준으로 현lck 최상위 미드인 쵸비,비디디랑... 안정적이지요...쵸비도 루키급으로 슈퍼플레이를 많이... 1.쵸비는 모든경기에 뛰어난 영향력을 행사하죠 칼리스타로... \n",
      "9 롤 쵸비,도란 https://kin.naver.com/qna/detail.naver?d1id=2&dirId=20132&docId=367801009&qb=7LW467mE&enc=utf8§ion=kin&rank=9&search_sort=0&spq=0 2020.10.03. 롤 쵸비 도란은 중1,2 3학년때 티어가 어디였나요?  쵸비 중학교 동창인데 ㅋㅋ 중2때 챌린져 찍은적 있어요 학교 난리났었는데 ㅋㅋ\n",
      "10 평소에 쵸비 선수 딞았다는 소리.... https://kin.naver.com/qna/detail.naver?d1id=8&dirId=80101&docId=427575193&qb=7LW467mE&enc=utf8§ion=kin&rank=10&search_sort=0&spq=0 2022.09.04. 제가 LCK를 안보는데요 평소에 쵸비 선수 딞았다는 소리를 자주 듣는데 그래도 좀 잘생겼다는 칭찬인건가요?.. 네 잘생긴거 맞습니다! \n",
      "2번째 페이지 크롤링중\n",
      "1 쵸비 전적 https://kin.naver.com/qna/detail.naver?d1id=2&dirId=20132&docId=429297135&qb=7LW467mE&enc=utf8§ion=kin&rank=11&search_sort=0&spq=0 2022.09.28. 쵸비님 최근 전적보면 미드말고 다른라인이 좀 많던데 왜그런가요? 단순히 라인이 꼬인건가요  라인이 좀 꼬인것 같아요\n",
      "2 쵸비가 우승한 적이 몇 번 있나요? https://kin.naver.com/qna/detail.naver?d1id=2&dirId=20132&docId=427097544&qb=7LW467mE&enc=utf8§ion=kin&rank=12&search_sort=0&spq=0 2022.08.28. 쵸비가 우승한 적이 몇 번 있나요? 없습니다.이번에 우승하면 성불할수도...? \n",
      "3 롤 쵸비 선수가 쓰는 아리 크로마 뭔가요? https://kin.naver.com/qna/detail.naver?d1id=2&dirId=20132&docId=427545439&qb=7LW467mE&enc=utf8§ion=kin&rank=13&search_sort=0&spq=0 2022.09.06. ... 위주였던거같아요ㅠ 유튜브에 크로마 영상 찾아봐도 비슷한 크로마가 없던데 무슨 스킨일까요ㅠㅠ 기억나는건 쵸비,클로저 선수가 썼던 거 같아요 영혼의꽃 아리 스킨... \n",
      "4 쵸비 중요한 일화 https://kin.naver.com/qna/detail.naver?d1id=2&dirId=20129&docId=371163284&qb=7LW467mE&enc=utf8§ion=kin&rank=14&search_sort=0&spq=0 2020.10.29. 쵸비 중요한 일화 없나요 ? 내공 100드림  그거는 말이야..... 그고는 말이징.... 쵸비가 둘리말투에 빠진거란 말이징...... 그게 머냐면 말이야..... 바로 이러게 말하는 거란... \n",
      "5 쵸비 생방송 https://kin.naver.com/qna/detail.naver?d1id=2&dirId=20132&docId=409357757&qb=7LW467mE&enc=utf8§ion=kin&rank=15&search_sort=0&spq=0 2022.01.11. 쵸비 어디서 방송 하고 이름 뭔지 알려주세요 중국 방송플랫폼 도유티비에서 봅니다 https://www.douyu.com/5306305 \n",
      "6 쵸비는 왜 우승을 못하나요? https://kin.naver.com/qna/detail.naver?d1id=2&dirId=20132&docId=361002147&qb=7LW467mE&enc=utf8§ion=kin&rank=16&search_sort=0&spq=0 2020.06.28. 쵸비는 그리핀에서도 DRX에서도 왜 우승을 못할까요? 엄청 잘하는 미드라이너인데 그... 팁합도 중요하고 쵸비 본인만 잘해서 문제가아니라 뭐 다른라인등.. 기타... \n",
      "7 쵸비선수에 관련된 롤 닉네임...  https://kin.naver.com/qna/detail.naver?d1id=2&dirId=20132&docId=395357463&qb=7LW467mE&enc=utf8§ion=kin&rank=17&search_sort=0&spq=0 2021.07.24. 제가 롤 프로게이머 쵸비 선수 팬인데 쵸비선수에 관한거 닉네임 추천해주세요 왠만하면 쵸비가 들어가게 추천 부탁드립니다 쵸비쥬니어3세 \n",
      "8 쵸비선수 감도랑 마우스패드좀 알려주세요 https://kin.naver.com/qna/detail.naver?d1id=2&dirId=20132&docId=393224225&qb=7LW467mE&enc=utf8§ion=kin&rank=18&search_sort=0&spq=0 2021.06.28. 쵸비선수 마우스패드랑 dpi랑 인겜 감도좀 알려주세요  쵸비 마우스 감도 따라한다고 쵸비급 피지컬이 되는게 아닙니다 FPS같은 경우는 마우스 감도 따라해서 아 이렇게... \n",
      "9 쵸비 롤 닉네임 https://kin.naver.com/qna/detail.naver?d1id=2&dirId=20132&docId=408837157&qb=7LW467mE&enc=utf8§ion=kin&rank=19&search_sort=0&spq=0 2022.01.04. 쵸비 선수의 롤 닉네임 cc3cc가 무슨 뜻인가요 쵸비선수 전 닉네임들이 1.... shrimp shark 3.자장면잠봉당수육이었는데 쵸비선수는 그냥 비슷한 단어 겹치는걸 좋아합니다 \n",
      "10 리그오브레전드 쵸비 vs 쇼메이커 누가...  https://kin.naver.com/qna/detail.naver?d1id=2&dirId=20132&docId=393483120&qb=7LW467mE&enc=utf8§ion=kin&rank=20&search_sort=0&spq=0 2021.07.01. 리그오브레전드 쵸비 vs 쇼메이커 누가 젤 잘하나요?  누가 더 잘한다 딱잘라 말 할수없어요 쵸비 지금 폼이 별로 좋지않은데 폼 좋은 쵸비가 작년 롤드컵때 담원에 쇼메대신... \n",
      "3번째 페이지 크롤링중\n",
      "1 롤 쵸비 닉네임 https://kin.naver.com/qna/detail.naver?d1id=2&dirId=20132&docId=416350158&qb=7LW467mE&enc=utf8§ion=kin&rank=21&search_sort=0&spq=0 2022.04.03. 쵸비 닉네임이 지금 enlrh인데 무슨 뜻이죠 아무뜻이 없는겅가여 enlrh 번역해도 아무뜻도 안나오고 한글로 치면 ㄷㅜㅑㄱㅗ 이렇게 나오는거로 보니 아무뜻이... \n",
      "2 쵸비 포켓몬 https://kin.naver.com/qna/detail.naver?d1id=2&dirId=20413&docId=391180378&qb=7LW467mE&enc=utf8§ion=kin&rank=22&search_sort=0&spq=0 2021.06.01. 롤 프로 쵸비를 닮은 포켓몬 이름이 뭐였는지 기억이 나지 않습니다ㅠㅠ... 쵸비는 ^ㅠ^ 이렇게 생겼습니다! 에나비..? \n",
      "3 drx쵸비선수헤드셋 https://kin.naver.com/qna/detail.naver?d1id=1&dirId=10905&docId=350450346&qb=7LW467mE&enc=utf8§ion=kin&rank=23&search_sort=0&spq=0 2020.03.20. drx쵸비선수 유튜브솔랭방송에나온 무선헤드셋정보아시는분계신가요 제가 게이밍헤드셋 랭킹을 15위까지 볼 수 있는 사이트 첨부할테니 참고하시면... \n",
      "4 리그오브레전드 페이커 쇼메이커 쵸비...  https://kin.naver.com/qna/detail.naver?d1id=2&dirId=20132&docId=391174311&qb=7LW467mE&enc=utf8§ion=kin&rank=24&search_sort=0&spq=0 2021.06.01. ... 쇼메이커 쵸비 bdd 트할 중에서 누가 제일 잘하는지 LCK 관련해서 말해주세요~ 이유필수! 1티어 선수 : 쇼메, 쵸비... <쵸비> - 이 선수는 확실히 미치긴 했습니다. 팀이... \n",
      "5 쵸비도 도란검 올리는 이유가 뭐죠 https://kin.naver.com/qna/detail.naver?d1id=2&dirId=20132&docId=384922989&qb=7LW467mE&enc=utf8§ion=kin&rank=25&search_sort=0&spq=0 2021.03.19. ... 1코어도 빨리나옴(롱소드재료) 도대체 도란검 가는 이유가 뭔가요 쵸비도 가길래 궁금하네요 초반에 더 좋으니까 도란검으로 가는겁니다. 도란검: 공격력8/체력80/2.5%피흡... \n",
      "6 페이커 쇼메이커 쵸비 중에서 누가 젤...  https://kin.naver.com/qna/detail.naver?d1id=2&dirId=20132&docId=391026711&qb=7LW467mE&enc=utf8§ion=kin&rank=26&search_sort=0&spq=0 2021.05.30. 페이커 쇼메이커 쵸비 중에서 누가 젤 잘하나요?? 이유 설명 필수 !!!  다 잘하는데 순수 피지컬로는 쵸비 챔프폭과... 이용하는 페이커 솔직히 1대1로 치면 쵸비가 우세할듯?\n",
      "7 님들 페이커 vs 쵸비 vs 도인비...  https://kin.naver.com/qna/detail.naver?d1id=13&dirId=130303&docId=389708370&qb=7LW467mE&enc=utf8§ion=kin&rank=27&search_sort=0&spq=0 2021.05.17. 님들 페이커 vs 쵸비 vs 도인비 여기중에서 누가 젤 잘함??  저는 개인적으로 쵸비라고 생각하는데요.. 도인비나 페이커선수도 잘하시지만 쵸비선수의 피지컬이나 뇌지컬은... \n",
      "8 쇼메vs쵸비.인지도 https://kin.naver.com/qna/detail.naver?d1id=8&dirId=8030204&docId=415272067&qb=7LW467mE&enc=utf8§ion=kin&rank=28&search_sort=0&spq=0 2022.03.23. 실력은 지금은 쵸비가 약우위인거같고 작년이나 재작년엔 동급이나 쇼메 약우위라... 먼저알고 쵸비를 좀 많이 나중에 알아서요..  굳이 따지자면 쇼메이지 않을까 싶습니다.... \n",
      "9 리그오브레전드 쇼메 vs 쪼말 vs 쵸비 vs...  https://kin.naver.com/qna/detail.naver?d1id=2&dirId=20132&docId=398431538&qb=7LW467mE&enc=utf8§ion=kin&rank=29&search_sort=0&spq=0 2021.08.27. 리그오브레전드 쇼메 vs 쪼말 vs 쵸비 vs 페이커 중에서 누가 제일 잘하나요? 1분만  종합 페이커 센스 쇼메이커 피지컬 쵸비 뇌지컬 쪼말\n",
      "10 쵸비vs 해리 케인 누가더 잘하나요? https://kin.naver.com/qna/detail.naver?d1id=10&dirId=100408&docId=404885543&qb=7LW467mE&enc=utf8§ion=kin&rank=30&search_sort=0&spq=0 2021.11.12. 쵸비vs 해리 케인 누가더 잘하나요? 장르 상관없이 허리 케인 이요 \n"
     ]
    }
   ],
   "source": [
    "import requests\n",
    "from bs4 import BeautifulSoup\n",
    "\n",
    "keyword = input(\"검색어를 입력하세요: \")\n",
    "page = int(input(\"페이지 입력하세요: \"))\n",
    "\n",
    "for i in range(1, page + 1):\n",
    "    print(f\"{i}번째 페이지 크롤링중\")\n",
    "    response = requests.get(f\"https://kin.naver.com/search/list.naver?query={keyword}&page={i}\")\n",
    "    html = response.text\n",
    "    soup = BeautifulSoup(html, 'html.parser')\n",
    "    questions = soup.select(\".basic1 > li\")\n",
    "    \n",
    "    for i, question in enumerate(questions, 1):\n",
    "        anchor = question.select_one(\"dt > a\")\n",
    "        title = anchor.text\n",
    "        link = anchor['href']\n",
    "        date = question.select_one(\".txt_inline\").text\n",
    "        content = question.select_one(\".txt_inline +dd\").text\n",
    "        \n",
    "        print(i, title, link, date, content, end='\\n')\n",
    "    \n",
    "    "
   ]
  },
  {
   "cell_type": "code",
   "execution_count": 1,
   "metadata": {},
   "outputs": [
    {
     "name": "stdout",
     "output_type": "stream",
     "text": [
      "1번째 페이지 크롤링중\n",
      "1 월드컵 질문 https://kin.naver.com/qna/detail.naver?d1id=10&dirId=10010101&docId=428999769&qb=7JuU65Oc7Lu1&enc=utf8§ion=kin&rank=1&search_sort=0&spq=0 2022.09.24. 손흥민 이번 카타르월드컵이 마지막 월드컵 일까요? 나이고려하면 정말 몸관리 잘하고... 이번 월드컵 이후 나중에 얼마나 기량 유지를 하느냐에 따라 나오고 못나오고가 갈릴... \n",
      "2 cgv에서 카타르 월드컵 생중계 하는 https://kin.naver.com/qna/detail.naver?d1id=10&dirId=10010101&docId=431872806&qb=7JuU65Oc7Lu1&enc=utf8§ion=kin&rank=2&search_sort=0&spq=0 2022.11.03. cgv에서 카타르 월드컵 생중계 하는거 예매하고 싶은데 이미 끝났나요..?... 카카오쇼핑라이브에선 미리 할인혜택을 제공한 것이고 월드컵 개막이 임박하면 다시 생중계... \n",
      "3 러시아월드컵 프랑스 설레발 https://kin.naver.com/qna/detail.naver?d1id=10&dirId=10010101&docId=431461346&qb=7JuU65Oc7Lu1&enc=utf8§ion=kin&rank=3&search_sort=0&spq=0 2022.10.28. 러시아월드컵때 프랑스는 우승한다고 설레발을 그렁게... 2018년 러시아 월드컵 당시, 프랑스 경기력이 실제 좋았습니다. 곧 카타르 월드컵도 마찬가지라 봅니다. 지금까지... \n",
      "4 월드컵 명단 소집 김신욱,백승호 https://kin.naver.com/qna/detail.naver?d1id=10&dirId=10010101&docId=431157247&qb=7JuU65Oc7Lu1&enc=utf8§ion=kin&rank=4&search_sort=0&spq=0 2022.10.24. 카타르 월드컵 대표팀 명단 소집에 뭔가 김신욱,백승호 선수 트릭으로 뽑힐 거 같아요... 김신욱은 월드컵 명단 발탁이 굉장히 희박할 것 같고, 백승호는 발탁될 가능성이 충분히... \n",
      "5 2022 카타르월드컵일정 선수명단 https://kin.naver.com/qna/detail.naver?d1id=10&dirId=10010101&docId=432303591&qb=7JuU65Oc7Lu1&enc=utf8§ion=kin&rank=5&search_sort=0&spq=0 2022.11.09. ... 우리나라 월드컵완전히나오기로한 선수명단 2.... 12일에 월드컵 최종명단을 발표합니다 지금 손흥민이... 없다면 월드컵 최종명단에 들 것으로 예상됩니다 https... \n",
      "6 카타르 월드컵 https://kin.naver.com/qna/detail.naver?d1id=11&dirId=110811&docId=431678887&qb=7JuU65Oc7Lu1&enc=utf8§ion=kin&rank=6&search_sort=0&spq=0 2022.10.31. 이번 카타르 월드컵때 대략 5주정도 카타르에 체류하는데 이 정도 기간동안 쓸 유심은... 카타르 월드컵 이번 카타르 월드컵때 대략 5주정도 카타르에 체류하는데 이 정도... \n",
      "7 국가대표에게 월드컵이란? https://kin.naver.com/qna/detail.naver?d1id=10&dirId=10010101&docId=432233892&qb=7JuU65Oc7Lu1&enc=utf8§ion=kin&rank=7&search_sort=0&spq=0 2022.11.08. 그냥 단순히 생각해보면 월드컵에서 뛰는거 보다 자기... 단순히 월드컵이 세계인의 꿈의 축제라는 이유인지 아니면 월드컵에서 준수한 성적을 거두면 돈이 지급되는지... \n",
      "8 2022카타르월드컵 모바일 https://kin.naver.com/qna/detail.naver?d1id=10&dirId=10010101&docId=428609716&qb=7JuU65Oc7Lu1&enc=utf8§ion=kin&rank=8&search_sort=0&spq=0 2022.09.18. 안녕하세요 이번2022카타르월드컵 관련해 질문드립니다 이번에 지상파3사 sbs . Kbs mbc... 이번 월드컵 네이버나 spotv 등 모바일로 도 월드컵 중계 볼수있을까요? 4년전... \n",
      "9 서울월드컵경기장 https://kin.naver.com/qna/detail.naver?d1id=5&dirId=51002&docId=420557886&qb=7JuU65Oc7Lu1&enc=utf8§ion=kin&rank=9&search_sort=0&spq=0 2022.05.29. 서울월드컵 경기장 3등석 N-J 구역 50열 시야 어떤가요 ?? ㅠㅠ 잘 보일까요 ●서울월드컵 경기장 3등석 N-J 구역 50열은 거리감이 있지만 시야각은 좋습니다. 전광판도 자주... \n",
      "10 카타르월드컵개막전 D-Day 13일 ㅡㅡ https://kin.naver.com/qna/detail.naver?d1id=10&dirId=10010101&docId=432226500&qb=7JuU65Oc7Lu1&enc=utf8§ion=kin&rank=10&search_sort=0&spq=0 2022.11.08. 카타르월드컵개막전 D-Day 13일 ㅡㅡ 시간존나안가네 월드컵경기볼라고... 너무힘들네 다른 월드컵에 비해서 늦긴했죠ㅠ 손흥민선수 제발 잘회복되길 바랄뿐입니다 \n",
      "2번째 페이지 크롤링중\n",
      "1 월드컵 승부예측 https://kin.naver.com/qna/detail.naver?d1id=10&dirId=1001010201&docId=432165643&qb=7JuU65Oc7Lu1&enc=utf8§ion=kin&rank=11&search_sort=0&spq=0 2022.11.07. 2018년 월드컵도 네이버에서 승부예측했는데 이번에도 하나요? 22-23시즌 프리미어리그 승부예측, 챔피언스리그 승부예측도 하고 있으니 당여니 2022 월드컵... \n",
      "2 월드컵중계 kbs중계 다른나라 https://kin.naver.com/qna/detail.naver?d1id=10&dirId=10010101&docId=432382705&qb=7JuU65Oc7Lu1&enc=utf8§ion=kin&rank=12&search_sort=0&spq=0 2022.11.10. 월드컵중계 집에 kbs2 7번 방송만 나오는데 우리나라경기는 다 방송하겠지만... 아뇨 나라별로 자사 스포츠 채널에서 중계가 가능할거에요 밑에 카타르 월드컵 경기 일정... \n",
      "3 수원월드컵경기장에서 수원역가는 버스 https://kin.naver.com/qna/detail.naver?d1id=8&dirId=81201&docId=421391464&qb=7JuU65Oc7Lu1&enc=utf8§ion=kin&rank=13&search_sort=0&spq=0 2022.06.10. 안녕하세요 수원 월드컵경기장에서 수원역으로 가는... 수원월드컵경기장.아름학교 정류장이나 효성초등학교... 수원월드컵경기장.아름학교 정류장 기준으로 13-4번... \n",
      "4 카타르 월드컵 https://kin.naver.com/qna/detail.naver?d1id=10&dirId=10010101&docId=431835377&qb=7JuU65Oc7Lu1&enc=utf8§ion=kin&rank=14&search_sort=0&spq=0 2022.11.02. ... 예선에서 탈락하면 그 나라는 월드컵 진출을 못하나요? Q4.... 월드컵 우승국은 몇 번정도 경기를 하나요? Q7. 월드컵은 총 몇 번의 경기를 하나요? Q8. 일본과 만날 경우가... \n",
      "5 월드컵 질문 https://kin.naver.com/qna/detail.naver?d1id=10&dirId=10010101&docId=432111250&qb=7JuU65Oc7Lu1&enc=utf8§ion=kin&rank=15&search_sort=0&spq=0 2022.11.07. 월드컵 창시자분 이름이 쥘 리메인가요? 줄 리메인가요?  둘 다 맞습니다~ 초기 월드컵 개최(1930년) 당시 피파 회장이었던 프랑스의 줄리메가 월드컵 직전 사유재산으로 이... \n",
      "6 서울 월드컵 경기장 근처 놀곳 https://kin.naver.com/qna/detail.naver?d1id=12&dirId=1201&docId=421941942&qb=7JuU65Oc7Lu1&enc=utf8§ion=kin&rank=16&search_sort=0&spq=0 2022.06.17. 월드컵 경기장으로 축구 보러 갈껀데 근처나 아님 조금 떨어진곳에 놀만한곳 있나요?? 월드컵 경기장 경기장안에... 있음 월드컵경기장 근처 사는 사람들은 대부분 홍대나... \n",
      "7 제주도 월드컵 경기장 버스 https://kin.naver.com/qna/detail.naver?d1id=13&dirId=130707&docId=416142339&qb=7JuU65Oc7Lu1&enc=utf8§ion=kin&rank=17&search_sort=0&spq=0 2022.04.01. 월드컵 경기장 버스 제일 처음에 오는거 몇번인가요? 7시에 버스 운행해요?... - 제주로터리(동) 출발 기준 양가왓 경유 제주월드컵경기장과 제주월드컵경기장서문에서 하차가... \n",
      "8 2022 카타르 월드컵 https://kin.naver.com/qna/detail.naver?d1id=10&dirId=10010101&docId=431638676&qb=7JuU65Oc7Lu1&enc=utf8§ion=kin&rank=18&search_sort=0&spq=0 2022.10.31. 올해 카타르 월드컵이 왜 겨울에서 열리는지 모르는 사람이 왤케 많을까요?  카타르라는 지역이 월드컵 개최지역으로 선정 되었는데요 카타르는 엄청 더운 중동지역의... \n",
      "9 동계올림픽, 하계올림픽, 월드컵 개최지 https://kin.naver.com/qna/detail.naver?d1id=10&dirId=100601&docId=405937304&qb=7JuU65Oc7Lu1&enc=utf8§ion=kin&rank=19&search_sort=0&spq=0 2021.11.26. 앞으로 하게 될 올림픽, 월드컵 유치 결정된 곳 다 알려주세요. 2022년 카타르월드컵, 2022년... ------ 월드컵 22회 카타르 2022.11.21. ~ 12.18. ---- 제23회 북중미... \n",
      "10 월드컵 조추첨은 언제 하나요?? https://kin.naver.com/qna/detail.naver?d1id=10&dirId=10010101&docId=411352755&qb=7JuU65Oc7Lu1&enc=utf8§ion=kin&rank=20&search_sort=0&spq=0 2022.02.04. 월드컵 조추첨은 언제 하나요?? 안녕하세요 MACHAM입니다. 월드컵 문의해주셨네요 답변 4월3일 월드컵 조추첨입니다. 깨끗하고 거짓 없는 지식iN 지식인 모두가 함께 만들어... \n",
      "3번째 페이지 크롤링중\n",
      "1 카타르 월드컵 바뀐 규칙 https://kin.naver.com/qna/detail.naver?d1id=10&dirId=10010101&docId=428708801&qb=7JuU65Oc7Lu1&enc=utf8§ion=kin&rank=21&search_sort=0&spq=0 2022.09.20. 카타르 월드컵 바뀐 경기 규칙 전부 다 설명해주세요  카타르 월드컵 바뀐 경기규칙 없습니다. 즐거운 하루 되세요.\n",
      "2 2022 카타르 월드컵 한국 일정 어떻게...  https://kin.naver.com/qna/detail.naver?d1id=10&dirId=10010101&docId=431975743&qb=7JuU65Oc7Lu1&enc=utf8§ion=kin&rank=22&search_sort=0&spq=0 2022.11.04. 2022 카타르 월드컵 한국 일정 어떻게 되나요? 월드컵 일정 알려주세요  [질문] 2022 카타르 월드컵 한국 일정 어떻게 되나요? 월드컵 일정 알려주세요 [답변] 2022... \n",
      "3 안정환 선수 월드컵 https://kin.naver.com/qna/detail.naver?d1id=10&dirId=10010101&docId=427277405&qb=7JuU65Oc7Lu1&enc=utf8§ion=kin&rank=23&search_sort=0&spq=0 2022.08.30. 어느 경기 월드컵에서 골 넣었는지 알려주세요 2002 한/일 월드컵 조별예선 2차전 대한민국 1 vs 1 미국 (안정환 헤더 동점 골) 2002 한/일 월드컵 16강전 대한민국 2 vs 1... \n",
      "4 네이마르 월드컵 https://kin.naver.com/qna/detail.naver?d1id=10&dirId=10010101&docId=431435618&qb=7JuU65Oc7Lu1&enc=utf8§ion=kin&rank=24&search_sort=0&spq=0 2022.10.28. 네이마르 월드컵이 카타르가 마지막이나요?  나이적으로 충분히, 2026년북중미 월드컵까진 부상만 없다면, 국가대표로 출전 가능한 나이입니다.\n",
      "5 라모스는 카타르 월드컵에 출전 하나요? https://kin.naver.com/qna/detail.naver?d1id=10&dirId=10010101&docId=431959825&qb=7JuU65Oc7Lu1&enc=utf8§ion=kin&rank=25&search_sort=0&spq=0 2022.11.04. 현재 라모스가 카타르 월드컵에 출전 하는지 모르는데 월드컵에 출전 하나요?  대체로 안... 예비명단을 발탁해도 월드컵 진출 명단엔 넣지 않을거란 의견이 꽤 있는 것 같네요.\n",
      "6 카타르 월드컵 한국 유니폼 https://kin.naver.com/qna/detail.naver?d1id=10&dirId=10010101&docId=419626327&qb=7JuU65Oc7Lu1&enc=utf8§ion=kin&rank=26&search_sort=0&spq=0 2022.05.17. 국대 유니폼 이번 월드컵때 바뀌나요? 월드컵 앞두고 항상 새로운 디자인의 유니폼이 나왔습니다. 이번 카타르월드컵도 새 유니폼이 나올 것입니다. \n",
      "7 이강인 이번 카타르 월드컵 안 뛰나요 https://kin.naver.com/qna/detail.naver?d1id=10&dirId=100101&docId=429326086&qb=7JuU65Oc7Lu1&enc=utf8§ion=kin&rank=27&search_sort=0&spq=0 2022.09.28. 이강인 이번 카타르 월드컵 안 뛰나요? 어제가 월드컵전 마지막평가전인데 1분도... 상당히 높아보이긴하네요 월드컵 엔트리는 26명이니 아직가능성이 없는건 아닙니다 \n",
      "8 영국이 왜 월드컵에 안나오는이유 https://kin.naver.com/qna/detail.naver?d1id=10&dirId=10010101&docId=431797883&qb=7JuU65Oc7Lu1&enc=utf8§ion=kin&rank=28&search_sort=0&spq=0 2022.11.02. 제목 그대로입니다. 영국이 축구 강국인데 왜 월드컵에 안 나오는 이유는 궁금합니다. 월드컵엔 영국단일팀으로 나갈 수가 없기 때문입니다 4개의 나라로 나뉘어져 있거든요 \n",
      "9 서울월드컵경기장 1등석A E-F구역 22열 https://kin.naver.com/qna/detail.naver?d1id=5&dirId=51002&docId=421996885&qb=7JuU65Oc7Lu1&enc=utf8§ion=kin&rank=29&search_sort=0&spq=0 2022.06.18. ㅈㄱㄴ 서울월드컵경기장 1등석A E-F구역 22열 혹시 직관해보셨던 분 계실까요? 선수들 잘 보일까요? ●서울월드컵경기장 1등석A E-F구역 22열은 1등석으로 하프라인을... \n",
      "10 아시안게임, 월드컵 https://kin.naver.com/qna/detail.naver?d1id=10&dirId=1006&docId=412125770&qb=7JuU65Oc7Lu1&enc=utf8§ion=kin&rank=30&search_sort=0&spq=0 2022.02.13. ... 나와있고 월드컵도 검색해보니까 11월달에 한다고 나와있는데 원래 하계, 동계, 아시안, 월드컵이 4년마다... 원래 동계 올림픽,하계 아시안 게임,월드컵 축구가 모두 같은... \n"
     ]
    }
   ],
   "source": [
    "import openpyxl\n",
    "import requests\n",
    "from bs4 import BeautifulSoup\n",
    "\n",
    "keyword = input(\"검색어를 입력하세요: \")\n",
    "page = int(input(\"페이지 입력하세요: \"))\n",
    "\n",
    "wb = openpyxl.Workbook()\n",
    "ws = wb.active # 현재 활성화된 sheet 선택\n",
    "ws.title = keyword # sheet 이름 변경\n",
    "\n",
    "ws.append([\"제목\", \"링크\", \"날짜\", \"내용\"])\n",
    "\n",
    "for i in range(1, page + 1):\n",
    "    print(f\"{i}번째 페이지 크롤링중\")\n",
    "    response = requests.get(f\"https://kin.naver.com/search/list.naver?query={keyword}&page={i}\")\n",
    "    html = response.text\n",
    "    soup = BeautifulSoup(html, 'html.parser')\n",
    "    questions = soup.select(\".basic1 > li\")\n",
    "    \n",
    "    for i, question in enumerate(questions, 1):\n",
    "        anchor = question.select_one(\"dt > a\")\n",
    "        title = anchor.text\n",
    "        link = anchor['href']\n",
    "        date = question.select_one(\".txt_inline\").text\n",
    "        content = question.select_one(\".txt_inline +dd\").text\n",
    "        print(i, title, link, date, content, end='\\n')\n",
    "        ws.append([title, link, date, content])\n",
    "\n",
    "wb.save(f\"{keyword}.xlsx\")"
   ]
  },
  {
   "cell_type": "code",
   "execution_count": 15,
   "metadata": {},
   "outputs": [
    {
     "ename": "AttributeError",
     "evalue": "'NoneType' object has no attribute 'text'",
     "output_type": "error",
     "traceback": [
      "\u001b[1;31m---------------------------------------------------------------------------\u001b[0m",
      "\u001b[1;31mAttributeError\u001b[0m                            Traceback (most recent call last)",
      "\u001b[1;32mc:\\Users\\USER\\Documents\\현장실습\\03.정적페이지크롤링\\07.네이버지식인5단계.ipynb 셀 10\u001b[0m in \u001b[0;36m<cell line: 6>\u001b[1;34m()\u001b[0m\n\u001b[0;32m      <a href='vscode-notebook-cell:/c%3A/Users/USER/Documents/%ED%98%84%EC%9E%A5%EC%8B%A4%EC%8A%B5/03.%EC%A0%95%EC%A0%81%ED%8E%98%EC%9D%B4%EC%A7%80%ED%81%AC%EB%A1%A4%EB%A7%81/07.%EB%84%A4%EC%9D%B4%EB%B2%84%EC%A7%80%EC%8B%9D%EC%9D%B85%EB%8B%A8%EA%B3%84.ipynb#X12sZmlsZQ%3D%3D?line=7'>8</a>\u001b[0m title \u001b[39m=\u001b[39m anchor\u001b[39m.\u001b[39mtext\n\u001b[0;32m      <a href='vscode-notebook-cell:/c%3A/Users/USER/Documents/%ED%98%84%EC%9E%A5%EC%8B%A4%EC%8A%B5/03.%EC%A0%95%EC%A0%81%ED%8E%98%EC%9D%B4%EC%A7%80%ED%81%AC%EB%A1%A4%EB%A7%81/07.%EB%84%A4%EC%9D%B4%EB%B2%84%EC%A7%80%EC%8B%9D%EC%9D%B85%EB%8B%A8%EA%B3%84.ipynb#X12sZmlsZQ%3D%3D?line=8'>9</a>\u001b[0m link \u001b[39m=\u001b[39m anchor[\u001b[39m'\u001b[39m\u001b[39mhref\u001b[39m\u001b[39m'\u001b[39m]\n\u001b[1;32m---> <a href='vscode-notebook-cell:/c%3A/Users/USER/Documents/%ED%98%84%EC%9E%A5%EC%8B%A4%EC%8A%B5/03.%EC%A0%95%EC%A0%81%ED%8E%98%EC%9D%B4%EC%A7%80%ED%81%AC%EB%A1%A4%EB%A7%81/07.%EB%84%A4%EC%9D%B4%EB%B2%84%EC%A7%80%EC%8B%9D%EC%9D%B85%EB%8B%A8%EA%B3%84.ipynb#X12sZmlsZQ%3D%3D?line=9'>10</a>\u001b[0m content \u001b[39m=\u001b[39m question\u001b[39m.\u001b[39;49mselect_one(\u001b[39m\"\u001b[39;49m\u001b[39m.dsc_wrap\u001b[39;49m\u001b[39m\"\u001b[39;49m)\u001b[39m.\u001b[39;49mtext\n\u001b[0;32m     <a href='vscode-notebook-cell:/c%3A/Users/USER/Documents/%ED%98%84%EC%9E%A5%EC%8B%A4%EC%8A%B5/03.%EC%A0%95%EC%A0%81%ED%8E%98%EC%9D%B4%EC%A7%80%ED%81%AC%EB%A1%A4%EB%A7%81/07.%EB%84%A4%EC%9D%B4%EB%B2%84%EC%A7%80%EC%8B%9D%EC%9D%B85%EB%8B%A8%EA%B3%84.ipynb#X12sZmlsZQ%3D%3D?line=10'>11</a>\u001b[0m \u001b[39mprint\u001b[39m(i, title, link,content, end\u001b[39m=\u001b[39m\u001b[39m'\u001b[39m\u001b[39m\\n\u001b[39;00m\u001b[39m'\u001b[39m)\n",
      "\u001b[1;31mAttributeError\u001b[0m: 'NoneType' object has no attribute 'text'"
     ]
    }
   ],
   "source": [
    "\n",
    "response = requests.get(f\"https://search.naver.com/search.naver?where=news&sm=tab_jum&query={keyword}&page={i}\")\n",
    "html = response.text\n",
    "soup = BeautifulSoup(html, 'html.parser')\n",
    "questions = soup.select(\"ul > li\")\n",
    "    \n",
    "for i, question in enumerate(questions, 1):\n",
    "    anchor = question.select_one(\"li > a\")\n",
    "    title = anchor.text\n",
    "    link = anchor['href']\n",
    "    content = question.select_one(\".dsc_wrap\").text\n",
    "    print(i, title, link,content, end='\\n')\n",
    "       \n",
    "       \n",
    "\n"
   ]
  },
  {
   "cell_type": "code",
   "execution_count": 19,
   "metadata": {},
   "outputs": [
    {
     "ename": "AttributeError",
     "evalue": "'NoneType' object has no attribute 'text'",
     "output_type": "error",
     "traceback": [
      "\u001b[1;31m---------------------------------------------------------------------------\u001b[0m",
      "\u001b[1;31mAttributeError\u001b[0m                            Traceback (most recent call last)",
      "\u001b[1;32mc:\\Users\\USER\\Documents\\현장실습\\03.정적페이지크롤링\\07.네이버지식인5단계.ipynb 셀 11\u001b[0m in \u001b[0;36m<cell line: 13>\u001b[1;34m()\u001b[0m\n\u001b[0;32m     <a href='vscode-notebook-cell:/c%3A/Users/USER/Documents/%ED%98%84%EC%9E%A5%EC%8B%A4%EC%8A%B5/03.%EC%A0%95%EC%A0%81%ED%8E%98%EC%9D%B4%EC%A7%80%ED%81%AC%EB%A1%A4%EB%A7%81/07.%EB%84%A4%EC%9D%B4%EB%B2%84%EC%A7%80%EC%8B%9D%EC%9D%B85%EB%8B%A8%EA%B3%84.ipynb#X13sZmlsZQ%3D%3D?line=14'>15</a>\u001b[0m title \u001b[39m=\u001b[39m anchor\u001b[39m.\u001b[39mtext\n\u001b[0;32m     <a href='vscode-notebook-cell:/c%3A/Users/USER/Documents/%ED%98%84%EC%9E%A5%EC%8B%A4%EC%8A%B5/03.%EC%A0%95%EC%A0%81%ED%8E%98%EC%9D%B4%EC%A7%80%ED%81%AC%EB%A1%A4%EB%A7%81/07.%EB%84%A4%EC%9D%B4%EB%B2%84%EC%A7%80%EC%8B%9D%EC%9D%B85%EB%8B%A8%EA%B3%84.ipynb#X13sZmlsZQ%3D%3D?line=15'>16</a>\u001b[0m link \u001b[39m=\u001b[39m anchor[\u001b[39m'\u001b[39m\u001b[39mhref\u001b[39m\u001b[39m'\u001b[39m]\n\u001b[1;32m---> <a href='vscode-notebook-cell:/c%3A/Users/USER/Documents/%ED%98%84%EC%9E%A5%EC%8B%A4%EC%8A%B5/03.%EC%A0%95%EC%A0%81%ED%8E%98%EC%9D%B4%EC%A7%80%ED%81%AC%EB%A1%A4%EB%A7%81/07.%EB%84%A4%EC%9D%B4%EB%B2%84%EC%A7%80%EC%8B%9D%EC%9D%B85%EB%8B%A8%EA%B3%84.ipynb#X13sZmlsZQ%3D%3D?line=16'>17</a>\u001b[0m content \u001b[39m=\u001b[39m question\u001b[39m.\u001b[39;49mselect_one(\u001b[39m\"\u001b[39;49m\u001b[39m.dsc_wrap\u001b[39;49m\u001b[39m\"\u001b[39;49m)\u001b[39m.\u001b[39;49mtext\n\u001b[0;32m     <a href='vscode-notebook-cell:/c%3A/Users/USER/Documents/%ED%98%84%EC%9E%A5%EC%8B%A4%EC%8A%B5/03.%EC%A0%95%EC%A0%81%ED%8E%98%EC%9D%B4%EC%A7%80%ED%81%AC%EB%A1%A4%EB%A7%81/07.%EB%84%A4%EC%9D%B4%EB%B2%84%EC%A7%80%EC%8B%9D%EC%9D%B85%EB%8B%A8%EA%B3%84.ipynb#X13sZmlsZQ%3D%3D?line=17'>18</a>\u001b[0m \u001b[39mprint\u001b[39m(title, link, content, end\u001b[39m=\u001b[39m\u001b[39m'\u001b[39m\u001b[39m\\n\u001b[39;00m\u001b[39m'\u001b[39m)\n",
      "\u001b[1;31mAttributeError\u001b[0m: 'NoneType' object has no attribute 'text'"
     ]
    }
   ],
   "source": [
    "#._searchListTitleAnchor\n",
    "#dl > dd:nth-of-type(2)\n",
    "#.txt_inline+dd\n",
    "#dl>dd:nth-child(3\n",
    "#.txt_inline +dd\n",
    "#.basic1 > li\n",
    "#.news_tit\n",
    "response = requests.get(f\"https://search.naver.com/search.naver?where=news&sm=tab_jum&query={keyword}&page={i}\")\n",
    "html = response.text\n",
    "soup = BeautifulSoup(html, 'html.parser')\n",
    "questions = soup.select(\"ul > li\")\n",
    " # 질문 10개 덩어리 가져오기\n",
    "for question in questions:\n",
    "    anchor = question.select_one(\"li > a\")\n",
    "    title = anchor.text\n",
    "    link = anchor['href']\n",
    "    content = question.select_one(\".dsc_wrap\").text\n",
    "    print(title, link, content, end='\\n')"
   ]
  },
  {
   "cell_type": "code",
   "execution_count": 26,
   "metadata": {},
   "outputs": [
    {
     "name": "stdout",
     "output_type": "stream",
     "text": [
      "가브리살 돈카츠와 감태 스테이크 타르타르까지, 프리미엄 메뉴들이 있는 성수... http://www.elle.co.kr/article/72068 <a class=\"api_txt_lines dsc_txt_wrap\" href=\"http://www.elle.co.kr/article/72068\" onclick=\"return goOtherCR(this, 'a=nws*f.body&amp;r=1&amp;i=880003F2_000000000000000000046319&amp;g=5027.0000046319&amp;u='+urlencode(this.href));\" target=\"_blank\">마씨 <mark>성수역</mark> 근처 연무장길에 생긴 저온 숙성으로 만든 프리미엄 돈카츠 집이 문을 열었어요. 깔끔한 우드톤 인테리어가 노릇하게 튀겨진 돈카츠 맛을 돋워줍니다. <mark>맛집</mark> 인스타그래머 푸딘코 추천으로 인기가...</a>\n",
      "'생방송투데이-리얼맛집' 서울 성수역 뼈탑숯불구이 고깃집 위치는? 곱창-양대... http://www.topstarnews.net/news/articleView.html?idxno=14626293 <a class=\"api_txt_lines dsc_txt_wrap\" href=\"http://www.topstarnews.net/news/articleView.html?idxno=14626293\" onclick=\"return goOtherCR(this, 'a=nws*f.body&amp;r=2&amp;i=88155e6f_000000000000000000772446&amp;g=5353.0000772446&amp;u='+urlencode(this.href));\" target=\"_blank\">'생방송투데이'에서 소개한 서울 성동구 성수동2가 <mark>성수역</mark> 소재 뼈탑숯불구이 <mark>맛집</mark>이 뜨거운 화제다. 1일 SBS '생방송투데이'의 '리얼<mark>맛집</mark>' 코너에서는 '뜯高 맛보高 즐기高 뼈탑숯불구이'라는 주제를 다뤘다....</a>\n",
      "'생방송 투데이-역전의명샷' 성수역 맛집…할아버지피자&지중해에이드+돼지갈... http://www.topstarnews.net/news/articleView.html?idxno=830503 <a class=\"api_txt_lines dsc_txt_wrap\" href=\"http://www.topstarnews.net/news/articleView.html?idxno=830503\" onclick=\"return goOtherCR(this, 'a=nws*f.body&amp;r=3&amp;i=88155e6f_000000000000000000711957&amp;g=5353.0000711957&amp;u='+urlencode(this.href));\" target=\"_blank\">(오늘방송<mark>맛집</mark>) 이날 방송된 역전의명샷 코너에서는 공세권으로 떠나는 혼자여행, <mark>성수역</mark>편으로 꾸며졌다. 서울 성동구에위치한 두곳의 <mark>맛집</mark>을 소개했다. 먼저 찾은 곳은 할아버지피자, 지중해에이드...</a>\n",
      "핫플 성수동 문화예술로 만나는 '성동 디자인위크' 열린다 https://view.asiae.co.kr/article/2022103006522890887 <a class=\"api_txt_lines dsc_txt_wrap\" href=\"https://view.asiae.co.kr/article/2022103006522890887\" onclick=\"return goOtherCR(this, 'a=nws*e.body&amp;r=4&amp;i=88000385_000000000000000005169230&amp;g=277.0005169230&amp;u='+urlencode(this.href));\" target=\"_blank\">성동구(구청장 정원오)는 뚝도시장과 <mark>성수역</mark> 인근에서 11월3일부터 5일까지 성수동 문화를 체험하는 디자인... 뚝도시장 <mark>맛집</mark>들이 자랑하는 메뉴로 구성된 이 도시락은 체험 클래스에도 포함된다. 이런 다양한 체험은...</a>\n",
      "'생방송 투데이' 오늘방송맛집 - 빅데이터 랭킹 맛집, 족발 맛집 '권○○○'…... https://www.etoday.co.kr/news/view/2086170 <a class=\"api_txt_lines dsc_txt_wrap\" href=\"https://www.etoday.co.kr/news/view/2086170\" onclick=\"return goOtherCR(this, 'a=nws*b.body&amp;r=5&amp;i=88000393_000000000000000001705400&amp;g=5003.0001705400&amp;u='+urlencode(this.href));\" target=\"_blank\">서울 성동구, 아차산, <mark>성수역 맛집</mark>으로 통하는 '권○○○'에서는 쫄깃한 족발을 만나볼 수 있다. 잡내가 나지 않고 양념이 더해져 부드러운 식감이 특징이다. 달달한 맛으로 아이들도 좋아하는 족발이다. 수도권...</a>\n",
      "생방송 투데이' 오늘방송맛집- 리얼 맛집, 색다른 변신! 퓨전 중식 삼총사 맛... https://www.etoday.co.kr/news/view/2085412 <a class=\"api_txt_lines dsc_txt_wrap\" href=\"https://www.etoday.co.kr/news/view/2085412\" onclick=\"return goOtherCR(this, 'a=nws*b.body&amp;r=7&amp;i=88000393_000000000000000001704733&amp;g=5003.0001704733&amp;u='+urlencode(this.href));\" target=\"_blank\">서울 성동구, <mark>성수역</mark>, 서울숲 <mark>맛집</mark>으로 통하는 '전○○'에서는 특별한 중식을 만날 수 있다. 상큼한 베리가 들어간 베리베리 탕수육, 감바스에 마라를 더한 마라감바스, 통통한 새우와 레몬크림 소스를 더한 레몬 크림새우...</a>\n",
      "'생방송투데이-수요맛전' 서울 성수역 대파돈마호크 vs 합정역 토마호크 스테... http://www.topstarnews.net/news/articleView.html?idxno=14693106 <a class=\"api_txt_lines dsc_txt_wrap\" href=\"http://www.topstarnews.net/news/articleView.html?idxno=14693106\" onclick=\"return goOtherCR(this, 'a=nws*f.body&amp;r=9&amp;i=88155e6f_000000000000000000824553&amp;g=5353.0000824553&amp;u='+urlencode(this.href));\" target=\"_blank\">서울 성동구 성수동2가, <mark>성수역</mark> 인근 약 100m 거리에 위치한 대파돈마호크 <mark>맛집</mark>은 많은 이들의 사랑을 받는 돼지고기구이 전문점이다. 대파 돈마호크 한 판을 비롯해 대파삼목껍, 생껍데기, 물쫄면, 비빔쫄면 등이 준비돼...</a>\n",
      "성수역 맛집 교대이층집 성수점, 삼겹살 별미부터 아늑한 분위기까지 http://www.incheonilbo.com/?mod=news&act=articleView&idxno=796790 <a class=\"api_txt_lines dsc_txt_wrap\" href=\"http://www.incheonilbo.com/?mod=news&amp;act=articleView&amp;idxno=796790\" onclick=\"return goOtherCR(this, 'a=nws*f.body&amp;r=10&amp;i=88123FBD_000000000000000000209271&amp;g=5193.0000209271&amp;u='+urlencode(this.href));\" target=\"_blank\">교대이층집 성수점은 국내산 1등급 돼지만을 취급하는 <mark>성수역</mark> 삼겹살 <mark>맛집</mark>이다. 쫄깃하고 부드러운 식감을 갖춘 꽃삼겹은 남녀노소 누구나 좋아하는 별미 중 별미로 꼽힌다. 당일 공수한 식재료만을 취급하여 타 업체와...</a>\n",
      "'생방송투데이-수요맛전' 서울 성수동 곱창·대창·막창·염통 vs 강남 논현동... http://www.topstarnews.net/news/articleView.html?idxno=14752070 <a class=\"api_txt_lines dsc_txt_wrap\" href=\"http://www.topstarnews.net/news/articleView.html?idxno=14752070\" onclick=\"return goOtherCR(this, 'a=nws*f.body&amp;r=11&amp;i=88155e6f_000000000000000000847736&amp;g=5353.0000847736&amp;u='+urlencode(this.href));\" target=\"_blank\">또는 <mark>맛집</mark>과 명소가 두루 소개됐다. 서울 성동구 성수동2가, <mark>성수역</mark> 인근 약 500m 거리에 위치한 곱창·대창·막창·염통 <mark>맛집</mark>은 인기 소곱창 전문점이다. 모듬구이(곱창·대창·막창·염통), 한우생곱창, 한우염통...</a>\n",
      "'생방송 투데이' 오늘방송맛집- 리얼 맛집, 뜯高 맛보高 즐기高! 뼈탑숯불구이... https://www.etoday.co.kr/news/view/2058756 <a class=\"api_txt_lines dsc_txt_wrap\" href=\"https://www.etoday.co.kr/news/view/2058756\" onclick=\"return goOtherCR(this, 'a=nws*f.body&amp;r=12&amp;i=88000393_000000000000000001681356&amp;g=5003.0001681356&amp;u='+urlencode(this.href));\" target=\"_blank\">서울 성동구, <mark>성수역 맛집</mark>으로 통하는 '직○○○'에서는 뼈탑숯불구이를 만날 수 있다. 감자뼈구이를 사용, 미리 초벌돼 나오는 고기를 각자 자리에서 불향을 입혀 먹으면 된다. 뼈구이, 꿀살 또는 삼겹살, 된장찌개 또는...</a>\n"
     ]
    }
   ],
   "source": [
    "#.news_area\n",
    "import requests\n",
    "from bs4 import BeautifulSoup\n",
    "\n",
    "response = requests.get('https://search.naver.com/search.naver?where=news&sm=tab_jum&query=%EC%84%B1%EC%88%98%EC%97%AD+%EB%A7%9B%EC%A7%91')\n",
    "html = response.text\n",
    "soup = BeautifulSoup(html, 'html.parser')\n",
    "\n",
    "articles = soup.select(\".news_area\")\n",
    "\n",
    "for article in articles:\n",
    "    anchor = article.select_one(\".news_tit\")\n",
    "    title = anchor.text\n",
    "    link = anchor.attrs['href']\n",
    "    content = article.select_one(\".api_txt_lines.dsc_txt_wrap\")\n",
    "    print(title, link, content)"
   ]
  },
  {
   "cell_type": "code",
   "execution_count": null,
   "metadata": {},
   "outputs": [],
   "source": []
  }
 ],
 "metadata": {
  "kernelspec": {
   "display_name": "Python 3.9.12 ('base')",
   "language": "python",
   "name": "python3"
  },
  "language_info": {
   "codemirror_mode": {
    "name": "ipython",
    "version": 3
   },
   "file_extension": ".py",
   "mimetype": "text/x-python",
   "name": "python",
   "nbconvert_exporter": "python",
   "pygments_lexer": "ipython3",
   "version": "3.9.12"
  },
  "orig_nbformat": 4,
  "vscode": {
   "interpreter": {
    "hash": "263930470851f494f0ed2879c35b57985588df20f9e529b86e97dd5eb9ddc466"
   }
  }
 },
 "nbformat": 4,
 "nbformat_minor": 2
}
