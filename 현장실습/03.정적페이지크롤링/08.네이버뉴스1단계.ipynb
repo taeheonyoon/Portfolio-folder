{
 "cells": [
  {
   "cell_type": "code",
   "execution_count": 1,
   "metadata": {},
   "outputs": [
    {
     "name": "stdout",
     "output_type": "stream",
     "text": [
      "가브리살 돈카츠와 감태 스테이크 타르타르까지, 프리미엄 메뉴들이 있는 성수... http://www.elle.co.kr/article/72068 <a class=\"api_txt_lines dsc_txt_wrap\" href=\"http://www.elle.co.kr/article/72068\" onclick=\"return goOtherCR(this, 'a=nws*f.body&amp;r=1&amp;i=880003F2_000000000000000000046319&amp;g=5027.0000046319&amp;u='+urlencode(this.href));\" target=\"_blank\">마씨 <mark>성수역</mark> 근처 연무장길에 생긴 저온 숙성으로 만든 프리미엄 돈카츠 집이 문을 열었어요. 깔끔한 우드톤 인테리어가 노릇하게 튀겨진 돈카츠 맛을 돋워줍니다. <mark>맛집</mark> 인스타그래머 푸딘코 추천으로 인기가...</a>\n",
      "'생방송투데이-리얼맛집' 서울 성수역 뼈탑숯불구이 고깃집 위치는? 곱창-양대... http://www.topstarnews.net/news/articleView.html?idxno=14626293 <a class=\"api_txt_lines dsc_txt_wrap\" href=\"http://www.topstarnews.net/news/articleView.html?idxno=14626293\" onclick=\"return goOtherCR(this, 'a=nws*f.body&amp;r=2&amp;i=88155e6f_000000000000000000772446&amp;g=5353.0000772446&amp;u='+urlencode(this.href));\" target=\"_blank\">'생방송투데이'에서 소개한 서울 성동구 성수동2가 <mark>성수역</mark> 소재 뼈탑숯불구이 <mark>맛집</mark>이 뜨거운 화제다. 1일 SBS '생방송투데이'의 '리얼<mark>맛집</mark>' 코너에서는 '뜯高 맛보高 즐기高 뼈탑숯불구이'라는 주제를 다뤘다....</a>\n",
      "'생방송 투데이-역전의명샷' 성수역 맛집…할아버지피자&지중해에이드+돼지갈... http://www.topstarnews.net/news/articleView.html?idxno=830503 <a class=\"api_txt_lines dsc_txt_wrap\" href=\"http://www.topstarnews.net/news/articleView.html?idxno=830503\" onclick=\"return goOtherCR(this, 'a=nws*f.body&amp;r=3&amp;i=88155e6f_000000000000000000711957&amp;g=5353.0000711957&amp;u='+urlencode(this.href));\" target=\"_blank\">(오늘방송<mark>맛집</mark>) 이날 방송된 역전의명샷 코너에서는 공세권으로 떠나는 혼자여행, <mark>성수역</mark>편으로 꾸며졌다. 서울 성동구에위치한 두곳의 <mark>맛집</mark>을 소개했다. 먼저 찾은 곳은 할아버지피자, 지중해에이드...</a>\n",
      "핫플 성수동 문화예술로 만나는 '성동 디자인위크' 열린다 https://view.asiae.co.kr/article/2022103006522890887 <a class=\"api_txt_lines dsc_txt_wrap\" href=\"https://view.asiae.co.kr/article/2022103006522890887\" onclick=\"return goOtherCR(this, 'a=nws*e.body&amp;r=4&amp;i=88000385_000000000000000005169230&amp;g=277.0005169230&amp;u='+urlencode(this.href));\" target=\"_blank\">성동구(구청장 정원오)는 뚝도시장과 <mark>성수역</mark> 인근에서 11월3일부터 5일까지 성수동 문화를 체험하는 디자인... 뚝도시장 <mark>맛집</mark>들이 자랑하는 메뉴로 구성된 이 도시락은 체험 클래스에도 포함된다. 이런 다양한 체험은...</a>\n",
      "'생방송 투데이' 오늘방송맛집 - 빅데이터 랭킹 맛집, 족발 맛집 '권○○○'…... https://www.etoday.co.kr/news/view/2086170 <a class=\"api_txt_lines dsc_txt_wrap\" href=\"https://www.etoday.co.kr/news/view/2086170\" onclick=\"return goOtherCR(this, 'a=nws*b.body&amp;r=5&amp;i=88000393_000000000000000001705400&amp;g=5003.0001705400&amp;u='+urlencode(this.href));\" target=\"_blank\">서울 성동구, 아차산, <mark>성수역 맛집</mark>으로 통하는 '권○○○'에서는 쫄깃한 족발을 만나볼 수 있다. 잡내가 나지 않고 양념이 더해져 부드러운 식감이 특징이다. 달달한 맛으로 아이들도 좋아하는 족발이다. 수도권...</a>\n",
      "생방송 투데이' 오늘방송맛집- 리얼 맛집, 색다른 변신! 퓨전 중식 삼총사 맛... https://www.etoday.co.kr/news/view/2085412 <a class=\"api_txt_lines dsc_txt_wrap\" href=\"https://www.etoday.co.kr/news/view/2085412\" onclick=\"return goOtherCR(this, 'a=nws*b.body&amp;r=7&amp;i=88000393_000000000000000001704733&amp;g=5003.0001704733&amp;u='+urlencode(this.href));\" target=\"_blank\">서울 성동구, <mark>성수역</mark>, 서울숲 <mark>맛집</mark>으로 통하는 '전○○'에서는 특별한 중식을 만날 수 있다. 상큼한 베리가 들어간 베리베리 탕수육, 감바스에 마라를 더한 마라감바스, 통통한 새우와 레몬크림 소스를 더한 레몬 크림새우...</a>\n",
      "'생방송투데이-수요맛전' 서울 성수역 대파돈마호크 vs 합정역 토마호크 스테... http://www.topstarnews.net/news/articleView.html?idxno=14693106 <a class=\"api_txt_lines dsc_txt_wrap\" href=\"http://www.topstarnews.net/news/articleView.html?idxno=14693106\" onclick=\"return goOtherCR(this, 'a=nws*f.body&amp;r=9&amp;i=88155e6f_000000000000000000824553&amp;g=5353.0000824553&amp;u='+urlencode(this.href));\" target=\"_blank\">서울 성동구 성수동2가, <mark>성수역</mark> 인근 약 100m 거리에 위치한 대파돈마호크 <mark>맛집</mark>은 많은 이들의 사랑을 받는 돼지고기구이 전문점이다. 대파 돈마호크 한 판을 비롯해 대파삼목껍, 생껍데기, 물쫄면, 비빔쫄면 등이 준비돼...</a>\n",
      "성수역 맛집 교대이층집 성수점, 삼겹살 별미부터 아늑한 분위기까지 http://www.incheonilbo.com/?mod=news&act=articleView&idxno=796790 <a class=\"api_txt_lines dsc_txt_wrap\" href=\"http://www.incheonilbo.com/?mod=news&amp;act=articleView&amp;idxno=796790\" onclick=\"return goOtherCR(this, 'a=nws*f.body&amp;r=10&amp;i=88123FBD_000000000000000000209271&amp;g=5193.0000209271&amp;u='+urlencode(this.href));\" target=\"_blank\">교대이층집 성수점은 국내산 1등급 돼지만을 취급하는 <mark>성수역</mark> 삼겹살 <mark>맛집</mark>이다. 쫄깃하고 부드러운 식감을 갖춘 꽃삼겹은 남녀노소 누구나 좋아하는 별미 중 별미로 꼽힌다. 당일 공수한 식재료만을 취급하여 타 업체와...</a>\n",
      "'생방송투데이-수요맛전' 서울 성수동 곱창·대창·막창·염통 vs 강남 논현동... http://www.topstarnews.net/news/articleView.html?idxno=14752070 <a class=\"api_txt_lines dsc_txt_wrap\" href=\"http://www.topstarnews.net/news/articleView.html?idxno=14752070\" onclick=\"return goOtherCR(this, 'a=nws*f.body&amp;r=11&amp;i=88155e6f_000000000000000000847736&amp;g=5353.0000847736&amp;u='+urlencode(this.href));\" target=\"_blank\">또는 <mark>맛집</mark>과 명소가 두루 소개됐다. 서울 성동구 성수동2가, <mark>성수역</mark> 인근 약 500m 거리에 위치한 곱창·대창·막창·염통 <mark>맛집</mark>은 인기 소곱창 전문점이다. 모듬구이(곱창·대창·막창·염통), 한우생곱창, 한우염통...</a>\n",
      "'생방송 투데이' 오늘방송맛집- 리얼 맛집, 뜯高 맛보高 즐기高! 뼈탑숯불구이... https://www.etoday.co.kr/news/view/2058756 <a class=\"api_txt_lines dsc_txt_wrap\" href=\"https://www.etoday.co.kr/news/view/2058756\" onclick=\"return goOtherCR(this, 'a=nws*f.body&amp;r=12&amp;i=88000393_000000000000000001681356&amp;g=5003.0001681356&amp;u='+urlencode(this.href));\" target=\"_blank\">서울 성동구, <mark>성수역 맛집</mark>으로 통하는 '직○○○'에서는 뼈탑숯불구이를 만날 수 있다. 감자뼈구이를 사용, 미리 초벌돼 나오는 고기를 각자 자리에서 불향을 입혀 먹으면 된다. 뼈구이, 꿀살 또는 삼겹살, 된장찌개 또는...</a>\n"
     ]
    }
   ],
   "source": [
    "#.news_area\n",
    "import requests\n",
    "from bs4 import BeautifulSoup\n",
    "\n",
    "response = requests.get('https://search.naver.com/search.naver?where=news&sm=tab_jum&query=%EC%84%B1%EC%88%98%EC%97%AD+%EB%A7%9B%EC%A7%91')\n",
    "html = response.text\n",
    "soup = BeautifulSoup(html, 'html.parser')\n",
    "\n",
    "articles = soup.select(\".news_area\")\n",
    "\n",
    "for article in articles:\n",
    "    anchor = article.select_one(\".news_tit\")\n",
    "    title = anchor.text\n",
    "    link = anchor.attrs['href']\n",
    "    content = article.select_one(\".api_txt_lines.dsc_txt_wrap\")\n",
    "    print(title, link, content)"
   ]
  },
  {
   "cell_type": "code",
   "execution_count": null,
   "metadata": {},
   "outputs": [],
   "source": []
  }
 ],
 "metadata": {
  "kernelspec": {
   "display_name": "Python 3.9.12 ('base')",
   "language": "python",
   "name": "python3"
  },
  "language_info": {
   "codemirror_mode": {
    "name": "ipython",
    "version": 3
   },
   "file_extension": ".py",
   "mimetype": "text/x-python",
   "name": "python",
   "nbconvert_exporter": "python",
   "pygments_lexer": "ipython3",
   "version": "3.9.12"
  },
  "orig_nbformat": 4,
  "vscode": {
   "interpreter": {
    "hash": "263930470851f494f0ed2879c35b57985588df20f9e529b86e97dd5eb9ddc466"
   }
  }
 },
 "nbformat": 4,
 "nbformat_minor": 2
}
