{
 "cells": [
  {
   "cell_type": "code",
   "execution_count": 1,
   "metadata": {},
   "outputs": [
    {
     "name": "stdout",
     "output_type": "stream",
     "text": [
      "가브리살 돈카츠와 감태 스테이크 타르타르까지, 프리미엄 메뉴들이 있는 성수... http://www.elle.co.kr/article/72068 <a class=\"api_txt_lines dsc_txt_wrap\" href=\"http://www.elle.co.kr/article/72068\" onclick=\"return goOtherCR(this, 'a=nws*f.body&amp;r=1&amp;i=880003F2_000000000000000000046319&amp;g=5027.0000046319&amp;u='+urlencode(this.href));\" target=\"_blank\">마씨 <mark>성수역</mark> 근처 연무장길에 생긴 저온 숙성으로 만든 프리미엄 돈카츠 집이 문을 열었어요. 깔끔한 우드톤 인테리어가 노릇하게 튀겨진 돈카츠 맛을 돋워줍니다. <mark>맛집</mark> 인스타그래머 푸딘코 추천으로 인기가...</a>\n",
      "'생방송투데이-리얼맛집' 서울 성수역 뼈탑숯불구이 고깃집 위치는? 곱창-양대... http://www.topstarnews.net/news/articleView.html?idxno=14626293 <a class=\"api_txt_lines dsc_txt_wrap\" href=\"http://www.topstarnews.net/news/articleView.html?idxno=14626293\" onclick=\"return goOtherCR(this, 'a=nws*f.body&amp;r=2&amp;i=88155e6f_000000000000000000772446&amp;g=5353.0000772446&amp;u='+urlencode(this.href));\" target=\"_blank\">'생방송투데이'에서 소개한 서울 성동구 성수동2가 <mark>성수역</mark> 소재 뼈탑숯불구이 <mark>맛집</mark>이 뜨거운 화제다. 1일 SBS '생방송투데이'의 '리얼<mark>맛집</mark>' 코너에서는 '뜯高 맛보高 즐기高 뼈탑숯불구이'라는 주제를 다뤘다....</a>\n",
      "'생방송 투데이-역전의명샷' 성수역 맛집…할아버지피자&지중해에이드+돼지갈... http://www.topstarnews.net/news/articleView.html?idxno=830503 <a class=\"api_txt_lines dsc_txt_wrap\" href=\"http://www.topstarnews.net/news/articleView.html?idxno=830503\" onclick=\"return goOtherCR(this, 'a=nws*f.body&amp;r=3&amp;i=88155e6f_000000000000000000711957&amp;g=5353.0000711957&amp;u='+urlencode(this.href));\" target=\"_blank\">(오늘방송<mark>맛집</mark>) 이날 방송된 역전의명샷 코너에서는 공세권으로 떠나는 혼자여행, <mark>성수역</mark>편으로 꾸며졌다. 서울 성동구에위치한 두곳의 <mark>맛집</mark>을 소개했다. 먼저 찾은 곳은 할아버지피자, 지중해에이드...</a>\n",
      "핫플 성수동 문화예술로 만나는 '성동 디자인위크' 열린다 https://view.asiae.co.kr/article/2022103006522890887 <a class=\"api_txt_lines dsc_txt_wrap\" href=\"https://view.asiae.co.kr/article/2022103006522890887\" onclick=\"return goOtherCR(this, 'a=nws*e.body&amp;r=4&amp;i=88000385_000000000000000005169230&amp;g=277.0005169230&amp;u='+urlencode(this.href));\" target=\"_blank\">성동구(구청장 정원오)는 뚝도시장과 <mark>성수역</mark> 인근에서 11월3일부터 5일까지 성수동 문화를 체험하는 디자인... 뚝도시장 <mark>맛집</mark>들이 자랑하는 메뉴로 구성된 이 도시락은 체험 클래스에도 포함된다. 이런 다양한 체험은...</a>\n",
      "'생방송 투데이' 오늘방송맛집 - 빅데이터 랭킹 맛집, 족발 맛집 '권○○○'…... https://www.etoday.co.kr/news/view/2086170 <a class=\"api_txt_lines dsc_txt_wrap\" href=\"https://www.etoday.co.kr/news/view/2086170\" onclick=\"return goOtherCR(this, 'a=nws*b.body&amp;r=5&amp;i=88000393_000000000000000001705400&amp;g=5003.0001705400&amp;u='+urlencode(this.href));\" target=\"_blank\">서울 성동구, 아차산, <mark>성수역 맛집</mark>으로 통하는 '권○○○'에서는 쫄깃한 족발을 만나볼 수 있다. 잡내가 나지 않고 양념이 더해져 부드러운 식감이 특징이다. 달달한 맛으로 아이들도 좋아하는 족발이다. 수도권...</a>\n",
      "생방송 투데이' 오늘방송맛집- 리얼 맛집, 색다른 변신! 퓨전 중식 삼총사 맛... https://www.etoday.co.kr/news/view/2085412 <a class=\"api_txt_lines dsc_txt_wrap\" href=\"https://www.etoday.co.kr/news/view/2085412\" onclick=\"return goOtherCR(this, 'a=nws*b.body&amp;r=7&amp;i=88000393_000000000000000001704733&amp;g=5003.0001704733&amp;u='+urlencode(this.href));\" target=\"_blank\">서울 성동구, <mark>성수역</mark>, 서울숲 <mark>맛집</mark>으로 통하는 '전○○'에서는 특별한 중식을 만날 수 있다. 상큼한 베리가 들어간 베리베리 탕수육, 감바스에 마라를 더한 마라감바스, 통통한 새우와 레몬크림 소스를 더한 레몬 크림새우...</a>\n",
      "'생방송투데이-수요맛전' 서울 성수역 대파돈마호크 vs 합정역 토마호크 스테... http://www.topstarnews.net/news/articleView.html?idxno=14693106 <a class=\"api_txt_lines dsc_txt_wrap\" href=\"http://www.topstarnews.net/news/articleView.html?idxno=14693106\" onclick=\"return goOtherCR(this, 'a=nws*f.body&amp;r=9&amp;i=88155e6f_000000000000000000824553&amp;g=5353.0000824553&amp;u='+urlencode(this.href));\" target=\"_blank\">서울 성동구 성수동2가, <mark>성수역</mark> 인근 약 100m 거리에 위치한 대파돈마호크 <mark>맛집</mark>은 많은 이들의 사랑을 받는 돼지고기구이 전문점이다. 대파 돈마호크 한 판을 비롯해 대파삼목껍, 생껍데기, 물쫄면, 비빔쫄면 등이 준비돼...</a>\n",
      "성수역 맛집 교대이층집 성수점, 삼겹살 별미부터 아늑한 분위기까지 http://www.incheonilbo.com/?mod=news&act=articleView&idxno=796790 <a class=\"api_txt_lines dsc_txt_wrap\" href=\"http://www.incheonilbo.com/?mod=news&amp;act=articleView&amp;idxno=796790\" onclick=\"return goOtherCR(this, 'a=nws*f.body&amp;r=10&amp;i=88123FBD_000000000000000000209271&amp;g=5193.0000209271&amp;u='+urlencode(this.href));\" target=\"_blank\">교대이층집 성수점은 국내산 1등급 돼지만을 취급하는 <mark>성수역</mark> 삼겹살 <mark>맛집</mark>이다. 쫄깃하고 부드러운 식감을 갖춘 꽃삼겹은 남녀노소 누구나 좋아하는 별미 중 별미로 꼽힌다. 당일 공수한 식재료만을 취급하여 타 업체와...</a>\n",
      "'생방송투데이-수요맛전' 서울 성수동 곱창·대창·막창·염통 vs 강남 논현동... http://www.topstarnews.net/news/articleView.html?idxno=14752070 <a class=\"api_txt_lines dsc_txt_wrap\" href=\"http://www.topstarnews.net/news/articleView.html?idxno=14752070\" onclick=\"return goOtherCR(this, 'a=nws*f.body&amp;r=11&amp;i=88155e6f_000000000000000000847736&amp;g=5353.0000847736&amp;u='+urlencode(this.href));\" target=\"_blank\">또는 <mark>맛집</mark>과 명소가 두루 소개됐다. 서울 성동구 성수동2가, <mark>성수역</mark> 인근 약 500m 거리에 위치한 곱창·대창·막창·염통 <mark>맛집</mark>은 인기 소곱창 전문점이다. 모듬구이(곱창·대창·막창·염통), 한우생곱창, 한우염통...</a>\n",
      "'생방송 투데이' 오늘방송맛집- 리얼 맛집, 뜯高 맛보高 즐기高! 뼈탑숯불구이... https://www.etoday.co.kr/news/view/2058756 <a class=\"api_txt_lines dsc_txt_wrap\" href=\"https://www.etoday.co.kr/news/view/2058756\" onclick=\"return goOtherCR(this, 'a=nws*f.body&amp;r=12&amp;i=88000393_000000000000000001681356&amp;g=5003.0001681356&amp;u='+urlencode(this.href));\" target=\"_blank\">서울 성동구, <mark>성수역 맛집</mark>으로 통하는 '직○○○'에서는 뼈탑숯불구이를 만날 수 있다. 감자뼈구이를 사용, 미리 초벌돼 나오는 고기를 각자 자리에서 불향을 입혀 먹으면 된다. 뼈구이, 꿀살 또는 삼겹살, 된장찌개 또는...</a>\n"
     ]
    }
   ],
   "source": [
    "#.news_area\n",
    "import requests\n",
    "from bs4 import BeautifulSoup\n",
    "\n",
    "response = requests.get('https://search.naver.com/search.naver?where=news&sm=tab_jum&query=%EC%84%B1%EC%88%98%EC%97%AD+%EB%A7%9B%EC%A7%91')\n",
    "html = response.text\n",
    "soup = BeautifulSoup(html, 'html.parser')\n",
    "\n",
    "articles = soup.select(\".news_area\")\n",
    "\n",
    "for article in articles:\n",
    "    anchor = article.select_one(\".news_tit\")\n",
    "    title = anchor.text\n",
    "    link = anchor.attrs['href']\n",
    "    content = article.select_one(\".api_txt_lines.dsc_txt_wrap\")\n",
    "    print(title, link, content)"
   ]
  },
  {
   "cell_type": "code",
   "execution_count": 4,
   "metadata": {},
   "outputs": [
    {
     "ename": "NameError",
     "evalue": "name 'requests' is not defined",
     "output_type": "error",
     "traceback": [
      "\u001b[1;31m---------------------------------------------------------------------------\u001b[0m",
      "\u001b[1;31mNameError\u001b[0m                                 Traceback (most recent call last)",
      "\u001b[1;32mc:\\Users\\USER\\Documents\\현장실습\\03.정적페이지크롤링\\09.네이버뉴스2단계.ipynb 셀 2\u001b[0m in \u001b[0;36m<cell line: 8>\u001b[1;34m()\u001b[0m\n\u001b[0;32m      <a href='vscode-notebook-cell:/c%3A/Users/USER/Documents/%ED%98%84%EC%9E%A5%EC%8B%A4%EC%8A%B5/03.%EC%A0%95%EC%A0%81%ED%8E%98%EC%9D%B4%EC%A7%80%ED%81%AC%EB%A1%A4%EB%A7%81/09.%EB%84%A4%EC%9D%B4%EB%B2%84%EB%89%B4%EC%8A%A42%EB%8B%A8%EA%B3%84.ipynb#W0sZmlsZQ%3D%3D?line=3'>4</a>\u001b[0m keyword \u001b[39m=\u001b[39m \u001b[39minput\u001b[39m(\u001b[39m\"\u001b[39m\u001b[39m검색어를 입력하세요: \u001b[39m\u001b[39m\"\u001b[39m)\n\u001b[0;32m      <a href='vscode-notebook-cell:/c%3A/Users/USER/Documents/%ED%98%84%EC%9E%A5%EC%8B%A4%EC%8A%B5/03.%EC%A0%95%EC%A0%81%ED%8E%98%EC%9D%B4%EC%A7%80%ED%81%AC%EB%A1%A4%EB%A7%81/09.%EB%84%A4%EC%9D%B4%EB%B2%84%EB%89%B4%EC%8A%A42%EB%8B%A8%EA%B3%84.ipynb#W0sZmlsZQ%3D%3D?line=4'>5</a>\u001b[0m page \u001b[39m=\u001b[39m \u001b[39mint\u001b[39m(\u001b[39minput\u001b[39m(\u001b[39m\"\u001b[39m\u001b[39m페이지 입력하세요: \u001b[39m\u001b[39m\"\u001b[39m))\n\u001b[1;32m----> <a href='vscode-notebook-cell:/c%3A/Users/USER/Documents/%ED%98%84%EC%9E%A5%EC%8B%A4%EC%8A%B5/03.%EC%A0%95%EC%A0%81%ED%8E%98%EC%9D%B4%EC%A7%80%ED%81%AC%EB%A1%A4%EB%A7%81/09.%EB%84%A4%EC%9D%B4%EB%B2%84%EB%89%B4%EC%8A%A42%EB%8B%A8%EA%B3%84.ipynb#W0sZmlsZQ%3D%3D?line=7'>8</a>\u001b[0m response \u001b[39m=\u001b[39m requests\u001b[39m.\u001b[39mget(\u001b[39m'\u001b[39m\u001b[39mhttps://search.naver.com/search.naver?where=news&sm=tab_jum&query=\u001b[39m\u001b[39m%E\u001b[39;00m\u001b[39mC\u001b[39m\u001b[39m%84%\u001b[39;00m\u001b[39mB1\u001b[39m\u001b[39m%E\u001b[39;00m\u001b[39mC\u001b[39m\u001b[39m%88%\u001b[39;00m\u001b[39m98\u001b[39m\u001b[39m%E\u001b[39;00m\u001b[39mC\u001b[39m\u001b[39m%97%\u001b[39;00m\u001b[39mAD+\u001b[39m\u001b[39m%E\u001b[39;00m\u001b[39mB\u001b[39m\u001b[39m%\u001b[39m\u001b[39mA7\u001b[39m\u001b[39m%\u001b[39m\u001b[39m9B\u001b[39m\u001b[39m%E\u001b[39;00m\u001b[39mC\u001b[39m\u001b[39m%\u001b[39m\u001b[39mA7\u001b[39m\u001b[39m%\u001b[39m\u001b[39m91\u001b[39m\u001b[39m'\u001b[39m)\n\u001b[0;32m      <a href='vscode-notebook-cell:/c%3A/Users/USER/Documents/%ED%98%84%EC%9E%A5%EC%8B%A4%EC%8A%B5/03.%EC%A0%95%EC%A0%81%ED%8E%98%EC%9D%B4%EC%A7%80%ED%81%AC%EB%A1%A4%EB%A7%81/09.%EB%84%A4%EC%9D%B4%EB%B2%84%EB%89%B4%EC%8A%A42%EB%8B%A8%EA%B3%84.ipynb#W0sZmlsZQ%3D%3D?line=8'>9</a>\u001b[0m html \u001b[39m=\u001b[39m response\u001b[39m.\u001b[39mtext\n\u001b[0;32m     <a href='vscode-notebook-cell:/c%3A/Users/USER/Documents/%ED%98%84%EC%9E%A5%EC%8B%A4%EC%8A%B5/03.%EC%A0%95%EC%A0%81%ED%8E%98%EC%9D%B4%EC%A7%80%ED%81%AC%EB%A1%A4%EB%A7%81/09.%EB%84%A4%EC%9D%B4%EB%B2%84%EB%89%B4%EC%8A%A42%EB%8B%A8%EA%B3%84.ipynb#W0sZmlsZQ%3D%3D?line=9'>10</a>\u001b[0m soup \u001b[39m=\u001b[39m BeautifulSoup(html, \u001b[39m'\u001b[39m\u001b[39mhtml.parser\u001b[39m\u001b[39m'\u001b[39m)\n",
      "\u001b[1;31mNameError\u001b[0m: name 'requests' is not defined"
     ]
    }
   ],
   "source": [
    "#2단계\n",
    "#특정 키워드 n페이지 - 제목, 링크, 내용\n",
    "\n",
    "keyword = input(\"검색어를 입력하세요: \")\n",
    "page = int(input(\"페이지 입력하세요: \"))\n",
    "\n",
    "for i in range(1, page + 1):\n",
    "    print(f\"{i}번째 페이지 크롤링중\")\n",
    "    response = requests.get(f\"https://search.naver.com/search.naver?where=news&sm=tab_jum&query={keyword}&start={i*10-9}\")\n",
    "    html = response.text \n",
    "    soup = BeautifulSoup(html, 'html.parser')\n",
    "    articles = soup.select(\".news_area\")\n",
    "    \n",
    "    for i, articles in enumerate(articles, 1):\n",
    "        anchor = articles.select_one(\".news_tit\")\n",
    "        title = anchor.text\n",
    "        link = anchor['href']\n",
    "        content = articles.select_one(\".dsc_txt_wrap\")\n",
    "        print(i, title, link, content)\n",
    "       \n",
    "\n"
   ]
  },
  {
   "cell_type": "code",
   "execution_count": 6,
   "metadata": {},
   "outputs": [
    {
     "name": "stdout",
     "output_type": "stream",
     "text": [
      "1번째 페이지 크롤링중\n"
     ]
    }
   ],
   "source": [
    "#2단계\n",
    "#특정 키워드 n페이지 - 제목, 링크, 내용\n",
    "import requests\n",
    "from bs4 import BeautifulSoup\n",
    "keyword = input(\"검색어를 입력하세요: \")\n",
    "page = int(input(\"페이지 입력하세요: \"))\n",
    "\n",
    "for i in range(1, page + 1):\n",
    "    print(f\"{i}번째 페이지 크롤링중\")\n",
    "    response = requests.get(f\"https://search.naver.com/search.naver?where=news&sm=tab_jum&query={keyword}&start={i*10-9}\")\n",
    "    html = response.text\n",
    "    soup = BeautifulSoup(html, 'html.parser')\n",
    "    articles = soup.select(\".news_area\")\n",
    "    \n",
    "    for i, articles in enumerate(articles, 1):\n",
    "        anchor = articles.select_one(\".news_tit\")\n",
    "        "
   ]
  },
  {
   "cell_type": "code",
   "execution_count": 8,
   "metadata": {},
   "outputs": [
    {
     "ename": "IndentationError",
     "evalue": "expected an indented block (1914619070.py, line 8)",
     "output_type": "error",
     "traceback": [
      "\u001b[1;36m  Input \u001b[1;32mIn [8]\u001b[1;36m\u001b[0m\n\u001b[1;33m    response = requests.get('https://search.naver.com/search.naver?where=news&sm=tab_jum&query={keyword}&start={page*10-9}')#10*(i-1)+1\u001b[0m\n\u001b[1;37m    ^\u001b[0m\n\u001b[1;31mIndentationError\u001b[0m\u001b[1;31m:\u001b[0m expected an indented block\n"
     ]
    }
   ],
   "source": [
    "import requests\n",
    "from bs4 import BeautifulSoup\n",
    "\n",
    "keyword = input(\"검색어를 입력하세요: \")\n",
    "page = int(input(\"페이지 입력하세요: \"))\n",
    "\n",
    "for i in range(1, page +1):\n",
    "response = requests.get('https://search.naver.com/search.naver?where=news&sm=tab_jum&query={keyword}&start={page*10-9}')#10*(i-1)+1\n",
    "html = response.text\n",
    "soup = BeautifulSoup(html, 'html.parser')\n",
    "\n",
    "articles = soup.select(\".news_area\")\n",
    "\n",
    "for article in articles:\n",
    "    anchor = article.select_one(\".news_tit\")\n",
    "    title = anchor.text\n",
    "    link = anchor.attrs['href']\n",
    "    content = article.select_one(\".api_txt_lines.dsc_txt_wrap\")\n",
    "    print(title, link, content)"
   ]
  },
  {
   "cell_type": "code",
   "execution_count": 9,
   "metadata": {},
   "outputs": [
    {
     "name": "stdout",
     "output_type": "stream",
     "text": [
      "가브리살 돈카츠와 감태 스테이크 타르타르까지, 프리미엄 메뉴들이 있는 성수... http://www.elle.co.kr/article/72068 <a class=\"api_txt_lines dsc_txt_wrap\" href=\"http://www.elle.co.kr/article/72068\" onclick=\"return goOtherCR(this, 'a=nws*f.body&amp;r=1&amp;i=880003F2_000000000000000000046319&amp;g=5027.0000046319&amp;u='+urlencode(this.href));\" target=\"_blank\">마씨 <mark>성수역</mark> 근처 연무장길에 생긴 저온 숙성으로 만든 프리미엄 돈카츠 집이 문을 열었어요. 깔끔한 우드톤 인테리어가 노릇하게 튀겨진 돈카츠 맛을 돋워줍니다. <mark>맛집</mark> 인스타그래머 푸딘코 추천으로 인기가...</a>\n",
      "'생방송투데이-리얼맛집' 서울 성수역 뼈탑숯불구이 고깃집 위치는? 곱창-양대... http://www.topstarnews.net/news/articleView.html?idxno=14626293 <a class=\"api_txt_lines dsc_txt_wrap\" href=\"http://www.topstarnews.net/news/articleView.html?idxno=14626293\" onclick=\"return goOtherCR(this, 'a=nws*f.body&amp;r=2&amp;i=88155e6f_000000000000000000772446&amp;g=5353.0000772446&amp;u='+urlencode(this.href));\" target=\"_blank\">'생방송투데이'에서 소개한 서울 성동구 성수동2가 <mark>성수역</mark> 소재 뼈탑숯불구이 <mark>맛집</mark>이 뜨거운 화제다. 1일 SBS '생방송투데이'의 '리얼<mark>맛집</mark>' 코너에서는 '뜯高 맛보高 즐기高 뼈탑숯불구이'라는 주제를 다뤘다....</a>\n",
      "'생방송 투데이-역전의명샷' 성수역 맛집…할아버지피자&지중해에이드+돼지갈... http://www.topstarnews.net/news/articleView.html?idxno=830503 <a class=\"api_txt_lines dsc_txt_wrap\" href=\"http://www.topstarnews.net/news/articleView.html?idxno=830503\" onclick=\"return goOtherCR(this, 'a=nws*f.body&amp;r=3&amp;i=88155e6f_000000000000000000711957&amp;g=5353.0000711957&amp;u='+urlencode(this.href));\" target=\"_blank\">(오늘방송<mark>맛집</mark>) 이날 방송된 역전의명샷 코너에서는 공세권으로 떠나는 혼자여행, <mark>성수역</mark>편으로 꾸며졌다. 서울 성동구에위치한 두곳의 <mark>맛집</mark>을 소개했다. 먼저 찾은 곳은 할아버지피자, 지중해에이드...</a>\n",
      "핫플 성수동 문화예술로 만나는 '성동 디자인위크' 열린다 https://view.asiae.co.kr/article/2022103006522890887 <a class=\"api_txt_lines dsc_txt_wrap\" href=\"https://view.asiae.co.kr/article/2022103006522890887\" onclick=\"return goOtherCR(this, 'a=nws*e.body&amp;r=4&amp;i=88000385_000000000000000005169230&amp;g=277.0005169230&amp;u='+urlencode(this.href));\" target=\"_blank\">성동구(구청장 정원오)는 뚝도시장과 <mark>성수역</mark> 인근에서 11월3일부터 5일까지 성수동 문화를 체험하는 디자인... 뚝도시장 <mark>맛집</mark>들이 자랑하는 메뉴로 구성된 이 도시락은 체험 클래스에도 포함된다. 이런 다양한 체험은...</a>\n",
      "'생방송 투데이' 오늘방송맛집 - 빅데이터 랭킹 맛집, 족발 맛집 '권○○○'…... https://www.etoday.co.kr/news/view/2086170 <a class=\"api_txt_lines dsc_txt_wrap\" href=\"https://www.etoday.co.kr/news/view/2086170\" onclick=\"return goOtherCR(this, 'a=nws*b.body&amp;r=5&amp;i=88000393_000000000000000001705400&amp;g=5003.0001705400&amp;u='+urlencode(this.href));\" target=\"_blank\">서울 성동구, 아차산, <mark>성수역 맛집</mark>으로 통하는 '권○○○'에서는 쫄깃한 족발을 만나볼 수 있다. 잡내가 나지 않고 양념이 더해져 부드러운 식감이 특징이다. 달달한 맛으로 아이들도 좋아하는 족발이다. 수도권...</a>\n",
      "생방송 투데이' 오늘방송맛집- 리얼 맛집, 색다른 변신! 퓨전 중식 삼총사 맛... https://www.etoday.co.kr/news/view/2085412 <a class=\"api_txt_lines dsc_txt_wrap\" href=\"https://www.etoday.co.kr/news/view/2085412\" onclick=\"return goOtherCR(this, 'a=nws*b.body&amp;r=7&amp;i=88000393_000000000000000001704733&amp;g=5003.0001704733&amp;u='+urlencode(this.href));\" target=\"_blank\">서울 성동구, <mark>성수역</mark>, 서울숲 <mark>맛집</mark>으로 통하는 '전○○'에서는 특별한 중식을 만날 수 있다. 상큼한 베리가 들어간 베리베리 탕수육, 감바스에 마라를 더한 마라감바스, 통통한 새우와 레몬크림 소스를 더한 레몬 크림새우...</a>\n",
      "'생방송투데이-수요맛전' 서울 성수역 대파돈마호크 vs 합정역 토마호크 스테... http://www.topstarnews.net/news/articleView.html?idxno=14693106 <a class=\"api_txt_lines dsc_txt_wrap\" href=\"http://www.topstarnews.net/news/articleView.html?idxno=14693106\" onclick=\"return goOtherCR(this, 'a=nws*f.body&amp;r=9&amp;i=88155e6f_000000000000000000824553&amp;g=5353.0000824553&amp;u='+urlencode(this.href));\" target=\"_blank\">서울 성동구 성수동2가, <mark>성수역</mark> 인근 약 100m 거리에 위치한 대파돈마호크 <mark>맛집</mark>은 많은 이들의 사랑을 받는 돼지고기구이 전문점이다. 대파 돈마호크 한 판을 비롯해 대파삼목껍, 생껍데기, 물쫄면, 비빔쫄면 등이 준비돼...</a>\n",
      "성수역 맛집 교대이층집 성수점, 삼겹살 별미부터 아늑한 분위기까지 http://www.incheonilbo.com/?mod=news&act=articleView&idxno=796790 <a class=\"api_txt_lines dsc_txt_wrap\" href=\"http://www.incheonilbo.com/?mod=news&amp;act=articleView&amp;idxno=796790\" onclick=\"return goOtherCR(this, 'a=nws*f.body&amp;r=10&amp;i=88123FBD_000000000000000000209271&amp;g=5193.0000209271&amp;u='+urlencode(this.href));\" target=\"_blank\">교대이층집 성수점은 국내산 1등급 돼지만을 취급하는 <mark>성수역</mark> 삼겹살 <mark>맛집</mark>이다. 쫄깃하고 부드러운 식감을 갖춘 꽃삼겹은 남녀노소 누구나 좋아하는 별미 중 별미로 꼽힌다. 당일 공수한 식재료만을 취급하여 타 업체와...</a>\n",
      "'생방송투데이-수요맛전' 서울 성수동 곱창·대창·막창·염통 vs 강남 논현동... http://www.topstarnews.net/news/articleView.html?idxno=14752070 <a class=\"api_txt_lines dsc_txt_wrap\" href=\"http://www.topstarnews.net/news/articleView.html?idxno=14752070\" onclick=\"return goOtherCR(this, 'a=nws*f.body&amp;r=11&amp;i=88155e6f_000000000000000000847736&amp;g=5353.0000847736&amp;u='+urlencode(this.href));\" target=\"_blank\">또는 <mark>맛집</mark>과 명소가 두루 소개됐다. 서울 성동구 성수동2가, <mark>성수역</mark> 인근 약 500m 거리에 위치한 곱창·대창·막창·염통 <mark>맛집</mark>은 인기 소곱창 전문점이다. 모듬구이(곱창·대창·막창·염통), 한우생곱창, 한우염통...</a>\n",
      "'생방송 투데이' 오늘방송맛집- 리얼 맛집, 뜯高 맛보高 즐기高! 뼈탑숯불구이... https://www.etoday.co.kr/news/view/2058756 <a class=\"api_txt_lines dsc_txt_wrap\" href=\"https://www.etoday.co.kr/news/view/2058756\" onclick=\"return goOtherCR(this, 'a=nws*f.body&amp;r=12&amp;i=88000393_000000000000000001681356&amp;g=5003.0001681356&amp;u='+urlencode(this.href));\" target=\"_blank\">서울 성동구, <mark>성수역 맛집</mark>으로 통하는 '직○○○'에서는 뼈탑숯불구이를 만날 수 있다. 감자뼈구이를 사용, 미리 초벌돼 나오는 고기를 각자 자리에서 불향을 입혀 먹으면 된다. 뼈구이, 꿀살 또는 삼겹살, 된장찌개 또는...</a>\n",
      "'생방송 투데이' 오늘방송맛집- 먹킷리스트, 입안 가득 차오르는 멕시코의 맛... https://www.etoday.co.kr/news/view/2043827 <a class=\"api_txt_lines dsc_txt_wrap\" href=\"https://www.etoday.co.kr/news/view/2043827\" onclick=\"return goOtherCR(this, 'a=nws*f.body&amp;r=1&amp;i=88000393_000000000000000001667940&amp;g=5003.0001667940&amp;u='+urlencode(this.href));\" target=\"_blank\">성동구, <mark>성수역 맛집</mark>으로 통하는 '와○○'에서는 멕시코 음식 치미창가를 만날 수 있다. 치미창가는 밀 또띠아에 고기, 콩, 라이스, 치즈, 칠리 등을 넣어 말아서 튀겨낸 요리다. 결이 살아이는 또띠아와 진득한 소스의...</a>\n",
      "성수역 근처 족발맛집 중 색다른 매력으로 입소문난 곳은? http://www.etnews.com/20140602000233 <a class=\"api_txt_lines dsc_txt_wrap\" href=\"http://www.etnews.com/20140602000233\" onclick=\"return goOtherCR(this, 'a=nws*e.body&amp;r=2&amp;i=880000EA_000000000000000002276887&amp;g=030.0002276887&amp;u='+urlencode(this.href));\" target=\"_blank\"><mark>성수역</mark> 근처에는 입소문이 자자한 <mark>맛집</mark>들이 많이 있다. <mark>맛집</mark>을 소개하는 방송 프로그램에서 촬영장소로 많이 찾을 정도다. 특히 대중적인 외식 아이템이라고 할 수 있는 족발을 새롭게 선보이는 곳들이 많은데, 실제로...</a>\n",
      "[직장인 맛집] K2직원들이 추천한 성수역 근처 맛집 http://news.mk.co.kr/news_forward.php?no=708122&year=2010 <a class=\"api_txt_lines dsc_txt_wrap\" href=\"http://news.mk.co.kr/news_forward.php?no=708122&amp;year=2010\" onclick=\"return goOtherCR(this, 'a=nws*e.body&amp;r=3&amp;i=880000BC_000000000000000002374757&amp;g=009.0002374757&amp;u='+urlencode(this.href));\" target=\"_blank\">그래서 오랫동안 이곳에 둥지를 틀어온 K2코리아에 숨어있는 <mark>맛집</mark> 추천을 부탁했다. 이곳엔 가격 대비 맛이... 지하철 2호선 <mark>성수역</mark> 1번 출구에서 나와 뚝섬역 쪽으로 조금 가다가 첫 번째 골목길로 접어들어 40m 정도...</a>\n",
      "'생방송 투데이' 오늘방송맛집 - 다짜고짜 이PD 맛투어, 성수동 수플레 맛집 ... https://www.etoday.co.kr/news/view/1994918 <a class=\"api_txt_lines dsc_txt_wrap\" href=\"https://www.etoday.co.kr/news/view/1994918\" onclick=\"return goOtherCR(this, 'a=nws*f.body&amp;r=4&amp;i=88000393_000000000000000001623691&amp;g=5003.0001623691&amp;u='+urlencode(this.href));\" target=\"_blank\">성동구 성수동, <mark>성수역 맛집</mark>으로 통하는 '카○○○ ○○'에서는 다양한 수플레를 만나볼 수 있다. 인기메뉴는 벌집 수플레와 딸기 수플레. 벌집 수플레는 국내산 벌집과 소보로가 올라간 달콤하면서도 색다른...</a>\n",
      "'맛있는 녀석들' 서울 성수동 뇨끼 맛집 위치는? 링귀니-바질냉파스타 外 이탈... http://www.topstarnews.net/news/articleView.html?idxno=14709884 <a class=\"api_txt_lines dsc_txt_wrap\" href=\"http://www.topstarnews.net/news/articleView.html?idxno=14709884\" onclick=\"return goOtherCR(this, 'a=nws*f.body&amp;r=5&amp;i=88155e6f_000000000000000000836328&amp;g=5353.0000836328&amp;u='+urlencode(this.href));\" target=\"_blank\">서울 성동구 성수동2가, <mark>성수역</mark> 인근 약 700m 거리에 위치한 뇨끼 <mark>맛집</mark>은 많은 이들의 사랑을 받는 곳이다. 앞서 생활정보 프로그램인 '생방송투데이'를 통해 이탈리아 가정식 <mark>맛집</mark>으로 소개된 바 있는 유명 레스토랑이다....</a>\n",
      "'생생정보' 장사의신 닭한마리+닭갈비, SNS화제맛집 대왕 해물짬뽕&깐풍기 http://www.g-enews.com/ko-kr/news/article/news_all/202010071725486744c4c55f9b3d_1/article.html <a class=\"api_txt_lines dsc_txt_wrap\" href=\"http://www.g-enews.com/ko-kr/news/article/news_all/202010071725486744c4c55f9b3d_1/article.html\" onclick=\"return goOtherCR(this, 'a=nws*f.body&amp;r=6&amp;i=88155e63_000000000000000000418128&amp;g=5366.0000418128&amp;u='+urlencode(this.href));\" target=\"_blank\">[생생정보통] ■ 강화군농협 쌀조합공동사업법인 -위치: 인천 강화군 양도면 가능포로 166-13 [장사의 신] ■ 성수닭칼 <mark>성수역 맛집</mark>으로 닭한마리 칼국수와 닭갈비를 소개한다. 직접 반죽한 숙성 생면으로 만든 닭 한...</a>\n",
      "[코로나19가 다시 그린 상권지도 뜨는 거리, 뜨는 공식은] Part 1 MZ세대 놀이... http://news.mk.co.kr/newsRead.php?no=578843&year=2022 <a class=\"api_txt_lines dsc_txt_wrap\" href=\"http://news.mk.co.kr/newsRead.php?no=578843&amp;year=2022\" onclick=\"return goOtherCR(this, 'a=nws*e.body&amp;r=7&amp;i=880000BC_000000000000000004985664&amp;g=009.0004985664&amp;u='+urlencode(this.href));\" target=\"_blank\"><mark>맛집</mark> 많고 갈 곳 많으니 주 7일 상권이죠.” 지하철 2호선 <mark>성수역</mark>에 내리자마자 눈에 띄는 A부동산에 들어가 말을 건네니 대뜸 “공실률이란 게 뭔지 모르는 동네”란 말이 돌아왔다. 종로부터 명동까지 강북지역...</a>\n",
      "'생방송투데이' 서울 종로 낙원동 한우곱창전골·모듬구이 vs 성수동 에그곱탕... http://www.topstarnews.net/news/articleView.html?idxno=14698996 <a class=\"api_txt_lines dsc_txt_wrap\" href=\"http://www.topstarnews.net/news/articleView.html?idxno=14698996\" onclick=\"return goOtherCR(this, 'a=nws*f.body&amp;r=8&amp;i=88155e6f_000000000000000000830275&amp;g=5353.0000830275&amp;u='+urlencode(this.href));\" target=\"_blank\">성동구 성수동2가, <mark>성수역</mark> 인근 약 500m 거리에 위치한 에그곱탕면 <mark>맛집</mark>은 다양한 요리를 내놓는 퓨전 중식당이다. 에그곱탕면을 비롯해 생유베리탕수육, 생레몬크림새우, 마리감바스 등이 인기다. 인천 중구 신포동...</a>\n",
      "건대 맛집 '타이거풀', 프리미엄 스테이크 신메뉴 출시 http://www.gnmaeil.com/news/articleView.html?idxno=443525 <a class=\"api_txt_lines dsc_txt_wrap\" href=\"http://www.gnmaeil.com/news/articleView.html?idxno=443525\" onclick=\"return goOtherCR(this, 'a=nws*f.body&amp;r=9&amp;i=88155e76_000000000000000000151768&amp;g=5346.0000151768&amp;u='+urlencode(this.href));\" target=\"_blank\">모임, 연인 데이트에 이용하기 좋은 레스토랑\"이라며 \"새로운 메뉴를 출시하며 고객들로부터 큰 호응을 얻고 있다. 두 가지 신메뉴는 <mark>성수역 맛집</mark>으로 떠오른 타이거풀의 품격을 올려줄 것으로 기대를 모은다\"고 밝혔다.</a>\n",
      "[맛집로드] 하루로는 부족한 성수동 골목 맛 산책 http://moneys.mt.co.kr/news/mwView.php?no=2022070413280415557 <a class=\"api_txt_lines dsc_txt_wrap\" href=\"http://moneys.mt.co.kr/news/mwView.php?no=2022070413280415557\" onclick=\"return goOtherCR(this, 'a=nws*j.body&amp;r=10&amp;i=8812805E_000000000000000000829066&amp;g=417.0000829066&amp;u='+urlencode(this.href));\" target=\"_blank\">오랜 기간 골목을 지켜온 터줏대감부터 트렌디한 신생 <mark>맛집</mark>까지, 하루로는 부족한 성수동 골목으로 맛 산책을 떠나봤다. ◆간판 없는 집 서울지하철 2호선 <mark>성수역</mark>과 뚝섬역 사잇길에 자리한 '간판 없는 집'은 성수동이...</a>\n",
      "'생방송투데이-맛스타그램' 서울 성수동 족발 맛집 위치는? 유튜버 쯔양 픽! ... http://www.topstarnews.net/news/articleView.html?idxno=719319 <a class=\"api_txt_lines dsc_txt_wrap\" href=\"http://www.topstarnews.net/news/articleView.html?idxno=719319\" onclick=\"return goOtherCR(this, 'a=nws*f.body&amp;r=1&amp;i=88155e6f_000000000000000000619469&amp;g=5353.0000619469&amp;u='+urlencode(this.href));\" target=\"_blank\">(생방송투데이 오늘방송<mark>맛집</mark>) <mark>성수역</mark> 인근에 위치한 해당 <mark>맛집</mark>은 족발 전문점이다. 720시간 숙성시킨 소스와 매일 생족으로 삶아 직화로 구워내는 불족발이 별미다. 반반왕족발, 영양왕족발, 매운왕족발 등의 메뉴를...</a>\n",
      "'생방송 투데이' 오늘방송맛집 - #맛스타그램, 속단은 금물! 비범한 족발의 반... http://www.etoday.co.kr/news/section/newsview.php?idxno=1843962 <a class=\"api_txt_lines dsc_txt_wrap\" href=\"http://www.etoday.co.kr/news/section/newsview.php?idxno=1843962\" onclick=\"return goOtherCR(this, 'a=nws*f.body&amp;r=2&amp;i=88000393_000000000000000001483580&amp;g=5003.0001483580&amp;u='+urlencode(this.href));\" target=\"_blank\"><mark>성수역 맛집</mark>으로 통하는 '권○○○'에서는 720시간 숙성시킨 소스가 일품인 족발 <mark>맛집</mark>이다. 숙성 소스와 매일 생족으로 삶아 직화로 구워내는 불족발이 가장 인기가 높다. 매운왕족발은 3만5000원, 영양왕족발은...</a>\n",
      "“탄수화물은 여름의 적? ‘이 음식’ 다를걸?” 서울서 가볼만한 감자 요리 ... https://www.ekn.kr/web/view.php?key=20220617010002502 <a class=\"api_txt_lines dsc_txt_wrap\" href=\"https://www.ekn.kr/web/view.php?key=20220617010002502\" onclick=\"return goOtherCR(this, 'a=nws*f.body&amp;r=3&amp;i=88102504_000000000000000000523529&amp;g=5133.0000523529&amp;u='+urlencode(this.href));\" target=\"_blank\">세계 각국에서 ‘뜨겁게’ 사랑받는 식재료이자 여름철 더 굳세고 단단해질 감자, 서울에서 ‘핫한’ <mark>맛집</mark>... 돼지 등뼈와 살에서 우러난 진한 국물과 포슬포슬한 감자는 한데 섞여 입안에서 어우러집니다.<mark>성수역</mark> 인근에...</a>\n",
      "\"7시간 훈연\" 아르헨티나 정통 BBQ 레스토랑 '성수동 타이거풀', 서울 맛집으... http://www.seoulwire.com/news/articleView.html?idxno=65260 <a class=\"api_txt_lines dsc_txt_wrap\" href=\"http://www.seoulwire.com/news/articleView.html?idxno=65260\" onclick=\"return goOtherCR(this, 'a=nws*f.body&amp;r=4&amp;i=8817ca73_000000000000000000052481&amp;g=5526.0000052481&amp;u='+urlencode(this.href));\" target=\"_blank\"><mark>성수역 맛집</mark> ''은 오감을 자극하는 화려한 인테리어와 국내에서 쉽게 접할 수 없던 '웻 에이징' BBQ로 화제를 모았다. 서울 <mark>맛집</mark> '' 수석 쉐프는 \"웻에이징 방식과 7시간 훈연으로 제작되는 BBQ 메뉴들은 독특한 숙성방식을...</a>\n",
      "250평 규모 아르헨티나 정통 방식 BBQ 레스토랑 '타이거풀', 성수동 맛집으로... http://www.gpkorea.com/news/articleView.html?idxno=48023 <a class=\"api_txt_lines dsc_txt_wrap\" href=\"http://www.gpkorea.com/news/articleView.html?idxno=48023\" onclick=\"return goOtherCR(this, 'a=nws*f.body&amp;r=5&amp;i=88155e82_000000000000000000018131&amp;g=5331.0000018131&amp;u='+urlencode(this.href));\" target=\"_blank\"><mark>성수역 맛집</mark> '타이거풀'을 대표하는 BBQ 메뉴들은 독특한 숙성방식을 통해 제공되고 있어 눈길을 사로잡는다. 냉동고기를 사용하지 않고 '웻 에이징' 과정을 거친 습식 숙성 소고기와 돼지고기를 선보이는 '타이거풀'은...</a>\n",
      "'생방송투데이-리얼맛집' 서울 중구 신당동 약수역 '다이빙 숙성회' 횟집 위치... http://www.topstarnews.net/news/articleView.html?idxno=14693104 <a class=\"api_txt_lines dsc_txt_wrap\" href=\"http://www.topstarnews.net/news/articleView.html?idxno=14693104\" onclick=\"return goOtherCR(this, 'a=nws*f.body&amp;r=6&amp;i=88155e6f_000000000000000000824548&amp;g=5353.0000824548&amp;u='+urlencode(this.href));\" target=\"_blank\">서울 <mark>성수역</mark> 대파돈마호크 vs 합정역 토마호크 스테이크, '리얼 <mark>맛집</mark>' 풍미가 물결치는 맛 다이빙 숙성회 편 - 서울 신당동 약수역 숙성회 코스 &amp; 초밥 세트 횟집, '김PD가 떴다' 수령 60년 귀한 산야초 봉삼 편 등 다양한...</a>\n",
      "'생방송 투데이' 오늘방송맛집- 대박신화 어느 날, 월매출 3억7000만 원! 성수... http://www.etoday.co.kr/news/section/newsview.php?idxno=1750380 <a class=\"api_txt_lines dsc_txt_wrap\" href=\"http://www.etoday.co.kr/news/section/newsview.php?idxno=1750380\" onclick=\"return goOtherCR(this, 'a=nws*b.body&amp;r=7&amp;i=88000393_000000000000000001395778&amp;g=5003.0001395778&amp;u='+urlencode(this.href));\" target=\"_blank\">성수동 카페거리, <mark>성수역</mark>, 뚝섬역 <mark>맛집</mark>으로 통하는 '어반소스'에서는 다양한 베이커리와 영국 가정식을 맛볼 수 있다. 폐공장을 개조해 만든 '어반소스'는 실내 레스토랑, 어반 스페이스, 카페, 루프탑으로 구성됐다....</a>\n",
      "브런치-디저트-파인다이닝까지, 하루 종일 즐길 수 있는 성수동 #신상맛집 3 http://www.elle.co.kr/article/67000 <a class=\"api_txt_lines dsc_txt_wrap\" href=\"http://www.elle.co.kr/article/67000\" onclick=\"return goOtherCR(this, 'a=nws*f.body&amp;r=10&amp;i=880003F2_000000000000000000045351&amp;g=5027.0000045351&amp;u='+urlencode(this.href));\" target=\"_blank\">다양한 빵과 베이글 등을 판매하는 베이커리가 <mark>성수역</mark> 근처에 새롭게 오픈했습니다. 오픈런하는 자가 매일 구워낸 맛있는 빵을 득템한다고 할 정도로 인기가 뜨겁습니다. 성수동에 방문할 계획이라면 이곳에 가장...</a>\n",
      "성수가 뜬다 '서울숲서 포켓몬 잡고 맛집 탐방' http://www.edaily.co.kr/news/newspath.asp?newsid=03745766615829208 <a class=\"api_txt_lines dsc_txt_wrap\" href=\"http://www.edaily.co.kr/news/newspath.asp?newsid=03745766615829208\" onclick=\"return goOtherCR(this, 'a=nws*e.body&amp;r=11&amp;i=880000E7_000000000000000003746664&amp;g=018.0003746664&amp;u='+urlencode(this.href));\" target=\"_blank\">최근에는 아키야마가 새로운 <mark>성수역 맛집</mark>으로 떠오르고 있다. <mark>성수역</mark> 2번 출구에서 500m거리 안쪽에 위치한 아키야마는 편안한 분위기와 안락한 조명의 일본식 이자카야로, 가벼운 식사 및 술자리를 즐기기에 적합하다....</a>\n",
      "성수동 맛집여행, 전국 10대 화덕피자로 유명한 '도치피자' http://www.munhwanews.com/news/articleView.html?idxno=59007 <a class=\"api_txt_lines dsc_txt_wrap\" href=\"http://www.munhwanews.com/news/articleView.html?idxno=59007\" onclick=\"return goOtherCR(this, 'a=nws*f.body&amp;r=12&amp;i=8816651a_000000000000000000036707&amp;g=5415.0000036707&amp;u='+urlencode(this.href));\" target=\"_blank\">서울<mark>맛집</mark> 베스트10에도 들곤 하는 이곳은 국내에서도 원조 격으로 화덕피자를 유행시킨 곳으로 정통 나폴리식 화덕피자집으로 유명한 <mark>성수역 맛집</mark>이다.   정통 레시피뿐 아니라 재료 사용 또한 고집스러운데 사용하는...</a>\n"
     ]
    }
   ],
   "source": [
    "# 2단계\n",
    "# 특정 키워드 n 페이지 - 제목, 링크, 내용\n",
    "\n",
    "import requests\n",
    "from bs4 import BeautifulSoup\n",
    "\n",
    "keyword = input(\"검색어 입력:\")\n",
    "page = int(input(\"페이지 입력:\"))\n",
    "\n",
    "for i in range(1, page + 1):\n",
    "    response = requests.get(f\"https://search.naver.com/search.naver?where=news&sm=tab_jum&query={keyword}&start={10*(i-1)+1}\")\n",
    "    html = response.text\n",
    "    soup = BeautifulSoup(html, 'html.parser')\n",
    "\n",
    "    # 10개 기사 덩어리 가져오기\n",
    "    articles = soup.select(\".news_area\")\n",
    "\n",
    "    for article in articles:\n",
    "        anchor = article.select_one(\".news_tit\")\n",
    "        title = anchor.text\n",
    "        link = anchor.attrs['href']\n",
    "        content = article.select_one(\".api_txt_lines.dsc_txt_wrap\")\n",
    "        print(title, link, content)"
   ]
  },
  {
   "cell_type": "code",
   "execution_count": null,
   "metadata": {},
   "outputs": [],
   "source": []
  }
 ],
 "metadata": {
  "kernelspec": {
   "display_name": "Python 3.9.12 ('base')",
   "language": "python",
   "name": "python3"
  },
  "language_info": {
   "codemirror_mode": {
    "name": "ipython",
    "version": 3
   },
   "file_extension": ".py",
   "mimetype": "text/x-python",
   "name": "python",
   "nbconvert_exporter": "python",
   "pygments_lexer": "ipython3",
   "version": "3.9.12"
  },
  "orig_nbformat": 4,
  "vscode": {
   "interpreter": {
    "hash": "263930470851f494f0ed2879c35b57985588df20f9e529b86e97dd5eb9ddc466"
   }
  }
 },
 "nbformat": 4,
 "nbformat_minor": 2
}
