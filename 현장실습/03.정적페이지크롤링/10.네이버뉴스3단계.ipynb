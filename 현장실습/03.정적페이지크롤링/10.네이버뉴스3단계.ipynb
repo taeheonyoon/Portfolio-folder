{
 "cells": [
  {
   "cell_type": "code",
   "execution_count": 1,
   "metadata": {},
   "outputs": [
    {
     "name": "stdout",
     "output_type": "stream",
     "text": [
      "가브리살 돈카츠와 감태 스테이크 타르타르까지, 프리미엄 메뉴들이 있는 성수... http://www.elle.co.kr/article/72068 <a class=\"api_txt_lines dsc_txt_wrap\" href=\"http://www.elle.co.kr/article/72068\" onclick=\"return goOtherCR(this, 'a=nws*f.body&amp;r=1&amp;i=880003F2_000000000000000000046319&amp;g=5027.0000046319&amp;u='+urlencode(this.href));\" target=\"_blank\">마씨 <mark>성수역</mark> 근처 연무장길에 생긴 저온 숙성으로 만든 프리미엄 돈카츠 집이 문을 열었어요. 깔끔한 우드톤 인테리어가 노릇하게 튀겨진 돈카츠 맛을 돋워줍니다. <mark>맛집</mark> 인스타그래머 푸딘코 추천으로 인기가...</a>\n",
      "'생방송투데이-리얼맛집' 서울 성수역 뼈탑숯불구이 고깃집 위치는? 곱창-양대... http://www.topstarnews.net/news/articleView.html?idxno=14626293 <a class=\"api_txt_lines dsc_txt_wrap\" href=\"http://www.topstarnews.net/news/articleView.html?idxno=14626293\" onclick=\"return goOtherCR(this, 'a=nws*f.body&amp;r=2&amp;i=88155e6f_000000000000000000772446&amp;g=5353.0000772446&amp;u='+urlencode(this.href));\" target=\"_blank\">'생방송투데이'에서 소개한 서울 성동구 성수동2가 <mark>성수역</mark> 소재 뼈탑숯불구이 <mark>맛집</mark>이 뜨거운 화제다. 1일 SBS '생방송투데이'의 '리얼<mark>맛집</mark>' 코너에서는 '뜯高 맛보高 즐기高 뼈탑숯불구이'라는 주제를 다뤘다....</a>\n",
      "'생방송 투데이-역전의명샷' 성수역 맛집…할아버지피자&지중해에이드+돼지갈... http://www.topstarnews.net/news/articleView.html?idxno=830503 <a class=\"api_txt_lines dsc_txt_wrap\" href=\"http://www.topstarnews.net/news/articleView.html?idxno=830503\" onclick=\"return goOtherCR(this, 'a=nws*f.body&amp;r=3&amp;i=88155e6f_000000000000000000711957&amp;g=5353.0000711957&amp;u='+urlencode(this.href));\" target=\"_blank\">(오늘방송<mark>맛집</mark>) 이날 방송된 역전의명샷 코너에서는 공세권으로 떠나는 혼자여행, <mark>성수역</mark>편으로 꾸며졌다. 서울 성동구에위치한 두곳의 <mark>맛집</mark>을 소개했다. 먼저 찾은 곳은 할아버지피자, 지중해에이드...</a>\n",
      "핫플 성수동 문화예술로 만나는 '성동 디자인위크' 열린다 https://view.asiae.co.kr/article/2022103006522890887 <a class=\"api_txt_lines dsc_txt_wrap\" href=\"https://view.asiae.co.kr/article/2022103006522890887\" onclick=\"return goOtherCR(this, 'a=nws*e.body&amp;r=4&amp;i=88000385_000000000000000005169230&amp;g=277.0005169230&amp;u='+urlencode(this.href));\" target=\"_blank\">성동구(구청장 정원오)는 뚝도시장과 <mark>성수역</mark> 인근에서 11월3일부터 5일까지 성수동 문화를 체험하는 디자인... 뚝도시장 <mark>맛집</mark>들이 자랑하는 메뉴로 구성된 이 도시락은 체험 클래스에도 포함된다. 이런 다양한 체험은...</a>\n",
      "'생방송 투데이' 오늘방송맛집 - 빅데이터 랭킹 맛집, 족발 맛집 '권○○○'…... https://www.etoday.co.kr/news/view/2086170 <a class=\"api_txt_lines dsc_txt_wrap\" href=\"https://www.etoday.co.kr/news/view/2086170\" onclick=\"return goOtherCR(this, 'a=nws*b.body&amp;r=5&amp;i=88000393_000000000000000001705400&amp;g=5003.0001705400&amp;u='+urlencode(this.href));\" target=\"_blank\">서울 성동구, 아차산, <mark>성수역 맛집</mark>으로 통하는 '권○○○'에서는 쫄깃한 족발을 만나볼 수 있다. 잡내가 나지 않고 양념이 더해져 부드러운 식감이 특징이다. 달달한 맛으로 아이들도 좋아하는 족발이다. 수도권...</a>\n",
      "생방송 투데이' 오늘방송맛집- 리얼 맛집, 색다른 변신! 퓨전 중식 삼총사 맛... https://www.etoday.co.kr/news/view/2085412 <a class=\"api_txt_lines dsc_txt_wrap\" href=\"https://www.etoday.co.kr/news/view/2085412\" onclick=\"return goOtherCR(this, 'a=nws*b.body&amp;r=7&amp;i=88000393_000000000000000001704733&amp;g=5003.0001704733&amp;u='+urlencode(this.href));\" target=\"_blank\">서울 성동구, <mark>성수역</mark>, 서울숲 <mark>맛집</mark>으로 통하는 '전○○'에서는 특별한 중식을 만날 수 있다. 상큼한 베리가 들어간 베리베리 탕수육, 감바스에 마라를 더한 마라감바스, 통통한 새우와 레몬크림 소스를 더한 레몬 크림새우...</a>\n",
      "'생방송투데이-수요맛전' 서울 성수역 대파돈마호크 vs 합정역 토마호크 스테... http://www.topstarnews.net/news/articleView.html?idxno=14693106 <a class=\"api_txt_lines dsc_txt_wrap\" href=\"http://www.topstarnews.net/news/articleView.html?idxno=14693106\" onclick=\"return goOtherCR(this, 'a=nws*f.body&amp;r=9&amp;i=88155e6f_000000000000000000824553&amp;g=5353.0000824553&amp;u='+urlencode(this.href));\" target=\"_blank\">서울 성동구 성수동2가, <mark>성수역</mark> 인근 약 100m 거리에 위치한 대파돈마호크 <mark>맛집</mark>은 많은 이들의 사랑을 받는 돼지고기구이 전문점이다. 대파 돈마호크 한 판을 비롯해 대파삼목껍, 생껍데기, 물쫄면, 비빔쫄면 등이 준비돼...</a>\n",
      "성수역 맛집 교대이층집 성수점, 삼겹살 별미부터 아늑한 분위기까지 http://www.incheonilbo.com/?mod=news&act=articleView&idxno=796790 <a class=\"api_txt_lines dsc_txt_wrap\" href=\"http://www.incheonilbo.com/?mod=news&amp;act=articleView&amp;idxno=796790\" onclick=\"return goOtherCR(this, 'a=nws*f.body&amp;r=10&amp;i=88123FBD_000000000000000000209271&amp;g=5193.0000209271&amp;u='+urlencode(this.href));\" target=\"_blank\">교대이층집 성수점은 국내산 1등급 돼지만을 취급하는 <mark>성수역</mark> 삼겹살 <mark>맛집</mark>이다. 쫄깃하고 부드러운 식감을 갖춘 꽃삼겹은 남녀노소 누구나 좋아하는 별미 중 별미로 꼽힌다. 당일 공수한 식재료만을 취급하여 타 업체와...</a>\n",
      "'생방송투데이-수요맛전' 서울 성수동 곱창·대창·막창·염통 vs 강남 논현동... http://www.topstarnews.net/news/articleView.html?idxno=14752070 <a class=\"api_txt_lines dsc_txt_wrap\" href=\"http://www.topstarnews.net/news/articleView.html?idxno=14752070\" onclick=\"return goOtherCR(this, 'a=nws*f.body&amp;r=11&amp;i=88155e6f_000000000000000000847736&amp;g=5353.0000847736&amp;u='+urlencode(this.href));\" target=\"_blank\">또는 <mark>맛집</mark>과 명소가 두루 소개됐다. 서울 성동구 성수동2가, <mark>성수역</mark> 인근 약 500m 거리에 위치한 곱창·대창·막창·염통 <mark>맛집</mark>은 인기 소곱창 전문점이다. 모듬구이(곱창·대창·막창·염통), 한우생곱창, 한우염통...</a>\n",
      "'생방송 투데이' 오늘방송맛집- 리얼 맛집, 뜯高 맛보高 즐기高! 뼈탑숯불구이... https://www.etoday.co.kr/news/view/2058756 <a class=\"api_txt_lines dsc_txt_wrap\" href=\"https://www.etoday.co.kr/news/view/2058756\" onclick=\"return goOtherCR(this, 'a=nws*f.body&amp;r=12&amp;i=88000393_000000000000000001681356&amp;g=5003.0001681356&amp;u='+urlencode(this.href));\" target=\"_blank\">서울 성동구, <mark>성수역 맛집</mark>으로 통하는 '직○○○'에서는 뼈탑숯불구이를 만날 수 있다. 감자뼈구이를 사용, 미리 초벌돼 나오는 고기를 각자 자리에서 불향을 입혀 먹으면 된다. 뼈구이, 꿀살 또는 삼겹살, 된장찌개 또는...</a>\n"
     ]
    }
   ],
   "source": [
    "#.news_area\n",
    "import requests\n",
    "from bs4 import BeautifulSoup\n",
    "\n",
    "response = requests.get('https://search.naver.com/search.naver?where=news&sm=tab_jum&query=%EC%84%B1%EC%88%98%EC%97%AD+%EB%A7%9B%EC%A7%91')\n",
    "html = response.text\n",
    "soup = BeautifulSoup(html, 'html.parser')\n",
    "\n",
    "articles = soup.select(\".news_area\")\n",
    "\n",
    "for article in articles:\n",
    "    anchor = article.select_one(\".news_tit\")\n",
    "    title = anchor.text\n",
    "    link = anchor.attrs['href']\n",
    "    content = article.select_one(\".api_txt_lines.dsc_txt_wrap\")\n",
    "    print(title, link, content)"
   ]
  },
  {
   "cell_type": "code",
   "execution_count": 4,
   "metadata": {},
   "outputs": [
    {
     "ename": "NameError",
     "evalue": "name 'requests' is not defined",
     "output_type": "error",
     "traceback": [
      "\u001b[1;31m---------------------------------------------------------------------------\u001b[0m",
      "\u001b[1;31mNameError\u001b[0m                                 Traceback (most recent call last)",
      "\u001b[1;32mc:\\Users\\USER\\Documents\\현장실습\\03.정적페이지크롤링\\09.네이버뉴스2단계.ipynb 셀 2\u001b[0m in \u001b[0;36m<cell line: 8>\u001b[1;34m()\u001b[0m\n\u001b[0;32m      <a href='vscode-notebook-cell:/c%3A/Users/USER/Documents/%ED%98%84%EC%9E%A5%EC%8B%A4%EC%8A%B5/03.%EC%A0%95%EC%A0%81%ED%8E%98%EC%9D%B4%EC%A7%80%ED%81%AC%EB%A1%A4%EB%A7%81/09.%EB%84%A4%EC%9D%B4%EB%B2%84%EB%89%B4%EC%8A%A42%EB%8B%A8%EA%B3%84.ipynb#W0sZmlsZQ%3D%3D?line=3'>4</a>\u001b[0m keyword \u001b[39m=\u001b[39m \u001b[39minput\u001b[39m(\u001b[39m\"\u001b[39m\u001b[39m검색어를 입력하세요: \u001b[39m\u001b[39m\"\u001b[39m)\n\u001b[0;32m      <a href='vscode-notebook-cell:/c%3A/Users/USER/Documents/%ED%98%84%EC%9E%A5%EC%8B%A4%EC%8A%B5/03.%EC%A0%95%EC%A0%81%ED%8E%98%EC%9D%B4%EC%A7%80%ED%81%AC%EB%A1%A4%EB%A7%81/09.%EB%84%A4%EC%9D%B4%EB%B2%84%EB%89%B4%EC%8A%A42%EB%8B%A8%EA%B3%84.ipynb#W0sZmlsZQ%3D%3D?line=4'>5</a>\u001b[0m page \u001b[39m=\u001b[39m \u001b[39mint\u001b[39m(\u001b[39minput\u001b[39m(\u001b[39m\"\u001b[39m\u001b[39m페이지 입력하세요: \u001b[39m\u001b[39m\"\u001b[39m))\n\u001b[1;32m----> <a href='vscode-notebook-cell:/c%3A/Users/USER/Documents/%ED%98%84%EC%9E%A5%EC%8B%A4%EC%8A%B5/03.%EC%A0%95%EC%A0%81%ED%8E%98%EC%9D%B4%EC%A7%80%ED%81%AC%EB%A1%A4%EB%A7%81/09.%EB%84%A4%EC%9D%B4%EB%B2%84%EB%89%B4%EC%8A%A42%EB%8B%A8%EA%B3%84.ipynb#W0sZmlsZQ%3D%3D?line=7'>8</a>\u001b[0m response \u001b[39m=\u001b[39m requests\u001b[39m.\u001b[39mget(\u001b[39m'\u001b[39m\u001b[39mhttps://search.naver.com/search.naver?where=news&sm=tab_jum&query=\u001b[39m\u001b[39m%E\u001b[39;00m\u001b[39mC\u001b[39m\u001b[39m%84%\u001b[39;00m\u001b[39mB1\u001b[39m\u001b[39m%E\u001b[39;00m\u001b[39mC\u001b[39m\u001b[39m%88%\u001b[39;00m\u001b[39m98\u001b[39m\u001b[39m%E\u001b[39;00m\u001b[39mC\u001b[39m\u001b[39m%97%\u001b[39;00m\u001b[39mAD+\u001b[39m\u001b[39m%E\u001b[39;00m\u001b[39mB\u001b[39m\u001b[39m%\u001b[39m\u001b[39mA7\u001b[39m\u001b[39m%\u001b[39m\u001b[39m9B\u001b[39m\u001b[39m%E\u001b[39;00m\u001b[39mC\u001b[39m\u001b[39m%\u001b[39m\u001b[39mA7\u001b[39m\u001b[39m%\u001b[39m\u001b[39m91\u001b[39m\u001b[39m'\u001b[39m)\n\u001b[0;32m      <a href='vscode-notebook-cell:/c%3A/Users/USER/Documents/%ED%98%84%EC%9E%A5%EC%8B%A4%EC%8A%B5/03.%EC%A0%95%EC%A0%81%ED%8E%98%EC%9D%B4%EC%A7%80%ED%81%AC%EB%A1%A4%EB%A7%81/09.%EB%84%A4%EC%9D%B4%EB%B2%84%EB%89%B4%EC%8A%A42%EB%8B%A8%EA%B3%84.ipynb#W0sZmlsZQ%3D%3D?line=8'>9</a>\u001b[0m html \u001b[39m=\u001b[39m response\u001b[39m.\u001b[39mtext\n\u001b[0;32m     <a href='vscode-notebook-cell:/c%3A/Users/USER/Documents/%ED%98%84%EC%9E%A5%EC%8B%A4%EC%8A%B5/03.%EC%A0%95%EC%A0%81%ED%8E%98%EC%9D%B4%EC%A7%80%ED%81%AC%EB%A1%A4%EB%A7%81/09.%EB%84%A4%EC%9D%B4%EB%B2%84%EB%89%B4%EC%8A%A42%EB%8B%A8%EA%B3%84.ipynb#W0sZmlsZQ%3D%3D?line=9'>10</a>\u001b[0m soup \u001b[39m=\u001b[39m BeautifulSoup(html, \u001b[39m'\u001b[39m\u001b[39mhtml.parser\u001b[39m\u001b[39m'\u001b[39m)\n",
      "\u001b[1;31mNameError\u001b[0m: name 'requests' is not defined"
     ]
    }
   ],
   "source": [
    "#2단계\n",
    "#특정 키워드 n페이지 - 제목, 링크, 내용\n",
    "\n",
    "keyword = input(\"검색어를 입력하세요: \")\n",
    "page = int(input(\"페이지 입력하세요: \"))\n",
    "\n",
    "for i in range(1, page + 1):\n",
    "    print(f\"{i}번째 페이지 크롤링중\")\n",
    "    response = requests.get(f\"https://search.naver.com/search.naver?where=news&sm=tab_jum&query={keyword}&start={i*10-9}\")\n",
    "    html = response.text \n",
    "    soup = BeautifulSoup(html, 'html.parser')\n",
    "    articles = soup.select(\".news_area\")\n",
    "    \n",
    "    for i, articles in enumerate(articles, 1):\n",
    "        anchor = articles.select_one(\".news_tit\")\n",
    "        title = anchor.text\n",
    "        link = anchor['href']\n",
    "        content = articles.select_one(\".dsc_txt_wrap\")\n",
    "        print(i, title, link, content)\n",
    "       \n",
    "\n"
   ]
  },
  {
   "cell_type": "code",
   "execution_count": 6,
   "metadata": {},
   "outputs": [
    {
     "name": "stdout",
     "output_type": "stream",
     "text": [
      "1번째 페이지 크롤링중\n"
     ]
    }
   ],
   "source": [
    "#2단계\n",
    "#특정 키워드 n페이지 - 제목, 링크, 내용\n",
    "import requests\n",
    "from bs4 import BeautifulSoup\n",
    "keyword = input(\"검색어를 입력하세요: \")\n",
    "page = int(input(\"페이지 입력하세요: \"))\n",
    "\n",
    "for i in range(1, page + 1):\n",
    "    print(f\"{i}번째 페이지 크롤링중\")\n",
    "    response = requests.get(f\"https://search.naver.com/search.naver?where=news&sm=tab_jum&query={keyword}&start={i*10-9}\")\n",
    "    html = response.text\n",
    "    soup = BeautifulSoup(html, 'html.parser')\n",
    "    articles = soup.select(\".news_area\")\n",
    "    \n",
    "    for i, articles in enumerate(articles, 1):\n",
    "        anchor = articles.select_one(\".news_tit\")\n",
    "        "
   ]
  },
  {
   "cell_type": "code",
   "execution_count": 8,
   "metadata": {},
   "outputs": [
    {
     "ename": "IndentationError",
     "evalue": "expected an indented block (1914619070.py, line 8)",
     "output_type": "error",
     "traceback": [
      "\u001b[1;36m  Input \u001b[1;32mIn [8]\u001b[1;36m\u001b[0m\n\u001b[1;33m    response = requests.get('https://search.naver.com/search.naver?where=news&sm=tab_jum&query={keyword}&start={page*10-9}')#10*(i-1)+1\u001b[0m\n\u001b[1;37m    ^\u001b[0m\n\u001b[1;31mIndentationError\u001b[0m\u001b[1;31m:\u001b[0m expected an indented block\n"
     ]
    }
   ],
   "source": [
    "import requests\n",
    "from bs4 import BeautifulSoup\n",
    "\n",
    "keyword = input(\"검색어를 입력하세요: \")\n",
    "page = int(input(\"페이지 입력하세요: \"))\n",
    "\n",
    "for i in range(1, page +1):\n",
    "response = requests.get('https://search.naver.com/search.naver?where=news&sm=tab_jum&query={keyword}&start={page*10-9}')#10*(i-1)+1\n",
    "html = response.text\n",
    "soup = BeautifulSoup(html, 'html.parser')\n",
    "\n",
    "articles = soup.select(\".news_area\")\n",
    "\n",
    "for article in articles:\n",
    "    anchor = article.select_one(\".news_tit\")\n",
    "    title = anchor.text\n",
    "    link = anchor.attrs['href']\n",
    "    content = article.select_one(\".api_txt_lines.dsc_txt_wrap\")\n",
    "    print(title, link, content)"
   ]
  },
  {
   "cell_type": "code",
   "execution_count": 9,
   "metadata": {},
   "outputs": [
    {
     "name": "stdout",
     "output_type": "stream",
     "text": [
      "가브리살 돈카츠와 감태 스테이크 타르타르까지, 프리미엄 메뉴들이 있는 성수... http://www.elle.co.kr/article/72068 <a class=\"api_txt_lines dsc_txt_wrap\" href=\"http://www.elle.co.kr/article/72068\" onclick=\"return goOtherCR(this, 'a=nws*f.body&amp;r=1&amp;i=880003F2_000000000000000000046319&amp;g=5027.0000046319&amp;u='+urlencode(this.href));\" target=\"_blank\">마씨 <mark>성수역</mark> 근처 연무장길에 생긴 저온 숙성으로 만든 프리미엄 돈카츠 집이 문을 열었어요. 깔끔한 우드톤 인테리어가 노릇하게 튀겨진 돈카츠 맛을 돋워줍니다. <mark>맛집</mark> 인스타그래머 푸딘코 추천으로 인기가...</a>\n",
      "'생방송투데이-리얼맛집' 서울 성수역 뼈탑숯불구이 고깃집 위치는? 곱창-양대... http://www.topstarnews.net/news/articleView.html?idxno=14626293 <a class=\"api_txt_lines dsc_txt_wrap\" href=\"http://www.topstarnews.net/news/articleView.html?idxno=14626293\" onclick=\"return goOtherCR(this, 'a=nws*f.body&amp;r=2&amp;i=88155e6f_000000000000000000772446&amp;g=5353.0000772446&amp;u='+urlencode(this.href));\" target=\"_blank\">'생방송투데이'에서 소개한 서울 성동구 성수동2가 <mark>성수역</mark> 소재 뼈탑숯불구이 <mark>맛집</mark>이 뜨거운 화제다. 1일 SBS '생방송투데이'의 '리얼<mark>맛집</mark>' 코너에서는 '뜯高 맛보高 즐기高 뼈탑숯불구이'라는 주제를 다뤘다....</a>\n",
      "'생방송 투데이-역전의명샷' 성수역 맛집…할아버지피자&지중해에이드+돼지갈... http://www.topstarnews.net/news/articleView.html?idxno=830503 <a class=\"api_txt_lines dsc_txt_wrap\" href=\"http://www.topstarnews.net/news/articleView.html?idxno=830503\" onclick=\"return goOtherCR(this, 'a=nws*f.body&amp;r=3&amp;i=88155e6f_000000000000000000711957&amp;g=5353.0000711957&amp;u='+urlencode(this.href));\" target=\"_blank\">(오늘방송<mark>맛집</mark>) 이날 방송된 역전의명샷 코너에서는 공세권으로 떠나는 혼자여행, <mark>성수역</mark>편으로 꾸며졌다. 서울 성동구에위치한 두곳의 <mark>맛집</mark>을 소개했다. 먼저 찾은 곳은 할아버지피자, 지중해에이드...</a>\n",
      "핫플 성수동 문화예술로 만나는 '성동 디자인위크' 열린다 https://view.asiae.co.kr/article/2022103006522890887 <a class=\"api_txt_lines dsc_txt_wrap\" href=\"https://view.asiae.co.kr/article/2022103006522890887\" onclick=\"return goOtherCR(this, 'a=nws*e.body&amp;r=4&amp;i=88000385_000000000000000005169230&amp;g=277.0005169230&amp;u='+urlencode(this.href));\" target=\"_blank\">성동구(구청장 정원오)는 뚝도시장과 <mark>성수역</mark> 인근에서 11월3일부터 5일까지 성수동 문화를 체험하는 디자인... 뚝도시장 <mark>맛집</mark>들이 자랑하는 메뉴로 구성된 이 도시락은 체험 클래스에도 포함된다. 이런 다양한 체험은...</a>\n",
      "'생방송 투데이' 오늘방송맛집 - 빅데이터 랭킹 맛집, 족발 맛집 '권○○○'…... https://www.etoday.co.kr/news/view/2086170 <a class=\"api_txt_lines dsc_txt_wrap\" href=\"https://www.etoday.co.kr/news/view/2086170\" onclick=\"return goOtherCR(this, 'a=nws*b.body&amp;r=5&amp;i=88000393_000000000000000001705400&amp;g=5003.0001705400&amp;u='+urlencode(this.href));\" target=\"_blank\">서울 성동구, 아차산, <mark>성수역 맛집</mark>으로 통하는 '권○○○'에서는 쫄깃한 족발을 만나볼 수 있다. 잡내가 나지 않고 양념이 더해져 부드러운 식감이 특징이다. 달달한 맛으로 아이들도 좋아하는 족발이다. 수도권...</a>\n",
      "생방송 투데이' 오늘방송맛집- 리얼 맛집, 색다른 변신! 퓨전 중식 삼총사 맛... https://www.etoday.co.kr/news/view/2085412 <a class=\"api_txt_lines dsc_txt_wrap\" href=\"https://www.etoday.co.kr/news/view/2085412\" onclick=\"return goOtherCR(this, 'a=nws*b.body&amp;r=7&amp;i=88000393_000000000000000001704733&amp;g=5003.0001704733&amp;u='+urlencode(this.href));\" target=\"_blank\">서울 성동구, <mark>성수역</mark>, 서울숲 <mark>맛집</mark>으로 통하는 '전○○'에서는 특별한 중식을 만날 수 있다. 상큼한 베리가 들어간 베리베리 탕수육, 감바스에 마라를 더한 마라감바스, 통통한 새우와 레몬크림 소스를 더한 레몬 크림새우...</a>\n",
      "'생방송투데이-수요맛전' 서울 성수역 대파돈마호크 vs 합정역 토마호크 스테... http://www.topstarnews.net/news/articleView.html?idxno=14693106 <a class=\"api_txt_lines dsc_txt_wrap\" href=\"http://www.topstarnews.net/news/articleView.html?idxno=14693106\" onclick=\"return goOtherCR(this, 'a=nws*f.body&amp;r=9&amp;i=88155e6f_000000000000000000824553&amp;g=5353.0000824553&amp;u='+urlencode(this.href));\" target=\"_blank\">서울 성동구 성수동2가, <mark>성수역</mark> 인근 약 100m 거리에 위치한 대파돈마호크 <mark>맛집</mark>은 많은 이들의 사랑을 받는 돼지고기구이 전문점이다. 대파 돈마호크 한 판을 비롯해 대파삼목껍, 생껍데기, 물쫄면, 비빔쫄면 등이 준비돼...</a>\n",
      "성수역 맛집 교대이층집 성수점, 삼겹살 별미부터 아늑한 분위기까지 http://www.incheonilbo.com/?mod=news&act=articleView&idxno=796790 <a class=\"api_txt_lines dsc_txt_wrap\" href=\"http://www.incheonilbo.com/?mod=news&amp;act=articleView&amp;idxno=796790\" onclick=\"return goOtherCR(this, 'a=nws*f.body&amp;r=10&amp;i=88123FBD_000000000000000000209271&amp;g=5193.0000209271&amp;u='+urlencode(this.href));\" target=\"_blank\">교대이층집 성수점은 국내산 1등급 돼지만을 취급하는 <mark>성수역</mark> 삼겹살 <mark>맛집</mark>이다. 쫄깃하고 부드러운 식감을 갖춘 꽃삼겹은 남녀노소 누구나 좋아하는 별미 중 별미로 꼽힌다. 당일 공수한 식재료만을 취급하여 타 업체와...</a>\n",
      "'생방송투데이-수요맛전' 서울 성수동 곱창·대창·막창·염통 vs 강남 논현동... http://www.topstarnews.net/news/articleView.html?idxno=14752070 <a class=\"api_txt_lines dsc_txt_wrap\" href=\"http://www.topstarnews.net/news/articleView.html?idxno=14752070\" onclick=\"return goOtherCR(this, 'a=nws*f.body&amp;r=11&amp;i=88155e6f_000000000000000000847736&amp;g=5353.0000847736&amp;u='+urlencode(this.href));\" target=\"_blank\">또는 <mark>맛집</mark>과 명소가 두루 소개됐다. 서울 성동구 성수동2가, <mark>성수역</mark> 인근 약 500m 거리에 위치한 곱창·대창·막창·염통 <mark>맛집</mark>은 인기 소곱창 전문점이다. 모듬구이(곱창·대창·막창·염통), 한우생곱창, 한우염통...</a>\n",
      "'생방송 투데이' 오늘방송맛집- 리얼 맛집, 뜯高 맛보高 즐기高! 뼈탑숯불구이... https://www.etoday.co.kr/news/view/2058756 <a class=\"api_txt_lines dsc_txt_wrap\" href=\"https://www.etoday.co.kr/news/view/2058756\" onclick=\"return goOtherCR(this, 'a=nws*f.body&amp;r=12&amp;i=88000393_000000000000000001681356&amp;g=5003.0001681356&amp;u='+urlencode(this.href));\" target=\"_blank\">서울 성동구, <mark>성수역 맛집</mark>으로 통하는 '직○○○'에서는 뼈탑숯불구이를 만날 수 있다. 감자뼈구이를 사용, 미리 초벌돼 나오는 고기를 각자 자리에서 불향을 입혀 먹으면 된다. 뼈구이, 꿀살 또는 삼겹살, 된장찌개 또는...</a>\n",
      "'생방송 투데이' 오늘방송맛집- 먹킷리스트, 입안 가득 차오르는 멕시코의 맛... https://www.etoday.co.kr/news/view/2043827 <a class=\"api_txt_lines dsc_txt_wrap\" href=\"https://www.etoday.co.kr/news/view/2043827\" onclick=\"return goOtherCR(this, 'a=nws*f.body&amp;r=1&amp;i=88000393_000000000000000001667940&amp;g=5003.0001667940&amp;u='+urlencode(this.href));\" target=\"_blank\">성동구, <mark>성수역 맛집</mark>으로 통하는 '와○○'에서는 멕시코 음식 치미창가를 만날 수 있다. 치미창가는 밀 또띠아에 고기, 콩, 라이스, 치즈, 칠리 등을 넣어 말아서 튀겨낸 요리다. 결이 살아이는 또띠아와 진득한 소스의...</a>\n",
      "성수역 근처 족발맛집 중 색다른 매력으로 입소문난 곳은? http://www.etnews.com/20140602000233 <a class=\"api_txt_lines dsc_txt_wrap\" href=\"http://www.etnews.com/20140602000233\" onclick=\"return goOtherCR(this, 'a=nws*e.body&amp;r=2&amp;i=880000EA_000000000000000002276887&amp;g=030.0002276887&amp;u='+urlencode(this.href));\" target=\"_blank\"><mark>성수역</mark> 근처에는 입소문이 자자한 <mark>맛집</mark>들이 많이 있다. <mark>맛집</mark>을 소개하는 방송 프로그램에서 촬영장소로 많이 찾을 정도다. 특히 대중적인 외식 아이템이라고 할 수 있는 족발을 새롭게 선보이는 곳들이 많은데, 실제로...</a>\n",
      "[직장인 맛집] K2직원들이 추천한 성수역 근처 맛집 http://news.mk.co.kr/news_forward.php?no=708122&year=2010 <a class=\"api_txt_lines dsc_txt_wrap\" href=\"http://news.mk.co.kr/news_forward.php?no=708122&amp;year=2010\" onclick=\"return goOtherCR(this, 'a=nws*e.body&amp;r=3&amp;i=880000BC_000000000000000002374757&amp;g=009.0002374757&amp;u='+urlencode(this.href));\" target=\"_blank\">그래서 오랫동안 이곳에 둥지를 틀어온 K2코리아에 숨어있는 <mark>맛집</mark> 추천을 부탁했다. 이곳엔 가격 대비 맛이... 지하철 2호선 <mark>성수역</mark> 1번 출구에서 나와 뚝섬역 쪽으로 조금 가다가 첫 번째 골목길로 접어들어 40m 정도...</a>\n",
      "'생방송 투데이' 오늘방송맛집 - 다짜고짜 이PD 맛투어, 성수동 수플레 맛집 ... https://www.etoday.co.kr/news/view/1994918 <a class=\"api_txt_lines dsc_txt_wrap\" href=\"https://www.etoday.co.kr/news/view/1994918\" onclick=\"return goOtherCR(this, 'a=nws*f.body&amp;r=4&amp;i=88000393_000000000000000001623691&amp;g=5003.0001623691&amp;u='+urlencode(this.href));\" target=\"_blank\">성동구 성수동, <mark>성수역 맛집</mark>으로 통하는 '카○○○ ○○'에서는 다양한 수플레를 만나볼 수 있다. 인기메뉴는 벌집 수플레와 딸기 수플레. 벌집 수플레는 국내산 벌집과 소보로가 올라간 달콤하면서도 색다른...</a>\n",
      "'맛있는 녀석들' 서울 성수동 뇨끼 맛집 위치는? 링귀니-바질냉파스타 外 이탈... http://www.topstarnews.net/news/articleView.html?idxno=14709884 <a class=\"api_txt_lines dsc_txt_wrap\" href=\"http://www.topstarnews.net/news/articleView.html?idxno=14709884\" onclick=\"return goOtherCR(this, 'a=nws*f.body&amp;r=5&amp;i=88155e6f_000000000000000000836328&amp;g=5353.0000836328&amp;u='+urlencode(this.href));\" target=\"_blank\">서울 성동구 성수동2가, <mark>성수역</mark> 인근 약 700m 거리에 위치한 뇨끼 <mark>맛집</mark>은 많은 이들의 사랑을 받는 곳이다. 앞서 생활정보 프로그램인 '생방송투데이'를 통해 이탈리아 가정식 <mark>맛집</mark>으로 소개된 바 있는 유명 레스토랑이다....</a>\n",
      "'생생정보' 장사의신 닭한마리+닭갈비, SNS화제맛집 대왕 해물짬뽕&깐풍기 http://www.g-enews.com/ko-kr/news/article/news_all/202010071725486744c4c55f9b3d_1/article.html <a class=\"api_txt_lines dsc_txt_wrap\" href=\"http://www.g-enews.com/ko-kr/news/article/news_all/202010071725486744c4c55f9b3d_1/article.html\" onclick=\"return goOtherCR(this, 'a=nws*f.body&amp;r=6&amp;i=88155e63_000000000000000000418128&amp;g=5366.0000418128&amp;u='+urlencode(this.href));\" target=\"_blank\">[생생정보통] ■ 강화군농협 쌀조합공동사업법인 -위치: 인천 강화군 양도면 가능포로 166-13 [장사의 신] ■ 성수닭칼 <mark>성수역 맛집</mark>으로 닭한마리 칼국수와 닭갈비를 소개한다. 직접 반죽한 숙성 생면으로 만든 닭 한...</a>\n",
      "[코로나19가 다시 그린 상권지도 뜨는 거리, 뜨는 공식은] Part 1 MZ세대 놀이... http://news.mk.co.kr/newsRead.php?no=578843&year=2022 <a class=\"api_txt_lines dsc_txt_wrap\" href=\"http://news.mk.co.kr/newsRead.php?no=578843&amp;year=2022\" onclick=\"return goOtherCR(this, 'a=nws*e.body&amp;r=7&amp;i=880000BC_000000000000000004985664&amp;g=009.0004985664&amp;u='+urlencode(this.href));\" target=\"_blank\"><mark>맛집</mark> 많고 갈 곳 많으니 주 7일 상권이죠.” 지하철 2호선 <mark>성수역</mark>에 내리자마자 눈에 띄는 A부동산에 들어가 말을 건네니 대뜸 “공실률이란 게 뭔지 모르는 동네”란 말이 돌아왔다. 종로부터 명동까지 강북지역...</a>\n",
      "'생방송투데이' 서울 종로 낙원동 한우곱창전골·모듬구이 vs 성수동 에그곱탕... http://www.topstarnews.net/news/articleView.html?idxno=14698996 <a class=\"api_txt_lines dsc_txt_wrap\" href=\"http://www.topstarnews.net/news/articleView.html?idxno=14698996\" onclick=\"return goOtherCR(this, 'a=nws*f.body&amp;r=8&amp;i=88155e6f_000000000000000000830275&amp;g=5353.0000830275&amp;u='+urlencode(this.href));\" target=\"_blank\">성동구 성수동2가, <mark>성수역</mark> 인근 약 500m 거리에 위치한 에그곱탕면 <mark>맛집</mark>은 다양한 요리를 내놓는 퓨전 중식당이다. 에그곱탕면을 비롯해 생유베리탕수육, 생레몬크림새우, 마리감바스 등이 인기다. 인천 중구 신포동...</a>\n",
      "건대 맛집 '타이거풀', 프리미엄 스테이크 신메뉴 출시 http://www.gnmaeil.com/news/articleView.html?idxno=443525 <a class=\"api_txt_lines dsc_txt_wrap\" href=\"http://www.gnmaeil.com/news/articleView.html?idxno=443525\" onclick=\"return goOtherCR(this, 'a=nws*f.body&amp;r=9&amp;i=88155e76_000000000000000000151768&amp;g=5346.0000151768&amp;u='+urlencode(this.href));\" target=\"_blank\">모임, 연인 데이트에 이용하기 좋은 레스토랑\"이라며 \"새로운 메뉴를 출시하며 고객들로부터 큰 호응을 얻고 있다. 두 가지 신메뉴는 <mark>성수역 맛집</mark>으로 떠오른 타이거풀의 품격을 올려줄 것으로 기대를 모은다\"고 밝혔다.</a>\n",
      "[맛집로드] 하루로는 부족한 성수동 골목 맛 산책 http://moneys.mt.co.kr/news/mwView.php?no=2022070413280415557 <a class=\"api_txt_lines dsc_txt_wrap\" href=\"http://moneys.mt.co.kr/news/mwView.php?no=2022070413280415557\" onclick=\"return goOtherCR(this, 'a=nws*j.body&amp;r=10&amp;i=8812805E_000000000000000000829066&amp;g=417.0000829066&amp;u='+urlencode(this.href));\" target=\"_blank\">오랜 기간 골목을 지켜온 터줏대감부터 트렌디한 신생 <mark>맛집</mark>까지, 하루로는 부족한 성수동 골목으로 맛 산책을 떠나봤다. ◆간판 없는 집 서울지하철 2호선 <mark>성수역</mark>과 뚝섬역 사잇길에 자리한 '간판 없는 집'은 성수동이...</a>\n",
      "'생방송투데이-맛스타그램' 서울 성수동 족발 맛집 위치는? 유튜버 쯔양 픽! ... http://www.topstarnews.net/news/articleView.html?idxno=719319 <a class=\"api_txt_lines dsc_txt_wrap\" href=\"http://www.topstarnews.net/news/articleView.html?idxno=719319\" onclick=\"return goOtherCR(this, 'a=nws*f.body&amp;r=1&amp;i=88155e6f_000000000000000000619469&amp;g=5353.0000619469&amp;u='+urlencode(this.href));\" target=\"_blank\">(생방송투데이 오늘방송<mark>맛집</mark>) <mark>성수역</mark> 인근에 위치한 해당 <mark>맛집</mark>은 족발 전문점이다. 720시간 숙성시킨 소스와 매일 생족으로 삶아 직화로 구워내는 불족발이 별미다. 반반왕족발, 영양왕족발, 매운왕족발 등의 메뉴를...</a>\n",
      "'생방송 투데이' 오늘방송맛집 - #맛스타그램, 속단은 금물! 비범한 족발의 반... http://www.etoday.co.kr/news/section/newsview.php?idxno=1843962 <a class=\"api_txt_lines dsc_txt_wrap\" href=\"http://www.etoday.co.kr/news/section/newsview.php?idxno=1843962\" onclick=\"return goOtherCR(this, 'a=nws*f.body&amp;r=2&amp;i=88000393_000000000000000001483580&amp;g=5003.0001483580&amp;u='+urlencode(this.href));\" target=\"_blank\"><mark>성수역 맛집</mark>으로 통하는 '권○○○'에서는 720시간 숙성시킨 소스가 일품인 족발 <mark>맛집</mark>이다. 숙성 소스와 매일 생족으로 삶아 직화로 구워내는 불족발이 가장 인기가 높다. 매운왕족발은 3만5000원, 영양왕족발은...</a>\n",
      "“탄수화물은 여름의 적? ‘이 음식’ 다를걸?” 서울서 가볼만한 감자 요리 ... https://www.ekn.kr/web/view.php?key=20220617010002502 <a class=\"api_txt_lines dsc_txt_wrap\" href=\"https://www.ekn.kr/web/view.php?key=20220617010002502\" onclick=\"return goOtherCR(this, 'a=nws*f.body&amp;r=3&amp;i=88102504_000000000000000000523529&amp;g=5133.0000523529&amp;u='+urlencode(this.href));\" target=\"_blank\">세계 각국에서 ‘뜨겁게’ 사랑받는 식재료이자 여름철 더 굳세고 단단해질 감자, 서울에서 ‘핫한’ <mark>맛집</mark>... 돼지 등뼈와 살에서 우러난 진한 국물과 포슬포슬한 감자는 한데 섞여 입안에서 어우러집니다.<mark>성수역</mark> 인근에...</a>\n",
      "\"7시간 훈연\" 아르헨티나 정통 BBQ 레스토랑 '성수동 타이거풀', 서울 맛집으... http://www.seoulwire.com/news/articleView.html?idxno=65260 <a class=\"api_txt_lines dsc_txt_wrap\" href=\"http://www.seoulwire.com/news/articleView.html?idxno=65260\" onclick=\"return goOtherCR(this, 'a=nws*f.body&amp;r=4&amp;i=8817ca73_000000000000000000052481&amp;g=5526.0000052481&amp;u='+urlencode(this.href));\" target=\"_blank\"><mark>성수역 맛집</mark> ''은 오감을 자극하는 화려한 인테리어와 국내에서 쉽게 접할 수 없던 '웻 에이징' BBQ로 화제를 모았다. 서울 <mark>맛집</mark> '' 수석 쉐프는 \"웻에이징 방식과 7시간 훈연으로 제작되는 BBQ 메뉴들은 독특한 숙성방식을...</a>\n",
      "250평 규모 아르헨티나 정통 방식 BBQ 레스토랑 '타이거풀', 성수동 맛집으로... http://www.gpkorea.com/news/articleView.html?idxno=48023 <a class=\"api_txt_lines dsc_txt_wrap\" href=\"http://www.gpkorea.com/news/articleView.html?idxno=48023\" onclick=\"return goOtherCR(this, 'a=nws*f.body&amp;r=5&amp;i=88155e82_000000000000000000018131&amp;g=5331.0000018131&amp;u='+urlencode(this.href));\" target=\"_blank\"><mark>성수역 맛집</mark> '타이거풀'을 대표하는 BBQ 메뉴들은 독특한 숙성방식을 통해 제공되고 있어 눈길을 사로잡는다. 냉동고기를 사용하지 않고 '웻 에이징' 과정을 거친 습식 숙성 소고기와 돼지고기를 선보이는 '타이거풀'은...</a>\n",
      "'생방송투데이-리얼맛집' 서울 중구 신당동 약수역 '다이빙 숙성회' 횟집 위치... http://www.topstarnews.net/news/articleView.html?idxno=14693104 <a class=\"api_txt_lines dsc_txt_wrap\" href=\"http://www.topstarnews.net/news/articleView.html?idxno=14693104\" onclick=\"return goOtherCR(this, 'a=nws*f.body&amp;r=6&amp;i=88155e6f_000000000000000000824548&amp;g=5353.0000824548&amp;u='+urlencode(this.href));\" target=\"_blank\">서울 <mark>성수역</mark> 대파돈마호크 vs 합정역 토마호크 스테이크, '리얼 <mark>맛집</mark>' 풍미가 물결치는 맛 다이빙 숙성회 편 - 서울 신당동 약수역 숙성회 코스 &amp; 초밥 세트 횟집, '김PD가 떴다' 수령 60년 귀한 산야초 봉삼 편 등 다양한...</a>\n",
      "'생방송 투데이' 오늘방송맛집- 대박신화 어느 날, 월매출 3억7000만 원! 성수... http://www.etoday.co.kr/news/section/newsview.php?idxno=1750380 <a class=\"api_txt_lines dsc_txt_wrap\" href=\"http://www.etoday.co.kr/news/section/newsview.php?idxno=1750380\" onclick=\"return goOtherCR(this, 'a=nws*b.body&amp;r=7&amp;i=88000393_000000000000000001395778&amp;g=5003.0001395778&amp;u='+urlencode(this.href));\" target=\"_blank\">성수동 카페거리, <mark>성수역</mark>, 뚝섬역 <mark>맛집</mark>으로 통하는 '어반소스'에서는 다양한 베이커리와 영국 가정식을 맛볼 수 있다. 폐공장을 개조해 만든 '어반소스'는 실내 레스토랑, 어반 스페이스, 카페, 루프탑으로 구성됐다....</a>\n",
      "브런치-디저트-파인다이닝까지, 하루 종일 즐길 수 있는 성수동 #신상맛집 3 http://www.elle.co.kr/article/67000 <a class=\"api_txt_lines dsc_txt_wrap\" href=\"http://www.elle.co.kr/article/67000\" onclick=\"return goOtherCR(this, 'a=nws*f.body&amp;r=10&amp;i=880003F2_000000000000000000045351&amp;g=5027.0000045351&amp;u='+urlencode(this.href));\" target=\"_blank\">다양한 빵과 베이글 등을 판매하는 베이커리가 <mark>성수역</mark> 근처에 새롭게 오픈했습니다. 오픈런하는 자가 매일 구워낸 맛있는 빵을 득템한다고 할 정도로 인기가 뜨겁습니다. 성수동에 방문할 계획이라면 이곳에 가장...</a>\n",
      "성수가 뜬다 '서울숲서 포켓몬 잡고 맛집 탐방' http://www.edaily.co.kr/news/newspath.asp?newsid=03745766615829208 <a class=\"api_txt_lines dsc_txt_wrap\" href=\"http://www.edaily.co.kr/news/newspath.asp?newsid=03745766615829208\" onclick=\"return goOtherCR(this, 'a=nws*e.body&amp;r=11&amp;i=880000E7_000000000000000003746664&amp;g=018.0003746664&amp;u='+urlencode(this.href));\" target=\"_blank\">최근에는 아키야마가 새로운 <mark>성수역 맛집</mark>으로 떠오르고 있다. <mark>성수역</mark> 2번 출구에서 500m거리 안쪽에 위치한 아키야마는 편안한 분위기와 안락한 조명의 일본식 이자카야로, 가벼운 식사 및 술자리를 즐기기에 적합하다....</a>\n",
      "성수동 맛집여행, 전국 10대 화덕피자로 유명한 '도치피자' http://www.munhwanews.com/news/articleView.html?idxno=59007 <a class=\"api_txt_lines dsc_txt_wrap\" href=\"http://www.munhwanews.com/news/articleView.html?idxno=59007\" onclick=\"return goOtherCR(this, 'a=nws*f.body&amp;r=12&amp;i=8816651a_000000000000000000036707&amp;g=5415.0000036707&amp;u='+urlencode(this.href));\" target=\"_blank\">서울<mark>맛집</mark> 베스트10에도 들곤 하는 이곳은 국내에서도 원조 격으로 화덕피자를 유행시킨 곳으로 정통 나폴리식 화덕피자집으로 유명한 <mark>성수역 맛집</mark>이다.   정통 레시피뿐 아니라 재료 사용 또한 고집스러운데 사용하는...</a>\n"
     ]
    }
   ],
   "source": [
    "# 2단계\n",
    "# 특정 키워드 n 페이지 - 제목, 링크, 내용\n",
    "\n",
    "import requests\n",
    "from bs4 import BeautifulSoup\n",
    "\n",
    "keyword = input(\"검색어 입력:\")\n",
    "page = int(input(\"페이지 입력:\"))\n",
    "\n",
    "for i in range(1, page + 1):\n",
    "    response = requests.get(f\"https://search.naver.com/search.naver?where=news&sm=tab_jum&query={keyword}&start={10*(i-1)+1}\")\n",
    "    html = response.text\n",
    "    soup = BeautifulSoup(html, 'html.parser')\n",
    "\n",
    "    # 10개 기사 덩어리 가져오기\n",
    "    articles = soup.select(\".news_area\")\n",
    "\n",
    "    for article in articles:\n",
    "        anchor = article.select_one(\".news_tit\")\n",
    "        title = anchor.text\n",
    "        link = anchor.attrs['href']\n",
    "        content = article.select_one(\".api_txt_lines.dsc_txt_wrap\")\n",
    "        print(title, link, content)"
   ]
  },
  {
   "cell_type": "code",
   "execution_count": 5,
   "metadata": {},
   "outputs": [
    {
     "name": "stdout",
     "output_type": "stream",
     "text": [
      "1 가브리살 돈카츠와 감태 스테이크 타르타르까지, 프리미엄 메뉴들이 있는 성수... http://www.elle.co.kr/article/72068 마씨 성수역 근처 연무장길에 생긴 저온 숙성으로 만든 프리미엄 돈카츠 집이 문을 열었어요. 깔끔한 우드톤 인테리어가 노릇하게 튀겨진 돈카츠 맛을 돋워줍니다. 맛집 인스타그래머 푸딘코 추천으로 인기가...\n",
      "1 '생방송투데이-리얼맛집' 서울 성수역 뼈탑숯불구이 고깃집 위치는? 곱창-양대... http://www.topstarnews.net/news/articleView.html?idxno=14626293 '생방송투데이'에서 소개한 서울 성동구 성수동2가 성수역 소재 뼈탑숯불구이 맛집이 뜨거운 화제다. 1일 SBS '생방송투데이'의 '리얼맛집' 코너에서는 '뜯高 맛보高 즐기高 뼈탑숯불구이'라는 주제를 다뤘다....\n",
      "1 '생방송 투데이-역전의명샷' 성수역 맛집…할아버지피자&지중해에이드+돼지갈... http://www.topstarnews.net/news/articleView.html?idxno=830503 (오늘방송맛집) 이날 방송된 역전의명샷 코너에서는 공세권으로 떠나는 혼자여행, 성수역편으로 꾸며졌다. 서울 성동구에위치한 두곳의 맛집을 소개했다. 먼저 찾은 곳은 할아버지피자, 지중해에이드...\n",
      "1 핫플 성수동 문화예술로 만나는 '성동 디자인위크' 열린다 https://view.asiae.co.kr/article/2022103006522890887 성동구(구청장 정원오)는 뚝도시장과 성수역 인근에서 11월3일부터 5일까지 성수동 문화를 체험하는 디자인... 뚝도시장 맛집들이 자랑하는 메뉴로 구성된 이 도시락은 체험 클래스에도 포함된다. 이런 다양한 체험은...\n",
      "1 '생방송 투데이' 오늘방송맛집 - 빅데이터 랭킹 맛집, 족발 맛집 '권○○○'…... https://www.etoday.co.kr/news/view/2086170 서울 성동구, 아차산, 성수역 맛집으로 통하는 '권○○○'에서는 쫄깃한 족발을 만나볼 수 있다. 잡내가 나지 않고 양념이 더해져 부드러운 식감이 특징이다. 달달한 맛으로 아이들도 좋아하는 족발이다. 수도권...\n",
      "1 생방송 투데이' 오늘방송맛집- 리얼 맛집, 색다른 변신! 퓨전 중식 삼총사 맛... https://www.etoday.co.kr/news/view/2085412 서울 성동구, 성수역, 서울숲 맛집으로 통하는 '전○○'에서는 특별한 중식을 만날 수 있다. 상큼한 베리가 들어간 베리베리 탕수육, 감바스에 마라를 더한 마라감바스, 통통한 새우와 레몬크림 소스를 더한 레몬 크림새우...\n",
      "1 '생방송투데이-수요맛전' 서울 성수역 대파돈마호크 vs 합정역 토마호크 스테... http://www.topstarnews.net/news/articleView.html?idxno=14693106 서울 성동구 성수동2가, 성수역 인근 약 100m 거리에 위치한 대파돈마호크 맛집은 많은 이들의 사랑을 받는 돼지고기구이 전문점이다. 대파 돈마호크 한 판을 비롯해 대파삼목껍, 생껍데기, 물쫄면, 비빔쫄면 등이 준비돼...\n",
      "1 성수역 맛집 교대이층집 성수점, 삼겹살 별미부터 아늑한 분위기까지 http://www.incheonilbo.com/?mod=news&act=articleView&idxno=796790 교대이층집 성수점은 국내산 1등급 돼지만을 취급하는 성수역 삼겹살 맛집이다. 쫄깃하고 부드러운 식감을 갖춘 꽃삼겹은 남녀노소 누구나 좋아하는 별미 중 별미로 꼽힌다. 당일 공수한 식재료만을 취급하여 타 업체와...\n",
      "1 '생방송투데이-수요맛전' 서울 성수동 곱창·대창·막창·염통 vs 강남 논현동... http://www.topstarnews.net/news/articleView.html?idxno=14752070 또는 맛집과 명소가 두루 소개됐다. 서울 성동구 성수동2가, 성수역 인근 약 500m 거리에 위치한 곱창·대창·막창·염통 맛집은 인기 소곱창 전문점이다. 모듬구이(곱창·대창·막창·염통), 한우생곱창, 한우염통...\n",
      "1 '생방송 투데이' 오늘방송맛집- 리얼 맛집, 뜯高 맛보高 즐기高! 뼈탑숯불구이... https://www.etoday.co.kr/news/view/2058756 서울 성동구, 성수역 맛집으로 통하는 '직○○○'에서는 뼈탑숯불구이를 만날 수 있다. 감자뼈구이를 사용, 미리 초벌돼 나오는 고기를 각자 자리에서 불향을 입혀 먹으면 된다. 뼈구이, 꿀살 또는 삼겹살, 된장찌개 또는...\n",
      "2 '생방송 투데이' 오늘방송맛집- 먹킷리스트, 입안 가득 차오르는 멕시코의 맛... https://www.etoday.co.kr/news/view/2043827 성동구, 성수역 맛집으로 통하는 '와○○'에서는 멕시코 음식 치미창가를 만날 수 있다. 치미창가는 밀 또띠아에 고기, 콩, 라이스, 치즈, 칠리 등을 넣어 말아서 튀겨낸 요리다. 결이 살아이는 또띠아와 진득한 소스의...\n",
      "2 성수역 근처 족발맛집 중 색다른 매력으로 입소문난 곳은? http://www.etnews.com/20140602000233 성수역 근처에는 입소문이 자자한 맛집들이 많이 있다. 맛집을 소개하는 방송 프로그램에서 촬영장소로 많이 찾을 정도다. 특히 대중적인 외식 아이템이라고 할 수 있는 족발을 새롭게 선보이는 곳들이 많은데, 실제로...\n",
      "2 [직장인 맛집] K2직원들이 추천한 성수역 근처 맛집 http://news.mk.co.kr/news_forward.php?no=708122&year=2010 그래서 오랫동안 이곳에 둥지를 틀어온 K2코리아에 숨어있는 맛집 추천을 부탁했다. 이곳엔 가격 대비 맛이... 지하철 2호선 성수역 1번 출구에서 나와 뚝섬역 쪽으로 조금 가다가 첫 번째 골목길로 접어들어 40m 정도...\n",
      "2 '생방송 투데이' 오늘방송맛집 - 다짜고짜 이PD 맛투어, 성수동 수플레 맛집 ... https://www.etoday.co.kr/news/view/1994918 성동구 성수동, 성수역 맛집으로 통하는 '카○○○ ○○'에서는 다양한 수플레를 만나볼 수 있다. 인기메뉴는 벌집 수플레와 딸기 수플레. 벌집 수플레는 국내산 벌집과 소보로가 올라간 달콤하면서도 색다른...\n",
      "2 '맛있는 녀석들' 서울 성수동 뇨끼 맛집 위치는? 링귀니-바질냉파스타 外 이탈... http://www.topstarnews.net/news/articleView.html?idxno=14709884 서울 성동구 성수동2가, 성수역 인근 약 700m 거리에 위치한 뇨끼 맛집은 많은 이들의 사랑을 받는 곳이다. 앞서 생활정보 프로그램인 '생방송투데이'를 통해 이탈리아 가정식 맛집으로 소개된 바 있는 유명 레스토랑이다....\n",
      "2 '생생정보' 장사의신 닭한마리+닭갈비, SNS화제맛집 대왕 해물짬뽕&깐풍기 http://www.g-enews.com/ko-kr/news/article/news_all/202010071725486744c4c55f9b3d_1/article.html [생생정보통] ■ 강화군농협 쌀조합공동사업법인 -위치: 인천 강화군 양도면 가능포로 166-13 [장사의 신] ■ 성수닭칼 성수역 맛집으로 닭한마리 칼국수와 닭갈비를 소개한다. 직접 반죽한 숙성 생면으로 만든 닭 한...\n",
      "2 [코로나19가 다시 그린 상권지도 뜨는 거리, 뜨는 공식은] Part 1 MZ세대 놀이... http://news.mk.co.kr/newsRead.php?no=578843&year=2022 맛집 많고 갈 곳 많으니 주 7일 상권이죠.” 지하철 2호선 성수역에 내리자마자 눈에 띄는 A부동산에 들어가 말을 건네니 대뜸 “공실률이란 게 뭔지 모르는 동네”란 말이 돌아왔다. 종로부터 명동까지 강북지역...\n",
      "2 '생방송투데이' 서울 종로 낙원동 한우곱창전골·모듬구이 vs 성수동 에그곱탕... http://www.topstarnews.net/news/articleView.html?idxno=14698996 성동구 성수동2가, 성수역 인근 약 500m 거리에 위치한 에그곱탕면 맛집은 다양한 요리를 내놓는 퓨전 중식당이다. 에그곱탕면을 비롯해 생유베리탕수육, 생레몬크림새우, 마리감바스 등이 인기다. 인천 중구 신포동...\n",
      "2 건대 맛집 '타이거풀', 프리미엄 스테이크 신메뉴 출시 http://www.gnmaeil.com/news/articleView.html?idxno=443525 모임, 연인 데이트에 이용하기 좋은 레스토랑\"이라며 \"새로운 메뉴를 출시하며 고객들로부터 큰 호응을 얻고 있다. 두 가지 신메뉴는 성수역 맛집으로 떠오른 타이거풀의 품격을 올려줄 것으로 기대를 모은다\"고 밝혔다.\n",
      "2 [맛집로드] 하루로는 부족한 성수동 골목 맛 산책 http://moneys.mt.co.kr/news/mwView.php?no=2022070413280415557 오랜 기간 골목을 지켜온 터줏대감부터 트렌디한 신생 맛집까지, 하루로는 부족한 성수동 골목으로 맛 산책을 떠나봤다. ◆간판 없는 집 서울지하철 2호선 성수역과 뚝섬역 사잇길에 자리한 '간판 없는 집'은 성수동이...\n",
      "3 '생방송투데이-맛스타그램' 서울 성수동 족발 맛집 위치는? 유튜버 쯔양 픽! ... http://www.topstarnews.net/news/articleView.html?idxno=719319 (생방송투데이 오늘방송맛집) 성수역 인근에 위치한 해당 맛집은 족발 전문점이다. 720시간 숙성시킨 소스와 매일 생족으로 삶아 직화로 구워내는 불족발이 별미다. 반반왕족발, 영양왕족발, 매운왕족발 등의 메뉴를...\n",
      "3 '생방송 투데이' 오늘방송맛집 - #맛스타그램, 속단은 금물! 비범한 족발의 반... http://www.etoday.co.kr/news/section/newsview.php?idxno=1843962 성수역 맛집으로 통하는 '권○○○'에서는 720시간 숙성시킨 소스가 일품인 족발 맛집이다. 숙성 소스와 매일 생족으로 삶아 직화로 구워내는 불족발이 가장 인기가 높다. 매운왕족발은 3만5000원, 영양왕족발은...\n",
      "3 “탄수화물은 여름의 적? ‘이 음식’ 다를걸?” 서울서 가볼만한 감자 요리 ... https://www.ekn.kr/web/view.php?key=20220617010002502 세계 각국에서 ‘뜨겁게’ 사랑받는 식재료이자 여름철 더 굳세고 단단해질 감자, 서울에서 ‘핫한’ 맛집... 돼지 등뼈와 살에서 우러난 진한 국물과 포슬포슬한 감자는 한데 섞여 입안에서 어우러집니다.성수역 인근에...\n",
      "3 \"7시간 훈연\" 아르헨티나 정통 BBQ 레스토랑 '성수동 타이거풀', 서울 맛집으... http://www.seoulwire.com/news/articleView.html?idxno=65260 성수역 맛집 ''은 오감을 자극하는 화려한 인테리어와 국내에서 쉽게 접할 수 없던 '웻 에이징' BBQ로 화제를 모았다. 서울 맛집 '' 수석 쉐프는 \"웻에이징 방식과 7시간 훈연으로 제작되는 BBQ 메뉴들은 독특한 숙성방식을...\n",
      "3 250평 규모 아르헨티나 정통 방식 BBQ 레스토랑 '타이거풀', 성수동 맛집으로... http://www.gpkorea.com/news/articleView.html?idxno=48023 성수역 맛집 '타이거풀'을 대표하는 BBQ 메뉴들은 독특한 숙성방식을 통해 제공되고 있어 눈길을 사로잡는다. 냉동고기를 사용하지 않고 '웻 에이징' 과정을 거친 습식 숙성 소고기와 돼지고기를 선보이는 '타이거풀'은...\n",
      "3 '생방송투데이-리얼맛집' 서울 중구 신당동 약수역 '다이빙 숙성회' 횟집 위치... http://www.topstarnews.net/news/articleView.html?idxno=14693104 서울 성수역 대파돈마호크 vs 합정역 토마호크 스테이크, '리얼 맛집' 풍미가 물결치는 맛 다이빙 숙성회 편 - 서울 신당동 약수역 숙성회 코스 & 초밥 세트 횟집, '김PD가 떴다' 수령 60년 귀한 산야초 봉삼 편 등 다양한...\n",
      "3 '생방송 투데이' 오늘방송맛집- 대박신화 어느 날, 월매출 3억7000만 원! 성수... http://www.etoday.co.kr/news/section/newsview.php?idxno=1750380 성수동 카페거리, 성수역, 뚝섬역 맛집으로 통하는 '어반소스'에서는 다양한 베이커리와 영국 가정식을 맛볼 수 있다. 폐공장을 개조해 만든 '어반소스'는 실내 레스토랑, 어반 스페이스, 카페, 루프탑으로 구성됐다....\n",
      "3 브런치-디저트-파인다이닝까지, 하루 종일 즐길 수 있는 성수동 #신상맛집 3 http://www.elle.co.kr/article/67000 다양한 빵과 베이글 등을 판매하는 베이커리가 성수역 근처에 새롭게 오픈했습니다. 오픈런하는 자가 매일 구워낸 맛있는 빵을 득템한다고 할 정도로 인기가 뜨겁습니다. 성수동에 방문할 계획이라면 이곳에 가장...\n",
      "3 성수가 뜬다 '서울숲서 포켓몬 잡고 맛집 탐방' http://www.edaily.co.kr/news/newspath.asp?newsid=03745766615829208 최근에는 아키야마가 새로운 성수역 맛집으로 떠오르고 있다. 성수역 2번 출구에서 500m거리 안쪽에 위치한 아키야마는 편안한 분위기와 안락한 조명의 일본식 이자카야로, 가벼운 식사 및 술자리를 즐기기에 적합하다....\n",
      "3 성수동 맛집여행, 전국 10대 화덕피자로 유명한 '도치피자' http://www.munhwanews.com/news/articleView.html?idxno=59007 서울맛집 베스트10에도 들곤 하는 이곳은 국내에서도 원조 격으로 화덕피자를 유행시킨 곳으로 정통 나폴리식 화덕피자집으로 유명한 성수역 맛집이다.   정통 레시피뿐 아니라 재료 사용 또한 고집스러운데 사용하는...\n"
     ]
    }
   ],
   "source": [
    "import openpyxl\n",
    "import requests\n",
    "from bs4 import BeautifulSoup\n",
    "\n",
    "keyword = input(\"검색어를 입력하세요: \")\n",
    "page = int(input(\"페이지 입력하세요: \"))\n",
    "\n",
    "wb = openpyxl.Workbook() # 워크북 생성\n",
    "ws = wb.active # 현재 활성화된 sheet 선택\n",
    "ws.title = keyword # sheet 이름 변경\n",
    "\n",
    "ws.append([\"제목\", \"링크\", \"내용\"])\n",
    "\n",
    "for i in range(1, page + 1):\n",
    "    response = requests.get(f\"https://search.naver.com/search.naver?where=news&sm=tab_jum&query={keyword}&start={10*(i-1)+1}\")\n",
    "    html = response.text\n",
    "    soup = BeautifulSoup(html, 'html.parser')\n",
    "\n",
    "    # 10개 기사 덩어리 가져오기\n",
    "    articles = soup.select(\".news_area\")\n",
    "\n",
    "    for article in articles:\n",
    "        anchor = article.select_one(\".news_tit\")\n",
    "        title = anchor.text\n",
    "        link = anchor.attrs['href']\n",
    "        content = article.select_one(\".api_txt_lines.dsc_txt_wrap\").text\n",
    "        print(i, title, link, content)\n",
    "        ws.append([title, link, content])\n",
    "        \n",
    "wb.save(f\"{keyword}.xlsx\")"
   ]
  },
  {
   "cell_type": "code",
   "execution_count": 7,
   "metadata": {},
   "outputs": [
    {
     "ename": "AttributeError",
     "evalue": "module 'openpyxl' has no attribute 'load_Workbook'",
     "output_type": "error",
     "traceback": [
      "\u001b[1;31m---------------------------------------------------------------------------\u001b[0m",
      "\u001b[1;31mAttributeError\u001b[0m                            Traceback (most recent call last)",
      "\u001b[1;32mc:\\Users\\USER\\Documents\\현장실습\\03.정적페이지크롤링\\10.네이버뉴스3단계.ipynb 셀 7\u001b[0m in \u001b[0;36m<cell line: 8>\u001b[1;34m()\u001b[0m\n\u001b[0;32m      <a href='vscode-notebook-cell:/c%3A/Users/USER/Documents/%ED%98%84%EC%9E%A5%EC%8B%A4%EC%8A%B5/03.%EC%A0%95%EC%A0%81%ED%8E%98%EC%9D%B4%EC%A7%80%ED%81%AC%EB%A1%A4%EB%A7%81/10.%EB%84%A4%EC%9D%B4%EB%B2%84%EB%89%B4%EC%8A%A43%EB%8B%A8%EA%B3%84.ipynb#W6sZmlsZQ%3D%3D?line=4'>5</a>\u001b[0m keyword \u001b[39m=\u001b[39m \u001b[39minput\u001b[39m(\u001b[39m\"\u001b[39m\u001b[39m검색어를 입력하세요: \u001b[39m\u001b[39m\"\u001b[39m)\n\u001b[0;32m      <a href='vscode-notebook-cell:/c%3A/Users/USER/Documents/%ED%98%84%EC%9E%A5%EC%8B%A4%EC%8A%B5/03.%EC%A0%95%EC%A0%81%ED%8E%98%EC%9D%B4%EC%A7%80%ED%81%AC%EB%A1%A4%EB%A7%81/10.%EB%84%A4%EC%9D%B4%EB%B2%84%EB%89%B4%EC%8A%A43%EB%8B%A8%EA%B3%84.ipynb#W6sZmlsZQ%3D%3D?line=5'>6</a>\u001b[0m page \u001b[39m=\u001b[39m \u001b[39mint\u001b[39m(\u001b[39minput\u001b[39m(\u001b[39m\"\u001b[39m\u001b[39m페이지 입력하세요: \u001b[39m\u001b[39m\"\u001b[39m))\n\u001b[1;32m----> <a href='vscode-notebook-cell:/c%3A/Users/USER/Documents/%ED%98%84%EC%9E%A5%EC%8B%A4%EC%8A%B5/03.%EC%A0%95%EC%A0%81%ED%8E%98%EC%9D%B4%EC%A7%80%ED%81%AC%EB%A1%A4%EB%A7%81/10.%EB%84%A4%EC%9D%B4%EB%B2%84%EB%89%B4%EC%8A%A43%EB%8B%A8%EA%B3%84.ipynb#W6sZmlsZQ%3D%3D?line=7'>8</a>\u001b[0m wb \u001b[39m=\u001b[39m openpyxl\u001b[39m.\u001b[39;49mload_Workbook(\u001b[39m'\u001b[39m\u001b[39m네이버뉴스크롤링.xlsx\u001b[39m\u001b[39m'\u001b[39m) \u001b[39m# 워크북 로드\u001b[39;00m\n\u001b[0;32m      <a href='vscode-notebook-cell:/c%3A/Users/USER/Documents/%ED%98%84%EC%9E%A5%EC%8B%A4%EC%8A%B5/03.%EC%A0%95%EC%A0%81%ED%8E%98%EC%9D%B4%EC%A7%80%ED%81%AC%EB%A1%A4%EB%A7%81/10.%EB%84%A4%EC%9D%B4%EB%B2%84%EB%89%B4%EC%8A%A43%EB%8B%A8%EA%B3%84.ipynb#W6sZmlsZQ%3D%3D?line=8'>9</a>\u001b[0m ws \u001b[39m=\u001b[39m wb\u001b[39m.\u001b[39mcreate_sheet(keyword) \u001b[39m# 현재 활성화된 sheet 선택\u001b[39;00m\n\u001b[0;32m     <a href='vscode-notebook-cell:/c%3A/Users/USER/Documents/%ED%98%84%EC%9E%A5%EC%8B%A4%EC%8A%B5/03.%EC%A0%95%EC%A0%81%ED%8E%98%EC%9D%B4%EC%A7%80%ED%81%AC%EB%A1%A4%EB%A7%81/10.%EB%84%A4%EC%9D%B4%EB%B2%84%EB%89%B4%EC%8A%A43%EB%8B%A8%EA%B3%84.ipynb#W6sZmlsZQ%3D%3D?line=9'>10</a>\u001b[0m ws\u001b[39m.\u001b[39mappend([\u001b[39m\"\u001b[39m\u001b[39m제목\u001b[39m\u001b[39m\"\u001b[39m, \u001b[39m\"\u001b[39m\u001b[39m링크\u001b[39m\u001b[39m\"\u001b[39m, \u001b[39m\"\u001b[39m\u001b[39m내용\u001b[39m\u001b[39m\"\u001b[39m])\n",
      "\u001b[1;31mAttributeError\u001b[0m: module 'openpyxl' has no attribute 'load_Workbook'"
     ]
    }
   ],
   "source": [
    "import openpyxl\n",
    "import requests\n",
    "from bs4 import BeautifulSoup\n",
    "\n",
    "keyword = input(\"검색어를 입력하세요: \")\n",
    "page = int(input(\"페이지 입력하세요: \"))\n",
    "\n",
    "wb = openpyxl.load_Workbook('네이버뉴스크롤링.xlsx') # 워크북 로드\n",
    "ws = wb.create_sheet(keyword) # 현재 활성화된 sheet 선택\n",
    "ws.append([\"제목\", \"링크\", \"내용\"])\n",
    "\n",
    "for i in range(1, page + 1):\n",
    "    response = requests.get(f\"https://search.naver.com/search.naver?where=news&sm=tab_jum&query={keyword}&start={10*(i-1)+1}\")\n",
    "    html = response.text\n",
    "    soup = BeautifulSoup(html, 'html.parser')\n",
    "\n",
    "    # 10개 기사 덩어리 가져오기\n",
    "    articles = soup.select(\".news_area\")\n",
    "\n",
    "    for article in articles:\n",
    "        anchor = article.select_one(\".news_tit\")\n",
    "        title = anchor.text\n",
    "        link = anchor.attrs['href']\n",
    "        content = article.select_one(\".api_txt_lines.dsc_txt_wrap\").text\n",
    "        print(i, title, link, content)\n",
    "        ws.append([title, link, content])\n",
    "        \n",
    "wb.save('네이버뉴스크롤링.xlsx')"
   ]
  },
  {
   "cell_type": "code",
   "execution_count": 8,
   "metadata": {},
   "outputs": [
    {
     "name": "stdout",
     "output_type": "stream",
     "text": [
      "롤드컵 결승에 오른 DRX “언더독의 매서운 저력 보여줄 것” https://game.donga.com/105088/ 젠지의 쵸비 선수를 압도한 이유는 무엇이라고 생각하나? ‘아칼리’라는 챔피언은 조건이 많이 붙는다. 그래서 팀 조합에 따라 활용하는 차이점이 존재한다. 4강 젠지와의 경기는 쵸비 선수와 라인전에서 유리한 상성의...\n",
      "'LCK 내전' 2022 롤드컵 결승…'T1 vs DRX' 관전 포인트는? http://www.wolyo.co.kr/news/articleView.html?idxno=214508 ◆ 쵸비 잡은 제카, GOAT 페이커도 극복할까?…마포고 듀오 대결도 '눈길' DRX 상승세의 중심은 미드... 특히 4강 젠지 전에서는 미드 1황으로 평가받고 있는 쵸비까지 꺾었다. 파죽지세의 제카는 파이널에서 다시...\n",
      "[오!쎈 인터뷰] 젠지 ‘쵸비’ 정지훈, “4세트 라이즈 플레이, 예상 빗나가” http://www.osen.co.kr/article/G1111979001 젠지의 미드 라이너 ‘쵸비’ 정지훈은 부담감이 큰 4세트 플레이에 대해 “예상이 빗나갔다”고 설명했다. 젠지는 31일 오전(이하 한국시간) 미국 애틀란타 스테이트팜 아레나에서 열린 ‘2022 LOL 월드 챔피언십(이하...\n",
      "[롤드컵] 첫 4강 '쵸비' 정지훈, \"이 기회 놓치지 않겠다\" http://www.inven.co.kr/webzine/news/?news=277846&iskin=esports '쵸비' 정지훈이 첫 롤드컵 4강이라는 기회를 놓치고 싶지 않다고 전했다. 2022 롤드컵 8강 3경기에서 젠지가... '쵸비' 정지훈은 승리 직후 무대 인터뷰에 나서 본인의 생각을 담담히 밝혔다. 먼저, '쵸비'는 마지막 한타를...\n",
      "아쉬움 토로한 '쵸비' 정지훈, 4세트 플-궁? \"바루스가 보였는데 예상 빗나가... https://www.xportsnews.com/article/1648887 '쵸비' 정지훈이 아쉬움을 토로했다. 31일(한국 시각) 미국 조지아주 애틀란타의 스테이트팜 아레나에서는 '2022 리그 오브 레전드 월드 챔피언십(이하 롤드컵)' 4강전, 젠지 대 DRX의 경기가 진행됐다. 이날 젠지는 1세트...\n",
      "[롤드컵 4강 인터뷰] 젠지, \"DRX, 실전서 더 강력 ... 결승 '팽팽'\"  https://www.khgames.co.kr/news/articleView.html?idxno=205358 LCK와 달라진 점이 무엇이라 보나 쵸비 : 나는 그가 원래 잘하는 선수였다고 보고, 롤드컵에서 한 단계 더... 메타 변화가 원인인가 쵸비 : 단순하게 우리가 뽑은 조합이나 방향성에 맞게 플레이하지 못한 게 원인이라고...\n",
      "반격 성공 DRX, 젠지에 2세트 승리…승부는 원점[롤드컵 준결승] http://www.sportsseoul.com/news/read/1172938?ref=naver 막혔고 ‘쵸비’마저 잡히고 말았다. 31분경 용 근처에서 열린 교전에서 DRX가 ‘도란’과 ‘룰러’를... 장로용 사냥과 함께 ‘쵸비’ 정지훈이 DRX의 본진 백도어를 하는 투 트랙 작전이었다. 그러나 작전은...\n",
      "역대 최고 스토리, 韓 내전 완성된 롤드컵 결승 미리보기 https://www.gamemeca.com/mv.php?inflow=naver_s&gid=1687708 유명한 '쵸비' 정지훈을 뛰어넘는 폼을 보여줬다. ▲ 결승 진출이 확정된 뒤 기뻐하는 팀원들 (사진제공... 이번 시즌에 치른 경기 중에서 가장 아쉬운 모습을 보여줬다고 자평한 '쵸비' 정지훈은 4세트에선 적의 기세에...\n",
      "[롤드컵] 4강 탈락 ‘쵸비’ 정지훈 “경기서 해야 할 것들 못 한 아쉬움 커” https://www.fomos.kr/redirect/news_view?news_cate_id=5&entry_id=115628 LCK 1번 시드로 롤드컵에 진출했으나 4번 시드 DRX에 발목이 잡히며 결승 진출이 좌절된 젠지 e스포츠(이하 젠지)의 ‘쵸비’ 정지훈이 대회를 마친 소감을 이야기했다. 젠지는 한국 시간으로 31일 미국 조지아주에 위치한...\n",
      "[롤드컵] '다음 표식은 T1' DRX, 젠지 꺾고 결승행 https://www.mhnse.com/news/articleView.html?idxno=151560 표식은 이 과정에서 쵸비의 점멸도 소모시켰다. 전령은 젠지가 획득했으나, 이후 17분까지는 DRX가 너무나도 편안하게 앞서갔다. 특히 14분, 데프트를 제외한 전원이 쵸비를 습격해 쓰러트린 장면은 DRX의 팀적인...\n",
      "'쵸비' 정지훈-'스코어' 고동빈 감독, 코로나19 확진 http://www.sportsseoul.com/news/read/1167947?ref=naver 출처| 젠지 소셜미디어 젠지 ‘쵸비’ 정지훈과 감독 ‘스코어’ 고동빈 감독이 코로나19 확진 판정을... 이어 젠지는 “뉴욕 시간 기준 10월 11일 ‘쵸비’ 정지훈 선수와 ‘스코어’ 고동빈 감독이 확진됐으며, 12일...\n",
      "젠지가 심장을 내놓는다 https://news.kmib.co.kr/article/view.asp?arcid=0017659482&code=61162011&cp=nv 올해 ‘쵸비’ 정지훈, ‘피넛’ 한왕호 등과 자신의 숙원이자 팀의 숙원 사업이었던 LCK 우승을 비로소 달성했다. 개인 기량도 올해 최전성기를 맞았다. 박재혁은 올해 LCK 서머 시즌에 정규 리그 MVP, 플레이어 오브 더...\n",
      "젠지, 롤드컵 8강서 담원 기아에 혈투끝 신승…4강 진출 https://www.yna.co.kr/view/AKR20221023023400017?input=1195m 올해 롤드컵 첫 풀세트 경기…쵸비 \"첫 4강 기회, 놓치지 않겠다\" 젠지(Gen.G)가 리그오브레전드(LoL) 월드... 그러나 밴픽 단계에서 현재 프로 경기에서 잘 쓰이지 않는 라이즈를 골라 주목을 받은 '쵸비' 정지훈이 잇따라...\n",
      "[롤드컵] 젠지, \"다음 시즌 더 강력한 모습으로 돌아오겠다\" http://www.inven.co.kr/webzine/news/?news=278119&iskin=esports ('쵸비' 정지훈에게) '제카' 김건우가 이번 롤드컵에서 엄청난 성장세를 보여줬다. LCK와 가장 달라진 점이... ('쵸비' 정지훈에게) 서머 스플릿에서 우승했지만, 롤드컵 4강에서 그쳤다. 우리가 구상한 게임 양상과 픽밴을...\n",
      "페이커와 데프트 위한 테마곡? 'STAR WALKIN'으로 보는 롤드컵 4강 https://www.thisisgame.com/webzine/series/nboard/212/?n=160942 뮤직비디오에서는 LCK를 대표하는 선수로 비록 ‘쵸비’ 정지훈이 등장했지만, LCK는 이제 ‘쵸비’의 젠지가 아닌 ‘데프트’ 김혁규의 DRX, 그리고 ‘페이커’ 이상혁의 T1이 각각 대표하게 됐다. 10월 30일부터 31일...\n",
      "[롤드컵] 첫 출전 존재감 최강! '제카'의 마음가짐 http://www.inven.co.kr/webzine/news/?news=278135&iskin=esports 어느덧 '제카'는 '스카웃-쵸비'를 넘어섰고, 이제 결승전에서 '페이커' 이상혁과 대결만 남겨뒀다. 이번 2022... '쵸비' 정지훈과 대결에 관한 관심이 뜨거웠다. 맞붙었을 때 어떤 느낌을 받았나. 생각했던 것 만큼 역시 정말...\n",
      "2022 롤드컵 4강 2차전...젠지 대 DRX 경기 분석 http://www.gameshot.net/common/con_view.php?code=GA635e38e1afc23 쵸비가 최상급 1티어 선수이고, 실제로 잘 하는 선수인 것도 맞지만 제카는 롤드컵에서 그냥 미쳤다. 심지어 팀이 최상위 전력도 아님에도 이러한 활약을 펼치고 있다. 폼이 약간 떨어진 쵸비, 그리고 MVP급 폼을 보여주는...\n",
      "[롤드컵] 젠지, 난투전 끝 DK 제압…'3 대 0 가자!' https://www.xportsnews.com/article/1645404 이날 젠지에서는 '도란' 최현준, '피넛' 한왕호, '쵸비' 정지훈, '룰러' 박재혁, '리헨즈' 손시우가 출전했고... 대치가 길어지는 와중 '도란'을 잡은 담원 기아는 이어진 한타에서 '캐니언'을 내주는 대신 '쵸비'를 제외한...\n",
      "그룹 코로나-19 확산, '스카웃-캐니언-쵸비' 확진 http://www.inven.co.kr/webzine/news/?news=277472&iskin=esports 한편, B조 담원 기아의 정글러 '캐니언' 김건부와 D조 젠지의 미드 라이너 '쵸비' 정지훈 모두 코로나-19 확진 판정을 받고 온라인으로 경기에 참여한다. 젠지는 고동빈 감독과 김무성 코치가 추가로 확진 돼 자가격리에...\n",
      "[롤드컵] 심심했다는 '쵸비' 정지훈 \"8강 진출팀 전부 경계돼…우리가 잘하는... https://www.xportsnews.com/article/1642653 '쵸비' 정지훈이 100 도둑전 승리 소감을 전했다. 17일(한국 시각) 미국 뉴욕의 매디슨 스퀘어 가든 홀루 시어터에서 '2022 리그 오브 레전드 월드 챔피언십(이하 롤드컵)' 그룹 스테이지 8일차 경기가 치러졌다. 이날 네 번째...\n"
     ]
    }
   ],
   "source": [
    "# 3단계\n",
    "# 엑셀 저장 (불러오기 기능 추가)\n",
    "import requests\n",
    "from bs4 import BeautifulSoup\n",
    "import openpyxl\n",
    "\n",
    "keyword = input(\"검색어 입력:\")\n",
    "page = int(input(\"페이지 입력:\"))\n",
    "\n",
    "wb = openpyxl.load_workbook('네이버뉴스크롤링.xlsx')\n",
    "ws = wb.create_sheet(keyword)\n",
    "ws.append(['제목', '링크', '내용'])\n",
    "\n",
    "for i in range(1, page + 1):\n",
    "    response = requests.get(f\"https://search.naver.com/search.naver?where=news&sm=tab_jum&query={keyword}&start={10*(i-1)+1}\")\n",
    "    html = response.text\n",
    "    soup = BeautifulSoup(html, 'html.parser')\n",
    "\n",
    "    # 10개 기사 덩어리 가져오기\n",
    "    articles = soup.select(\".news_area\")\n",
    "\n",
    "    for article in articles:\n",
    "        anchor = article.select_one(\".news_tit\")\n",
    "        title = anchor.text\n",
    "        link = anchor.attrs['href']\n",
    "        content = article.select_one(\".api_txt_lines.dsc_txt_wrap\").text\n",
    "        print(title, link, content)\n",
    "        ws.append([title, link, content])\n",
    "wb.save('네이버뉴스크롤링.xlsx')"
   ]
  },
  {
   "cell_type": "code",
   "execution_count": null,
   "metadata": {},
   "outputs": [],
   "source": []
  }
 ],
 "metadata": {
  "kernelspec": {
   "display_name": "Python 3.9.12 ('base')",
   "language": "python",
   "name": "python3"
  },
  "language_info": {
   "codemirror_mode": {
    "name": "ipython",
    "version": 3
   },
   "file_extension": ".py",
   "mimetype": "text/x-python",
   "name": "python",
   "nbconvert_exporter": "python",
   "pygments_lexer": "ipython3",
   "version": "3.9.12"
  },
  "orig_nbformat": 4,
  "vscode": {
   "interpreter": {
    "hash": "263930470851f494f0ed2879c35b57985588df20f9e529b86e97dd5eb9ddc466"
   }
  }
 },
 "nbformat": 4,
 "nbformat_minor": 2
}
