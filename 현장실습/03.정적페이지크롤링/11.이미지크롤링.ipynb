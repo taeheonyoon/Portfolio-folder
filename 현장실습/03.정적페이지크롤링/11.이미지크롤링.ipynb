{
 "cells": [
  {
   "cell_type": "code",
   "execution_count": 3,
   "metadata": {},
   "outputs": [],
   "source": [
    "import requests\n",
    "from bs4 import BeautifulSoup\n",
    "import urllib.request\n",
    "\n",
    "response = requests.get('https://search.naver.com/search.naver?where=news&sm=tab_jum&query=%EC%84%B1%EC%88%98%EC%97%AD+%EB%A7%9B%EC%A7%91')\n",
    "html = response.text\n",
    "soup = BeautifulSoup(html, 'html.parser')\n",
    "\n",
    "# 이미지 크롤링\n",
    "articles = soup.select('.news_wrap')\n",
    "\n",
    "for i, article in enumerate(articles, 1):\n",
    "    img = article.select_one('.thumb.api_get')\n",
    "    img_src = img.attrs['src']\n",
    "    # 이미지 저장하기\n",
    "    urllib.request.urlretrieve(img_src, f'imgs/{i}.jpg')"
   ]
  },
  {
   "cell_type": "code",
   "execution_count": null,
   "metadata": {},
   "outputs": [],
   "source": []
  }
 ],
 "metadata": {
  "kernelspec": {
   "display_name": "Python 3.9.12 ('base')",
   "language": "python",
   "name": "python3"
  },
  "language_info": {
   "codemirror_mode": {
    "name": "ipython",
    "version": 3
   },
   "file_extension": ".py",
   "mimetype": "text/x-python",
   "name": "python",
   "nbconvert_exporter": "python",
   "pygments_lexer": "ipython3",
   "version": "3.9.12"
  },
  "orig_nbformat": 4,
  "vscode": {
   "interpreter": {
    "hash": "263930470851f494f0ed2879c35b57985588df20f9e529b86e97dd5eb9ddc466"
   }
  }
 },
 "nbformat": 4,
 "nbformat_minor": 2
}
