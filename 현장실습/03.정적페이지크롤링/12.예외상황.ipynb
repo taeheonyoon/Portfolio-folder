{
 "cells": [
  {
   "cell_type": "code",
   "execution_count": 1,
   "metadata": {},
   "outputs": [
    {
     "ename": "AttributeError",
     "evalue": "'NoneType' object has no attribute 'text'",
     "output_type": "error",
     "traceback": [
      "\u001b[1;31m---------------------------------------------------------------------------\u001b[0m",
      "\u001b[1;31mAttributeError\u001b[0m                            Traceback (most recent call last)",
      "\u001b[1;32mc:\\Users\\USER\\Documents\\현장실습\\03.정적페이지크롤링\\12.예외상황.ipynb 셀 1\u001b[0m in \u001b[0;36m<cell line: 12>\u001b[1;34m()\u001b[0m\n\u001b[0;32m     <a href='vscode-notebook-cell:/c%3A/Users/USER/Documents/%ED%98%84%EC%9E%A5%EC%8B%A4%EC%8A%B5/03.%EC%A0%95%EC%A0%81%ED%8E%98%EC%9D%B4%EC%A7%80%ED%81%AC%EB%A1%A4%EB%A7%81/12.%EC%98%88%EC%99%B8%EC%83%81%ED%99%A9.ipynb#W0sZmlsZQ%3D%3D?line=9'>10</a>\u001b[0m html \u001b[39m=\u001b[39m response\u001b[39m.\u001b[39mtext\n\u001b[0;32m     <a href='vscode-notebook-cell:/c%3A/Users/USER/Documents/%ED%98%84%EC%9E%A5%EC%8B%A4%EC%8A%B5/03.%EC%A0%95%EC%A0%81%ED%8E%98%EC%9D%B4%EC%A7%80%ED%81%AC%EB%A1%A4%EB%A7%81/12.%EC%98%88%EC%99%B8%EC%83%81%ED%99%A9.ipynb#W0sZmlsZQ%3D%3D?line=10'>11</a>\u001b[0m soup \u001b[39m=\u001b[39m BeautifulSoup(html, \u001b[39m'\u001b[39m\u001b[39mhtml.parser\u001b[39m\u001b[39m'\u001b[39m)\n\u001b[1;32m---> <a href='vscode-notebook-cell:/c%3A/Users/USER/Documents/%ED%98%84%EC%9E%A5%EC%8B%A4%EC%8A%B5/03.%EC%A0%95%EC%A0%81%ED%8E%98%EC%9D%B4%EC%A7%80%ED%81%AC%EB%A1%A4%EB%A7%81/12.%EC%98%88%EC%99%B8%EC%83%81%ED%99%A9.ipynb#W0sZmlsZQ%3D%3D?line=11'>12</a>\u001b[0m title \u001b[39m=\u001b[39m soup\u001b[39m.\u001b[39;49mselect_one(\u001b[39m\"\u001b[39;49m\u001b[39m.media_end_head_title\u001b[39;49m\u001b[39m\"\u001b[39;49m)\u001b[39m.\u001b[39;49mtext\n\u001b[0;32m     <a href='vscode-notebook-cell:/c%3A/Users/USER/Documents/%ED%98%84%EC%9E%A5%EC%8B%A4%EC%8A%B5/03.%EC%A0%95%EC%A0%81%ED%8E%98%EC%9D%B4%EC%A7%80%ED%81%AC%EB%A1%A4%EB%A7%81/12.%EC%98%88%EC%99%B8%EC%83%81%ED%99%A9.ipynb#W0sZmlsZQ%3D%3D?line=12'>13</a>\u001b[0m title\n",
      "\u001b[1;31mAttributeError\u001b[0m: 'NoneType' object has no attribute 'text'"
     ]
    }
   ],
   "source": [
    "import requests\n",
    "from bs4 import BeautifulSoup\n",
    "\n",
    "#header 옵션\n",
    "header = {\n",
    "    'User-Agent' : 'Mozila/5.0'\n",
    "}\n",
    "\n",
    "\n",
    "#인기 검색 10위 데이터 Ajax요청 찾기\n",
    "response = requests.get(\"https://view.asiae.co.kr/article/2022103006522890887\", headers=header)\n",
    "html = response.text\n",
    "soup = BeautifulSoup(html, 'html.parser')\n",
    "title = soup.select_one(\".media_end_head_title\").text\n",
    "title"
   ]
  },
  {
   "cell_type": "code",
   "execution_count": null,
   "metadata": {},
   "outputs": [],
   "source": [
    "# max retries exceed 에러\n",
    "# 너무 많은 요청을 보냄 -> 속도를 조절해서 크롤링\n",
    "# time.sleep(2) : 2초간 쉬고 다음 코드 실행"
   ]
  },
  {
   "cell_type": "code",
   "execution_count": null,
   "metadata": {},
   "outputs": [],
   "source": [
    "import requests\n",
    "from bs4 import BeautifulSoup\n",
    "\n",
    "# header 옵션\n",
    "header = {\n",
    "    'User-Agent' : 'Mozila/5.0',\n",
    "    'referer' : '???'\n",
    "}\n",
    "\n",
    "response = requests.get(\"https://n.news.naver.com/mnews/article/277/0005169230?sid=102\", headers=header)\n",
    "html = response.text\n",
    "soup = BeautifulSoup(html, 'html.parser')\n",
    "title = soup.select_one(\".media_end_head_title\").text\n",
    "title"
   ]
  },
  {
   "cell_type": "code",
   "execution_count": null,
   "metadata": {},
   "outputs": [],
   "source": [
    "# max retries exceed 에러\n",
    "# 너무 많은 요청을 보냄 -> 속도를 조절해서 크롤링\n",
    "# time.sleep(2)"
   ]
  }
 ],
 "metadata": {
  "kernelspec": {
   "display_name": "Python 3.9.12 ('base')",
   "language": "python",
   "name": "python3"
  },
  "language_info": {
   "codemirror_mode": {
    "name": "ipython",
    "version": 3
   },
   "file_extension": ".py",
   "mimetype": "text/x-python",
   "name": "python",
   "nbconvert_exporter": "python",
   "pygments_lexer": "ipython3",
   "version": "3.9.12"
  },
  "orig_nbformat": 4,
  "vscode": {
   "interpreter": {
    "hash": "263930470851f494f0ed2879c35b57985588df20f9e529b86e97dd5eb9ddc466"
   }
  }
 },
 "nbformat": 4,
 "nbformat_minor": 2
}
