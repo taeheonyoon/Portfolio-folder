{
 "cells": [
  {
   "cell_type": "code",
   "execution_count": 37,
   "metadata": {},
   "outputs": [
    {
     "name": "stderr",
     "output_type": "stream",
     "text": [
      "C:\\Users\\USER\\AppData\\Local\\Temp\\ipykernel_7596\\3003297699.py:7: DeprecationWarning: executable_path has been deprecated, please pass in a Service object\n",
      "  driver = webdriver.Chrome(\"c://chromedriver.exe\")\n"
     ]
    }
   ],
   "source": [
    "from selenium import webdriver\n",
    "from selenium.webdriver.common.by import By\n",
    "from selenium.webdriver.common.keys import Keys\n",
    "from selenium.webdriver.support.ui import Select\n",
    "import time\n",
    "\n",
    "driver = webdriver.Chrome(\"c://chromedriver.exe\")\n",
    "driver.get(\"https://www.letskorail.com/ebizprd/prdMain.do\")"
   ]
  },
  {
   "cell_type": "code",
   "execution_count": 38,
   "metadata": {},
   "outputs": [],
   "source": [
    "start = driver.find_element(By.CSS_SELECTOR, '#txtGoStart')\n",
    "start.clear()\n",
    "start.send_keys(\"대전\")\n",
    "\n",
    "end = driver.find_element(By.CSS_SELECTOR, '#txtGoEnd')\n",
    "end.clear()\n",
    "end.send_keys(\"부산\")\n"
   ]
  },
  {
   "cell_type": "code",
   "execution_count": 39,
   "metadata": {},
   "outputs": [],
   "source": [
    "#시간\n",
    "\n",
    "s_box = Select(driver.find_element(By.CSS_SELECTOR, '#time'))\n",
    "s_box.select_by_value(\"08\")\n",
    "\n",
    "# people_num\n",
    "\n",
    "p_box = Select(driver.find_element(By.CSS_SELECTOR, '#people_num'))\n",
    "p_box.select_by_value(\"3\")"
   ]
  },
  {
   "cell_type": "code",
   "execution_count": 40,
   "metadata": {},
   "outputs": [],
   "source": [
    "#출발일\n",
    "#readonly 속성을 자바스크립트 제거\n",
    "driver.execute_script('document.querySelector(\"#selGoStartDay\").removeAttribute(\"readonly\")')\n",
    "start_day = driver.find_element(By.CSS_SELECTOR, '#selGoStartDay')\n",
    "start_day.clear()\n",
    "time.sleep(1)\n",
    "start_day.send_keys(\"2022.11.15\")\n",
    "time.sleep(1)"
   ]
  },
  {
   "cell_type": "code",
   "execution_count": 41,
   "metadata": {},
   "outputs": [],
   "source": [
    "# 예매 버튼\n",
    "driver.find_element(By.CSS_SELECTOR, '#res_cont_tab01 > form > div > fieldset > p > a > img').click()"
   ]
  },
  {
   "cell_type": "code",
   "execution_count": null,
   "metadata": {},
   "outputs": [],
   "source": [
    "#팝업 창 닫기 구글에 쳐서 해보세요"
   ]
  }
 ],
 "metadata": {
  "kernelspec": {
   "display_name": "Python 3.9.12 ('base')",
   "language": "python",
   "name": "python3"
  },
  "language_info": {
   "codemirror_mode": {
    "name": "ipython",
    "version": 3
   },
   "file_extension": ".py",
   "mimetype": "text/x-python",
   "name": "python",
   "nbconvert_exporter": "python",
   "pygments_lexer": "ipython3",
   "version": "3.9.12"
  },
  "orig_nbformat": 4,
  "vscode": {
   "interpreter": {
    "hash": "263930470851f494f0ed2879c35b57985588df20f9e529b86e97dd5eb9ddc466"
   }
  }
 },
 "nbformat": 4,
 "nbformat_minor": 2
}
