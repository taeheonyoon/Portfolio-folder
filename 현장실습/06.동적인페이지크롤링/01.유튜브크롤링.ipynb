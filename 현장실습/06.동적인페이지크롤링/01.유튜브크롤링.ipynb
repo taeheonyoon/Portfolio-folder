{
 "cells": [
  {
   "cell_type": "code",
   "execution_count": 12,
   "metadata": {},
   "outputs": [
    {
     "ename": "AttributeError",
     "evalue": "'NoneType' object has no attribute 'text'",
     "output_type": "error",
     "traceback": [
      "\u001b[1;31m---------------------------------------------------------------------------\u001b[0m",
      "\u001b[1;31mAttributeError\u001b[0m                            Traceback (most recent call last)",
      "\u001b[1;32mc:\\Users\\USER\\Documents\\현장실습\\06.동적인페이지크롤링\\01.유튜브크롤링.ipynb 셀 1\u001b[0m in \u001b[0;36m<cell line: 10>\u001b[1;34m()\u001b[0m\n\u001b[0;32m      <a href='vscode-notebook-cell:/c%3A/Users/USER/Documents/%ED%98%84%EC%9E%A5%EC%8B%A4%EC%8A%B5/06.%EB%8F%99%EC%A0%81%EC%9D%B8%ED%8E%98%EC%9D%B4%EC%A7%80%ED%81%AC%EB%A1%A4%EB%A7%81/01.%EC%9C%A0%ED%8A%9C%EB%B8%8C%ED%81%AC%EB%A1%A4%EB%A7%81.ipynb#W0sZmlsZQ%3D%3D?line=6'>7</a>\u001b[0m html \u001b[39m=\u001b[39m response\u001b[39m.\u001b[39mtext\n\u001b[0;32m      <a href='vscode-notebook-cell:/c%3A/Users/USER/Documents/%ED%98%84%EC%9E%A5%EC%8B%A4%EC%8A%B5/06.%EB%8F%99%EC%A0%81%EC%9D%B8%ED%8E%98%EC%9D%B4%EC%A7%80%ED%81%AC%EB%A1%A4%EB%A7%81/01.%EC%9C%A0%ED%8A%9C%EB%B8%8C%ED%81%AC%EB%A1%A4%EB%A7%81.ipynb#W0sZmlsZQ%3D%3D?line=7'>8</a>\u001b[0m soup \u001b[39m=\u001b[39m BeautifulSoup(html, \u001b[39m'\u001b[39m\u001b[39mhtml.parser\u001b[39m\u001b[39m'\u001b[39m) \u001b[39m# 파싱\u001b[39;00m\n\u001b[1;32m---> <a href='vscode-notebook-cell:/c%3A/Users/USER/Documents/%ED%98%84%EC%9E%A5%EC%8B%A4%EC%8A%B5/06.%EB%8F%99%EC%A0%81%EC%9D%B8%ED%8E%98%EC%9D%B4%EC%A7%80%ED%81%AC%EB%A1%A4%EB%A7%81/01.%EC%9C%A0%ED%8A%9C%EB%B8%8C%ED%81%AC%EB%A1%A4%EB%A7%81.ipynb#W0sZmlsZQ%3D%3D?line=9'>10</a>\u001b[0m soup\u001b[39m.\u001b[39;49mselect_one(\u001b[39m\"\u001b[39;49m\u001b[39m#video-title > yt-formatted-string\u001b[39;49m\u001b[39m\"\u001b[39;49m)\u001b[39m.\u001b[39;49mtext\n",
      "\u001b[1;31mAttributeError\u001b[0m: 'NoneType' object has no attribute 'text'"
     ]
    }
   ],
   "source": [
    "import requests\n",
    "from bs4 import BeautifulSoup\n",
    "\n",
    "# 응답 객체 받아오기\n",
    "response = requests.get('https://www.youtube.com/results?search_query=%EC%8A%A4%ED%83%80%ED%8A%B8%EC%BD%94%EB%94%A9')\n",
    "\n",
    "html = response.text\n",
    "soup = BeautifulSoup(html, 'html.parser') # 파싱\n",
    "\n",
    "soup.select_one(\"#video-title > yt-formatted-string\").text\n"
   ]
  },
  {
   "cell_type": "code",
   "execution_count": 1,
   "metadata": {},
   "outputs": [
    {
     "name": "stderr",
     "output_type": "stream",
     "text": [
      "C:\\Users\\USER\\AppData\\Local\\Temp\\ipykernel_12064\\3679527489.py:7: DeprecationWarning: executable_path has been deprecated, please pass in a Service object\n",
      "  driver = webdriver.Chrome(\"c://chromedriver.exe\")\n"
     ]
    },
    {
     "name": "stdout",
     "output_type": "stream",
     "text": [
      "어그로 아니고, 스마트폰 하나로 방구석에서 월천만원 버는 방법 알려드립니다, 재능도 필요 없고 자본도 필요 없습니다. 노력도 필요 없어요 안 하면 후회 | 유튜브 개쉽게 하는 방법 조회수 14만회 1개월 전\n",
      "빨리 시작할수록 이득입니다. 쉽게 돈 버는 재택부업 best 5 지금 바로 시작하세요! 조회수 13만회 2개월 전\n",
      "3개월만 이렇게 해보면 어떻게 돈 벌어야 할지 답이 나옵니다 (고명환) 조회수 23만회 1개월 전\n",
      "[북콘서트] 최상위 부자가 알려주는 돈 버는 방법 (돈의속성 | 빠르게 실패하기) 조회수 11만회 4개월 전\n",
      "이대로 따라만하면 초등학생도 월 100만 원 벌 수 있습니다 조회수 20만회 2개월 전\n",
      "부업으로 하루 10만원, '이것'만 해도 충분합니다. 조회수 1.4만회 9일 전\n",
      "돈 버는 법 조회수 41만회 2개월 전\n",
      "학생이 방구석에서 단 1일만에 15만원 버는법🔥🔥 돈버는법 돈버는법학생 재택부업 직장인부업 돈버는방법 조회수 8.1만회 2개월 전\n",
      "월 천만 원, 20대가 0원으로 버는 방법 (왜 아무도 안 할까..?) 조회수 29만회 8개월 전\n",
      "블로그 왕초보 지금 시작해도 200만원 이상 돈버는 노하우 최초 공개 (꿀팁 아주 많음) 조회수 176회 3시간 전\n",
      "알콜중독자였던 내가 백만장자가 된 방법... 말해버렸다 (feat.취중진담) 조회수 644회 5시간 전\n",
      "나는 부자들의 '이것들'을 보고 돈을 더 벌기 시작했다 (前신사임당 주언규) 조회수 85만회 1개월 전\n",
      "쌍둥이만 할 수 있는 돈 버는 방법 ㅋㅋㅋㅋㅋㅋㅋㅋㅋㅋㅋㅋㅋㅋ 조회수 13만회 7일 전\n",
      "돈 버는법에 대한 한국인들의 '치명적인' 착각 (이영주 대표 1부) 조회수 3만회 7일 전\n",
      "하루 30분! 부업으로 월 200만원 돈버는 새로운 방법! 수익 인증! (나이 학력 무관! 누구나 당장 시작 가능해요) ft.칼퇴의기술 조회수 10만회 3개월 전\n",
      "집에서 부업으로 월 900만원 돈버는 새로운 방법! 수익 인증! (하루 2시간! 나이, 학력 무관! 휴대폰으로도 가능해요) ft.암사자 이경진 조회수 16만회 5개월 전\n",
      "하루 10분 블루오션 앱테크 (핸드폰만 있으면 누구나 가능한 돈버는법, 부업) 조회수 7.6천회 9일 전\n",
      "내가 20대에 10억을 벌고 얻은 돈 버는 깨달음 조회수 3.7만회 5개월 전\n",
      "5분 안에 15000원 돈 버는 무료채굴코인 극초기 앱테크! 조회수 2.3천회 6일 전\n",
      "카카오뷰 그만, 퇴근 후 부업으로 집에서 하루 10만원 돈버는법! (눈 감고도 가능) 조회수 21만회 5개월 전\n",
      "스마트폰 하나로 방구석에서 월500 버는 방법 // 무자본, 무노력, 무시간으로 지금 바로 가능합니다 조회수 6.3만회 1개월 전\n",
      "대한민국에서 제일 쉽게 돈버는 방법, 대량등록이 정답입니다 조회수 4.8만회 1개월 전\n",
      "이렇게만 하면 월 300만원은 법니다, 집에서 돈벌기 TOP7 부업으로 쉽게 버는 방법들로 공개합니다 조회수 25만회 8개월 전\n",
      "'돈 버는 법'에 대한 한국인들의 치명적인 착각 (前신사임당 주언규 1부 풀버전) 조회수 27만회 2개월 전\n",
      "200억 자산가가 2040에게 알려주는 지금 돈버는 방법 조회수 1.4만회 1개월 전\n",
      "돈버는 방법 알려주는 유튜버가 진짜 돈을 버는 방법 (feat.스마트스토어) 조회수 46만회 10개월 전\n",
      "월급은 그대로라 돈들어갈 일 많다면 꼭 보세요, 따라하시면 최소 하루 15만원 더 법니다, 컴퓨터만 있으면 됩니다, 초보도 가능해요, feat. 영어공부도 하며 돈 벌기 조회수 5.3만회 11일 전\n",
      "자본주의 10분만에 정복하기 조회수 59만회 6개월 전\n",
      "반드시 부자 되는 3가지 원리!! 조회수 139만회 2년 전\n",
      "영상 따라하시면 최소 100만원은 더 법니다. 99%모르는 돈버는법 빨리 영상 볼 수록 유리한 부업 조회수 4.8천회 4일 전\n",
      "11월 17일 목요일 마무리 입니다 ~모두 고생하셧어요 ~ #shorts #돈버는법 #부업 #비트코인 #뉴스#동기부여 조회수 18회 6시간 전\n",
      "(앱테크)아하 하는 방법 집에서 돈벌기 조회수 93회 1시간 전\n",
      "라면먹고 돈버는 법 조회수 2.1천회 3시간 전\n",
      "●(1017회)(중급반 생방송)(최고의 수익률)(위클리옵션 만기일)(가장 빨리 돈버는 방법)(주식투자)(서민갑부)(선물옵션 전업투자, 대박 재테크 )(해외선물)22-11-17목 조회수 222회 스트리밍 시간: 5시간 전\n",
      "[11/16]대기업 임원보다 돈 많이 버는 해서니^^*#해외선물 #나스닥 #돈버는법 #부업 #제테크 #주식 #코인 조회수 2.5천회 스트리밍 시간: 17시간 전\n",
      "[11/16]대기업 임원보다 돈 많이 버는 해서니^^*#해외선물 #나스닥 #돈버는법 #부업 #제테크 #주식 #코인 조회수 2.8천회 스트리밍 시간: 20시간 전\n",
      "급락속에도 돈 버는 방법 ? - 이방법으로 30억 달성 조회수 31회 23시간 전\n",
      "딱 2분! 돈 없고 빽 없고 가진게 없다면 이것만 죽어라 하세요 | 마인드셋 인생조언 동기부여 부자습관 자기계발 경제적자유 부자 가난 조회수 없음 3시간 전\n",
      "그림으로 돈 버는 법? 조회수 355회 3시간 전\n"
     ]
    }
   ],
   "source": [
    "from selenium import webdriver\n",
    "from selenium.webdriver.common.by import By\n",
    "from selenium.webdriver.common.keys import Keys\n",
    "from selenium.webdriver.support.ui import Select\n",
    "import time\n",
    "\n",
    "driver = webdriver.Chrome(\"c://chromedriver.exe\")\n",
    "driver.get(\"https://www.youtube.com/results?search_query=%EB%8F%88%EB%B2%84%EB%8A%94%EB%B2%95\")\n",
    "\n",
    "time.sleep(3)\n",
    "\n",
    "\n",
    "#스크롤 내리기\n",
    "\n",
    "for i in range(3):\n",
    "    driver.find_element(By.CSS_SELECTOR, \"Body\").send_keys(Keys.END)\n",
    "time.sleep(3)\n",
    "\n",
    "# 영상 정보를 담은 덩어리 가져오기\n",
    "infos = driver.find_elements(By.CSS_SELECTOR, \"div#meta\")\n",
    "\n",
    "time.sleep(3)\n",
    "\n",
    "for info in infos:\n",
    "    try:\n",
    "        title = info.find_element(By.CSS_SELECTOR, \"a#video-title\").text\n",
    "        views = info.find_element(By.CSS_SELECTOR, \"#metadata-line > span:nth-of-type(1)\").text\n",
    "        date = info.find_element(By.CSS_SELECTOR, \"#metadata-line > span:nth-of-type(2)\").text\n",
    "        print(title, views, date)\n",
    "    \n",
    "    \n",
    "    except:\n",
    "        pass"
   ]
  },
  {
   "cell_type": "code",
   "execution_count": null,
   "metadata": {},
   "outputs": [],
   "source": []
  }
 ],
 "metadata": {
  "kernelspec": {
   "display_name": "Python 3.9.12 ('base')",
   "language": "python",
   "name": "python3"
  },
  "language_info": {
   "codemirror_mode": {
    "name": "ipython",
    "version": 3
   },
   "file_extension": ".py",
   "mimetype": "text/x-python",
   "name": "python",
   "nbconvert_exporter": "python",
   "pygments_lexer": "ipython3",
   "version": "3.9.12"
  },
  "orig_nbformat": 4,
  "vscode": {
   "interpreter": {
    "hash": "263930470851f494f0ed2879c35b57985588df20f9e529b86e97dd5eb9ddc466"
   }
  }
 },
 "nbformat": 4,
 "nbformat_minor": 2
}
