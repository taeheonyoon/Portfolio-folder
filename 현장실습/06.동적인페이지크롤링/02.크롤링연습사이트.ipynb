{
 "cells": [
  {
   "cell_type": "code",
   "execution_count": 13,
   "metadata": {},
   "outputs": [
    {
     "name": "stderr",
     "output_type": "stream",
     "text": [
      "C:\\Users\\USER\\AppData\\Local\\Temp\\ipykernel_15020\\547789596.py:7: DeprecationWarning: executable_path has been deprecated, please pass in a Service object\n",
      "  driver = webdriver.Chrome(\"c://chromedriver.exe\")\n"
     ]
    }
   ],
   "source": [
    "from selenium import webdriver\n",
    "from selenium.webdriver.common.by import By\n",
    "from selenium.webdriver.common.keys import Keys\n",
    "from selenium.webdriver.support.ui import Select\n",
    "import time\n",
    "\n",
    "driver = webdriver.Chrome(\"c://chromedriver.exe\")\n",
    "driver.get(\"https://startcoding-crawling.herokuapp.com/lv2\")\n",
    "\n",
    "#무한 스크롤 처리\n",
    "\n",
    "\n",
    "before_count = len(driver.find_elements(By.CSS_SELECTOR, \".post-preview\")) #5\n",
    "\n",
    "while True:\n",
    "    #스크롤 내리기\n",
    "    driver.find_element(By.CSS_SELECTOR, \"BODY\").send_keys(Keys.END)\n",
    "    time.sleep(2)\n",
    "    \n",
    "    after_count = len(driver.find_elements(By.CSS_SELECTOR, \".post-preview\")) #10\n",
    "    \n",
    "    if before_count == after_count:\n",
    "        break\n",
    "    \n",
    "    # \n",
    "    before_count = after_count"
   ]
  },
  {
   "cell_type": "code",
   "execution_count": 14,
   "metadata": {},
   "outputs": [
    {
     "name": "stdout",
     "output_type": "stream",
     "text": [
      "[초보도 가능] 30만원 외주 프로그램 만들기 - 파이썬 웹 크롤링 셀레니움 Selenium 강의 2편(ft. 스크래핑 결과 csv 파일 저장하기) https://www.youtube.com/watch?v=qRU94vtUb7c [강의 설명] 초보자도 가능한 30만원 짜리 외주 프로그램 만들기 강의 입니다. 파이썬 웹 크롤링을 이용해서 제작해요. 셀레니움 (selenium) 의 심화적인 부분까지 다루어 봅니다! csv 파일에 저장하는 방법 까지 총정리 해 드립니다. 1. 웹 크롤링을 할 때 가장 중요한 HTML 분석하는 방법을 자세히 다뤄 드립니다. 2. 셀레니움 무한 스크롤 처리 방법의 원리까지 이해시켜 드립니다. 3. 내가 원하는 HTML 태그를 선택하는 비법을 알려 드립니다. 4. 크롤링한 결과를 csv 파일에 저장하는 방법을 알려 드립니다.\n",
      "잠 안줄이고 하루에 1시간 버는 법 #반복업무탈출 #업무자동화 #RPA https://www.youtube.com/watch?v=rMRQo9XbPgk 영상을 보고 나면, 여러분이 직접 로봇을 개발해서 일을 시킬 수 있습니다. 반복 업무에 쓰이는 시간이 아깝다면 반드시 활용해 보세요. 첫 번째 시간으로, 파이썬으로 컴퓨터의 마우스 매크로를 만드는 방법을 알려드립니다 :) 1. 파이썬 마우스 위치 좌표 찾기 2. 파이썬 마우스 이동하기 3. 파이썬 마우스 클릭 4. 파이썬 마우스 드래그\n",
      "컴퓨터에게 일 시키고 노는 방법 #키보드자동화 #업무자동화 #RPA https://www.youtube.com/watch?v=NI5dEsKsaSE 여러분이 지금 하고 있는 반복 업무를 자동화 로봇을 개발해 일을 시킬 수 있습니다. 컴퓨터에게 일 시키고 그냥 놀면 됩니다. 그 두번째 시간으로, pyautogui 라이브러리로 파이썬 키보드 자동화 하는 방법을 정리해 드립니다.\n",
      "파이썬 셀레니움 네이버 로그인을 만들면서 배우는 웹사이트 자동화 기초 # selenium 설치 # 자동 입력 방지 # 로그인 캡챠 https://www.youtube.com/watch?v=fy107mUHapQ&t=22s 원래 방법을 공개하지 않으려 했는데요... 구독자 분들을 위해 공개합니다. 파이썬 셀레니움을 이용해 네이버 로그인 시 자동 입력 방지 문자(로그인 캡챠)가 뜨는 것을 어떻게 해결할 지 알려드립니다. - 크롬 드라이버 다운로드 방법 - 셀레니움 selenium 설치 방법 - 네이버 로그인 자동화 프로그램 만들기\n",
      "누구나 할 수 있는 파이썬 코딩을 활용한 업무 자동화 기초 https://www.youtube.com/watch?v=3VRw7UVJPQk 파이썬 코딩을 활용해서 네이버 메일을 자동으로 보내 볼 겁니다. 여러분의 업무 자동화에도 활용될 수 있겠죠? ^^\n",
      "사무직 칼퇴 필수 기술 파이썬 엑셀 업무 자동화 배우기 https://www.youtube.com/watch?v=EjTGSYCWmEo 반복되는 엑셀 업무로 고통 받고 있나요? 누군가 나의 업무를 대신 해줬으면 좋겠나요? 이러한 고민이 있는 여러분을 위해 파이썬을 이용해 엑셀 업무 자동화를 하는 방법을 영상으로 제작했습니다. 파이썬을 이용하면 엑셀 작업의 대부분을 자동화 할 수 있습니다. 사무직 칼퇴의 필수 기술, 영상으로 배워 보시죠!!\n",
      "(NEW) 파이썬 기초 강의 , \"당신의 커리어에 파이썬을 더해보세요\" https://www.youtube.com/watch?v=REUu0T1xsiU&t=33s 코딩을 가장 쉽게 알려주는 크리에이터, 스타트코딩입니다. 파이썬에 쉽고 재미있게 입문할 수 있도록 만들어 드리는, 2022년 따끈따끈한 신규 강의입니다.\n",
      "오늘은 엑셀 매크로 대신, 파이썬을 배우고 싶다 https://www.youtube.com/watch?v=Z34SVo_jGr4 엑셀 매크로 보다, 쓸모가 많은 파이썬 진짜 쉽게 가르쳐 드립니다. 이번 영상은, 파이썬 엑셀 자동화 2강입니다. 1. 실습에 쓸 예제 데이터 파일을 만들고, 2. 셀 데이터를 가져오는 방법을 알아 봅니다.\n",
      "엑셀 VBA 대신 파이썬 - 실무 중심 예제 1탄 https://www.youtube.com/watch?v=UT68mutiJJI&t=971s 코딩을 가장 쉽게 알려주는 크리에이터, 스타트코딩입니다. 엑셀 VBA 대신 파이썬을 배우며 자동화를 시켜 봅니다. 실무에서 충분히 활용 될 수 있는 \"엑셀 데이터 취합하기\" 미션을 드리고 풀이를 진행합니다.\n",
      "파이썬 실행파일 (EXE) 만들기, 배포, 변환 이 영상만 보세요. https://www.youtube.com/watch?v=nuZAmSyCMgY 유튜브 구독자 분들이 가장 많이 질문 주셨던 내용입니다. 이 강의를 듣고 나면, 1. 주변 사람들에게 파이썬 실행 파일을 만들어 프로그램을 배포하거나 2. 파이썬 외주 프로그램 제작할 때 실행파일 형태로 넘겨줄 수 있습니다.\n",
      "직장인 엑셀 자동화, 똑똑하게 일할 사람만 보세요 (Feat. 파이썬) https://www.youtube.com/watch?v=29Vh_RgQNhM&t=511s 직장인으로 엑셀 작업이 많으신가요? 반복되는 업무로 고생하고 계신가요? 파이썬을 배우면 반복적인 업무가 자동화되어 칼퇴가 가능해 집니다. 이번 강의에서는 실무에서 충분히 활용 될 수 있는 \"엑셀 데이터 분리하기\" 미션을 드리고 풀이를 진행합니다.\n",
      "팀장님께 인정받는 일잘러는 '이걸' 활용한다며? (크롤링 | 엑셀 | 리스틀리) https://www.youtube.com/watch?v=dBQ0tbYjgMc (일잘러 = 일을 잘하는 사람) 요즘 대부분의 업무를 데이터로 처리하고 있습니다. 그만큼 데이터 수집이 중요해졌죠. 리스틀리를 활용해서 데이터 수집을 클릭 한번으로 끝내 보세요!\n",
      "파이썬 초보에서 벗어나려면 꼭 봐야하는 영상 TOP1 (full) https://www.youtube.com/watch?v=rWiM-QjBRIs 코딩을 가장 쉽게 알려주는 크리에이터 스타트코딩입니다. 코드를 작성할 때 소괄호( )를 왜 쓰는지 모르고 사용하시나요? 파이썬 초보에서 벗어나려면 소괄호( )를 왜 쓰는지 문법을 정확히 알고 사용하는 것이 정말 중요합니다. 함수라는 녀석을 정복하러 가봅시다!!\n",
      "파이썬 클래스, 객체, 인스턴스, 생성자, 메서드, self 개념 총정리!! 정말 쉽게 설명해 드립니다. https://www.youtube.com/watch?v=FRHGtAvU03Q 안녕하세요. 코딩을 가장 쉽게 알려주는 크리에이터 스타트코딩입니다. 코딩 공부 하시는 분들 중에 클래스가 어려워서 많이 포기하시는데요. 제가 쉽고 재미있게 개념을 정리 해드리겠습니다. 클래스, 객체, 인스턴스, 생성자, 메서드, self 개념 총정리 강의 마음에 드셨다면 좋아요, 댓글 꼭 부탁드립니다 ^^\n"
     ]
    }
   ],
   "source": [
    "#덩어리 크롤링\n",
    "\n",
    "articles = driver.find_elements(By.CSS_SELECTOR, \".post-preview\")\n",
    "\n",
    "for article in articles:\n",
    "    title = article.find_element(By.CSS_SELECTOR, \".post-title\").text\n",
    "    link = article.find_element(By.CSS_SELECTOR, \"a\").get_attribute(\"href\")\n",
    "    cotent = article.find_element(By.CSS_SELECTOR, \".post-subtitle\").text\n",
    "    print(title, link, cotent)"
   ]
  },
  {
   "cell_type": "code",
   "execution_count": null,
   "metadata": {},
   "outputs": [],
   "source": []
  }
 ],
 "metadata": {
  "kernelspec": {
   "display_name": "Python 3.9.12 ('base')",
   "language": "python",
   "name": "python3"
  },
  "language_info": {
   "codemirror_mode": {
    "name": "ipython",
    "version": 3
   },
   "file_extension": ".py",
   "mimetype": "text/x-python",
   "name": "python",
   "nbconvert_exporter": "python",
   "pygments_lexer": "ipython3",
   "version": "3.9.12"
  },
  "orig_nbformat": 4,
  "vscode": {
   "interpreter": {
    "hash": "263930470851f494f0ed2879c35b57985588df20f9e529b86e97dd5eb9ddc466"
   }
  }
 },
 "nbformat": 4,
 "nbformat_minor": 2
}
