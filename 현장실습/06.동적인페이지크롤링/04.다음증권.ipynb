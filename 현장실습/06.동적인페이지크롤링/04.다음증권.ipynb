{
 "cells": [
  {
   "cell_type": "code",
   "execution_count": 10,
   "metadata": {},
   "outputs": [
    {
     "name": "stderr",
     "output_type": "stream",
     "text": [
      "C:\\Users\\USER\\AppData\\Local\\Temp\\ipykernel_19240\\1196474459.py:12: DeprecationWarning: executable_path has been deprecated, please pass in a Service object\n",
      "  driver = webdriver.Chrome(\"c://chromedriver.exe\")\n"
     ]
    }
   ],
   "source": [
    "from selenium import webdriver\n",
    "from selenium.webdriver.common.by import By\n",
    "from selenium.webdriver.common.keys import Keys\n",
    "from selenium.webdriver.support.ui import Select\n",
    "import time\n",
    "import requests\n",
    "from bs4 import BeautifulSoup\n",
    "import requests\n",
    "import json\n",
    "\n",
    "\n",
    "driver = webdriver.Chrome(\"c://chromedriver.exe\")\n",
    "driver.get(\"https://finance.daum.net/\")\n",
    "time.sleep(2)"
   ]
  },
  {
   "cell_type": "code",
   "execution_count": 12,
   "metadata": {},
   "outputs": [
    {
     "data": {
      "text/plain": [
       "'{\"data\":[{\"rank\":1,\"rankChange\":0,\"symbolCode\":\"A035720\",\"code\":\"KR7035720002\",\"name\":\"카카오\",\"tradePrice\":57800,\"change\":\"FALL\",\"changePrice\":700,\"changeRate\":0.011965812,\"chartSlideImage\":null,\"isNew\":false},{\"rank\":2,\"rankChange\":0,\"symbolCode\":\"A005930\",\"code\":\"KR7005930003\",\"name\":\"삼성전자\",\"tradePrice\":61800,\"change\":\"FALL\",\"changePrice\":100,\"changeRate\":0.0016155089,\"chartSlideImage\":null,\"isNew\":false},{\"rank\":3,\"rankChange\":1,\"symbolCode\":\"A001570\",\"code\":\"KR7001570001\",\"name\":\"금양\",\"tradePrice\":30300,\"change\":\"FALL\",\"changePrice\":550,\"changeRate\":0.017828201,\"chartSlideImage\":null,\"isNew\":false},{\"rank\":4,\"rankChange\":-1,\"symbolCode\":\"A323410\",\"code\":\"KR7323410001\",\"name\":\"카카오뱅크\",\"tradePrice\":28300,\"change\":\"RISE\",\"changePrice\":400,\"changeRate\":0.0143369176,\"chartSlideImage\":null,\"isNew\":false},{\"rank\":5,\"rankChange\":2,\"symbolCode\":\"A001440\",\"code\":\"KR7001440007\",\"name\":\"대한전선\",\"tradePrice\":1865,\"change\":\"FALL\",\"changePrice\":45,\"changeRate\":0.0235602094,\"chartSlideImage\":null,\"isNew\":false},{\"rank\":6,\"rankChange\":-1,\"symbolCode\":\"A034020\",\"code\":\"KR7034020008\",\"name\":\"두산에너빌리티\",\"tradePrice\":16800,\"change\":\"FALL\",\"changePrice\":100,\"changeRate\":0.0059171598,\"chartSlideImage\":null,\"isNew\":false},{\"rank\":7,\"rankChange\":1,\"symbolCode\":\"A068270\",\"code\":\"KR7068270008\",\"name\":\"셀트리온\",\"tradePrice\":186500,\"change\":\"RISE\",\"changePrice\":1500,\"changeRate\":0.0081081081,\"chartSlideImage\":null,\"isNew\":false},{\"rank\":8,\"rankChange\":2,\"symbolCode\":\"A373220\",\"code\":\"KR7373220003\",\"name\":\"LG에너지솔루션\",\"tradePrice\":592000,\"change\":\"FALL\",\"changePrice\":12000,\"changeRate\":0.0198675497,\"chartSlideImage\":null,\"isNew\":false},{\"rank\":9,\"rankChange\":-3,\"symbolCode\":\"A003670\",\"code\":\"KR7003670007\",\"name\":\"포스코케미칼\",\"tradePrice\":234000,\"change\":\"EVEN\",\"changePrice\":0,\"changeRate\":0,\"chartSlideImage\":null,\"isNew\":false},{\"rank\":10,\"rankChange\":-1,\"symbolCode\":\"A019170\",\"code\":\"KR7019170000\",\"name\":\"신풍제약\",\"tradePrice\":29150,\"change\":\"RISE\",\"changePrice\":1800,\"changeRate\":0.0658135283,\"chartSlideImage\":null,\"isNew\":false}]}'"
      ]
     },
     "execution_count": 12,
     "metadata": {},
     "output_type": "execute_result"
    }
   ],
   "source": [
    "#header 옵션\n",
    "header = {\n",
    "    'User-Agent' : 'Mozila/5.0',\n",
    "    'referer' : 'https://finance.daum.net/'\n",
    "} # request header에서 찾기\n",
    "\n",
    "\n",
    "#인기 검색 10위 데이터 Ajax요청 찾기\n",
    "response = requests.get(\"https://finance.daum.net/api/search/ranks?limit=10\", headers=header)\n",
    "response.text\n"
   ]
  },
  {
   "cell_type": "code",
   "execution_count": 14,
   "metadata": {},
   "outputs": [
    {
     "data": {
      "text/plain": [
       "{'data': [{'rank': 1,\n",
       "   'rankChange': 0,\n",
       "   'symbolCode': 'A035720',\n",
       "   'code': 'KR7035720002',\n",
       "   'name': '카카오',\n",
       "   'tradePrice': 57800,\n",
       "   'change': 'FALL',\n",
       "   'changePrice': 700,\n",
       "   'changeRate': 0.011965812,\n",
       "   'chartSlideImage': None,\n",
       "   'isNew': False},\n",
       "  {'rank': 2,\n",
       "   'rankChange': 0,\n",
       "   'symbolCode': 'A005930',\n",
       "   'code': 'KR7005930003',\n",
       "   'name': '삼성전자',\n",
       "   'tradePrice': 61800,\n",
       "   'change': 'FALL',\n",
       "   'changePrice': 100,\n",
       "   'changeRate': 0.0016155089,\n",
       "   'chartSlideImage': None,\n",
       "   'isNew': False},\n",
       "  {'rank': 3,\n",
       "   'rankChange': 1,\n",
       "   'symbolCode': 'A001570',\n",
       "   'code': 'KR7001570001',\n",
       "   'name': '금양',\n",
       "   'tradePrice': 30300,\n",
       "   'change': 'FALL',\n",
       "   'changePrice': 550,\n",
       "   'changeRate': 0.017828201,\n",
       "   'chartSlideImage': None,\n",
       "   'isNew': False},\n",
       "  {'rank': 4,\n",
       "   'rankChange': -1,\n",
       "   'symbolCode': 'A323410',\n",
       "   'code': 'KR7323410001',\n",
       "   'name': '카카오뱅크',\n",
       "   'tradePrice': 28300,\n",
       "   'change': 'RISE',\n",
       "   'changePrice': 400,\n",
       "   'changeRate': 0.0143369176,\n",
       "   'chartSlideImage': None,\n",
       "   'isNew': False},\n",
       "  {'rank': 5,\n",
       "   'rankChange': 2,\n",
       "   'symbolCode': 'A001440',\n",
       "   'code': 'KR7001440007',\n",
       "   'name': '대한전선',\n",
       "   'tradePrice': 1865,\n",
       "   'change': 'FALL',\n",
       "   'changePrice': 45,\n",
       "   'changeRate': 0.0235602094,\n",
       "   'chartSlideImage': None,\n",
       "   'isNew': False},\n",
       "  {'rank': 6,\n",
       "   'rankChange': -1,\n",
       "   'symbolCode': 'A034020',\n",
       "   'code': 'KR7034020008',\n",
       "   'name': '두산에너빌리티',\n",
       "   'tradePrice': 16800,\n",
       "   'change': 'FALL',\n",
       "   'changePrice': 100,\n",
       "   'changeRate': 0.0059171598,\n",
       "   'chartSlideImage': None,\n",
       "   'isNew': False},\n",
       "  {'rank': 7,\n",
       "   'rankChange': 1,\n",
       "   'symbolCode': 'A068270',\n",
       "   'code': 'KR7068270008',\n",
       "   'name': '셀트리온',\n",
       "   'tradePrice': 186500,\n",
       "   'change': 'RISE',\n",
       "   'changePrice': 1500,\n",
       "   'changeRate': 0.0081081081,\n",
       "   'chartSlideImage': None,\n",
       "   'isNew': False},\n",
       "  {'rank': 8,\n",
       "   'rankChange': 2,\n",
       "   'symbolCode': 'A373220',\n",
       "   'code': 'KR7373220003',\n",
       "   'name': 'LG에너지솔루션',\n",
       "   'tradePrice': 592000,\n",
       "   'change': 'FALL',\n",
       "   'changePrice': 12000,\n",
       "   'changeRate': 0.0198675497,\n",
       "   'chartSlideImage': None,\n",
       "   'isNew': False},\n",
       "  {'rank': 9,\n",
       "   'rankChange': -3,\n",
       "   'symbolCode': 'A003670',\n",
       "   'code': 'KR7003670007',\n",
       "   'name': '포스코케미칼',\n",
       "   'tradePrice': 234000,\n",
       "   'change': 'EVEN',\n",
       "   'changePrice': 0,\n",
       "   'changeRate': 0,\n",
       "   'chartSlideImage': None,\n",
       "   'isNew': False},\n",
       "  {'rank': 10,\n",
       "   'rankChange': -1,\n",
       "   'symbolCode': 'A019170',\n",
       "   'code': 'KR7019170000',\n",
       "   'name': '신풍제약',\n",
       "   'tradePrice': 29150,\n",
       "   'change': 'RISE',\n",
       "   'changePrice': 1800,\n",
       "   'changeRate': 0.0658135283,\n",
       "   'chartSlideImage': None,\n",
       "   'isNew': False}]}"
      ]
     },
     "execution_count": 14,
     "metadata": {},
     "output_type": "execute_result"
    }
   ],
   "source": [
    "json.loads(response.text) #str에서 dict로 변환"
   ]
  },
  {
   "cell_type": "code",
   "execution_count": 25,
   "metadata": {},
   "outputs": [
    {
     "name": "stdout",
     "output_type": "stream",
     "text": [
      "10 A019170 신풍제약 30650\n",
      "10 A019170 신풍제약 30650\n",
      "10 A019170 신풍제약 30650\n",
      "10 A019170 신풍제약 30650\n",
      "10 A019170 신풍제약 30650\n",
      "10 A019170 신풍제약 30650\n",
      "10 A019170 신풍제약 30650\n",
      "10 A019170 신풍제약 30650\n",
      "10 A019170 신풍제약 30650\n",
      "10 A019170 신풍제약 30650\n"
     ]
    }
   ],
   "source": [
    "#데이터 추출\n",
    "data = json.loads(response.text) \n",
    "infos = data['data']\n",
    "for info in infos:\n",
    "    rank = info['rank']\n",
    "    symbolCode = info['symbolCode']\n",
    "    name = info['name']\n",
    "    tradePrice = info['tradePrice']\n",
    "    print(rank, symbolCode, name, tradePrice)"
   ]
  },
  {
   "cell_type": "code",
   "execution_count": 26,
   "metadata": {},
   "outputs": [
    {
     "name": "stdout",
     "output_type": "stream",
     "text": [
      "1 A005930 삼성전자 61800\n",
      "2 A019170 신풍제약 31100\n",
      "3 A035720 카카오 57300\n",
      "4 A323410 카카오뱅크 27950\n",
      "5 A034020 두산에너빌리티 16950\n",
      "6 A249420 일동제약 34900\n",
      "7 A001570 금양 29850\n",
      "8 A373220 LG에너지솔루션 588000\n",
      "9 A001440 대한전선 1840\n",
      "10 A215600 신라젠 9480\n"
     ]
    }
   ],
   "source": [
    "#header 옵션\n",
    "header = {\n",
    "    'User-Agent' : 'Mozila/5.0',\n",
    "    'referer' : 'https://finance.daum.net/'\n",
    "} # request header에서 찾기\n",
    "\n",
    "\n",
    "#인기 검색 10위 데이터 Ajax요청 찾기\n",
    "response = requests.get(\"https://finance.daum.net/api/search/ranks?limit=10\", headers=header)\n",
    "\n",
    "\n",
    "\n",
    "#데이터 추출\n",
    "data = json.loads(response.text) \n",
    "infos = data['data']\n",
    "for info in infos:\n",
    "    rank = info['rank']\n",
    "    symbolCode = info['symbolCode']\n",
    "    name = info['name']\n",
    "    tradePrice = info['tradePrice']\n",
    "    print(rank, symbolCode, name, tradePrice)"
   ]
  },
  {
   "cell_type": "code",
   "execution_count": null,
   "metadata": {},
   "outputs": [],
   "source": [
    "#header 옵션\n",
    "header = {\n",
    "    'User-Agent' : 'Mozila/5.0',\n",
    "    'referer' : 'https://www.gocamping.or.kr/'\n",
    "} # request header에서 찾기\n",
    "\n",
    "\n",
    "#인기 검색 10위 데이터 Ajax요청 찾기\n",
    "response = requests.get(\"https://www.gocamping.or.kr/bsite/camp/info/list.do?listTy=LIST&listOrdrTrget=c_rdcnt&c_do=&c_signgu=&searchLctCl=&searchKrwd=\", headers=header)\n",
    "\n",
    "\n",
    "\n",
    "#데이터 추출\n",
    "data = json.loads(response.text) \n",
    "infos = data['data']\n",
    "for info in infos:\n",
    "    views = info['rank']\n",
    "    name = info['symbolCode']\n",
    "    adress = info['name']\n",
    "    icon = info['tradePrice']\n",
    "    print(rank, symbolCode, name, tradePrice)"
   ]
  }
 ],
 "metadata": {
  "kernelspec": {
   "display_name": "Python 3.9.12 ('base')",
   "language": "python",
   "name": "python3"
  },
  "language_info": {
   "codemirror_mode": {
    "name": "ipython",
    "version": 3
   },
   "file_extension": ".py",
   "mimetype": "text/x-python",
   "name": "python",
   "nbconvert_exporter": "python",
   "pygments_lexer": "ipython3",
   "version": "3.9.12"
  },
  "orig_nbformat": 4,
  "vscode": {
   "interpreter": {
    "hash": "263930470851f494f0ed2879c35b57985588df20f9e529b86e97dd5eb9ddc466"
   }
  }
 },
 "nbformat": 4,
 "nbformat_minor": 2
}
